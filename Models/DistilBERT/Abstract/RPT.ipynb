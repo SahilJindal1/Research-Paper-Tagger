{
 "cells": [
  {
   "cell_type": "markdown",
   "id": "14e4932d",
   "metadata": {},
   "source": [
    "# RPT (Research Paper Tagger)"
   ]
  },
  {
   "cell_type": "code",
   "execution_count": 1,
   "id": "206dd150",
   "metadata": {},
   "outputs": [],
   "source": [
    "import os\n",
    "import zipfile\n",
    "import json\n",
    "import random\n",
    "from tqdm import tqdm\n",
    "import plotly\n",
    "import plotly.express as px\n",
    "import plotly.graph_objects as go\n",
    "\n",
    "import numpy as np\n",
    "import pandas as pd\n",
    "\n",
    "from helpers import tokenize_and_format, flat_accuracy\n",
    "\n",
    "import torch\n",
    "from transformers import BertForSequenceClassification, DistilBertForSequenceClassification, AdamW, BertConfig, get_linear_schedule_with_warmup"
   ]
  },
  {
   "cell_type": "code",
   "execution_count": 2,
   "id": "3758d13e",
   "metadata": {},
   "outputs": [
    {
     "name": "stdout",
     "output_type": "stream",
     "text": [
      "Found device: NVIDIA GeForce RTX 2060 with Max-Q Design, n_gpu: 1\n"
     ]
    }
   ],
   "source": [
    "random.seed(0)\n",
    "np.random.seed(0)\n",
    "\n",
    "torch.manual_seed(0)\n",
    "torch.use_deterministic_algorithms(False)\n",
    "# Confirm that the GPU is detected\n",
    "\n",
    "assert torch.cuda.is_available()\n",
    "\n",
    "# Get the GPU device name.\n",
    "device_name = torch.cuda.get_device_name()\n",
    "n_gpu = torch.cuda.device_count()\n",
    "print(f\"Found device: {device_name}, n_gpu: {n_gpu}\")\n",
    "device = torch.device(\"cuda\")"
   ]
  },
  {
   "cell_type": "code",
   "execution_count": 3,
   "id": "61150200",
   "metadata": {},
   "outputs": [],
   "source": [
    "with open(\"Data/Raw data/training_data.jsonl\", \"r\") as f:\n",
    "    training_data = json.load(f)\n",
    "    \n",
    "with open(\"Data/Raw data/validation_data.jsonl\", \"r\") as f:\n",
    "    validation_data = json.load(f)\n",
    "    \n",
    "with open(\"Data/Raw data/test_data.jsonl\", \"r\") as f:\n",
    "    test_data = json.load(f)\n",
    "    \n",
    "with open(\"Data/Metadata/label_string_to_ID.jsonl\", \"r\") as f:\n",
    "    label_string_to_ID = json.load(f)\n",
    "    \n",
    "with open(\"Data/Metadata/label_ID_to_string.jsonl\", \"r\") as f:\n",
    "    label_ID_to_string = json.load(f)"
   ]
  },
  {
   "cell_type": "markdown",
   "id": "90675f40",
   "metadata": {},
   "source": [
    "### Predictions using only abstract"
   ]
  },
  {
   "cell_type": "code",
   "execution_count": 4,
   "id": "3e344cc2",
   "metadata": {},
   "outputs": [],
   "source": [
    "training_inputs = []\n",
    "training_label_strings = []\n",
    "\n",
    "validation_inputs = []\n",
    "validation_label_strings = []\n",
    "\n",
    "test_inputs = []\n",
    "test_label_strings = []\n",
    "\n",
    "for training_example in training_data:\n",
    "    \n",
    "    training_input = training_example[0][2]\n",
    "    training_inputs.append(training_input)\n",
    "    \n",
    "    training_label_strings.append(training_example[1])\n",
    "    \n",
    "for validation_example in validation_data:\n",
    "    \n",
    "    validation_input = validation_example[0][2]\n",
    "    validation_inputs.append(validation_input)\n",
    "    \n",
    "    validation_label_strings.append(validation_example[1])\n",
    "    \n",
    "for test_example in test_data:\n",
    "    \n",
    "    test_input = test_example[0][2]\n",
    "    test_inputs.append(test_input)\n",
    "    \n",
    "    test_label_strings.append(test_example[1])"
   ]
  },
  {
   "cell_type": "code",
   "execution_count": 5,
   "id": "549b0226",
   "metadata": {},
   "outputs": [],
   "source": [
    "max_seq_length = 300\n",
    "\n",
    "training_input_ids, training_attention_masks = tokenize_and_format(training_inputs, max_seq_length)\n",
    "validation_input_ids, validation_attention_masks = tokenize_and_format(validation_inputs, max_seq_length)\n",
    "test_input_ids, test_attention_masks = tokenize_and_format(test_inputs, max_seq_length)"
   ]
  },
  {
   "cell_type": "code",
   "execution_count": 6,
   "id": "36a0a738",
   "metadata": {},
   "outputs": [],
   "source": [
    "training_label_IDs = []\n",
    "validation_label_IDs = []\n",
    "test_label_IDs = []\n",
    "\n",
    "for training_label_string in training_label_strings:\n",
    "    training_label_IDs.append(label_string_to_ID[training_label_string])\n",
    "    \n",
    "for validation_label_string in validation_label_strings:\n",
    "    validation_label_IDs.append(label_string_to_ID[validation_label_string])\n",
    "    \n",
    "for test_label_string in test_label_strings:\n",
    "    test_label_IDs.append(label_string_to_ID[test_label_string])\n",
    "    \n",
    "    \n",
    "# Convert the lists into tensors.\n",
    "training_input_ids = torch.cat(training_input_ids, dim=0)\n",
    "training_attention_masks = torch.cat(training_attention_masks, dim=0)\n",
    "training_label_IDs = torch.tensor(training_label_IDs)\n",
    "\n",
    "validation_input_ids = torch.cat(validation_input_ids, dim=0)\n",
    "validation_attention_masks = torch.cat(validation_attention_masks, dim=0)\n",
    "validation_label_IDs = torch.tensor(validation_label_IDs)\n",
    "\n",
    "test_input_ids = torch.cat(test_input_ids, dim=0)\n",
    "test_attention_masks = torch.cat(test_attention_masks, dim=0)\n",
    "test_label_IDs = torch.tensor(test_label_IDs)"
   ]
  },
  {
   "cell_type": "code",
   "execution_count": 7,
   "id": "0c260bfa",
   "metadata": {},
   "outputs": [],
   "source": [
    "train_set = [(training_input_ids[i], training_attention_masks[i], training_label_IDs[i]) for i in range(len(training_inputs))]\n",
    "val_set = [(validation_input_ids[i], validation_attention_masks[i], validation_label_IDs[i]) for i in range(len(validation_inputs))]\n",
    "test_set = [(test_input_ids[i], test_attention_masks[i], test_label_IDs[i]) for i in range(len(test_inputs))]"
   ]
  },
  {
   "cell_type": "markdown",
   "id": "8866da11",
   "metadata": {},
   "source": [
    "#### Fine-tune the BERT model"
   ]
  },
  {
   "cell_type": "code",
   "execution_count": 9,
   "id": "694fdc73",
   "metadata": {
    "scrolled": false
   },
   "outputs": [
    {
     "name": "stderr",
     "output_type": "stream",
     "text": [
      "Some weights of the model checkpoint at distilbert-base-uncased were not used when initializing DistilBertForSequenceClassification: ['vocab_projector.bias', 'vocab_transform.bias', 'vocab_layer_norm.bias', 'vocab_transform.weight', 'vocab_layer_norm.weight', 'vocab_projector.weight']\n",
      "- This IS expected if you are initializing DistilBertForSequenceClassification from the checkpoint of a model trained on another task or with another architecture (e.g. initializing a BertForSequenceClassification model from a BertForPreTraining model).\n",
      "- This IS NOT expected if you are initializing DistilBertForSequenceClassification from the checkpoint of a model that you expect to be exactly identical (initializing a BertForSequenceClassification model from a BertForSequenceClassification model).\n",
      "Some weights of DistilBertForSequenceClassification were not initialized from the model checkpoint at distilbert-base-uncased and are newly initialized: ['classifier.bias', 'pre_classifier.weight', 'classifier.weight', 'pre_classifier.bias']\n",
      "You should probably TRAIN this model on a down-stream task to be able to use it for predictions and inference.\n"
     ]
    },
    {
     "name": "stdout",
     "output_type": "stream",
     "text": [
      "\n",
      "======== Epoch 1 / 15 ========\n",
      "Training...\n"
     ]
    },
    {
     "name": "stderr",
     "output_type": "stream",
     "text": [
      "100%|██████████████████████████████████████████████████████████████████████████████████| 87/87 [00:38<00:00,  2.23it/s]\n"
     ]
    },
    {
     "name": "stdout",
     "output_type": "stream",
     "text": [
      "Total loss: 228.72888100147247\n",
      "Validation accuracy: 0.44571428571428573\n",
      "\n",
      "======== Epoch 2 / 15 ========\n",
      "Training...\n"
     ]
    },
    {
     "name": "stderr",
     "output_type": "stream",
     "text": [
      "100%|██████████████████████████████████████████████████████████████████████████████████| 87/87 [00:37<00:00,  2.34it/s]\n"
     ]
    },
    {
     "name": "stdout",
     "output_type": "stream",
     "text": [
      "Total loss: 159.88833129405975\n",
      "Validation accuracy: 0.5142857142857142\n",
      "\n",
      "======== Epoch 3 / 15 ========\n",
      "Training...\n"
     ]
    },
    {
     "name": "stderr",
     "output_type": "stream",
     "text": [
      "100%|██████████████████████████████████████████████████████████████████████████████████| 87/87 [00:37<00:00,  2.32it/s]\n"
     ]
    },
    {
     "name": "stdout",
     "output_type": "stream",
     "text": [
      "Total loss: 114.43488538265228\n",
      "Validation accuracy: 0.5314285714285715\n",
      "\n",
      "======== Epoch 4 / 15 ========\n",
      "Training...\n"
     ]
    },
    {
     "name": "stderr",
     "output_type": "stream",
     "text": [
      "100%|██████████████████████████████████████████████████████████████████████████████████| 87/87 [00:37<00:00,  2.30it/s]\n"
     ]
    },
    {
     "name": "stdout",
     "output_type": "stream",
     "text": [
      "Total loss: 78.30347815155983\n",
      "Validation accuracy: 0.5371428571428571\n",
      "\n",
      "======== Epoch 5 / 15 ========\n",
      "Training...\n"
     ]
    },
    {
     "name": "stderr",
     "output_type": "stream",
     "text": [
      "100%|██████████████████████████████████████████████████████████████████████████████████| 87/87 [00:38<00:00,  2.29it/s]\n"
     ]
    },
    {
     "name": "stdout",
     "output_type": "stream",
     "text": [
      "Total loss: 50.192843556404114\n",
      "Validation accuracy: 0.5885714285714285\n",
      "\n",
      "======== Epoch 6 / 15 ========\n",
      "Training...\n"
     ]
    },
    {
     "name": "stderr",
     "output_type": "stream",
     "text": [
      "100%|██████████████████████████████████████████████████████████████████████████████████| 87/87 [00:38<00:00,  2.28it/s]\n"
     ]
    },
    {
     "name": "stdout",
     "output_type": "stream",
     "text": [
      "Total loss: 32.76849787682295\n",
      "Validation accuracy: 0.5885714285714285\n",
      "\n",
      "======== Epoch 7 / 15 ========\n",
      "Training...\n"
     ]
    },
    {
     "name": "stderr",
     "output_type": "stream",
     "text": [
      "100%|██████████████████████████████████████████████████████████████████████████████████| 87/87 [00:38<00:00,  2.27it/s]\n"
     ]
    },
    {
     "name": "stdout",
     "output_type": "stream",
     "text": [
      "Total loss: 23.614997006952763\n",
      "Validation accuracy: 0.5942857142857143\n",
      "\n",
      "======== Epoch 8 / 15 ========\n",
      "Training...\n"
     ]
    },
    {
     "name": "stderr",
     "output_type": "stream",
     "text": [
      "100%|██████████████████████████████████████████████████████████████████████████████████| 87/87 [00:38<00:00,  2.26it/s]\n"
     ]
    },
    {
     "name": "stdout",
     "output_type": "stream",
     "text": [
      "Total loss: 15.03026608005166\n",
      "Validation accuracy: 0.6285714285714286\n",
      "\n",
      "======== Epoch 9 / 15 ========\n",
      "Training...\n"
     ]
    },
    {
     "name": "stderr",
     "output_type": "stream",
     "text": [
      "100%|██████████████████████████████████████████████████████████████████████████████████| 87/87 [00:38<00:00,  2.26it/s]\n"
     ]
    },
    {
     "name": "stdout",
     "output_type": "stream",
     "text": [
      "Total loss: 10.321120761334896\n",
      "Validation accuracy: 0.6\n",
      "\n",
      "======== Epoch 10 / 15 ========\n",
      "Training...\n"
     ]
    },
    {
     "name": "stderr",
     "output_type": "stream",
     "text": [
      "100%|██████████████████████████████████████████████████████████████████████████████████| 87/87 [00:38<00:00,  2.25it/s]\n"
     ]
    },
    {
     "name": "stdout",
     "output_type": "stream",
     "text": [
      "Total loss: 8.06671422533691\n",
      "Validation accuracy: 0.5542857142857143\n",
      "\n",
      "======== Epoch 11 / 15 ========\n",
      "Training...\n"
     ]
    },
    {
     "name": "stderr",
     "output_type": "stream",
     "text": [
      "100%|██████████████████████████████████████████████████████████████████████████████████| 87/87 [00:38<00:00,  2.25it/s]\n"
     ]
    },
    {
     "name": "stdout",
     "output_type": "stream",
     "text": [
      "Total loss: 6.692962887696922\n",
      "Validation accuracy: 0.6\n",
      "\n",
      "======== Epoch 12 / 15 ========\n",
      "Training...\n"
     ]
    },
    {
     "name": "stderr",
     "output_type": "stream",
     "text": [
      "100%|██████████████████████████████████████████████████████████████████████████████████| 87/87 [00:38<00:00,  2.25it/s]\n"
     ]
    },
    {
     "name": "stdout",
     "output_type": "stream",
     "text": [
      "Total loss: 3.3365700813010335\n",
      "Validation accuracy: 0.5942857142857143\n",
      "\n",
      "======== Epoch 13 / 15 ========\n",
      "Training...\n"
     ]
    },
    {
     "name": "stderr",
     "output_type": "stream",
     "text": [
      "100%|██████████████████████████████████████████████████████████████████████████████████| 87/87 [00:38<00:00,  2.24it/s]\n"
     ]
    },
    {
     "name": "stdout",
     "output_type": "stream",
     "text": [
      "Total loss: 3.185480300337076\n",
      "Validation accuracy: 0.5657142857142857\n",
      "\n",
      "======== Epoch 14 / 15 ========\n",
      "Training...\n"
     ]
    },
    {
     "name": "stderr",
     "output_type": "stream",
     "text": [
      "100%|██████████████████████████████████████████████████████████████████████████████████| 87/87 [00:38<00:00,  2.24it/s]\n"
     ]
    },
    {
     "name": "stdout",
     "output_type": "stream",
     "text": [
      "Total loss: 3.4594324002973735\n",
      "Validation accuracy: 0.5828571428571429\n",
      "\n",
      "======== Epoch 15 / 15 ========\n",
      "Training...\n"
     ]
    },
    {
     "name": "stderr",
     "output_type": "stream",
     "text": [
      "100%|██████████████████████████████████████████████████████████████████████████████████| 87/87 [00:38<00:00,  2.24it/s]\n"
     ]
    },
    {
     "name": "stdout",
     "output_type": "stream",
     "text": [
      "Total loss: 4.78477878915146\n",
      "Validation accuracy: 0.6\n",
      "\n",
      "Training complete!\n"
     ]
    }
   ],
   "source": [
    "model = DistilBertForSequenceClassification.from_pretrained(\n",
    "    \"distilbert-base-uncased\", # Use the 12-layer BERT model, with an uncased vocab.\n",
    "    num_labels = 20, # The number of output labels.   \n",
    "    output_attentions = False, # Whether the model returns attentions weights.\n",
    "    output_hidden_states = False, # Whether the model returns all hidden-states.\n",
    ")\n",
    "\n",
    "# Tell pytorch to run this model on the GPU.\n",
    "model.cuda()\n",
    "\n",
    "\n",
    "\n",
    "\n",
    "\n",
    "hyperparameter_config_iter = 1\n",
    "\n",
    "save_path = \"Saved models/Hyperparameter configuration \" + str(hyperparameter_config_iter)\n",
    "\n",
    "if(os.path.exists(save_path)):\n",
    "    raise Exception(\"ERROR! Hyperparameter config \" + str(hyperparameter_config_iter))\n",
    "\n",
    "else:\n",
    "    os.makedirs(save_path)\n",
    "    os.makedirs(save_path + \"/Plots\")\n",
    "\n",
    "\n",
    "# Fine-tuning hyperparameters\n",
    "\n",
    "batch_size = 16\n",
    "optimizer = AdamW(model.parameters(),\n",
    "                  lr = 5e-5, # args.learning_rate - default is 5e-5\n",
    "                  eps = 1e-8 # args.adam_epsilon  - default is 1e-8\n",
    "                )\n",
    "epochs = 15\n",
    "\n",
    "hyperparameter_dict = dict()\n",
    "hyperparameter_dict['batch_size'] = batch_size\n",
    "hyperparameter_dict['epochs'] = epochs\n",
    "\n",
    "with open(save_path + \"/Hyperparameters.json\", 'w') as f:\n",
    "    json.dump(hyperparameter_dict, f)\n",
    "\n",
    "def save(model, optimizer, output_path):\n",
    "    torch.save({'model_state_dict': model.state_dict(), 'optimizer_state_dict': optimizer.state_dict()}, output_path)\n",
    "\n",
    "# function to get validation accuracy\n",
    "def get_performance(data_set):\n",
    "    # Put the model in evaluation mode\n",
    "    model.eval()\n",
    "\n",
    "    # Tracking variables \n",
    "    total_eval_accuracy = 0\n",
    "    total_eval_loss = 0\n",
    "\n",
    "    num_batches = int(len(data_set)/batch_size) + 1\n",
    "\n",
    "    total_correct = 0\n",
    "\n",
    "    for i in range(num_batches):\n",
    "\n",
    "        end_index = min(batch_size * (i+1), len(data_set))\n",
    "\n",
    "        batch = data_set[i*batch_size:end_index]\n",
    "\n",
    "        if len(batch) == 0: continue\n",
    "\n",
    "        input_id_tensors = torch.stack([data[0] for data in batch])\n",
    "        input_mask_tensors = torch.stack([data[1] for data in batch])\n",
    "        label_tensors = torch.stack([data[2] for data in batch])\n",
    "\n",
    "        # Move tensors to the GPU\n",
    "        b_input_ids = input_id_tensors.to(device)\n",
    "        b_input_mask = input_mask_tensors.to(device)\n",
    "        b_labels = label_tensors.to(device)\n",
    "\n",
    "        # Tell pytorch not to bother with constructing the compute graph during\n",
    "        # the forward pass, since this is only needed for backprop (training).\n",
    "        with torch.no_grad():        \n",
    "\n",
    "            # Forward pass, calculate logit predictions.\n",
    "            outputs = model(b_input_ids,\n",
    "                                    attention_mask=b_input_mask,\n",
    "                                    labels=b_labels)\n",
    "            loss = outputs.loss\n",
    "            logits = outputs.logits\n",
    "\n",
    "            # Accumulate the validation loss.\n",
    "            total_eval_loss += loss.item()\n",
    "\n",
    "            # Move logits and labels to CPU\n",
    "            logits = logits.detach().cpu().numpy()\n",
    "            label_ids = b_labels.to('cpu').numpy()\n",
    "\n",
    "            # Calculate the number of correctly labeled examples in batch\n",
    "            pred_flat = np.argmax(logits, axis=1).flatten()\n",
    "            labels_flat = label_ids.flatten()\n",
    "            num_correct = np.sum(pred_flat == labels_flat)\n",
    "            total_correct += num_correct\n",
    "        \n",
    "    # Report the final accuracy for this validation run.\n",
    "    avg_val_accuracy = total_correct / len(data_set)\n",
    "    return avg_val_accuracy\n",
    "\n",
    "\n",
    "\n",
    "# training loop\n",
    "\n",
    "max_val_acc = -1\n",
    "\n",
    "metric_vs_epoch = dict()\n",
    "\n",
    "epoch_list = []\n",
    "training_loss_list = []\n",
    "training_acc_list = []\n",
    "\n",
    "val_acc_list = []\n",
    "\n",
    "# For each epoch...\n",
    "for epoch_i in range(0, epochs):\n",
    "    \n",
    "    epoch_list.append(epoch_i + 1)\n",
    "    \n",
    "    # Perform one full pass over the training set.\n",
    "\n",
    "    print(\"\")\n",
    "    print('======== Epoch {:} / {:} ========'.format(epoch_i + 1, epochs))\n",
    "    print('Training...')\n",
    "\n",
    "    # Reset the total loss for this epoch.\n",
    "    total_train_loss = 0\n",
    "\n",
    "    # Put the model into training mode.\n",
    "    model.train()\n",
    "\n",
    "    # For each batch of training data...\n",
    "    num_batches = int(len(train_set)/batch_size) + 1\n",
    "\n",
    "    for i in tqdm(range(num_batches)):\n",
    "        \n",
    "        end_index = min(batch_size * (i+1), len(train_set))\n",
    "\n",
    "        batch = train_set[i*batch_size:end_index]\n",
    "\n",
    "        if len(batch) == 0: continue\n",
    "\n",
    "        input_id_tensors = torch.stack([data[0] for data in batch])\n",
    "        input_mask_tensors = torch.stack([data[1] for data in batch])\n",
    "        label_tensors = torch.stack([data[2] for data in batch])\n",
    "\n",
    "        # Move tensors to the GPU\n",
    "        b_input_ids = input_id_tensors.to(device)\n",
    "        b_input_mask = input_mask_tensors.to(device)\n",
    "        b_labels = label_tensors.to(device)\n",
    "\n",
    "        # Clear the previously calculated gradient\n",
    "        model.zero_grad()        \n",
    "\n",
    "        # Perform a forward pass (evaluate the model on this training batch).\n",
    "        outputs = model(b_input_ids, \n",
    "                            attention_mask=b_input_mask, \n",
    "                            labels=b_labels)\n",
    "        loss = outputs.loss\n",
    "        logits = outputs.logits\n",
    "\n",
    "        total_train_loss += loss.item()\n",
    "\n",
    "        # Perform a backward pass to calculate the gradients.\n",
    "        loss.backward()\n",
    "\n",
    "        # Update parameters and take a step using the computed gradient.\n",
    "        optimizer.step()\n",
    "        \n",
    "    # ========================================\n",
    "    #               Validation\n",
    "    # ========================================\n",
    "    # After the completion of each training epoch, measure our performance on\n",
    "    # our validation set. Implement this function in the cell above.\n",
    "    \n",
    "    training_acc = get_performance(train_set)\n",
    "    val_acc = get_performance(val_set)\n",
    "    \n",
    "    print(f\"Total loss: {total_train_loss}\")\n",
    "    print(f\"Validation accuracy: {val_acc}\")\n",
    "    \n",
    "    val_acc_list.append(val_acc)\n",
    "    training_acc_list.append(training_acc)\n",
    "    \n",
    "    training_loss_list.append(total_train_loss)\n",
    "    \n",
    "    if(val_acc > max_val_acc):\n",
    "        \n",
    "        max_val_acc = val_acc\n",
    "        \n",
    "        model.save_pretrained(save_path + \"/best validation accuracy model\")\n",
    "        save(model, optimizer, save_path + \"/best validation accuracy.modelState\")\n",
    "    \n",
    "    \n",
    "print(\"\")\n",
    "print(\"Training complete!\")            \n",
    "\n",
    "metric_vs_epoch[\"Epochs\"] = epoch_list\n",
    "metric_vs_epoch[\"Training loss\"] = training_loss_list\n",
    "metric_vs_epoch[\"Training accuracy\"] = training_acc_list\n",
    "metric_vs_epoch[\"Validation accuracy\"] = val_acc_list\n",
    "\n",
    "with open(save_path + \"/Plots/Plot data.json\", 'w') as f:\n",
    "    json.dump(metric_vs_epoch, f)\n",
    "\n",
    "metric_vs_epoch_df = pd.DataFrame(metric_vs_epoch, columns = [\"Epochs\", \"Training loss\", \"Training accuracy\", \"Validation accuracy\"])\n",
    "\n",
    "fig = px.line(metric_vs_epoch_df, x='Epochs', y=\"Training loss\", title=\"Training loss vs epochs\")\n",
    "plotly.offline.plot(fig, filename = save_path + \"/Plots/Training loss.html\")\n",
    "\n",
    "accuracy_vs_epoch = dict()\n",
    "accuracy_vs_epoch[\"Epochs\"] = epoch_list + epoch_list\n",
    "accuracy_vs_epoch[\"Accuracy\"] = training_acc_list + val_acc_list\n",
    "accuracy_vs_epoch[\"Dataset\"] = [\"Training\"]*len(training_acc_list) + [\"Validation\"]*len(val_acc_list)\n",
    "\n",
    "accuracy_vs_epoch_df = pd.DataFrame(accuracy_vs_epoch, columns = [\"Epochs\", \"Accuracy\", \"Dataset\"])\n",
    "\n",
    "fig = px.line(accuracy_vs_epoch_df, x='Epochs', y='Accuracy', color='Dataset', markers=True, title=\"Training/Validation accuracy vs epochs\")\n",
    "plotly.offline.plot(fig, filename = save_path + \"/Plots/Accuracy.html\")\n",
    "\n",
    "with open(save_path + \"/Best validation accuracy.txt\", 'w') as f:\n",
    "    f.write(\"Best validation accuracy: \" + str(max_val_acc))"
   ]
  },
  {
   "cell_type": "markdown",
   "id": "1ab7b33e",
   "metadata": {},
   "source": [
    "### 4) Prediction using title, abstract, and the list of authors"
   ]
  },
  {
   "cell_type": "code",
   "execution_count": null,
   "id": "a6a4d561",
   "metadata": {},
   "outputs": [],
   "source": [
    "\"\"\"\n",
    "training_inputs = []\n",
    "training_label_strings = []\n",
    "\n",
    "validation_inputs = []\n",
    "validation_label_strings = []\n",
    "\n",
    "test_inputs = []\n",
    "test_label_strings = []\n",
    "\n",
    "for training_example in training_data:\n",
    "    \n",
    "    training_input = training_example[0][0] + ' [SEP] ' + training_example[0][2] + ' [SEP] ' + training_example[0][1].replace(' |', ',')\n",
    "    training_inputs.append(training_input)\n",
    "    \n",
    "    training_label_strings.append(training_example[1])\n",
    "    \n",
    "for validation_example in validation_data:\n",
    "    \n",
    "    validation_input = validation_example[0][0] + ' [SEP] ' + validation_example[0][2] + ' [SEP] ' + validation_example[0][1].replace(' |', ',')\n",
    "    validation_inputs.append(validation_input)\n",
    "    \n",
    "    validation_label_strings.append(validation_example[1])\n",
    "    \n",
    "for test_example in test_data:\n",
    "    \n",
    "    test_input = test_example[0][0] + ' [SEP] ' + test_example[0][2] + ' [SEP] ' + test_example[0][1].replace(' |', ',')\n",
    "    test_inputs.append(test_input)\n",
    "    \n",
    "    test_label_strings.append(test_example[1])\n",
    "\"\"\""
   ]
  },
  {
   "cell_type": "code",
   "execution_count": null,
   "id": "1667032c",
   "metadata": {},
   "outputs": [],
   "source": [
    "\"\"\"\n",
    "training_input_ids, training_attention_masks = tokenize_and_format(training_inputs)\n",
    "validation_input_ids, validation_attention_masks = tokenize_and_format(validation_inputs)\n",
    "test_input_ids, test_attention_masks = tokenize_and_format(test_inputs)\n",
    "\"\"\""
   ]
  },
  {
   "cell_type": "code",
   "execution_count": null,
   "id": "03d69e6f",
   "metadata": {},
   "outputs": [],
   "source": [
    "\"\"\"\n",
    "training_label_IDs = []\n",
    "validation_label_IDs = []\n",
    "test_label_IDs = []\n",
    "\n",
    "for training_label_string in training_label_strings:\n",
    "    training_label_IDs.append(label_string_to_ID[training_label_string])\n",
    "    \n",
    "for validation_label_string in validation_label_strings:\n",
    "    validation_label_IDs.append(label_string_to_ID[validation_label_string])\n",
    "    \n",
    "for test_label_string in test_label_strings:\n",
    "    test_label_IDs.append(label_string_to_ID[test_label_string])\n",
    "    \n",
    "    \n",
    "# Convert the lists into tensors.\n",
    "training_input_ids = torch.cat(training_input_ids, dim=0)\n",
    "training_attention_masks = torch.cat(training_attention_masks, dim=0)\n",
    "training_label_IDs = torch.tensor(training_label_IDs)\n",
    "\n",
    "validation_input_ids = torch.cat(validation_input_ids, dim=0)\n",
    "validation_attention_masks = torch.cat(validation_attention_masks, dim=0)\n",
    "validation_label_IDs = torch.tensor(validation_label_IDs)\n",
    "\n",
    "test_input_ids = torch.cat(test_input_ids, dim=0)\n",
    "test_attention_masks = torch.cat(test_attention_masks, dim=0)\n",
    "test_label_IDs = torch.tensor(test_label_IDs)\n",
    "\"\"\""
   ]
  },
  {
   "cell_type": "code",
   "execution_count": null,
   "id": "03db67fc",
   "metadata": {},
   "outputs": [],
   "source": [
    "\"\"\"\n",
    "train_set = [(training_input_ids[i], training_attention_masks[i], training_label_IDs[i]) for i in range(len(training_inputs))]\n",
    "val_set = [(validation_input_ids[i], validation_attention_masks[i], validation_label_IDs[i]) for i in range(len(validation_inputs))]\n",
    "test_set = [(test_input_ids[i], test_attention_masks[i], test_label_IDs[i]) for i in range(len(test_inputs))]\n",
    "\"\"\""
   ]
  },
  {
   "cell_type": "code",
   "execution_count": null,
   "id": "fb0cc0f4",
   "metadata": {},
   "outputs": [],
   "source": [
    "\"\"\"\n",
    "model = BertForSequenceClassification.from_pretrained(\n",
    "    \"bert-base-uncased\", # Use the 12-layer BERT model, with an uncased vocab.\n",
    "    num_labels = 20, # The number of output labels.   \n",
    "    output_attentions = False, # Whether the model returns attentions weights.\n",
    "    output_hidden_states = False, # Whether the model returns all hidden-states.\n",
    ")\n",
    "\n",
    "# Tell pytorch to run this model on the GPU.\n",
    "model.cuda()\n",
    "\"\"\""
   ]
  },
  {
   "cell_type": "code",
   "execution_count": null,
   "id": "9208e770",
   "metadata": {},
   "outputs": [],
   "source": [
    "\"\"\"\n",
    "# Fine-tuning hyperparameters\n",
    "\n",
    "batch_size = 16\n",
    "optimizer = AdamW(model.parameters(),\n",
    "                  lr = 5e-5, # args.learning_rate - default is 5e-5\n",
    "                  eps = 1e-8 # args.adam_epsilon  - default is 1e-8\n",
    "                )\n",
    "epochs = 5\n",
    "\n",
    "\n",
    "# function to get validation accuracy\n",
    "def get_validation_performance(val_set):\n",
    "    # Put the model in evaluation mode\n",
    "    model.eval()\n",
    "\n",
    "    # Tracking variables \n",
    "    total_eval_accuracy = 0\n",
    "    total_eval_loss = 0\n",
    "\n",
    "    num_batches = int(len(val_set)/batch_size) + 1\n",
    "\n",
    "    total_correct = 0\n",
    "\n",
    "    for i in range(num_batches):\n",
    "\n",
    "        end_index = min(batch_size * (i+1), len(val_set))\n",
    "\n",
    "        batch = val_set[i*batch_size:end_index]\n",
    "\n",
    "        if len(batch) == 0: continue\n",
    "\n",
    "        input_id_tensors = torch.stack([data[0] for data in batch])\n",
    "        input_mask_tensors = torch.stack([data[1] for data in batch])\n",
    "        label_tensors = torch.stack([data[2] for data in batch])\n",
    "\n",
    "        # Move tensors to the GPU\n",
    "        b_input_ids = input_id_tensors.to(device)\n",
    "        b_input_mask = input_mask_tensors.to(device)\n",
    "        b_labels = label_tensors.to(device)\n",
    "\n",
    "        # Tell pytorch not to bother with constructing the compute graph during\n",
    "        # the forward pass, since this is only needed for backprop (training).\n",
    "        with torch.no_grad():        \n",
    "\n",
    "            # Forward pass, calculate logit predictions.\n",
    "            outputs = model(b_input_ids, \n",
    "                                    token_type_ids=None, \n",
    "                                    attention_mask=b_input_mask,\n",
    "                                    labels=b_labels)\n",
    "            loss = outputs.loss\n",
    "            logits = outputs.logits\n",
    "\n",
    "            # Accumulate the validation loss.\n",
    "            total_eval_loss += loss.item()\n",
    "\n",
    "            # Move logits and labels to CPU\n",
    "            logits = logits.detach().cpu().numpy()\n",
    "            label_ids = b_labels.to('cpu').numpy()\n",
    "\n",
    "            # Calculate the number of correctly labeled examples in batch\n",
    "            pred_flat = np.argmax(logits, axis=1).flatten()\n",
    "            labels_flat = label_ids.flatten()\n",
    "            num_correct = np.sum(pred_flat == labels_flat)\n",
    "            total_correct += num_correct\n",
    "        \n",
    "    # Report the final accuracy for this validation run.\n",
    "    avg_val_accuracy = total_correct / len(val_set)\n",
    "    return avg_val_accuracy\n",
    "\n",
    "\n",
    "\n",
    "# training loop\n",
    "\n",
    "# For each epoch...\n",
    "for epoch_i in range(0, epochs):\n",
    "    # Perform one full pass over the training set.\n",
    "\n",
    "    print(\"\")\n",
    "    print('======== Epoch {:} / {:} ========'.format(epoch_i + 1, epochs))\n",
    "    print('Training...')\n",
    "\n",
    "    # Reset the total loss for this epoch.\n",
    "    total_train_loss = 0\n",
    "\n",
    "    # Put the model into training mode.\n",
    "    model.train()\n",
    "\n",
    "    # For each batch of training data...\n",
    "    num_batches = int(len(train_set)/batch_size) + 1\n",
    "\n",
    "    for i in range(num_batches):\n",
    "      \n",
    "        print(\"Batch \" + str(i) + \" out of \" + str(num_batches) + \" batches.\")\n",
    "        \n",
    "        end_index = min(batch_size * (i+1), len(train_set))\n",
    "\n",
    "        batch = train_set[i*batch_size:end_index]\n",
    "\n",
    "        if len(batch) == 0: continue\n",
    "\n",
    "        input_id_tensors = torch.stack([data[0] for data in batch])\n",
    "        input_mask_tensors = torch.stack([data[1] for data in batch])\n",
    "        label_tensors = torch.stack([data[2] for data in batch])\n",
    "\n",
    "        # Move tensors to the GPU\n",
    "        b_input_ids = input_id_tensors.to(device)\n",
    "        b_input_mask = input_mask_tensors.to(device)\n",
    "        b_labels = label_tensors.to(device)\n",
    "\n",
    "        # Clear the previously calculated gradient\n",
    "        model.zero_grad()        \n",
    "\n",
    "        # Perform a forward pass (evaluate the model on this training batch).\n",
    "        outputs = model(b_input_ids, \n",
    "                            token_type_ids=None, \n",
    "                            attention_mask=b_input_mask, \n",
    "                            labels=b_labels)\n",
    "        loss = outputs.loss\n",
    "        logits = outputs.logits\n",
    "\n",
    "        total_train_loss += loss.item()\n",
    "\n",
    "        # Perform a backward pass to calculate the gradients.\n",
    "        loss.backward()\n",
    "\n",
    "        # Update parameters and take a step using the computed gradient.\n",
    "        optimizer.step()\n",
    "        \n",
    "    # ========================================\n",
    "    #               Validation\n",
    "    # ========================================\n",
    "    # After the completion of each training epoch, measure our performance on\n",
    "    # our validation set. Implement this function in the cell above.\n",
    "    print(f\"Total loss: {total_train_loss}\")\n",
    "    val_acc = get_validation_performance(val_set)\n",
    "    print(f\"Validation accuracy: {val_acc}\")\n",
    "    \n",
    "print(\"\")\n",
    "print(\"Training complete!\")\n",
    "\"\"\""
   ]
  }
 ],
 "metadata": {
  "kernelspec": {
   "display_name": "Python [conda env:NLP]",
   "language": "python",
   "name": "conda-env-NLP-py"
  },
  "language_info": {
   "codemirror_mode": {
    "name": "ipython",
    "version": 3
   },
   "file_extension": ".py",
   "mimetype": "text/x-python",
   "name": "python",
   "nbconvert_exporter": "python",
   "pygments_lexer": "ipython3",
   "version": "3.9.7"
  }
 },
 "nbformat": 4,
 "nbformat_minor": 5
}
