{
 "cells": [
  {
   "cell_type": "code",
   "execution_count": 1,
   "metadata": {
    "id": "SsZcKwaJPMX4"
   },
   "outputs": [],
   "source": [
    "import numpy as np\n",
    "import tensorflow as tf\n",
    "from tensorflow import keras\n",
    "from tensorflow.keras import layers\n",
    "import pandas as pd\n",
    "import json\n",
    "from keras.preprocessing.text import Tokenizer\n",
    "import numpy as np \n",
    "import matplotlib.pyplot as plt\n",
    "from keras.preprocessing.text import Tokenizer\n",
    "from keras.preprocessing.sequence import pad_sequences\n",
    "from keras.models import Sequential\n",
    "from keras.layers import Dense, Embedding, LSTM, SpatialDropout1D,Input\n",
    "from sklearn.model_selection import train_test_split\n",
    "from keras.utils.np_utils import to_categorical\n",
    "from keras.callbacks import EarlyStopping\n",
    "from keras.layers import Dropout\n",
    "import re\n",
    "import nltk\n",
    "from nltk.corpus import stopwords\n",
    "from sklearn.metrics import precision_recall_fscore_support, top_k_accuracy_score\n"
   ]
  },
  {
   "cell_type": "code",
   "execution_count": 2,
   "metadata": {
    "colab": {
     "base_uri": "https://localhost:8080/"
    },
    "id": "lN-ABr9nP60i",
    "outputId": "44d326a0-af7a-439b-96b4-5cffd5757e82"
   },
   "outputs": [
    {
     "name": "stderr",
     "output_type": "stream",
     "text": [
      "[nltk_data] Downloading package stopwords to /home/avani/nltk_data...\n",
      "[nltk_data]   Package stopwords is already up-to-date!\n"
     ]
    }
   ],
   "source": [
    "nltk.download('stopwords')\n",
    "STOPWORDS = set(stopwords.words('english'))"
   ]
  },
  {
   "cell_type": "code",
   "execution_count": 3,
   "metadata": {
    "id": "s7cn_kwIPMX6"
   },
   "outputs": [],
   "source": [
    "with open(\"training_data.jsonl\") as f:\n",
    "    training_data = json.load(f)\n",
    "with open(\"test_data.jsonl\") as f:\n",
    "    testing_data = json.load(f)\n",
    "with open(\"validation_data.jsonl\") as f:\n",
    "    valid_data = json.load(f)"
   ]
  },
  {
   "cell_type": "code",
   "execution_count": 4,
   "metadata": {
    "colab": {
     "base_uri": "https://localhost:8080/"
    },
    "id": "dhOxixQTPMX7",
    "outputId": "01e523fa-1df4-4739-8ad9-0c0f2fc51277"
   },
   "outputs": [
    {
     "name": "stdout",
     "output_type": "stream",
     "text": [
      "1386\n"
     ]
    }
   ],
   "source": [
    "train_data = []\n",
    "\n",
    "for i in range(len(training_data)):\n",
    "    train_data.append(training_data[i][0][0] + ' ' + training_data[i][0][2])\n",
    "    \n",
    "print(len(train_data))"
   ]
  },
  {
   "cell_type": "code",
   "execution_count": 5,
   "metadata": {
    "colab": {
     "base_uri": "https://localhost:8080/"
    },
    "id": "RnQdb3WYPMX8",
    "outputId": "9698ad1f-c96c-4fc8-f0e4-9a7f052a71eb"
   },
   "outputs": [
    {
     "name": "stdout",
     "output_type": "stream",
     "text": [
      "175\n"
     ]
    }
   ],
   "source": [
    "val_data = []\n",
    "\n",
    "for i in range(len(valid_data)):\n",
    "    val_data.append(valid_data[i][0][0] + ' ' + valid_data[i][0][2])\n",
    "    \n",
    "print(len(val_data))"
   ]
  },
  {
   "cell_type": "code",
   "execution_count": 6,
   "metadata": {},
   "outputs": [
    {
     "name": "stdout",
     "output_type": "stream",
     "text": [
      "183\n"
     ]
    }
   ],
   "source": [
    "test_data = []\n",
    "\n",
    "for i in range(len(testing_data)):\n",
    "    test_data.append(testing_data[i][0][0] + ' ' + testing_data[i][0][2])\n",
    "\n",
    "print(len(test_data))"
   ]
  },
  {
   "cell_type": "code",
   "execution_count": 7,
   "metadata": {
    "colab": {
     "base_uri": "https://localhost:8080/"
    },
    "id": "JGOxCU3iPMX9",
    "outputId": "46ff21fe-f618-463d-c153-8b03394d764b"
   },
   "outputs": [
    {
     "name": "stdout",
     "output_type": "stream",
     "text": [
      "1386\n",
      "175\n",
      "183\n"
     ]
    }
   ],
   "source": [
    "REPLACE_BY_SPACE = re.compile('[/(){}\\[\\]\\|@,;.-_-—]')\n",
    "\n",
    "def clean_text(text):\n",
    "    \n",
    "    text = text.lower()\n",
    "    text = REPLACE_BY_SPACE.sub(' ', text)\n",
    "    text = ' '.join(word for word in text.split() if word not in STOPWORDS)\n",
    "    return text\n",
    "\n",
    "train_data = list(map(clean_text, train_data))\n",
    "val_data = list(map(clean_text, val_data))\n",
    "test_data = list(map(clean_text, test_data))\n",
    "\n",
    "print(len(train_data))\n",
    "print(len(val_data))\n",
    "print(len(test_data))"
   ]
  },
  {
   "cell_type": "code",
   "execution_count": 8,
   "metadata": {
    "colab": {
     "base_uri": "https://localhost:8080/"
    },
    "id": "xw1TfVFZPMX9",
    "outputId": "1d24fb19-8a00-4cbf-c97b-af2b62e3d453"
   },
   "outputs": [
    {
     "name": "stdout",
     "output_type": "stream",
     "text": [
      "20\n",
      "{'generation': 1, 'sentiment analysis, stylistic analysis, and argument mining': 2, 'information extraction, retrieval and text mining': 3, 'resources and evaluation': 4, 'machine learning for nlp': 5, 'interpretability and analysis of models for nlp': 6, 'question answering': 7, 'linguistic theories, cognitive modeling and psycholinguistics': 8, 'discourse and pragmatics': 9, 'machine translation and multilinguality': 10, 'ethics in nlp': 11, 'summarization': 12, 'tagging, chunking, syntax and parsing': 13, 'dialogue and interactive systems': 14, 'semantics': 15, 'computational social science, social media and cultural analytics': 16, 'nlp applications': 17, 'language grounding to vision, robotics and beyond': 18, 'phonology, morphology and word segmentation': 19, 'speech and multimodality': 20}\n"
     ]
    }
   ],
   "source": [
    "diction = {}\n",
    "for i in training_data:\n",
    "    diction[i[1]] = 1\n",
    "    \n",
    "print(len(diction))\n",
    "\n",
    "j = 1\n",
    "for i in diction:\n",
    "    diction[i] = j\n",
    "    j += 1\n",
    "\n",
    "print(diction)"
   ]
  },
  {
   "cell_type": "code",
   "execution_count": 9,
   "metadata": {
    "colab": {
     "base_uri": "https://localhost:8080/"
    },
    "id": "MZBVvBOuPMX-",
    "outputId": "b3e17ccd-42c1-46d0-fff2-9358a5de76c3"
   },
   "outputs": [
    {
     "name": "stdout",
     "output_type": "stream",
     "text": [
      "1386\n",
      "175\n",
      "183\n"
     ]
    }
   ],
   "source": [
    "train_labels = []\n",
    "for i in range(len(training_data)):\n",
    "    train_labels.append(diction[training_data[i][1]])\n",
    "    \n",
    "print(len(train_labels))\n",
    "\n",
    "val_labels = []\n",
    "for i in range(len(valid_data)):\n",
    "    val_labels.append(diction[valid_data[i][1]])\n",
    "    \n",
    "print(len(val_labels))\n",
    "\n",
    "test_labels = []\n",
    "for i in range(len(testing_data)):\n",
    "    test_labels.append(diction[testing_data[i][1]])\n",
    "\n",
    "print(len(test_labels))"
   ]
  },
  {
   "cell_type": "code",
   "execution_count": 10,
   "metadata": {
    "id": "1kYjIdadPMX-"
   },
   "outputs": [],
   "source": [
    "y_train = tf.convert_to_tensor(train_labels, dtype = tf.int64)\n",
    "y_val = tf.convert_to_tensor(val_labels, dtype = tf.int64)\n",
    "y_test = tf.convert_to_tensor(test_labels, dtype = tf.int64)"
   ]
  },
  {
   "cell_type": "code",
   "execution_count": 11,
   "metadata": {
    "colab": {
     "base_uri": "https://localhost:8080/"
    },
    "id": "Xx-HqEgXPMYB",
    "outputId": "ff7594e2-fece-4da1-c8ea-e5c29350e798"
   },
   "outputs": [
    {
     "name": "stdout",
     "output_type": "stream",
     "text": [
      "<gensim.models.keyedvectors.KeyedVectors object at 0x7f8938b4a850>\n"
     ]
    }
   ],
   "source": [
    "import gensim\n",
    "from gensim.models import Word2Vec\n",
    "\n",
    "w2vmodel = gensim.models.KeyedVectors.load_word2vec_format('GoogleNews-vectors-negative300.bin', binary=True)\n",
    "\n",
    "print(w2vmodel)\n",
    "# summarize vocabulary size in model\n",
    "# words = list(embed.wv)\n",
    "# print('Vocabulary size: %d' % len(words))\n"
   ]
  },
  {
   "cell_type": "code",
   "execution_count": 12,
   "metadata": {
    "colab": {
     "base_uri": "https://localhost:8080/"
    },
    "id": "3VEbWpS4J_6W",
    "outputId": "9966154d-bb89-4bde-8325-7ca5bafed9b3"
   },
   "outputs": [
    {
     "name": "stderr",
     "output_type": "stream",
     "text": [
      "[nltk_data] Downloading package punkt to /home/avani/nltk_data...\n",
      "[nltk_data]   Package punkt is already up-to-date!\n"
     ]
    }
   ],
   "source": [
    "import nltk\n",
    "from nltk.tokenize import sent_tokenize, word_tokenize\n",
    "nltk.download('punkt')\n",
    "\n",
    "t_data = []\n",
    "for idx in range(len(train_data)):\n",
    "  x = nltk.tokenize.word_tokenize(train_data[idx])\n",
    "  temp = []\n",
    "  for token in x:\n",
    "    # w2vmodel[i]\n",
    "    if(token in w2vmodel):\n",
    "      temp.append(w2vmodel[token])\n",
    "  t_data.append(temp)\n",
    "\n",
    "\n",
    "v_data = []\n",
    "for idx in range(len(val_data)):\n",
    "  x = nltk.tokenize.word_tokenize(val_data[idx])\n",
    "  temp = []\n",
    "  for token in x:\n",
    "    # w2vmodel[i]\n",
    "    if(token in w2vmodel):\n",
    "      temp.append(w2vmodel[token])\n",
    "  v_data.append(temp)\n",
    "\n",
    "ts_data = []\n",
    "for idx in range(len(test_data)):\n",
    "  x = nltk.tokenize.word_tokenize(test_data[idx])\n",
    "  temp = []\n",
    "  for token in x:\n",
    "    # w2vmodel[i]\n",
    "    if(token in w2vmodel):\n",
    "      temp.append(w2vmodel[token])\n",
    "  ts_data.append(temp)\n"
   ]
  },
  {
   "cell_type": "code",
   "execution_count": 13,
   "metadata": {
    "colab": {
     "base_uri": "https://localhost:8080/"
    },
    "id": "0ZgG5nkH0-nt",
    "outputId": "126eafac-7cec-4f52-af12-9744210ba6d4"
   },
   "outputs": [
    {
     "name": "stdout",
     "output_type": "stream",
     "text": [
      "179\n",
      "179\n",
      "179\n"
     ]
    }
   ],
   "source": [
    "X_train = tf.keras.preprocessing.sequence.pad_sequences(t_data,dtype='float64')\n",
    "print(len(X_train[1]))\n",
    "X_val =tf.keras.preprocessing.sequence.pad_sequences(v_data, maxlen = X_train.shape[1],dtype='float64')\n",
    "print(len(X_val[1]))\n",
    "X_test =tf.keras.preprocessing.sequence.pad_sequences(ts_data, maxlen = X_train.shape[1],dtype='float64')\n",
    "print(len(X_test[1]))"
   ]
  },
  {
   "cell_type": "code",
   "execution_count": 16,
   "metadata": {
    "colab": {
     "base_uri": "https://localhost:8080/"
    },
    "id": "zb0PSyYn6In9",
    "outputId": "2616c663-4560-4783-8cc6-f44c821ec19d"
   },
   "outputs": [
    {
     "name": "stdout",
     "output_type": "stream",
     "text": [
      "Model: \"sequential_1\"\n",
      "_________________________________________________________________\n",
      " Layer (type)                Output Shape              Param #   \n",
      "=================================================================\n",
      " spatial_dropout1d_1 (Spatia  (None, 179, 300)         0         \n",
      " lDropout1D)                                                     \n",
      "                                                                 \n",
      " lstm_1 (LSTM)               (None, 100)               160400    \n",
      "                                                                 \n",
      " dense_1 (Dense)             (None, 21)                2121      \n",
      "                                                                 \n",
      "=================================================================\n",
      "Total params: 162,521\n",
      "Trainable params: 162,521\n",
      "Non-trainable params: 0\n",
      "_________________________________________________________________\n",
      "None\n"
     ]
    }
   ],
   "source": [
    "model_w2v = Sequential()\n",
    "# model_w2v.add(Embedding(len(tokenizer.word_index) + 1, 300, input_length = t_data_pad.shape[1]))\n",
    "model_w2v.add(Input((179, 300 )))\n",
    "\n",
    "model_w2v.add(SpatialDropout1D(0.2))\n",
    "model_w2v.add(LSTM(100, dropout = 0.2, recurrent_dropout = 0.2))\n",
    "model_w2v.add(Dense(21, activation = 'softmax'))\n",
    "model_w2v.compile(loss = 'sparse_categorical_crossentropy', optimizer = 'adam', metrics = ['accuracy'])\n",
    "print(model_w2v.summary())"
   ]
  },
  {
   "cell_type": "code",
   "execution_count": 17,
   "metadata": {
    "colab": {
     "base_uri": "https://localhost:8080/"
    },
    "id": "Qm7zZ0ELBLG1",
    "outputId": "da2ef0b5-9a78-4af8-d320-d1ac1938eca1"
   },
   "outputs": [
    {
     "name": "stdout",
     "output_type": "stream",
     "text": [
      "Epoch 1/100\n",
      "44/44 [==============================] - 28s 347ms/step - loss: 2.8742 - accuracy: 0.1032 - val_loss: 2.7766 - val_accuracy: 0.1200\n",
      "Epoch 2/100\n",
      "44/44 [==============================] - 10s 223ms/step - loss: 2.6929 - accuracy: 0.1811 - val_loss: 2.7599 - val_accuracy: 0.1543\n",
      "Epoch 3/100\n",
      "44/44 [==============================] - 9s 195ms/step - loss: 2.6178 - accuracy: 0.2114 - val_loss: 2.5200 - val_accuracy: 0.2000\n",
      "Epoch 4/100\n",
      "44/44 [==============================] - 9s 213ms/step - loss: 2.6165 - accuracy: 0.2143 - val_loss: 2.5080 - val_accuracy: 0.2457\n",
      "Epoch 5/100\n",
      "44/44 [==============================] - 8s 189ms/step - loss: 2.4083 - accuracy: 0.2893 - val_loss: 2.4392 - val_accuracy: 0.2400\n",
      "Epoch 6/100\n",
      "44/44 [==============================] - 8s 184ms/step - loss: 2.3208 - accuracy: 0.3088 - val_loss: 2.5677 - val_accuracy: 0.2000\n",
      "Epoch 7/100\n",
      "44/44 [==============================] - 8s 184ms/step - loss: 2.3041 - accuracy: 0.3182 - val_loss: 2.2906 - val_accuracy: 0.3143\n",
      "Epoch 8/100\n",
      "44/44 [==============================] - 8s 183ms/step - loss: 2.2717 - accuracy: 0.3175 - val_loss: 2.3485 - val_accuracy: 0.2971\n",
      "Epoch 9/100\n",
      "44/44 [==============================] - 8s 185ms/step - loss: 2.1460 - accuracy: 0.3579 - val_loss: 2.2484 - val_accuracy: 0.3143\n",
      "Epoch 10/100\n",
      "44/44 [==============================] - 8s 185ms/step - loss: 2.1115 - accuracy: 0.3636 - val_loss: 2.2396 - val_accuracy: 0.3314\n",
      "Epoch 11/100\n",
      "44/44 [==============================] - 8s 186ms/step - loss: 2.0857 - accuracy: 0.3752 - val_loss: 2.2583 - val_accuracy: 0.3257\n",
      "Epoch 12/100\n",
      "44/44 [==============================] - 8s 186ms/step - loss: 1.9414 - accuracy: 0.4322 - val_loss: 2.2190 - val_accuracy: 0.3371\n",
      "Epoch 13/100\n",
      "44/44 [==============================] - 8s 185ms/step - loss: 1.9292 - accuracy: 0.4315 - val_loss: 2.2658 - val_accuracy: 0.3029\n",
      "Epoch 14/100\n",
      "44/44 [==============================] - 8s 190ms/step - loss: 1.7964 - accuracy: 0.4697 - val_loss: 2.2780 - val_accuracy: 0.2971\n",
      "Epoch 15/100\n",
      "44/44 [==============================] - 9s 196ms/step - loss: 1.7402 - accuracy: 0.4841 - val_loss: 2.1616 - val_accuracy: 0.3714\n",
      "Epoch 16/100\n",
      "44/44 [==============================] - 8s 190ms/step - loss: 1.7434 - accuracy: 0.4740 - val_loss: 2.2404 - val_accuracy: 0.3200\n",
      "Epoch 17/100\n",
      "44/44 [==============================] - 8s 185ms/step - loss: 1.6478 - accuracy: 0.4892 - val_loss: 2.0960 - val_accuracy: 0.3543\n",
      "Epoch 18/100\n",
      "44/44 [==============================] - 8s 186ms/step - loss: 1.5558 - accuracy: 0.5281 - val_loss: 2.0941 - val_accuracy: 0.3771\n",
      "Epoch 19/100\n",
      "44/44 [==============================] - 8s 189ms/step - loss: 1.5018 - accuracy: 0.5519 - val_loss: 2.1488 - val_accuracy: 0.3714\n",
      "Epoch 20/100\n",
      "44/44 [==============================] - 8s 184ms/step - loss: 1.4644 - accuracy: 0.5541 - val_loss: 2.1153 - val_accuracy: 0.3943\n",
      "Epoch 21/100\n",
      "44/44 [==============================] - 8s 185ms/step - loss: 1.3538 - accuracy: 0.5974 - val_loss: 2.1543 - val_accuracy: 0.3714\n",
      "Epoch 22/100\n",
      "44/44 [==============================] - 8s 185ms/step - loss: 1.2879 - accuracy: 0.6133 - val_loss: 2.1451 - val_accuracy: 0.4286\n",
      "Epoch 23/100\n",
      "44/44 [==============================] - 8s 184ms/step - loss: 1.2573 - accuracy: 0.6248 - val_loss: 2.0760 - val_accuracy: 0.3886\n",
      "Epoch 24/100\n",
      "44/44 [==============================] - 8s 185ms/step - loss: 1.3062 - accuracy: 0.6053 - val_loss: 2.0609 - val_accuracy: 0.3714\n",
      "Epoch 25/100\n",
      "44/44 [==============================] - 8s 188ms/step - loss: 1.2094 - accuracy: 0.6270 - val_loss: 2.0076 - val_accuracy: 0.3943\n",
      "Epoch 26/100\n",
      "44/44 [==============================] - 8s 187ms/step - loss: 1.1675 - accuracy: 0.6479 - val_loss: 2.1384 - val_accuracy: 0.3771\n",
      "Epoch 27/100\n",
      "44/44 [==============================] - 8s 184ms/step - loss: 1.0323 - accuracy: 0.6804 - val_loss: 2.0568 - val_accuracy: 0.4114\n",
      "Epoch 28/100\n",
      "44/44 [==============================] - 8s 186ms/step - loss: 0.9856 - accuracy: 0.7157 - val_loss: 1.9641 - val_accuracy: 0.4400\n",
      "Epoch 29/100\n",
      "44/44 [==============================] - 8s 186ms/step - loss: 0.9607 - accuracy: 0.7107 - val_loss: 1.9204 - val_accuracy: 0.4343\n",
      "Epoch 30/100\n",
      "44/44 [==============================] - 10s 223ms/step - loss: 0.8897 - accuracy: 0.7273 - val_loss: 2.0052 - val_accuracy: 0.4229\n",
      "Epoch 31/100\n",
      "44/44 [==============================] - 8s 186ms/step - loss: 0.8417 - accuracy: 0.7489 - val_loss: 1.9880 - val_accuracy: 0.4000\n",
      "Epoch 32/100\n",
      "44/44 [==============================] - 8s 189ms/step - loss: 0.7658 - accuracy: 0.7641 - val_loss: 1.9683 - val_accuracy: 0.4114\n",
      "Epoch 33/100\n",
      "44/44 [==============================] - 8s 186ms/step - loss: 0.7469 - accuracy: 0.7763 - val_loss: 1.8855 - val_accuracy: 0.4400\n",
      "Epoch 34/100\n",
      "44/44 [==============================] - 8s 185ms/step - loss: 0.6827 - accuracy: 0.8016 - val_loss: 2.0494 - val_accuracy: 0.3771\n",
      "Epoch 35/100\n",
      "44/44 [==============================] - 9s 195ms/step - loss: 0.6626 - accuracy: 0.8139 - val_loss: 2.0608 - val_accuracy: 0.4400\n",
      "Epoch 36/100\n",
      "44/44 [==============================] - 8s 188ms/step - loss: 0.6249 - accuracy: 0.8153 - val_loss: 1.9379 - val_accuracy: 0.4514\n",
      "Epoch 37/100\n",
      "44/44 [==============================] - 9s 196ms/step - loss: 0.6095 - accuracy: 0.8254 - val_loss: 1.9622 - val_accuracy: 0.4743\n",
      "Epoch 38/100\n",
      "44/44 [==============================] - 8s 192ms/step - loss: 0.5517 - accuracy: 0.8391 - val_loss: 2.0278 - val_accuracy: 0.4629\n",
      "Epoch 39/100\n",
      "44/44 [==============================] - 8s 188ms/step - loss: 0.6729 - accuracy: 0.8175 - val_loss: 2.1171 - val_accuracy: 0.4400\n",
      "Epoch 40/100\n",
      "44/44 [==============================] - 8s 192ms/step - loss: 0.6132 - accuracy: 0.8211 - val_loss: 1.9865 - val_accuracy: 0.4114\n",
      "Epoch 41/100\n",
      "44/44 [==============================] - 9s 197ms/step - loss: 0.4818 - accuracy: 0.8680 - val_loss: 2.1138 - val_accuracy: 0.3829\n",
      "Epoch 42/100\n",
      "44/44 [==============================] - 8s 188ms/step - loss: 0.4260 - accuracy: 0.8846 - val_loss: 2.0774 - val_accuracy: 0.4057\n",
      "Epoch 43/100\n",
      "44/44 [==============================] - 8s 180ms/step - loss: 0.4326 - accuracy: 0.8766 - val_loss: 2.1590 - val_accuracy: 0.4343\n",
      "Epoch 44/100\n",
      "44/44 [==============================] - 8s 186ms/step - loss: 0.3741 - accuracy: 0.9012 - val_loss: 2.1512 - val_accuracy: 0.4571\n",
      "Epoch 45/100\n",
      "44/44 [==============================] - 8s 185ms/step - loss: 0.3741 - accuracy: 0.8961 - val_loss: 2.1105 - val_accuracy: 0.4114\n",
      "Epoch 46/100\n",
      "44/44 [==============================] - 9s 212ms/step - loss: 0.3296 - accuracy: 0.9105 - val_loss: 2.1264 - val_accuracy: 0.4686\n",
      "Epoch 47/100\n",
      "44/44 [==============================] - 12s 269ms/step - loss: 0.3612 - accuracy: 0.9033 - val_loss: 2.1666 - val_accuracy: 0.4229\n",
      "Epoch 48/100\n",
      "44/44 [==============================] - 10s 238ms/step - loss: 0.4420 - accuracy: 0.8846 - val_loss: 2.1144 - val_accuracy: 0.3886\n",
      "Epoch 49/100\n",
      "44/44 [==============================] - 9s 196ms/step - loss: 0.3204 - accuracy: 0.9185 - val_loss: 2.1682 - val_accuracy: 0.4057\n",
      "Epoch 50/100\n",
      "44/44 [==============================] - 8s 185ms/step - loss: 0.3529 - accuracy: 0.9033 - val_loss: 2.0696 - val_accuracy: 0.4514\n",
      "Epoch 51/100\n",
      "44/44 [==============================] - 8s 182ms/step - loss: 0.2853 - accuracy: 0.9336 - val_loss: 2.1780 - val_accuracy: 0.4400\n",
      "Epoch 52/100\n",
      "44/44 [==============================] - 8s 182ms/step - loss: 0.2727 - accuracy: 0.9315 - val_loss: 2.0454 - val_accuracy: 0.4857\n",
      "Epoch 53/100\n",
      "44/44 [==============================] - 8s 183ms/step - loss: 0.2115 - accuracy: 0.9596 - val_loss: 2.1584 - val_accuracy: 0.4571\n",
      "Epoch 54/100\n",
      "44/44 [==============================] - 8s 183ms/step - loss: 0.2240 - accuracy: 0.9509 - val_loss: 2.1531 - val_accuracy: 0.4857\n",
      "Epoch 55/100\n",
      "44/44 [==============================] - 8s 182ms/step - loss: 0.1988 - accuracy: 0.9531 - val_loss: 2.0804 - val_accuracy: 0.4686\n",
      "Epoch 56/100\n",
      "44/44 [==============================] - 8s 182ms/step - loss: 0.1894 - accuracy: 0.9531 - val_loss: 2.0444 - val_accuracy: 0.5029\n",
      "Epoch 57/100\n",
      "44/44 [==============================] - 8s 182ms/step - loss: 0.1759 - accuracy: 0.9668 - val_loss: 2.2617 - val_accuracy: 0.4457\n"
     ]
    },
    {
     "name": "stdout",
     "output_type": "stream",
     "text": [
      "Epoch 58/100\n",
      "44/44 [==============================] - 9s 202ms/step - loss: 0.1717 - accuracy: 0.9582 - val_loss: 2.1632 - val_accuracy: 0.4857\n",
      "Epoch 59/100\n",
      "44/44 [==============================] - 8s 179ms/step - loss: 0.1595 - accuracy: 0.9632 - val_loss: 2.3281 - val_accuracy: 0.4286\n",
      "Epoch 60/100\n",
      "44/44 [==============================] - 8s 177ms/step - loss: 0.1765 - accuracy: 0.9603 - val_loss: 2.1095 - val_accuracy: 0.4914\n",
      "Epoch 61/100\n",
      "44/44 [==============================] - 8s 181ms/step - loss: 0.1514 - accuracy: 0.9697 - val_loss: 2.2210 - val_accuracy: 0.4514\n",
      "Epoch 62/100\n",
      "44/44 [==============================] - 9s 209ms/step - loss: 0.1424 - accuracy: 0.9704 - val_loss: 2.2447 - val_accuracy: 0.4571\n",
      "Epoch 63/100\n",
      "44/44 [==============================] - 8s 186ms/step - loss: 0.1378 - accuracy: 0.9683 - val_loss: 2.3678 - val_accuracy: 0.4571\n",
      "Epoch 64/100\n",
      "44/44 [==============================] - 8s 187ms/step - loss: 0.1553 - accuracy: 0.9596 - val_loss: 2.1808 - val_accuracy: 0.4857\n",
      "Epoch 65/100\n",
      "44/44 [==============================] - 8s 186ms/step - loss: 0.1575 - accuracy: 0.9596 - val_loss: 2.2553 - val_accuracy: 0.4800\n",
      "Epoch 66/100\n",
      "44/44 [==============================] - 8s 186ms/step - loss: 0.1446 - accuracy: 0.9668 - val_loss: 2.2041 - val_accuracy: 0.4514\n",
      "Epoch 67/100\n",
      "44/44 [==============================] - 8s 187ms/step - loss: 0.1168 - accuracy: 0.9683 - val_loss: 2.2153 - val_accuracy: 0.4571\n",
      "Epoch 68/100\n",
      "44/44 [==============================] - 8s 188ms/step - loss: 0.1167 - accuracy: 0.9791 - val_loss: 2.1852 - val_accuracy: 0.4629\n",
      "Epoch 69/100\n",
      "44/44 [==============================] - 8s 186ms/step - loss: 0.1186 - accuracy: 0.9776 - val_loss: 2.1303 - val_accuracy: 0.4914\n",
      "Epoch 70/100\n",
      "44/44 [==============================] - 8s 186ms/step - loss: 0.1155 - accuracy: 0.9683 - val_loss: 2.1626 - val_accuracy: 0.4571\n",
      "Epoch 71/100\n",
      "44/44 [==============================] - 8s 186ms/step - loss: 0.1189 - accuracy: 0.9690 - val_loss: 2.3130 - val_accuracy: 0.4857\n",
      "Epoch 72/100\n",
      "44/44 [==============================] - 8s 190ms/step - loss: 0.1143 - accuracy: 0.9769 - val_loss: 2.4483 - val_accuracy: 0.4457\n",
      "Epoch 73/100\n",
      "44/44 [==============================] - 8s 188ms/step - loss: 0.0896 - accuracy: 0.9827 - val_loss: 2.3550 - val_accuracy: 0.4457\n",
      "Epoch 74/100\n",
      "44/44 [==============================] - 8s 186ms/step - loss: 0.0836 - accuracy: 0.9834 - val_loss: 2.4505 - val_accuracy: 0.4286\n",
      "Epoch 75/100\n",
      "44/44 [==============================] - 8s 188ms/step - loss: 0.1029 - accuracy: 0.9791 - val_loss: 2.3216 - val_accuracy: 0.4571\n",
      "Epoch 76/100\n",
      "44/44 [==============================] - 8s 191ms/step - loss: 0.1083 - accuracy: 0.9711 - val_loss: 2.3783 - val_accuracy: 0.4514\n",
      "Epoch 77/100\n",
      "44/44 [==============================] - 8s 186ms/step - loss: 0.0882 - accuracy: 0.9812 - val_loss: 2.5444 - val_accuracy: 0.4629\n",
      "Epoch 78/100\n",
      "44/44 [==============================] - 8s 187ms/step - loss: 0.1049 - accuracy: 0.9683 - val_loss: 2.3837 - val_accuracy: 0.4629\n",
      "Epoch 79/100\n",
      "44/44 [==============================] - 8s 187ms/step - loss: 0.0911 - accuracy: 0.9812 - val_loss: 2.2561 - val_accuracy: 0.5029\n",
      "Epoch 80/100\n",
      "44/44 [==============================] - 8s 187ms/step - loss: 0.0719 - accuracy: 0.9863 - val_loss: 2.3109 - val_accuracy: 0.4686\n",
      "Epoch 81/100\n",
      "44/44 [==============================] - 9s 203ms/step - loss: 0.0834 - accuracy: 0.9827 - val_loss: 2.3822 - val_accuracy: 0.4457\n",
      "Epoch 82/100\n",
      "44/44 [==============================] - 10s 218ms/step - loss: 0.0715 - accuracy: 0.9841 - val_loss: 2.3363 - val_accuracy: 0.4514\n",
      "Epoch 83/100\n",
      "44/44 [==============================] - 8s 191ms/step - loss: 0.0675 - accuracy: 0.9856 - val_loss: 2.3875 - val_accuracy: 0.4857\n",
      "Epoch 84/100\n",
      "44/44 [==============================] - 9s 193ms/step - loss: 0.0656 - accuracy: 0.9848 - val_loss: 2.3884 - val_accuracy: 0.5029\n",
      "Epoch 85/100\n",
      "44/44 [==============================] - 9s 194ms/step - loss: 0.0730 - accuracy: 0.9827 - val_loss: 2.4704 - val_accuracy: 0.4743\n",
      "Epoch 86/100\n",
      "44/44 [==============================] - 8s 191ms/step - loss: 0.0821 - accuracy: 0.9784 - val_loss: 2.3563 - val_accuracy: 0.4800\n",
      "Epoch 87/100\n",
      "44/44 [==============================] - 8s 186ms/step - loss: 0.0725 - accuracy: 0.9827 - val_loss: 2.2828 - val_accuracy: 0.4857\n",
      "Epoch 88/100\n",
      "44/44 [==============================] - 8s 187ms/step - loss: 0.0664 - accuracy: 0.9841 - val_loss: 2.3237 - val_accuracy: 0.4571\n",
      "Epoch 89/100\n",
      "44/44 [==============================] - 8s 187ms/step - loss: 0.0664 - accuracy: 0.9856 - val_loss: 2.3842 - val_accuracy: 0.4571\n",
      "Epoch 90/100\n",
      "44/44 [==============================] - 8s 187ms/step - loss: 0.0683 - accuracy: 0.9848 - val_loss: 2.3656 - val_accuracy: 0.5086\n",
      "Epoch 91/100\n",
      "44/44 [==============================] - 8s 186ms/step - loss: 0.0688 - accuracy: 0.9841 - val_loss: 2.4518 - val_accuracy: 0.4457\n",
      "Epoch 92/100\n",
      "44/44 [==============================] - 8s 186ms/step - loss: 0.0595 - accuracy: 0.9870 - val_loss: 2.4119 - val_accuracy: 0.4743\n",
      "Epoch 93/100\n",
      "44/44 [==============================] - 8s 187ms/step - loss: 0.0533 - accuracy: 0.9877 - val_loss: 2.4165 - val_accuracy: 0.4914\n",
      "Epoch 94/100\n",
      "44/44 [==============================] - 8s 186ms/step - loss: 0.0889 - accuracy: 0.9798 - val_loss: 2.4670 - val_accuracy: 0.4629\n",
      "Epoch 95/100\n",
      "44/44 [==============================] - 8s 186ms/step - loss: 0.0623 - accuracy: 0.9885 - val_loss: 2.4229 - val_accuracy: 0.4629\n",
      "Epoch 96/100\n",
      "44/44 [==============================] - 8s 186ms/step - loss: 0.0739 - accuracy: 0.9863 - val_loss: 2.4387 - val_accuracy: 0.4629\n",
      "Epoch 97/100\n",
      "44/44 [==============================] - 8s 187ms/step - loss: 0.0760 - accuracy: 0.9834 - val_loss: 2.5738 - val_accuracy: 0.4286\n",
      "Epoch 98/100\n",
      "44/44 [==============================] - 8s 190ms/step - loss: 0.0775 - accuracy: 0.9769 - val_loss: 2.5574 - val_accuracy: 0.4629\n",
      "Epoch 99/100\n",
      "44/44 [==============================] - 8s 192ms/step - loss: 0.0671 - accuracy: 0.9812 - val_loss: 2.4764 - val_accuracy: 0.4743\n",
      "Epoch 100/100\n",
      "44/44 [==============================] - 8s 186ms/step - loss: 0.0533 - accuracy: 0.9892 - val_loss: 2.5078 - val_accuracy: 0.4629\n"
     ]
    }
   ],
   "source": [
    "epochs = 100\n",
    "batch_size = 32\n",
    "checkpoint_path = 'best_w2v_model.hdf5'\n",
    "model_checkpoint_callback = tf.keras.callbacks.ModelCheckpoint(\n",
    "    filepath=checkpoint_path,\n",
    "    save_weights_only=True,\n",
    "    monitor='val_accuracy',\n",
    "    mode='max',\n",
    "    save_best_only=True)\n",
    "\n",
    "history_w2v = model_w2v.fit(X_train, y_train, epochs = epochs, batch_size = batch_size, validation_data = (X_val, y_val),callbacks=[model_checkpoint_callback])"
   ]
  },
  {
   "cell_type": "code",
   "execution_count": 18,
   "metadata": {
    "colab": {
     "base_uri": "https://localhost:8080/"
    },
    "id": "vQ8p9Zt-Pf7D",
    "outputId": "e4b12d49-b472-4367-940b-4dc07602304b"
   },
   "outputs": [
    {
     "name": "stdout",
     "output_type": "stream",
     "text": [
      "6/6 [==============================] - 0s 40ms/step - loss: 2.3656 - accuracy: 0.5086\n"
     ]
    },
    {
     "data": {
      "text/plain": [
       "[2.365574836730957, 0.508571445941925]"
      ]
     },
     "execution_count": 18,
     "metadata": {},
     "output_type": "execute_result"
    }
   ],
   "source": [
    "model_w2v.load_weights('best_w2v_model.hdf5')\n",
    "\n",
    "model_w2v.evaluate(X_val,y_val)"
   ]
  },
  {
   "cell_type": "code",
   "execution_count": 19,
   "metadata": {
    "colab": {
     "base_uri": "https://localhost:8080/"
    },
    "id": "itAMyoD9TDz8",
    "outputId": "dc635d94-6e34-4fda-e01e-abdde8f0e4e1"
   },
   "outputs": [
    {
     "name": "stdout",
     "output_type": "stream",
     "text": [
      "6/6 [==============================] - 0s 41ms/step - loss: 2.3191 - accuracy: 0.5355\n"
     ]
    },
    {
     "data": {
      "text/plain": [
       "[2.31908917427063, 0.5355191230773926]"
      ]
     },
     "execution_count": 19,
     "metadata": {},
     "output_type": "execute_result"
    }
   ],
   "source": [
    "model_w2v.evaluate(X_test,y_test)"
   ]
  },
  {
   "cell_type": "code",
   "execution_count": 20,
   "metadata": {},
   "outputs": [],
   "source": [
    "y_test_pred = model_w2v.predict(X_test)"
   ]
  },
  {
   "cell_type": "code",
   "execution_count": 21,
   "metadata": {},
   "outputs": [
    {
     "name": "stdout",
     "output_type": "stream",
     "text": [
      "Top 1 accuracy:  0.5355191256830601\n",
      "Top 3 accuracy:  0.7486338797814208\n",
      "Top 5 accuracy:  0.819672131147541\n",
      "Precision, Recall, F-1: (0.5262265057347025, 0.5355191256830601, 0.5177966816940802, None)\n"
     ]
    },
    {
     "name": "stderr",
     "output_type": "stream",
     "text": [
      "/home/avani/.local/lib/python3.8/site-packages/sklearn/metrics/_classification.py:1308: UndefinedMetricWarning: Precision and F-score are ill-defined and being set to 0.0 in labels with no predicted samples. Use `zero_division` parameter to control this behavior.\n",
      "  _warn_prf(average, modifier, msg_start, len(result))\n"
     ]
    }
   ],
   "source": [
    "print(\"Top 1 accuracy: \", top_k_accuracy_score( y_true = y_test, y_score = y_test_pred, k=1, labels = np.array(range(0, 21, 1)) ) )\n",
    "print(\"Top 3 accuracy: \", top_k_accuracy_score( y_true = y_test, y_score = y_test_pred, k=3, labels = np.array(range(0, 21, 1)) ) )\n",
    "print(\"Top 5 accuracy: \", top_k_accuracy_score( y_true = y_test, y_score = y_test_pred, k=5, labels = np.array(range(0, 21, 1)) ) )\n",
    "    \n",
    "print(\"Precision, Recall, F-1:\", precision_recall_fscore_support(y_true = y_test, y_pred = np.argmax(y_test_pred, axis = 1), average='weighted'))"
   ]
  },
  {
   "cell_type": "code",
   "execution_count": null,
   "metadata": {},
   "outputs": [],
   "source": []
  }
 ],
 "metadata": {
  "colab": {
   "collapsed_sections": [],
   "name": "RNN_685_project.ipynb",
   "provenance": []
  },
  "kernelspec": {
   "display_name": "Python 3",
   "language": "python",
   "name": "python3"
  },
  "language_info": {
   "codemirror_mode": {
    "name": "ipython",
    "version": 3
   },
   "file_extension": ".py",
   "mimetype": "text/x-python",
   "name": "python",
   "nbconvert_exporter": "python",
   "pygments_lexer": "ipython3",
   "version": "3.8.10"
  }
 },
 "nbformat": 4,
 "nbformat_minor": 1
}
