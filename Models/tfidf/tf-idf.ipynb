{
 "cells": [
  {
   "cell_type": "code",
   "execution_count": 1,
   "metadata": {},
   "outputs": [],
   "source": [
    "import json\n",
    "\n",
    "f = open(\"full_dataset.jsonl\", \"r\")\n",
    "full_dataset = json.load(f)\n",
    "f.close()"
   ]
  },
  {
   "cell_type": "code",
   "execution_count": 2,
   "metadata": {},
   "outputs": [],
   "source": [
    "f = open(\"training_data.jsonl\", \"r\")\n",
    "training_dataset = json.load(f)\n",
    "f.close()\n",
    "\n",
    "f = open(\"test_data.jsonl\", \"r\")\n",
    "test_dataset = json.load(f)\n",
    "f.close()\n",
    "\n",
    "f = open(\"validation_data.jsonl\", \"r\")\n",
    "validation_dataset = json.load(f)\n",
    "f.close()"
   ]
  },
  {
   "cell_type": "code",
   "execution_count": 3,
   "metadata": {},
   "outputs": [
    {
     "name": "stdout",
     "output_type": "stream",
     "text": [
      "\n",
      " Validation Accuracy:  0.3942857142857143\n",
      "\n",
      " Test Accuracy:  0.366120218579235\n",
      "\n",
      "Classification Report for Validation Data\n",
      "======================================================\n",
      "\n",
      "                                                                    precision    recall  f1-score   support\n",
      "\n",
      "computational social science, social media and cultural analytics       0.00      0.00      0.00         6\n",
      "                                 dialogue and interactive systems       0.78      0.93      0.85        15\n",
      "                                         discourse and pragmatics       0.00      0.00      0.00         3\n",
      "                                                    ethics in nlp       0.00      0.00      0.00         2\n",
      "                                                       generation       0.00      0.00      0.00        11\n",
      "                information extraction, retrieval and text mining       0.34      1.00      0.51        17\n",
      "                  interpretability and analysis of models for nlp       0.00      0.00      0.00         5\n",
      "                language grounding to vision, robotics and beyond       0.00      0.00      0.00         6\n",
      "    linguistic theories, cognitive modeling and psycholinguistics       0.00      0.00      0.00         4\n",
      "                                         machine learning for nlp       0.32      0.59      0.42        17\n",
      "                          machine translation and multilinguality       0.36      1.00      0.53        19\n",
      "                                                 nlp applications       0.00      0.00      0.00        11\n",
      "                      phonology, morphology and word segmentation       0.00      0.00      0.00         2\n",
      "                                               question answering       1.00      0.20      0.33        10\n",
      "                                         resources and evaluation       0.00      0.00      0.00         9\n",
      "                                                        semantics       0.33      0.41      0.37        17\n",
      "      sentiment analysis, stylistic analysis, and argument mining       0.00      0.00      0.00         8\n",
      "                                         speech and multimodality       0.00      0.00      0.00         2\n",
      "                                                    summarization       0.00      0.00      0.00         6\n",
      "                            tagging, chunking, syntax and parsing       0.00      0.00      0.00         5\n",
      "\n",
      "                                                         accuracy                           0.39       175\n",
      "                                                        macro avg       0.16      0.21      0.15       175\n",
      "                                                     weighted avg       0.26      0.39      0.27       175\n",
      "\n",
      "\n",
      "Classification Report for Test Data\n",
      "======================================================\n",
      "\n",
      "                                                                    precision    recall  f1-score   support\n",
      "\n",
      "computational social science, social media and cultural analytics       0.00      0.00      0.00         7\n",
      "                                 dialogue and interactive systems       0.71      0.80      0.75        15\n",
      "                                         discourse and pragmatics       0.00      0.00      0.00         4\n",
      "                                                    ethics in nlp       0.00      0.00      0.00         2\n",
      "                                                       generation       1.00      0.18      0.31        11\n",
      "                information extraction, retrieval and text mining       0.38      0.89      0.53        18\n",
      "                  interpretability and analysis of models for nlp       0.00      0.00      0.00         5\n",
      "                language grounding to vision, robotics and beyond       0.00      0.00      0.00         6\n",
      "    linguistic theories, cognitive modeling and psycholinguistics       0.00      0.00      0.00         4\n",
      "                                         machine learning for nlp       0.36      0.53      0.43        17\n",
      "                          machine translation and multilinguality       0.28      1.00      0.44        19\n",
      "                                                 nlp applications       0.00      0.00      0.00        11\n",
      "                      phonology, morphology and word segmentation       0.00      0.00      0.00         3\n",
      "                                               question answering       0.00      0.00      0.00        10\n",
      "                                         resources and evaluation       0.00      0.00      0.00        10\n",
      "                                                        semantics       0.30      0.53      0.38        17\n",
      "      sentiment analysis, stylistic analysis, and argument mining       0.00      0.00      0.00         8\n",
      "                                         speech and multimodality       0.00      0.00      0.00         3\n",
      "                                                    summarization       0.00      0.00      0.00         7\n",
      "                            tagging, chunking, syntax and parsing       0.00      0.00      0.00         6\n",
      "\n",
      "                                                         accuracy                           0.37       183\n",
      "                                                        macro avg       0.15      0.20      0.14       183\n",
      "                                                     weighted avg       0.25      0.37      0.25       183\n",
      "\n"
     ]
    },
    {
     "name": "stderr",
     "output_type": "stream",
     "text": [
      "C:\\Users\\arbaa\\anaconda3\\lib\\site-packages\\sklearn\\metrics\\_classification.py:1245: UndefinedMetricWarning: Precision and F-score are ill-defined and being set to 0.0 in labels with no predicted samples. Use `zero_division` parameter to control this behavior.\n",
      "  _warn_prf(average, modifier, msg_start, len(result))\n",
      "C:\\Users\\arbaa\\anaconda3\\lib\\site-packages\\sklearn\\metrics\\_classification.py:1245: UndefinedMetricWarning: Precision and F-score are ill-defined and being set to 0.0 in labels with no predicted samples. Use `zero_division` parameter to control this behavior.\n",
      "  _warn_prf(average, modifier, msg_start, len(result))\n",
      "C:\\Users\\arbaa\\anaconda3\\lib\\site-packages\\sklearn\\metrics\\_classification.py:1245: UndefinedMetricWarning: Precision and F-score are ill-defined and being set to 0.0 in labels with no predicted samples. Use `zero_division` parameter to control this behavior.\n",
      "  _warn_prf(average, modifier, msg_start, len(result))\n",
      "C:\\Users\\arbaa\\anaconda3\\lib\\site-packages\\sklearn\\metrics\\_classification.py:1245: UndefinedMetricWarning: Precision and F-score are ill-defined and being set to 0.0 in labels with no predicted samples. Use `zero_division` parameter to control this behavior.\n",
      "  _warn_prf(average, modifier, msg_start, len(result))\n",
      "C:\\Users\\arbaa\\anaconda3\\lib\\site-packages\\sklearn\\metrics\\_classification.py:1245: UndefinedMetricWarning: Precision and F-score are ill-defined and being set to 0.0 in labels with no predicted samples. Use `zero_division` parameter to control this behavior.\n",
      "  _warn_prf(average, modifier, msg_start, len(result))\n",
      "C:\\Users\\arbaa\\anaconda3\\lib\\site-packages\\sklearn\\metrics\\_classification.py:1245: UndefinedMetricWarning: Precision and F-score are ill-defined and being set to 0.0 in labels with no predicted samples. Use `zero_division` parameter to control this behavior.\n",
      "  _warn_prf(average, modifier, msg_start, len(result))\n"
     ]
    }
   ],
   "source": [
    "from sklearn.feature_extraction.text import TfidfVectorizer\n",
    "from sklearn.naive_bayes import MultinomialNB\n",
    "from sklearn.model_selection import train_test_split\n",
    "from sklearn.metrics import accuracy_score, classification_report\n",
    "\n",
    "tfidf = TfidfVectorizer()\n",
    "X_train = [x[0][0] + ' ' + x[0][2] for x in training_dataset]\n",
    "X_val = [x[0][0] + ' ' + x[0][2] for x in validation_dataset]\n",
    "X_test = [x[0][0] + ' ' + x[0][2] for x in test_dataset]\n",
    "\n",
    "X = tfidf.fit_transform(X_train)\n",
    "\n",
    "y_train = [x[1] for x in training_dataset]\n",
    "y_val = [x[1] for x in validation_dataset]\n",
    "y_test = [x[1] for x in test_dataset]\n",
    "\n",
    "#print(\"Train length: \", (X[:1386].shape))\n",
    "#print(\"Validation length: \", (X[1386:1561].shape))\n",
    "#print(\"Test length: \", (X[1561:].shape))\n",
    "\n",
    "classifier = MultinomialNB()\n",
    "classifier.fit(X, y_train)\n",
    "\n",
    "X_val_vec = tfidf.transform(X_val)\n",
    "y_val_pred = classifier.predict(X_val_vec)\n",
    "classification_report_val = classification_report(y_val, y_val_pred)\n",
    "\n",
    "X_test_vec = tfidf.transform(X_test)\n",
    "y_test_pred = classifier.predict(X_test_vec)\n",
    "classification_report_test = classification_report(y_test, y_test_pred)\n",
    "\n",
    "print('\\n Validation Accuracy: ', accuracy_score(y_val, y_val_pred))\n",
    "print('\\n Test Accuracy: ', accuracy_score(y_test, y_test_pred))\n",
    "print('\\nClassification Report for Validation Data')\n",
    "print('======================================================')\n",
    "print('\\n', classification_report_val)\n",
    "print('\\nClassification Report for Test Data')\n",
    "print('======================================================')\n",
    "print('\\n', classification_report_test)"
   ]
  },
  {
   "cell_type": "code",
   "execution_count": 4,
   "metadata": {},
   "outputs": [],
   "source": [
    "from sklearn.metrics import precision_recall_fscore_support, top_k_accuracy_score"
   ]
  },
  {
   "cell_type": "code",
   "execution_count": 5,
   "metadata": {},
   "outputs": [
    {
     "name": "stdout",
     "output_type": "stream",
     "text": [
      "(183, 20)\n",
      "Top 1 accuracy:  0.366120218579235\n",
      "Top 3 accuracy:  0.4918032786885246\n",
      "Top 5 accuracy:  0.5683060109289617\n",
      "Precision, Recall, F-1: (0.24619364946859587, 0.366120218579235, 0.2536957202481493, None)\n"
     ]
    },
    {
     "name": "stderr",
     "output_type": "stream",
     "text": [
      "C:\\Users\\arbaa\\anaconda3\\lib\\site-packages\\sklearn\\metrics\\_classification.py:1245: UndefinedMetricWarning: Precision and F-score are ill-defined and being set to 0.0 in labels with no predicted samples. Use `zero_division` parameter to control this behavior.\n",
      "  _warn_prf(average, modifier, msg_start, len(result))\n"
     ]
    }
   ],
   "source": [
    "all_logits = classifier.predict_proba(X_test_vec)\n",
    "print(all_logits.shape)\n",
    "print(\"Top 1 accuracy: \", top_k_accuracy_score( y_true = y_test, y_score = all_logits, k=1) )\n",
    "print(\"Top 3 accuracy: \", top_k_accuracy_score( y_true = y_test, y_score = all_logits, k=3) )\n",
    "print(\"Top 5 accuracy: \", top_k_accuracy_score( y_true = y_test, y_score = all_logits, k=5) )\n",
    "    \n",
    "print(\"Precision, Recall, F-1:\", precision_recall_fscore_support(y_true = y_test, y_pred = y_test_pred, average='weighted'))"
   ]
  },
  {
   "cell_type": "code",
   "execution_count": null,
   "metadata": {},
   "outputs": [],
   "source": []
  }
 ],
 "metadata": {
  "kernelspec": {
   "display_name": "Python 3",
   "language": "python",
   "name": "python3"
  },
  "language_info": {
   "codemirror_mode": {
    "name": "ipython",
    "version": 3
   },
   "file_extension": ".py",
   "mimetype": "text/x-python",
   "name": "python",
   "nbconvert_exporter": "python",
   "pygments_lexer": "ipython3",
   "version": "3.8.8"
  }
 },
 "nbformat": 4,
 "nbformat_minor": 2
}
