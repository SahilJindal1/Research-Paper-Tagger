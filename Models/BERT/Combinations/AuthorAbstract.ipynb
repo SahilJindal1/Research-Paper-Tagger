{
 "cells": [
  {
   "cell_type": "code",
   "execution_count": 1,
   "id": "9cc28d1d",
   "metadata": {},
   "outputs": [],
   "source": [
    "import os\n",
    "import zipfile\n",
    "import json\n",
    "import random\n",
    "from tqdm import tqdm\n",
    "import plotly\n",
    "import plotly.express as px\n",
    "import plotly.graph_objects as go\n",
    "\n",
    "import numpy as np\n",
    "import pandas as pd\n",
    "\n",
    "from helpers import tokenize_and_format, flat_accuracy\n",
    "\n",
    "import torch\n",
    "import torch.nn as nn\n",
    "import torch.nn.functional as F\n",
    "from transformers import BertForSequenceClassification, AdamW, BertConfig, get_linear_schedule_with_warmup"
   ]
  },
  {
   "cell_type": "code",
   "execution_count": 2,
   "id": "cac15081",
   "metadata": {},
   "outputs": [
    {
     "name": "stdout",
     "output_type": "stream",
     "text": [
      "Found device: NVIDIA GeForce RTX 2060 with Max-Q Design, n_gpu: 1\n"
     ]
    }
   ],
   "source": [
    "random.seed(0)\n",
    "np.random.seed(0)\n",
    "\n",
    "torch.manual_seed(0)\n",
    "torch.use_deterministic_algorithms(False)\n",
    "# Confirm that the GPU is detected\n",
    "\n",
    "assert torch.cuda.is_available()\n",
    "\n",
    "# Get the GPU device name.\n",
    "device_name = torch.cuda.get_device_name()\n",
    "n_gpu = torch.cuda.device_count()\n",
    "print(f\"Found device: {device_name}, n_gpu: {n_gpu}\")\n",
    "device = torch.device(\"cuda\")"
   ]
  },
  {
   "cell_type": "markdown",
   "id": "6c7a23be",
   "metadata": {},
   "source": [
    "### Load data"
   ]
  },
  {
   "cell_type": "code",
   "execution_count": 3,
   "id": "22febb40",
   "metadata": {},
   "outputs": [],
   "source": [
    "authors_train = torch.load(\"Data/BERT output/authors_train.pt\")\n",
    "authors_val = torch.load(\"Data/BERT output/authors_val.pt\")\n",
    "authors_test = torch.load(\"Data/BERT output/authors_test.pt\")\n",
    "\n",
    "abstract_train = torch.load(\"Data/BERT output/abstract_train.pt\")\n",
    "abstract_val = torch.load(\"Data/BERT output/abstract_val.pt\")\n",
    "abstract_test = torch.load(\"Data/BERT output/abstract_test.pt\")"
   ]
  },
  {
   "cell_type": "code",
   "execution_count": 4,
   "id": "7b8bbbff",
   "metadata": {},
   "outputs": [],
   "source": [
    "training_inputs = torch.cat([authors_train, abstract_train], dim = 1)\n",
    "validation_inputs = torch.cat([authors_val, abstract_val], dim = 1)\n",
    "test_inputs = torch.cat([authors_test, abstract_test], dim = 1)"
   ]
  },
  {
   "cell_type": "code",
   "execution_count": 5,
   "id": "2b11cccf",
   "metadata": {},
   "outputs": [],
   "source": [
    "with open(\"Data/Raw data/training_data.jsonl\", \"r\") as f:\n",
    "    training_data = json.load(f)\n",
    "    \n",
    "with open(\"Data/Raw data/validation_data.jsonl\", \"r\") as f:\n",
    "    validation_data = json.load(f)\n",
    "    \n",
    "with open(\"Data/Raw data/test_data.jsonl\", \"r\") as f:\n",
    "    test_data = json.load(f)\n",
    "\n",
    "with open(\"Data/Metadata/label_string_to_ID.jsonl\", \"r\") as f:\n",
    "    label_string_to_ID = json.load(f)\n",
    "    \n",
    "with open(\"Data/Metadata/label_ID_to_string.jsonl\", \"r\") as f:\n",
    "    label_ID_to_string = json.load(f)\n",
    "\n",
    "training_label_strings = []\n",
    "validation_label_strings = []\n",
    "test_label_strings = []\n",
    "\n",
    "for training_example in training_data:\n",
    "    training_label_strings.append(training_example[1])\n",
    "    \n",
    "for validation_example in validation_data:\n",
    "    validation_label_strings.append(validation_example[1])\n",
    "    \n",
    "for test_example in test_data:\n",
    "    test_label_strings.append(test_example[1])\n",
    "    \n",
    "training_label_IDs = []\n",
    "validation_label_IDs = []\n",
    "test_label_IDs = []\n",
    "\n",
    "for training_label_string in training_label_strings:\n",
    "    training_label_IDs.append(label_string_to_ID[training_label_string])\n",
    "    \n",
    "for validation_label_string in validation_label_strings:\n",
    "    validation_label_IDs.append(label_string_to_ID[validation_label_string])\n",
    "    \n",
    "for test_label_string in test_label_strings:\n",
    "    test_label_IDs.append(label_string_to_ID[test_label_string])\n",
    "    \n",
    "training_label_IDs = torch.tensor(training_label_IDs)\n",
    "validation_label_IDs = torch.tensor(validation_label_IDs)\n",
    "test_label_IDs = torch.tensor(test_label_IDs)"
   ]
  },
  {
   "cell_type": "markdown",
   "id": "3313ae70",
   "metadata": {},
   "source": [
    "### Train the deep classifier"
   ]
  },
  {
   "cell_type": "code",
   "execution_count": 7,
   "id": "af498eb5",
   "metadata": {
    "scrolled": true
   },
   "outputs": [
    {
     "name": "stdout",
     "output_type": "stream",
     "text": [
      "\n",
      "======== Epoch 1 / 200 ========\n",
      "Training...\n"
     ]
    },
    {
     "name": "stderr",
     "output_type": "stream",
     "text": [
      "  0%|                                                                                           | 0/87 [00:00<?, ?it/s]C:\\Users\\arbaa\\AppData\\Local\\Temp/ipykernel_1260/2077003762.py:20: UserWarning:\n",
      "\n",
      "Implicit dimension choice for softmax has been deprecated. Change the call to include dim=X as an argument.\n",
      "\n",
      "100%|█████████████████████████████████████████████████████████████████████████████████| 87/87 [00:00<00:00, 176.83it/s]\n"
     ]
    },
    {
     "name": "stdout",
     "output_type": "stream",
     "text": [
      "Total loss: 192.68827724456787\n",
      "Validation accuracy: 0.5\n",
      "\n",
      "======== Epoch 2 / 200 ========\n",
      "Training...\n"
     ]
    },
    {
     "name": "stderr",
     "output_type": "stream",
     "text": [
      "100%|█████████████████████████████████████████████████████████████████████████████████| 87/87 [00:00<00:00, 480.67it/s]\n"
     ]
    },
    {
     "name": "stdout",
     "output_type": "stream",
     "text": [
      "Total loss: 181.2205319404602\n",
      "Validation accuracy: 0.5\n",
      "\n",
      "======== Epoch 3 / 200 ========\n",
      "Training...\n"
     ]
    },
    {
     "name": "stderr",
     "output_type": "stream",
     "text": [
      "100%|█████████████████████████████████████████████████████████████████████████████████| 87/87 [00:00<00:00, 520.97it/s]\n"
     ]
    },
    {
     "name": "stdout",
     "output_type": "stream",
     "text": [
      "Total loss: 180.9529230594635\n",
      "Validation accuracy: 0.5\n",
      "\n",
      "======== Epoch 4 / 200 ========\n",
      "Training...\n"
     ]
    },
    {
     "name": "stderr",
     "output_type": "stream",
     "text": [
      "100%|█████████████████████████████████████████████████████████████████████████████████| 87/87 [00:00<00:00, 569.75it/s]\n"
     ]
    },
    {
     "name": "stdout",
     "output_type": "stream",
     "text": [
      "Total loss: 180.94947624206543\n",
      "Validation accuracy: 0.5\n",
      "\n",
      "======== Epoch 5 / 200 ========\n",
      "Training...\n"
     ]
    },
    {
     "name": "stderr",
     "output_type": "stream",
     "text": [
      "100%|█████████████████████████████████████████████████████████████████████████████████| 87/87 [00:00<00:00, 554.15it/s]\n"
     ]
    },
    {
     "name": "stdout",
     "output_type": "stream",
     "text": [
      "Total loss: 180.9234263896942\n",
      "Validation accuracy: 0.5\n",
      "\n",
      "======== Epoch 6 / 200 ========\n",
      "Training...\n"
     ]
    },
    {
     "name": "stderr",
     "output_type": "stream",
     "text": [
      "100%|█████████████████████████████████████████████████████████████████████████████████| 87/87 [00:00<00:00, 564.95it/s]\n"
     ]
    },
    {
     "name": "stdout",
     "output_type": "stream",
     "text": [
      "Total loss: 180.93794345855713\n",
      "Validation accuracy: 0.5\n",
      "\n",
      "======== Epoch 7 / 200 ========\n",
      "Training...\n"
     ]
    },
    {
     "name": "stderr",
     "output_type": "stream",
     "text": [
      "100%|█████████████████████████████████████████████████████████████████████████████████| 87/87 [00:00<00:00, 580.02it/s]\n"
     ]
    },
    {
     "name": "stdout",
     "output_type": "stream",
     "text": [
      "Total loss: 180.9285387992859\n",
      "Validation accuracy: 0.5\n",
      "\n",
      "======== Epoch 8 / 200 ========\n",
      "Training...\n"
     ]
    },
    {
     "name": "stderr",
     "output_type": "stream",
     "text": [
      "100%|█████████████████████████████████████████████████████████████████████████████████| 87/87 [00:00<00:00, 568.64it/s]\n"
     ]
    },
    {
     "name": "stdout",
     "output_type": "stream",
     "text": [
      "Total loss: 180.88704085350037\n",
      "Validation accuracy: 0.5\n",
      "\n",
      "======== Epoch 9 / 200 ========\n",
      "Training...\n"
     ]
    },
    {
     "name": "stderr",
     "output_type": "stream",
     "text": [
      "100%|█████████████████████████████████████████████████████████████████████████████████| 87/87 [00:00<00:00, 587.85it/s]\n"
     ]
    },
    {
     "name": "stdout",
     "output_type": "stream",
     "text": [
      "Total loss: 180.87438011169434\n",
      "Validation accuracy: 0.5\n",
      "\n",
      "======== Epoch 10 / 200 ========\n",
      "Training...\n"
     ]
    },
    {
     "name": "stderr",
     "output_type": "stream",
     "text": [
      "100%|█████████████████████████████████████████████████████████████████████████████████| 87/87 [00:00<00:00, 580.02it/s]\n"
     ]
    },
    {
     "name": "stdout",
     "output_type": "stream",
     "text": [
      "Total loss: 180.8772313594818\n",
      "Validation accuracy: 0.5\n",
      "\n",
      "======== Epoch 11 / 200 ========\n",
      "Training...\n"
     ]
    },
    {
     "name": "stderr",
     "output_type": "stream",
     "text": [
      "100%|█████████████████████████████████████████████████████████████████████████████████| 87/87 [00:00<00:00, 576.17it/s]\n"
     ]
    },
    {
     "name": "stdout",
     "output_type": "stream",
     "text": [
      "Total loss: 180.87934017181396\n",
      "Validation accuracy: 0.5\n",
      "\n",
      "======== Epoch 12 / 200 ========\n",
      "Training...\n"
     ]
    },
    {
     "name": "stderr",
     "output_type": "stream",
     "text": [
      "100%|█████████████████████████████████████████████████████████████████████████████████| 87/87 [00:00<00:00, 583.91it/s]\n"
     ]
    },
    {
     "name": "stdout",
     "output_type": "stream",
     "text": [
      "Total loss: 180.87610006332397\n",
      "Validation accuracy: 0.5\n",
      "\n",
      "======== Epoch 13 / 200 ========\n",
      "Training...\n"
     ]
    },
    {
     "name": "stderr",
     "output_type": "stream",
     "text": [
      "100%|█████████████████████████████████████████████████████████████████████████████████| 87/87 [00:00<00:00, 576.17it/s]\n"
     ]
    },
    {
     "name": "stdout",
     "output_type": "stream",
     "text": [
      "Total loss: 180.87181091308594\n",
      "Validation accuracy: 0.5\n",
      "\n",
      "======== Epoch 14 / 200 ========\n",
      "Training...\n"
     ]
    },
    {
     "name": "stderr",
     "output_type": "stream",
     "text": [
      "100%|█████████████████████████████████████████████████████████████████████████████████| 87/87 [00:00<00:00, 583.91it/s]\n"
     ]
    },
    {
     "name": "stdout",
     "output_type": "stream",
     "text": [
      "Total loss: 180.88937330245972\n",
      "Validation accuracy: 0.5\n",
      "\n",
      "======== Epoch 15 / 200 ========\n",
      "Training...\n"
     ]
    },
    {
     "name": "stderr",
     "output_type": "stream",
     "text": [
      "100%|█████████████████████████████████████████████████████████████████████████████████| 87/87 [00:00<00:00, 617.03it/s]\n"
     ]
    },
    {
     "name": "stdout",
     "output_type": "stream",
     "text": [
      "Total loss: 180.9243528842926\n",
      "Validation accuracy: 0.5\n",
      "\n",
      "======== Epoch 16 / 200 ========\n",
      "Training...\n"
     ]
    },
    {
     "name": "stderr",
     "output_type": "stream",
     "text": [
      "100%|█████████████████████████████████████████████████████████████████████████████████| 87/87 [00:00<00:00, 600.00it/s]\n"
     ]
    },
    {
     "name": "stdout",
     "output_type": "stream",
     "text": [
      "Total loss: 180.86882376670837\n",
      "Validation accuracy: 0.5\n",
      "\n",
      "======== Epoch 17 / 200 ========\n",
      "Training...\n"
     ]
    },
    {
     "name": "stderr",
     "output_type": "stream",
     "text": [
      "100%|█████████████████████████████████████████████████████████████████████████████████| 87/87 [00:00<00:00, 583.91it/s]\n"
     ]
    },
    {
     "name": "stdout",
     "output_type": "stream",
     "text": [
      "Total loss: 180.90182852745056\n",
      "Validation accuracy: 0.5\n",
      "\n",
      "======== Epoch 18 / 200 ========\n",
      "Training...\n"
     ]
    },
    {
     "name": "stderr",
     "output_type": "stream",
     "text": [
      "100%|█████████████████████████████████████████████████████████████████████████████████| 87/87 [00:00<00:00, 583.91it/s]\n"
     ]
    },
    {
     "name": "stdout",
     "output_type": "stream",
     "text": [
      "Total loss: 180.87462186813354\n",
      "Validation accuracy: 0.5\n",
      "\n",
      "======== Epoch 19 / 200 ========\n",
      "Training...\n"
     ]
    },
    {
     "name": "stderr",
     "output_type": "stream",
     "text": [
      "100%|█████████████████████████████████████████████████████████████████████████████████| 87/87 [00:00<00:00, 587.86it/s]\n"
     ]
    },
    {
     "name": "stdout",
     "output_type": "stream",
     "text": [
      "Total loss: 180.8821897506714\n",
      "Validation accuracy: 0.5\n",
      "\n",
      "======== Epoch 20 / 200 ========\n",
      "Training...\n"
     ]
    },
    {
     "name": "stderr",
     "output_type": "stream",
     "text": [
      "100%|█████████████████████████████████████████████████████████████████████████████████| 87/87 [00:00<00:00, 595.91it/s]\n"
     ]
    },
    {
     "name": "stdout",
     "output_type": "stream",
     "text": [
      "Total loss: 180.8662347793579\n",
      "Validation accuracy: 0.5\n",
      "\n",
      "======== Epoch 21 / 200 ========\n",
      "Training...\n"
     ]
    },
    {
     "name": "stderr",
     "output_type": "stream",
     "text": [
      "100%|█████████████████████████████████████████████████████████████████████████████████| 87/87 [00:00<00:00, 557.71it/s]\n"
     ]
    },
    {
     "name": "stdout",
     "output_type": "stream",
     "text": [
      "Total loss: 180.8723521232605\n",
      "Validation accuracy: 0.5\n",
      "\n",
      "======== Epoch 22 / 200 ========\n",
      "Training...\n"
     ]
    },
    {
     "name": "stderr",
     "output_type": "stream",
     "text": [
      "100%|█████████████████████████████████████████████████████████████████████████████████| 87/87 [00:00<00:00, 576.17it/s]\n"
     ]
    },
    {
     "name": "stdout",
     "output_type": "stream",
     "text": [
      "Total loss: 180.86461472511292\n",
      "Validation accuracy: 0.5\n",
      "\n",
      "======== Epoch 23 / 200 ========\n",
      "Training...\n"
     ]
    },
    {
     "name": "stderr",
     "output_type": "stream",
     "text": [
      "100%|█████████████████████████████████████████████████████████████████████████████████| 87/87 [00:00<00:00, 617.04it/s]\n"
     ]
    },
    {
     "name": "stdout",
     "output_type": "stream",
     "text": [
      "Total loss: 180.8636119365692\n",
      "Validation accuracy: 0.5\n",
      "\n",
      "======== Epoch 24 / 200 ========\n",
      "Training...\n"
     ]
    },
    {
     "name": "stderr",
     "output_type": "stream",
     "text": [
      "100%|█████████████████████████████████████████████████████████████████████████████████| 87/87 [00:00<00:00, 580.02it/s]\n"
     ]
    },
    {
     "name": "stdout",
     "output_type": "stream",
     "text": [
      "Total loss: 180.8637375831604\n",
      "Validation accuracy: 0.5\n",
      "\n",
      "======== Epoch 25 / 200 ========\n",
      "Training...\n"
     ]
    },
    {
     "name": "stderr",
     "output_type": "stream",
     "text": [
      "100%|█████████████████████████████████████████████████████████████████████████████████| 87/87 [00:00<00:00, 576.18it/s]\n"
     ]
    },
    {
     "name": "stdout",
     "output_type": "stream",
     "text": [
      "Total loss: 180.86567497253418\n",
      "Validation accuracy: 0.5\n",
      "\n",
      "======== Epoch 26 / 200 ========\n",
      "Training...\n"
     ]
    },
    {
     "name": "stderr",
     "output_type": "stream",
     "text": [
      "100%|█████████████████████████████████████████████████████████████████████████████████| 87/87 [00:00<00:00, 580.02it/s]\n"
     ]
    },
    {
     "name": "stdout",
     "output_type": "stream",
     "text": [
      "Total loss: 180.86817479133606\n",
      "Validation accuracy: 0.5\n",
      "\n",
      "======== Epoch 27 / 200 ========\n",
      "Training...\n"
     ]
    },
    {
     "name": "stderr",
     "output_type": "stream",
     "text": [
      "100%|█████████████████████████████████████████████████████████████████████████████████| 87/87 [00:00<00:00, 608.41it/s]\n"
     ]
    },
    {
     "name": "stdout",
     "output_type": "stream",
     "text": [
      "Total loss: 180.87712788581848\n",
      "Validation accuracy: 0.5\n",
      "\n",
      "======== Epoch 28 / 200 ========\n",
      "Training...\n"
     ]
    },
    {
     "name": "stderr",
     "output_type": "stream",
     "text": [
      "100%|█████████████████████████████████████████████████████████████████████████████████| 87/87 [00:00<00:00, 583.91it/s]\n"
     ]
    },
    {
     "name": "stdout",
     "output_type": "stream",
     "text": [
      "Total loss: 180.90241146087646\n",
      "Validation accuracy: 0.5\n",
      "\n",
      "======== Epoch 29 / 200 ========\n",
      "Training...\n"
     ]
    },
    {
     "name": "stderr",
     "output_type": "stream",
     "text": [
      "100%|█████████████████████████████████████████████████████████████████████████████████| 87/87 [00:00<00:00, 608.41it/s]\n"
     ]
    },
    {
     "name": "stdout",
     "output_type": "stream",
     "text": [
      "Total loss: 180.8761956691742\n",
      "Validation accuracy: 0.5\n",
      "\n",
      "======== Epoch 30 / 200 ========\n",
      "Training...\n"
     ]
    },
    {
     "name": "stderr",
     "output_type": "stream",
     "text": [
      "100%|█████████████████████████████████████████████████████████████████████████████████| 87/87 [00:00<00:00, 583.91it/s]\n"
     ]
    },
    {
     "name": "stdout",
     "output_type": "stream",
     "text": [
      "Total loss: 180.8639781475067\n",
      "Validation accuracy: 0.5\n",
      "\n",
      "======== Epoch 31 / 200 ========\n",
      "Training...\n"
     ]
    },
    {
     "name": "stderr",
     "output_type": "stream",
     "text": [
      "100%|█████████████████████████████████████████████████████████████████████████████████| 87/87 [00:00<00:00, 587.85it/s]\n"
     ]
    },
    {
     "name": "stdout",
     "output_type": "stream",
     "text": [
      "Total loss: 180.86465883255005\n",
      "Validation accuracy: 0.5\n",
      "\n",
      "======== Epoch 32 / 200 ========\n",
      "Training...\n"
     ]
    },
    {
     "name": "stderr",
     "output_type": "stream",
     "text": [
      "100%|█████████████████████████████████████████████████████████████████████████████████| 87/87 [00:00<00:00, 576.17it/s]\n"
     ]
    },
    {
     "name": "stdout",
     "output_type": "stream",
     "text": [
      "Total loss: 180.86783289909363\n",
      "Validation accuracy: 0.5\n",
      "\n",
      "======== Epoch 33 / 200 ========\n",
      "Training...\n"
     ]
    },
    {
     "name": "stderr",
     "output_type": "stream",
     "text": [
      "100%|█████████████████████████████████████████████████████████████████████████████████| 87/87 [00:00<00:00, 608.41it/s]\n"
     ]
    },
    {
     "name": "stdout",
     "output_type": "stream",
     "text": [
      "Total loss: 180.8645875453949\n",
      "Validation accuracy: 0.5\n",
      "\n",
      "======== Epoch 34 / 200 ========\n",
      "Training...\n"
     ]
    },
    {
     "name": "stderr",
     "output_type": "stream",
     "text": [
      "100%|█████████████████████████████████████████████████████████████████████████████████| 87/87 [00:00<00:00, 604.20it/s]\n"
     ]
    },
    {
     "name": "stdout",
     "output_type": "stream",
     "text": [
      "Total loss: 180.8651683330536\n",
      "Validation accuracy: 0.5\n",
      "\n",
      "======== Epoch 35 / 200 ========\n",
      "Training...\n"
     ]
    },
    {
     "name": "stderr",
     "output_type": "stream",
     "text": [
      "100%|█████████████████████████████████████████████████████████████████████████████████| 87/87 [00:00<00:00, 557.70it/s]\n"
     ]
    },
    {
     "name": "stdout",
     "output_type": "stream",
     "text": [
      "Total loss: 180.8654010295868\n",
      "Validation accuracy: 0.5\n",
      "\n",
      "======== Epoch 36 / 200 ========\n",
      "Training...\n"
     ]
    },
    {
     "name": "stderr",
     "output_type": "stream",
     "text": [
      "100%|█████████████████████████████████████████████████████████████████████████████████| 87/87 [00:00<00:00, 591.85it/s]\n"
     ]
    },
    {
     "name": "stdout",
     "output_type": "stream",
     "text": [
      "Total loss: 180.86343502998352\n",
      "Validation accuracy: 0.5\n",
      "\n",
      "======== Epoch 37 / 200 ========\n",
      "Training...\n"
     ]
    },
    {
     "name": "stderr",
     "output_type": "stream",
     "text": [
      "100%|█████████████████████████████████████████████████████████████████████████████████| 87/87 [00:00<00:00, 600.02it/s]\n"
     ]
    },
    {
     "name": "stdout",
     "output_type": "stream",
     "text": [
      "Total loss: 180.86235642433167\n",
      "Validation accuracy: 0.5\n",
      "\n",
      "======== Epoch 38 / 200 ========\n",
      "Training...\n"
     ]
    },
    {
     "name": "stderr",
     "output_type": "stream",
     "text": [
      "100%|█████████████████████████████████████████████████████████████████████████████████| 87/87 [00:00<00:00, 568.65it/s]\n"
     ]
    },
    {
     "name": "stdout",
     "output_type": "stream",
     "text": [
      "Total loss: 180.9480962753296\n",
      "Validation accuracy: 0.5\n",
      "\n",
      "======== Epoch 39 / 200 ========\n",
      "Training...\n"
     ]
    },
    {
     "name": "stderr",
     "output_type": "stream",
     "text": [
      "100%|█████████████████████████████████████████████████████████████████████████████████| 87/87 [00:00<00:00, 572.39it/s]\n"
     ]
    },
    {
     "name": "stdout",
     "output_type": "stream",
     "text": [
      "Total loss: 180.87364959716797\n",
      "Validation accuracy: 0.5\n",
      "\n",
      "======== Epoch 40 / 200 ========\n",
      "Training...\n"
     ]
    },
    {
     "name": "stderr",
     "output_type": "stream",
     "text": [
      "100%|█████████████████████████████████████████████████████████████████████████████████| 87/87 [00:00<00:00, 591.86it/s]\n"
     ]
    },
    {
     "name": "stdout",
     "output_type": "stream",
     "text": [
      "Total loss: 180.87972331047058\n",
      "Validation accuracy: 0.5\n",
      "\n",
      "======== Epoch 41 / 200 ========\n",
      "Training...\n"
     ]
    },
    {
     "name": "stderr",
     "output_type": "stream",
     "text": [
      "100%|█████████████████████████████████████████████████████████████████████████████████| 87/87 [00:00<00:00, 583.91it/s]\n"
     ]
    },
    {
     "name": "stdout",
     "output_type": "stream",
     "text": [
      "Total loss: 180.87164306640625\n",
      "Validation accuracy: 0.5\n",
      "\n",
      "======== Epoch 42 / 200 ========\n",
      "Training...\n"
     ]
    },
    {
     "name": "stderr",
     "output_type": "stream",
     "text": [
      "100%|█████████████████████████████████████████████████████████████████████████████████| 87/87 [00:00<00:00, 550.64it/s]\n"
     ]
    },
    {
     "name": "stdout",
     "output_type": "stream",
     "text": [
      "Total loss: 180.86365008354187\n",
      "Validation accuracy: 0.5\n",
      "\n",
      "======== Epoch 43 / 200 ========\n",
      "Training...\n"
     ]
    },
    {
     "name": "stderr",
     "output_type": "stream",
     "text": [
      "100%|█████████████████████████████████████████████████████████████████████████████████| 87/87 [00:00<00:00, 591.86it/s]\n"
     ]
    },
    {
     "name": "stdout",
     "output_type": "stream",
     "text": [
      "Total loss: 180.88044786453247\n",
      "Validation accuracy: 0.5\n",
      "\n",
      "======== Epoch 44 / 200 ========\n",
      "Training...\n"
     ]
    },
    {
     "name": "stderr",
     "output_type": "stream",
     "text": [
      "100%|█████████████████████████████████████████████████████████████████████████████████| 87/87 [00:00<00:00, 576.18it/s]\n"
     ]
    },
    {
     "name": "stdout",
     "output_type": "stream",
     "text": [
      "Total loss: 180.86881494522095\n",
      "Validation accuracy: 0.5\n",
      "\n",
      "======== Epoch 45 / 200 ========\n",
      "Training...\n"
     ]
    },
    {
     "name": "stderr",
     "output_type": "stream",
     "text": [
      "100%|█████████████████████████████████████████████████████████████████████████████████| 87/87 [00:00<00:00, 587.85it/s]\n"
     ]
    },
    {
     "name": "stdout",
     "output_type": "stream",
     "text": [
      "Total loss: 180.8817653656006\n",
      "Validation accuracy: 0.5\n",
      "\n",
      "======== Epoch 46 / 200 ========\n",
      "Training...\n"
     ]
    },
    {
     "name": "stderr",
     "output_type": "stream",
     "text": [
      "100%|█████████████████████████████████████████████████████████████████████████████████| 87/87 [00:00<00:00, 600.02it/s]\n"
     ]
    },
    {
     "name": "stdout",
     "output_type": "stream",
     "text": [
      "Total loss: 180.8639714717865\n",
      "Validation accuracy: 0.5\n",
      "\n",
      "======== Epoch 47 / 200 ========\n",
      "Training...\n"
     ]
    },
    {
     "name": "stderr",
     "output_type": "stream",
     "text": [
      "100%|█████████████████████████████████████████████████████████████████████████████████| 87/87 [00:00<00:00, 595.91it/s]\n"
     ]
    },
    {
     "name": "stdout",
     "output_type": "stream",
     "text": [
      "Total loss: 180.86436438560486\n",
      "Validation accuracy: 0.5\n",
      "\n",
      "======== Epoch 48 / 200 ========\n",
      "Training...\n"
     ]
    },
    {
     "name": "stderr",
     "output_type": "stream",
     "text": [
      "100%|█████████████████████████████████████████████████████████████████████████████████| 87/87 [00:00<00:00, 572.38it/s]\n"
     ]
    },
    {
     "name": "stdout",
     "output_type": "stream",
     "text": [
      "Total loss: 180.86538362503052\n",
      "Validation accuracy: 0.5\n",
      "\n",
      "======== Epoch 49 / 200 ========\n",
      "Training...\n"
     ]
    },
    {
     "name": "stderr",
     "output_type": "stream",
     "text": [
      "100%|█████████████████████████████████████████████████████████████████████████████████| 87/87 [00:00<00:00, 561.31it/s]\n"
     ]
    },
    {
     "name": "stdout",
     "output_type": "stream",
     "text": [
      "Total loss: 180.86336207389832\n",
      "Validation accuracy: 0.5\n",
      "\n",
      "======== Epoch 50 / 200 ========\n",
      "Training...\n"
     ]
    },
    {
     "name": "stderr",
     "output_type": "stream",
     "text": [
      "100%|█████████████████████████████████████████████████████████████████████████████████| 87/87 [00:00<00:00, 591.85it/s]\n"
     ]
    },
    {
     "name": "stdout",
     "output_type": "stream",
     "text": [
      "Total loss: 180.8623399734497\n",
      "Validation accuracy: 0.5\n",
      "\n",
      "======== Epoch 51 / 200 ========\n",
      "Training...\n"
     ]
    },
    {
     "name": "stderr",
     "output_type": "stream",
     "text": [
      "100%|█████████████████████████████████████████████████████████████████████████████████| 87/87 [00:00<00:00, 583.91it/s]\n"
     ]
    },
    {
     "name": "stdout",
     "output_type": "stream",
     "text": [
      "Total loss: 180.86289978027344\n",
      "Validation accuracy: 0.5\n",
      "\n",
      "======== Epoch 52 / 200 ========\n",
      "Training...\n"
     ]
    },
    {
     "name": "stderr",
     "output_type": "stream",
     "text": [
      "100%|█████████████████████████████████████████████████████████████████████████████████| 87/87 [00:00<00:00, 576.17it/s]\n"
     ]
    },
    {
     "name": "stdout",
     "output_type": "stream",
     "text": [
      "Total loss: 180.86225748062134\n",
      "Validation accuracy: 0.5\n",
      "\n",
      "======== Epoch 53 / 200 ========\n",
      "Training...\n"
     ]
    },
    {
     "name": "stderr",
     "output_type": "stream",
     "text": [
      "100%|█████████████████████████████████████████████████████████████████████████████████| 87/87 [00:00<00:00, 572.39it/s]\n"
     ]
    },
    {
     "name": "stdout",
     "output_type": "stream",
     "text": [
      "Total loss: 180.86312294006348\n",
      "Validation accuracy: 0.5\n",
      "\n",
      "======== Epoch 54 / 200 ========\n",
      "Training...\n"
     ]
    },
    {
     "name": "stderr",
     "output_type": "stream",
     "text": [
      "100%|█████████████████████████████████████████████████████████████████████████████████| 87/87 [00:00<00:00, 572.38it/s]\n"
     ]
    },
    {
     "name": "stdout",
     "output_type": "stream",
     "text": [
      "Total loss: 180.86217188835144\n",
      "Validation accuracy: 0.5\n",
      "\n",
      "======== Epoch 55 / 200 ========\n",
      "Training...\n"
     ]
    },
    {
     "name": "stderr",
     "output_type": "stream",
     "text": [
      "100%|█████████████████████████████████████████████████████████████████████████████████| 87/87 [00:00<00:00, 580.03it/s]\n"
     ]
    },
    {
     "name": "stdout",
     "output_type": "stream",
     "text": [
      "Total loss: 180.87148809432983\n",
      "Validation accuracy: 0.5\n",
      "\n",
      "======== Epoch 56 / 200 ========\n",
      "Training...\n"
     ]
    },
    {
     "name": "stderr",
     "output_type": "stream",
     "text": [
      "100%|█████████████████████████████████████████████████████████████████████████████████| 87/87 [00:00<00:00, 527.28it/s]\n"
     ]
    },
    {
     "name": "stdout",
     "output_type": "stream",
     "text": [
      "Total loss: 180.86412906646729\n",
      "Validation accuracy: 0.5\n",
      "\n",
      "======== Epoch 57 / 200 ========\n",
      "Training...\n"
     ]
    },
    {
     "name": "stderr",
     "output_type": "stream",
     "text": [
      "100%|█████████████████████████████████████████████████████████████████████████████████| 87/87 [00:00<00:00, 530.50it/s]\n"
     ]
    },
    {
     "name": "stdout",
     "output_type": "stream",
     "text": [
      "Total loss: 180.87741994857788\n",
      "Validation accuracy: 0.5\n",
      "\n",
      "======== Epoch 58 / 200 ========\n",
      "Training...\n"
     ]
    },
    {
     "name": "stderr",
     "output_type": "stream",
     "text": [
      "100%|█████████████████████████████████████████████████████████████████████████████████| 87/87 [00:00<00:00, 564.93it/s]\n"
     ]
    },
    {
     "name": "stdout",
     "output_type": "stream",
     "text": [
      "Total loss: 180.86235761642456\n",
      "Validation accuracy: 0.5\n",
      "\n",
      "======== Epoch 59 / 200 ========\n",
      "Training...\n"
     ]
    },
    {
     "name": "stderr",
     "output_type": "stream",
     "text": [
      "100%|█████████████████████████████████████████████████████████████████████████████████| 87/87 [00:00<00:00, 547.20it/s]\n"
     ]
    },
    {
     "name": "stdout",
     "output_type": "stream",
     "text": [
      "Total loss: 180.87342357635498\n",
      "Validation accuracy: 0.5\n",
      "\n",
      "======== Epoch 60 / 200 ========\n",
      "Training...\n"
     ]
    },
    {
     "name": "stderr",
     "output_type": "stream",
     "text": [
      "100%|█████████████████████████████████████████████████████████████████████████████████| 87/87 [00:00<00:00, 524.11it/s]\n"
     ]
    },
    {
     "name": "stdout",
     "output_type": "stream",
     "text": [
      "Total loss: 180.86485052108765\n",
      "Validation accuracy: 0.5\n",
      "\n",
      "======== Epoch 61 / 200 ========\n",
      "Training...\n"
     ]
    },
    {
     "name": "stderr",
     "output_type": "stream",
     "text": [
      "100%|█████████████████████████████████████████████████████████████████████████████████| 87/87 [00:00<00:00, 537.06it/s]\n"
     ]
    },
    {
     "name": "stdout",
     "output_type": "stream",
     "text": [
      "Total loss: 180.9170320034027\n",
      "Validation accuracy: 0.5\n",
      "\n",
      "======== Epoch 62 / 200 ========\n",
      "Training...\n"
     ]
    },
    {
     "name": "stderr",
     "output_type": "stream",
     "text": [
      "100%|█████████████████████████████████████████████████████████████████████████████████| 87/87 [00:00<00:00, 568.62it/s]\n"
     ]
    },
    {
     "name": "stdout",
     "output_type": "stream",
     "text": [
      "Total loss: 180.86332631111145\n",
      "Validation accuracy: 0.5\n",
      "\n",
      "======== Epoch 63 / 200 ========\n",
      "Training...\n"
     ]
    },
    {
     "name": "stderr",
     "output_type": "stream",
     "text": [
      "100%|█████████████████████████████████████████████████████████████████████████████████| 87/87 [00:00<00:00, 583.92it/s]\n"
     ]
    },
    {
     "name": "stdout",
     "output_type": "stream",
     "text": [
      "Total loss: 180.9197072982788\n",
      "Validation accuracy: 0.5\n",
      "\n",
      "======== Epoch 64 / 200 ========\n",
      "Training...\n"
     ]
    },
    {
     "name": "stderr",
     "output_type": "stream",
     "text": [
      "100%|█████████████████████████████████████████████████████████████████████████████████| 87/87 [00:00<00:00, 576.18it/s]\n"
     ]
    },
    {
     "name": "stdout",
     "output_type": "stream",
     "text": [
      "Total loss: 180.86786818504333\n",
      "Validation accuracy: 0.5\n",
      "\n",
      "======== Epoch 65 / 200 ========\n",
      "Training...\n"
     ]
    },
    {
     "name": "stderr",
     "output_type": "stream",
     "text": [
      "100%|█████████████████████████████████████████████████████████████████████████████████| 87/87 [00:00<00:00, 572.39it/s]\n"
     ]
    },
    {
     "name": "stdout",
     "output_type": "stream",
     "text": [
      "Total loss: 180.8634068965912\n",
      "Validation accuracy: 0.5\n",
      "\n",
      "======== Epoch 66 / 200 ========\n",
      "Training...\n"
     ]
    },
    {
     "name": "stderr",
     "output_type": "stream",
     "text": [
      "100%|█████████████████████████████████████████████████████████████████████████████████| 87/87 [00:00<00:00, 583.89it/s]\n"
     ]
    },
    {
     "name": "stdout",
     "output_type": "stream",
     "text": [
      "Total loss: 181.13187861442566\n",
      "Validation accuracy: 0.5\n",
      "\n",
      "======== Epoch 67 / 200 ========\n",
      "Training...\n"
     ]
    },
    {
     "name": "stderr",
     "output_type": "stream",
     "text": [
      "100%|█████████████████████████████████████████████████████████████████████████████████| 87/87 [00:00<00:00, 564.95it/s]\n"
     ]
    },
    {
     "name": "stdout",
     "output_type": "stream",
     "text": [
      "Total loss: 180.98751521110535\n",
      "Validation accuracy: 0.5\n",
      "\n",
      "======== Epoch 68 / 200 ========\n",
      "Training...\n"
     ]
    },
    {
     "name": "stderr",
     "output_type": "stream",
     "text": [
      "100%|█████████████████████████████████████████████████████████████████████████████████| 87/87 [00:00<00:00, 557.71it/s]\n"
     ]
    },
    {
     "name": "stdout",
     "output_type": "stream",
     "text": [
      "Total loss: 180.9282739162445\n",
      "Validation accuracy: 0.5\n",
      "\n",
      "======== Epoch 69 / 200 ========\n",
      "Training...\n"
     ]
    },
    {
     "name": "stderr",
     "output_type": "stream",
     "text": [
      "100%|█████████████████████████████████████████████████████████████████████████████████| 87/87 [00:00<00:00, 540.36it/s]\n"
     ]
    },
    {
     "name": "stdout",
     "output_type": "stream",
     "text": [
      "Total loss: 180.88291025161743\n",
      "Validation accuracy: 0.5\n",
      "\n",
      "======== Epoch 70 / 200 ========\n",
      "Training...\n"
     ]
    },
    {
     "name": "stderr",
     "output_type": "stream",
     "text": [
      "100%|█████████████████████████████████████████████████████████████████████████████████| 87/87 [00:00<00:00, 554.15it/s]\n"
     ]
    },
    {
     "name": "stdout",
     "output_type": "stream",
     "text": [
      "Total loss: 180.86423444747925\n",
      "Validation accuracy: 0.5\n",
      "\n",
      "======== Epoch 71 / 200 ========\n",
      "Training...\n"
     ]
    },
    {
     "name": "stderr",
     "output_type": "stream",
     "text": [
      "100%|█████████████████████████████████████████████████████████████████████████████████| 87/87 [00:00<00:00, 537.06it/s]\n"
     ]
    },
    {
     "name": "stdout",
     "output_type": "stream",
     "text": [
      "Total loss: 180.87040519714355\n",
      "Validation accuracy: 0.5\n",
      "\n",
      "======== Epoch 72 / 200 ========\n",
      "Training...\n"
     ]
    },
    {
     "name": "stderr",
     "output_type": "stream",
     "text": [
      "100%|█████████████████████████████████████████████████████████████████████████████████| 87/87 [00:00<00:00, 530.50it/s]\n"
     ]
    },
    {
     "name": "stdout",
     "output_type": "stream",
     "text": [
      "Total loss: 180.8705735206604\n",
      "Validation accuracy: 0.5\n",
      "\n",
      "======== Epoch 73 / 200 ========\n",
      "Training...\n"
     ]
    },
    {
     "name": "stderr",
     "output_type": "stream",
     "text": [
      "100%|█████████████████████████████████████████████████████████████████████████████████| 87/87 [00:00<00:00, 543.76it/s]\n"
     ]
    },
    {
     "name": "stdout",
     "output_type": "stream",
     "text": [
      "Total loss: 180.92541408538818\n",
      "Validation accuracy: 0.5\n",
      "\n",
      "======== Epoch 74 / 200 ========\n",
      "Training...\n"
     ]
    },
    {
     "name": "stderr",
     "output_type": "stream",
     "text": [
      "100%|█████████████████████████████████████████████████████████████████████████████████| 87/87 [00:00<00:00, 561.30it/s]\n"
     ]
    },
    {
     "name": "stdout",
     "output_type": "stream",
     "text": [
      "Total loss: 180.9575309753418\n",
      "Validation accuracy: 0.5\n",
      "\n",
      "======== Epoch 75 / 200 ========\n",
      "Training...\n"
     ]
    },
    {
     "name": "stderr",
     "output_type": "stream",
     "text": [
      "100%|█████████████████████████████████████████████████████████████████████████████████| 87/87 [00:00<00:00, 547.19it/s]\n"
     ]
    },
    {
     "name": "stdout",
     "output_type": "stream",
     "text": [
      "Total loss: 180.87298965454102\n",
      "Validation accuracy: 0.5\n",
      "\n",
      "======== Epoch 76 / 200 ========\n",
      "Training...\n"
     ]
    },
    {
     "name": "stderr",
     "output_type": "stream",
     "text": [
      "100%|█████████████████████████████████████████████████████████████████████████████████| 87/87 [00:00<00:00, 530.50it/s]\n"
     ]
    },
    {
     "name": "stdout",
     "output_type": "stream",
     "text": [
      "Total loss: 180.86896800994873\n",
      "Validation accuracy: 0.5\n",
      "\n",
      "======== Epoch 77 / 200 ========\n",
      "Training...\n"
     ]
    },
    {
     "name": "stderr",
     "output_type": "stream",
     "text": [
      "100%|█████████████████████████████████████████████████████████████████████████████████| 87/87 [00:00<00:00, 564.95it/s]\n"
     ]
    },
    {
     "name": "stdout",
     "output_type": "stream",
     "text": [
      "Total loss: 181.0148434638977\n",
      "Validation accuracy: 0.5\n",
      "\n",
      "======== Epoch 78 / 200 ========\n",
      "Training...\n"
     ]
    },
    {
     "name": "stderr",
     "output_type": "stream",
     "text": [
      "100%|█████████████████████████████████████████████████████████████████████████████████| 87/87 [00:00<00:00, 540.38it/s]\n"
     ]
    },
    {
     "name": "stdout",
     "output_type": "stream",
     "text": [
      "Total loss: 180.881094455719\n",
      "Validation accuracy: 0.5\n",
      "\n",
      "======== Epoch 79 / 200 ========\n",
      "Training...\n"
     ]
    },
    {
     "name": "stderr",
     "output_type": "stream",
     "text": [
      "100%|█████████████████████████████████████████████████████████████████████████████████| 87/87 [00:00<00:00, 557.69it/s]\n"
     ]
    },
    {
     "name": "stdout",
     "output_type": "stream",
     "text": [
      "Total loss: 180.8966579437256\n",
      "Validation accuracy: 0.5\n",
      "\n",
      "======== Epoch 80 / 200 ========\n",
      "Training...\n"
     ]
    },
    {
     "name": "stderr",
     "output_type": "stream",
     "text": [
      "100%|█████████████████████████████████████████████████████████████████████████████████| 87/87 [00:00<00:00, 543.78it/s]\n"
     ]
    },
    {
     "name": "stdout",
     "output_type": "stream",
     "text": [
      "Total loss: 180.86292433738708\n",
      "Validation accuracy: 0.5\n",
      "\n",
      "======== Epoch 81 / 200 ========\n",
      "Training...\n"
     ]
    },
    {
     "name": "stderr",
     "output_type": "stream",
     "text": [
      "100%|█████████████████████████████████████████████████████████████████████████████████| 87/87 [00:00<00:00, 554.16it/s]\n"
     ]
    },
    {
     "name": "stdout",
     "output_type": "stream",
     "text": [
      "Total loss: 180.88737869262695\n",
      "Validation accuracy: 0.5\n",
      "\n",
      "======== Epoch 82 / 200 ========\n",
      "Training...\n"
     ]
    },
    {
     "name": "stderr",
     "output_type": "stream",
     "text": [
      "100%|█████████████████████████████████████████████████████████████████████████████████| 87/87 [00:00<00:00, 595.89it/s]\n"
     ]
    },
    {
     "name": "stdout",
     "output_type": "stream",
     "text": [
      "Total loss: 180.8684458732605\n",
      "Validation accuracy: 0.5\n",
      "\n",
      "======== Epoch 83 / 200 ========\n",
      "Training...\n"
     ]
    },
    {
     "name": "stderr",
     "output_type": "stream",
     "text": [
      "100%|█████████████████████████████████████████████████████████████████████████████████| 87/87 [00:00<00:00, 580.03it/s]\n"
     ]
    },
    {
     "name": "stdout",
     "output_type": "stream",
     "text": [
      "Total loss: 180.88596320152283\n",
      "Validation accuracy: 0.5\n",
      "\n",
      "======== Epoch 84 / 200 ========\n",
      "Training...\n"
     ]
    },
    {
     "name": "stderr",
     "output_type": "stream",
     "text": [
      "100%|█████████████████████████████████████████████████████████████████████████████████| 87/87 [00:00<00:00, 547.18it/s]\n"
     ]
    },
    {
     "name": "stdout",
     "output_type": "stream",
     "text": [
      "Total loss: 180.86541414260864\n",
      "Validation accuracy: 0.5\n",
      "\n",
      "======== Epoch 85 / 200 ========\n",
      "Training...\n"
     ]
    },
    {
     "name": "stderr",
     "output_type": "stream",
     "text": [
      "100%|█████████████████████████████████████████████████████████████████████████████████| 87/87 [00:00<00:00, 564.96it/s]\n"
     ]
    },
    {
     "name": "stdout",
     "output_type": "stream",
     "text": [
      "Total loss: 180.92418932914734\n",
      "Validation accuracy: 0.5\n",
      "\n",
      "======== Epoch 86 / 200 ========\n",
      "Training...\n"
     ]
    },
    {
     "name": "stderr",
     "output_type": "stream",
     "text": [
      "100%|█████████████████████████████████████████████████████████████████████████████████| 87/87 [00:00<00:00, 568.62it/s]\n"
     ]
    },
    {
     "name": "stdout",
     "output_type": "stream",
     "text": [
      "Total loss: 180.86306834220886\n",
      "Validation accuracy: 0.5\n",
      "\n",
      "======== Epoch 87 / 200 ========\n",
      "Training...\n"
     ]
    },
    {
     "name": "stderr",
     "output_type": "stream",
     "text": [
      "100%|█████████████████████████████████████████████████████████████████████████████████| 87/87 [00:00<00:00, 576.17it/s]\n"
     ]
    },
    {
     "name": "stdout",
     "output_type": "stream",
     "text": [
      "Total loss: 180.869069814682\n",
      "Validation accuracy: 0.5\n",
      "\n",
      "======== Epoch 88 / 200 ========\n",
      "Training...\n"
     ]
    },
    {
     "name": "stderr",
     "output_type": "stream",
     "text": [
      "100%|█████████████████████████████████████████████████████████████████████████████████| 87/87 [00:00<00:00, 604.19it/s]\n"
     ]
    },
    {
     "name": "stdout",
     "output_type": "stream",
     "text": [
      "Total loss: 180.87308931350708\n",
      "Validation accuracy: 0.5\n",
      "\n",
      "======== Epoch 89 / 200 ========\n",
      "Training...\n"
     ]
    },
    {
     "name": "stderr",
     "output_type": "stream",
     "text": [
      "100%|█████████████████████████████████████████████████████████████████████████████████| 87/87 [00:00<00:00, 543.74it/s]\n"
     ]
    },
    {
     "name": "stdout",
     "output_type": "stream",
     "text": [
      "Total loss: 180.8620319366455\n",
      "Validation accuracy: 0.5\n",
      "\n",
      "======== Epoch 90 / 200 ========\n",
      "Training...\n"
     ]
    },
    {
     "name": "stderr",
     "output_type": "stream",
     "text": [
      "100%|█████████████████████████████████████████████████████████████████████████████████| 87/87 [00:00<00:00, 540.39it/s]\n"
     ]
    },
    {
     "name": "stdout",
     "output_type": "stream",
     "text": [
      "Total loss: 180.86227583885193\n",
      "Validation accuracy: 0.5\n",
      "\n",
      "======== Epoch 91 / 200 ========\n",
      "Training...\n"
     ]
    },
    {
     "name": "stderr",
     "output_type": "stream",
     "text": [
      "100%|█████████████████████████████████████████████████████████████████████████████████| 87/87 [00:00<00:00, 537.06it/s]\n"
     ]
    },
    {
     "name": "stdout",
     "output_type": "stream",
     "text": [
      "Total loss: 180.86203527450562\n",
      "Validation accuracy: 0.5\n",
      "\n",
      "======== Epoch 92 / 200 ========\n",
      "Training...\n"
     ]
    },
    {
     "name": "stderr",
     "output_type": "stream",
     "text": [
      "100%|█████████████████████████████████████████████████████████████████████████████████| 87/87 [00:00<00:00, 572.39it/s]\n"
     ]
    },
    {
     "name": "stdout",
     "output_type": "stream",
     "text": [
      "Total loss: 180.86207604408264\n",
      "Validation accuracy: 0.5\n",
      "\n",
      "======== Epoch 93 / 200 ========\n",
      "Training...\n"
     ]
    },
    {
     "name": "stderr",
     "output_type": "stream",
     "text": [
      "100%|█████████████████████████████████████████████████████████████████████████████████| 87/87 [00:00<00:00, 561.31it/s]\n"
     ]
    },
    {
     "name": "stdout",
     "output_type": "stream",
     "text": [
      "Total loss: 180.8620207309723\n",
      "Validation accuracy: 0.5\n",
      "\n",
      "======== Epoch 94 / 200 ========\n",
      "Training...\n"
     ]
    },
    {
     "name": "stderr",
     "output_type": "stream",
     "text": [
      "100%|█████████████████████████████████████████████████████████████████████████████████| 87/87 [00:00<00:00, 600.03it/s]\n"
     ]
    },
    {
     "name": "stdout",
     "output_type": "stream",
     "text": [
      "Total loss: 180.8663671016693\n",
      "Validation accuracy: 0.5\n",
      "\n",
      "======== Epoch 95 / 200 ========\n",
      "Training...\n"
     ]
    },
    {
     "name": "stderr",
     "output_type": "stream",
     "text": [
      "100%|█████████████████████████████████████████████████████████████████████████████████| 87/87 [00:00<00:00, 572.38it/s]\n"
     ]
    },
    {
     "name": "stdout",
     "output_type": "stream",
     "text": [
      "Total loss: 180.88143944740295\n",
      "Validation accuracy: 0.5\n",
      "\n",
      "======== Epoch 96 / 200 ========\n",
      "Training...\n"
     ]
    },
    {
     "name": "stderr",
     "output_type": "stream",
     "text": [
      "100%|█████████████████████████████████████████████████████████████████████████████████| 87/87 [00:00<00:00, 547.16it/s]\n"
     ]
    },
    {
     "name": "stdout",
     "output_type": "stream",
     "text": [
      "Total loss: 180.8619921207428\n",
      "Validation accuracy: 0.5\n",
      "\n",
      "======== Epoch 97 / 200 ========\n",
      "Training...\n"
     ]
    },
    {
     "name": "stderr",
     "output_type": "stream",
     "text": [
      "100%|█████████████████████████████████████████████████████████████████████████████████| 87/87 [00:00<00:00, 557.70it/s]\n"
     ]
    },
    {
     "name": "stdout",
     "output_type": "stream",
     "text": [
      "Total loss: 180.86512923240662\n",
      "Validation accuracy: 0.5\n",
      "\n",
      "======== Epoch 98 / 200 ========\n",
      "Training...\n"
     ]
    },
    {
     "name": "stderr",
     "output_type": "stream",
     "text": [
      "100%|█████████████████████████████████████████████████████████████████████████████████| 87/87 [00:00<00:00, 547.19it/s]\n"
     ]
    },
    {
     "name": "stdout",
     "output_type": "stream",
     "text": [
      "Total loss: 180.86277079582214\n",
      "Validation accuracy: 0.5\n",
      "\n",
      "======== Epoch 99 / 200 ========\n",
      "Training...\n"
     ]
    },
    {
     "name": "stderr",
     "output_type": "stream",
     "text": [
      "100%|█████████████████████████████████████████████████████████████████████████████████| 87/87 [00:00<00:00, 554.17it/s]\n"
     ]
    },
    {
     "name": "stdout",
     "output_type": "stream",
     "text": [
      "Total loss: 180.86301183700562\n",
      "Validation accuracy: 0.5\n",
      "\n",
      "======== Epoch 100 / 200 ========\n",
      "Training...\n"
     ]
    },
    {
     "name": "stderr",
     "output_type": "stream",
     "text": [
      "100%|█████████████████████████████████████████████████████████████████████████████████| 87/87 [00:00<00:00, 564.96it/s]\n"
     ]
    },
    {
     "name": "stdout",
     "output_type": "stream",
     "text": [
      "Total loss: 180.86202955245972\n",
      "Validation accuracy: 0.5\n",
      "\n",
      "======== Epoch 101 / 200 ========\n",
      "Training...\n"
     ]
    },
    {
     "name": "stderr",
     "output_type": "stream",
     "text": [
      "100%|█████████████████████████████████████████████████████████████████████████████████| 87/87 [00:00<00:00, 568.63it/s]\n"
     ]
    },
    {
     "name": "stdout",
     "output_type": "stream",
     "text": [
      "Total loss: 180.86199283599854\n",
      "Validation accuracy: 0.5\n",
      "\n",
      "======== Epoch 102 / 200 ========\n",
      "Training...\n"
     ]
    },
    {
     "name": "stderr",
     "output_type": "stream",
     "text": [
      "100%|█████████████████████████████████████████████████████████████████████████████████| 87/87 [00:00<00:00, 547.19it/s]\n"
     ]
    },
    {
     "name": "stdout",
     "output_type": "stream",
     "text": [
      "Total loss: 180.92104506492615\n",
      "Validation accuracy: 0.5\n",
      "\n",
      "======== Epoch 103 / 200 ========\n",
      "Training...\n"
     ]
    },
    {
     "name": "stderr",
     "output_type": "stream",
     "text": [
      "100%|█████████████████████████████████████████████████████████████████████████████████| 87/87 [00:00<00:00, 543.77it/s]\n"
     ]
    },
    {
     "name": "stdout",
     "output_type": "stream",
     "text": [
      "Total loss: 180.8624620437622\n",
      "Validation accuracy: 0.5\n",
      "\n",
      "======== Epoch 104 / 200 ========\n",
      "Training...\n"
     ]
    },
    {
     "name": "stderr",
     "output_type": "stream",
     "text": [
      "100%|█████████████████████████████████████████████████████████████████████████████████| 87/87 [00:00<00:00, 554.16it/s]\n"
     ]
    },
    {
     "name": "stdout",
     "output_type": "stream",
     "text": [
      "Total loss: 180.86518454551697\n",
      "Validation accuracy: 0.5\n",
      "\n",
      "======== Epoch 105 / 200 ========\n",
      "Training...\n"
     ]
    },
    {
     "name": "stderr",
     "output_type": "stream",
     "text": [
      "100%|█████████████████████████████████████████████████████████████████████████████████| 87/87 [00:00<00:00, 576.18it/s]\n"
     ]
    },
    {
     "name": "stdout",
     "output_type": "stream",
     "text": [
      "Total loss: 180.86232995986938\n",
      "Validation accuracy: 0.5\n",
      "\n",
      "======== Epoch 106 / 200 ========\n",
      "Training...\n"
     ]
    },
    {
     "name": "stderr",
     "output_type": "stream",
     "text": [
      "100%|█████████████████████████████████████████████████████████████████████████████████| 87/87 [00:00<00:00, 550.65it/s]\n"
     ]
    },
    {
     "name": "stdout",
     "output_type": "stream",
     "text": [
      "Total loss: 180.8623230457306\n",
      "Validation accuracy: 0.5\n",
      "\n",
      "======== Epoch 107 / 200 ========\n",
      "Training...\n"
     ]
    },
    {
     "name": "stderr",
     "output_type": "stream",
     "text": [
      "100%|█████████████████████████████████████████████████████████████████████████████████| 87/87 [00:00<00:00, 550.64it/s]\n"
     ]
    },
    {
     "name": "stdout",
     "output_type": "stream",
     "text": [
      "Total loss: 180.86202549934387\n",
      "Validation accuracy: 0.5\n",
      "\n",
      "======== Epoch 108 / 200 ========\n",
      "Training...\n"
     ]
    },
    {
     "name": "stderr",
     "output_type": "stream",
     "text": [
      "100%|█████████████████████████████████████████████████████████████████████████████████| 87/87 [00:00<00:00, 561.31it/s]\n"
     ]
    },
    {
     "name": "stdout",
     "output_type": "stream",
     "text": [
      "Total loss: 180.8950901031494\n",
      "Validation accuracy: 0.5\n",
      "\n",
      "======== Epoch 109 / 200 ========\n",
      "Training...\n"
     ]
    },
    {
     "name": "stderr",
     "output_type": "stream",
     "text": [
      "100%|█████████████████████████████████████████████████████████████████████████████████| 87/87 [00:00<00:00, 550.64it/s]\n"
     ]
    },
    {
     "name": "stdout",
     "output_type": "stream",
     "text": [
      "Total loss: 180.92513966560364\n",
      "Validation accuracy: 0.5\n",
      "\n",
      "======== Epoch 110 / 200 ========\n",
      "Training...\n"
     ]
    },
    {
     "name": "stderr",
     "output_type": "stream",
     "text": [
      "100%|█████████████████████████████████████████████████████████████████████████████████| 87/87 [00:00<00:00, 530.50it/s]\n"
     ]
    },
    {
     "name": "stdout",
     "output_type": "stream",
     "text": [
      "Total loss: 180.92110872268677\n",
      "Validation accuracy: 0.5\n",
      "\n",
      "======== Epoch 111 / 200 ========\n",
      "Training...\n"
     ]
    },
    {
     "name": "stderr",
     "output_type": "stream",
     "text": [
      "100%|█████████████████████████████████████████████████████████████████████████████████| 87/87 [00:00<00:00, 554.16it/s]\n"
     ]
    },
    {
     "name": "stdout",
     "output_type": "stream",
     "text": [
      "Total loss: 180.86340975761414\n",
      "Validation accuracy: 0.5\n",
      "\n",
      "======== Epoch 112 / 200 ========\n",
      "Training...\n"
     ]
    },
    {
     "name": "stderr",
     "output_type": "stream",
     "text": [
      "100%|█████████████████████████████████████████████████████████████████████████████████| 87/87 [00:00<00:00, 554.17it/s]\n"
     ]
    },
    {
     "name": "stdout",
     "output_type": "stream",
     "text": [
      "Total loss: 180.86785888671875\n",
      "Validation accuracy: 0.5\n",
      "\n",
      "======== Epoch 113 / 200 ========\n",
      "Training...\n"
     ]
    },
    {
     "name": "stderr",
     "output_type": "stream",
     "text": [
      "100%|█████████████████████████████████████████████████████████████████████████████████| 87/87 [00:00<00:00, 550.65it/s]\n"
     ]
    },
    {
     "name": "stdout",
     "output_type": "stream",
     "text": [
      "Total loss: 180.86256623268127\n",
      "Validation accuracy: 0.5\n",
      "\n",
      "======== Epoch 114 / 200 ========\n",
      "Training...\n"
     ]
    },
    {
     "name": "stderr",
     "output_type": "stream",
     "text": [
      "100%|█████████████████████████████████████████████████████████████████████████████████| 87/87 [00:00<00:00, 604.19it/s]\n"
     ]
    },
    {
     "name": "stdout",
     "output_type": "stream",
     "text": [
      "Total loss: 180.86403393745422\n",
      "Validation accuracy: 0.5\n",
      "\n",
      "======== Epoch 115 / 200 ========\n",
      "Training...\n"
     ]
    },
    {
     "name": "stderr",
     "output_type": "stream",
     "text": [
      "100%|█████████████████████████████████████████████████████████████████████████████████| 87/87 [00:00<00:00, 612.69it/s]\n"
     ]
    },
    {
     "name": "stdout",
     "output_type": "stream",
     "text": [
      "Total loss: 180.86483311653137\n",
      "Validation accuracy: 0.5\n",
      "\n",
      "======== Epoch 116 / 200 ========\n",
      "Training...\n"
     ]
    },
    {
     "name": "stderr",
     "output_type": "stream",
     "text": [
      "100%|█████████████████████████████████████████████████████████████████████████████████| 87/87 [00:00<00:00, 595.88it/s]\n"
     ]
    },
    {
     "name": "stdout",
     "output_type": "stream",
     "text": [
      "Total loss: 180.86214017868042\n",
      "Validation accuracy: 0.5\n",
      "\n",
      "======== Epoch 117 / 200 ========\n",
      "Training...\n"
     ]
    },
    {
     "name": "stderr",
     "output_type": "stream",
     "text": [
      "100%|█████████████████████████████████████████████████████████████████████████████████| 87/87 [00:00<00:00, 580.04it/s]\n"
     ]
    },
    {
     "name": "stdout",
     "output_type": "stream",
     "text": [
      "Total loss: 180.86226105690002\n",
      "Validation accuracy: 0.5\n",
      "\n",
      "======== Epoch 118 / 200 ========\n",
      "Training...\n"
     ]
    },
    {
     "name": "stderr",
     "output_type": "stream",
     "text": [
      "100%|█████████████████████████████████████████████████████████████████████████████████| 87/87 [00:00<00:00, 604.19it/s]\n"
     ]
    },
    {
     "name": "stdout",
     "output_type": "stream",
     "text": [
      "Total loss: 180.86199355125427\n",
      "Validation accuracy: 0.5\n",
      "\n",
      "======== Epoch 119 / 200 ========\n",
      "Training...\n"
     ]
    },
    {
     "name": "stderr",
     "output_type": "stream",
     "text": [
      "100%|█████████████████████████████████████████████████████████████████████████████████| 87/87 [00:00<00:00, 595.91it/s]\n"
     ]
    },
    {
     "name": "stdout",
     "output_type": "stream",
     "text": [
      "Total loss: 180.86344122886658\n",
      "Validation accuracy: 0.5\n",
      "\n",
      "======== Epoch 120 / 200 ========\n",
      "Training...\n"
     ]
    },
    {
     "name": "stderr",
     "output_type": "stream",
     "text": [
      "100%|█████████████████████████████████████████████████████████████████████████████████| 87/87 [00:00<00:00, 564.95it/s]\n"
     ]
    },
    {
     "name": "stdout",
     "output_type": "stream",
     "text": [
      "Total loss: 180.86201667785645\n",
      "Validation accuracy: 0.5\n",
      "\n",
      "======== Epoch 121 / 200 ========\n",
      "Training...\n"
     ]
    },
    {
     "name": "stderr",
     "output_type": "stream",
     "text": [
      "100%|█████████████████████████████████████████████████████████████████████████████████| 87/87 [00:00<00:00, 550.65it/s]\n"
     ]
    },
    {
     "name": "stdout",
     "output_type": "stream",
     "text": [
      "Total loss: 180.8622326850891\n",
      "Validation accuracy: 0.5\n",
      "\n",
      "======== Epoch 122 / 200 ========\n",
      "Training...\n"
     ]
    },
    {
     "name": "stderr",
     "output_type": "stream",
     "text": [
      "100%|█████████████████████████████████████████████████████████████████████████████████| 87/87 [00:00<00:00, 545.17it/s]\n"
     ]
    },
    {
     "name": "stdout",
     "output_type": "stream",
     "text": [
      "Total loss: 180.86208057403564\n",
      "Validation accuracy: 0.5\n",
      "\n",
      "======== Epoch 123 / 200 ========\n",
      "Training...\n"
     ]
    },
    {
     "name": "stderr",
     "output_type": "stream",
     "text": [
      "100%|█████████████████████████████████████████████████████████████████████████████████| 87/87 [00:00<00:00, 540.36it/s]\n"
     ]
    },
    {
     "name": "stdout",
     "output_type": "stream",
     "text": [
      "Total loss: 180.86199951171875\n",
      "Validation accuracy: 0.5\n",
      "\n",
      "======== Epoch 124 / 200 ========\n",
      "Training...\n"
     ]
    },
    {
     "name": "stderr",
     "output_type": "stream",
     "text": [
      "100%|█████████████████████████████████████████████████████████████████████████████████| 87/87 [00:00<00:00, 543.78it/s]\n"
     ]
    },
    {
     "name": "stdout",
     "output_type": "stream",
     "text": [
      "Total loss: 180.86234664916992\n",
      "Validation accuracy: 0.5\n",
      "\n",
      "======== Epoch 125 / 200 ========\n",
      "Training...\n"
     ]
    },
    {
     "name": "stderr",
     "output_type": "stream",
     "text": [
      "100%|█████████████████████████████████████████████████████████████████████████████████| 87/87 [00:00<00:00, 561.30it/s]\n"
     ]
    },
    {
     "name": "stdout",
     "output_type": "stream",
     "text": [
      "Total loss: 180.86199426651\n",
      "Validation accuracy: 0.5\n",
      "\n",
      "======== Epoch 126 / 200 ========\n",
      "Training...\n"
     ]
    },
    {
     "name": "stderr",
     "output_type": "stream",
     "text": [
      "100%|█████████████████████████████████████████████████████████████████████████████████| 87/87 [00:00<00:00, 572.37it/s]\n"
     ]
    },
    {
     "name": "stdout",
     "output_type": "stream",
     "text": [
      "Total loss: 180.8676245212555\n",
      "Validation accuracy: 0.5\n",
      "\n",
      "======== Epoch 127 / 200 ========\n",
      "Training...\n"
     ]
    },
    {
     "name": "stderr",
     "output_type": "stream",
     "text": [
      "100%|█████████████████████████████████████████████████████████████████████████████████| 87/87 [00:00<00:00, 543.77it/s]\n"
     ]
    },
    {
     "name": "stdout",
     "output_type": "stream",
     "text": [
      "Total loss: 180.86205434799194\n",
      "Validation accuracy: 0.5\n",
      "\n",
      "======== Epoch 128 / 200 ========\n",
      "Training...\n"
     ]
    },
    {
     "name": "stderr",
     "output_type": "stream",
     "text": [
      "100%|█████████████████████████████████████████████████████████████████████████████████| 87/87 [00:00<00:00, 554.15it/s]\n"
     ]
    },
    {
     "name": "stdout",
     "output_type": "stream",
     "text": [
      "Total loss: 180.862046957016\n",
      "Validation accuracy: 0.5\n",
      "\n",
      "======== Epoch 129 / 200 ========\n",
      "Training...\n"
     ]
    },
    {
     "name": "stderr",
     "output_type": "stream",
     "text": [
      "100%|█████████████████████████████████████████████████████████████████████████████████| 87/87 [00:00<00:00, 564.96it/s]\n"
     ]
    },
    {
     "name": "stdout",
     "output_type": "stream",
     "text": [
      "Total loss: 180.8621666431427\n",
      "Validation accuracy: 0.5\n",
      "\n",
      "======== Epoch 130 / 200 ========\n",
      "Training...\n"
     ]
    },
    {
     "name": "stderr",
     "output_type": "stream",
     "text": [
      "100%|█████████████████████████████████████████████████████████████████████████████████| 87/87 [00:00<00:00, 547.18it/s]\n"
     ]
    },
    {
     "name": "stdout",
     "output_type": "stream",
     "text": [
      "Total loss: 180.86199235916138\n",
      "Validation accuracy: 0.5\n",
      "\n",
      "======== Epoch 131 / 200 ========\n",
      "Training...\n"
     ]
    },
    {
     "name": "stderr",
     "output_type": "stream",
     "text": [
      "100%|█████████████████████████████████████████████████████████████████████████████████| 87/87 [00:00<00:00, 572.39it/s]\n"
     ]
    },
    {
     "name": "stdout",
     "output_type": "stream",
     "text": [
      "Total loss: 180.862060546875\n",
      "Validation accuracy: 0.5\n",
      "\n",
      "======== Epoch 132 / 200 ========\n",
      "Training...\n"
     ]
    },
    {
     "name": "stderr",
     "output_type": "stream",
     "text": [
      "100%|█████████████████████████████████████████████████████████████████████████████████| 87/87 [00:00<00:00, 612.70it/s]\n"
     ]
    },
    {
     "name": "stdout",
     "output_type": "stream",
     "text": [
      "Total loss: 180.86215496063232\n",
      "Validation accuracy: 0.5\n",
      "\n",
      "======== Epoch 133 / 200 ========\n",
      "Training...\n"
     ]
    },
    {
     "name": "stderr",
     "output_type": "stream",
     "text": [
      "100%|█████████████████████████████████████████████████████████████████████████████████| 87/87 [00:00<00:00, 595.91it/s]\n"
     ]
    },
    {
     "name": "stdout",
     "output_type": "stream",
     "text": [
      "Total loss: 180.8620162010193\n",
      "Validation accuracy: 0.5\n",
      "\n",
      "======== Epoch 134 / 200 ========\n",
      "Training...\n"
     ]
    },
    {
     "name": "stderr",
     "output_type": "stream",
     "text": [
      "100%|█████████████████████████████████████████████████████████████████████████████████| 87/87 [00:00<00:00, 587.86it/s]\n"
     ]
    },
    {
     "name": "stdout",
     "output_type": "stream",
     "text": [
      "Total loss: 180.8751826286316\n",
      "Validation accuracy: 0.5\n",
      "\n",
      "======== Epoch 135 / 200 ========\n",
      "Training...\n"
     ]
    },
    {
     "name": "stderr",
     "output_type": "stream",
     "text": [
      "100%|█████████████████████████████████████████████████████████████████████████████████| 87/87 [00:00<00:00, 572.38it/s]\n"
     ]
    },
    {
     "name": "stdout",
     "output_type": "stream",
     "text": [
      "Total loss: 180.86206817626953\n",
      "Validation accuracy: 0.5\n",
      "\n",
      "======== Epoch 136 / 200 ========\n",
      "Training...\n"
     ]
    },
    {
     "name": "stderr",
     "output_type": "stream",
     "text": [
      "100%|█████████████████████████████████████████████████████████████████████████████████| 87/87 [00:00<00:00, 595.91it/s]\n"
     ]
    },
    {
     "name": "stdout",
     "output_type": "stream",
     "text": [
      "Total loss: 180.89607954025269\n",
      "Validation accuracy: 0.5\n",
      "\n",
      "======== Epoch 137 / 200 ========\n",
      "Training...\n"
     ]
    },
    {
     "name": "stderr",
     "output_type": "stream",
     "text": [
      "100%|█████████████████████████████████████████████████████████████████████████████████| 87/87 [00:00<00:00, 550.65it/s]\n"
     ]
    },
    {
     "name": "stdout",
     "output_type": "stream",
     "text": [
      "Total loss: 180.8620126247406\n",
      "Validation accuracy: 0.5\n",
      "\n",
      "======== Epoch 138 / 200 ========\n",
      "Training...\n"
     ]
    },
    {
     "name": "stderr",
     "output_type": "stream",
     "text": [
      "100%|█████████████████████████████████████████████████████████████████████████████████| 87/87 [00:00<00:00, 561.31it/s]\n"
     ]
    },
    {
     "name": "stdout",
     "output_type": "stream",
     "text": [
      "Total loss: 180.90323901176453\n",
      "Validation accuracy: 0.5\n",
      "\n",
      "======== Epoch 139 / 200 ========\n",
      "Training...\n"
     ]
    },
    {
     "name": "stderr",
     "output_type": "stream",
     "text": [
      "100%|█████████████████████████████████████████████████████████████████████████████████| 87/87 [00:00<00:00, 562.32it/s]\n"
     ]
    },
    {
     "name": "stdout",
     "output_type": "stream",
     "text": [
      "Total loss: 180.86199045181274\n",
      "Validation accuracy: 0.5\n",
      "\n",
      "======== Epoch 140 / 200 ========\n",
      "Training...\n"
     ]
    },
    {
     "name": "stderr",
     "output_type": "stream",
     "text": [
      "100%|█████████████████████████████████████████████████████████████████████████████████| 87/87 [00:00<00:00, 561.31it/s]\n"
     ]
    },
    {
     "name": "stdout",
     "output_type": "stream",
     "text": [
      "Total loss: 180.8697144985199\n",
      "Validation accuracy: 0.5\n",
      "\n",
      "======== Epoch 141 / 200 ========\n",
      "Training...\n"
     ]
    },
    {
     "name": "stderr",
     "output_type": "stream",
     "text": [
      "100%|█████████████████████████████████████████████████████████████████████████████████| 87/87 [00:00<00:00, 543.76it/s]\n"
     ]
    },
    {
     "name": "stdout",
     "output_type": "stream",
     "text": [
      "Total loss: 180.86243414878845\n",
      "Validation accuracy: 0.5\n",
      "\n",
      "======== Epoch 142 / 200 ========\n",
      "Training...\n"
     ]
    },
    {
     "name": "stderr",
     "output_type": "stream",
     "text": [
      "100%|█████████████████████████████████████████████████████████████████████████████████| 87/87 [00:00<00:00, 533.76it/s]\n"
     ]
    },
    {
     "name": "stdout",
     "output_type": "stream",
     "text": [
      "Total loss: 180.86203336715698\n",
      "Validation accuracy: 0.5\n",
      "\n",
      "======== Epoch 143 / 200 ========\n",
      "Training...\n"
     ]
    },
    {
     "name": "stderr",
     "output_type": "stream",
     "text": [
      "100%|█████████████████████████████████████████████████████████████████████████████████| 87/87 [00:00<00:00, 543.77it/s]\n"
     ]
    },
    {
     "name": "stdout",
     "output_type": "stream",
     "text": [
      "Total loss: 180.8910837173462\n",
      "Validation accuracy: 0.5\n",
      "\n",
      "======== Epoch 144 / 200 ========\n",
      "Training...\n"
     ]
    },
    {
     "name": "stderr",
     "output_type": "stream",
     "text": [
      "100%|█████████████████████████████████████████████████████████████████████████████████| 87/87 [00:00<00:00, 514.79it/s]\n"
     ]
    },
    {
     "name": "stdout",
     "output_type": "stream",
     "text": [
      "Total loss: 180.86716175079346\n",
      "Validation accuracy: 0.5\n",
      "\n",
      "======== Epoch 145 / 200 ========\n",
      "Training...\n"
     ]
    },
    {
     "name": "stderr",
     "output_type": "stream",
     "text": [
      "100%|█████████████████████████████████████████████████████████████████████████████████| 87/87 [00:00<00:00, 572.38it/s]\n"
     ]
    },
    {
     "name": "stdout",
     "output_type": "stream",
     "text": [
      "Total loss: 180.8619899749756\n",
      "Validation accuracy: 0.5\n",
      "\n",
      "======== Epoch 146 / 200 ========\n",
      "Training...\n"
     ]
    },
    {
     "name": "stderr",
     "output_type": "stream",
     "text": [
      "100%|█████████████████████████████████████████████████████████████████████████████████| 87/87 [00:00<00:00, 564.94it/s]\n"
     ]
    },
    {
     "name": "stdout",
     "output_type": "stream",
     "text": [
      "Total loss: 180.90653586387634\n",
      "Validation accuracy: 0.5\n",
      "\n",
      "======== Epoch 147 / 200 ========\n",
      "Training...\n"
     ]
    },
    {
     "name": "stderr",
     "output_type": "stream",
     "text": [
      "100%|█████████████████████████████████████████████████████████████████████████████████| 87/87 [00:00<00:00, 568.63it/s]\n"
     ]
    },
    {
     "name": "stdout",
     "output_type": "stream",
     "text": [
      "Total loss: 180.86198902130127\n",
      "Validation accuracy: 0.5\n",
      "\n",
      "======== Epoch 148 / 200 ========\n",
      "Training...\n"
     ]
    },
    {
     "name": "stderr",
     "output_type": "stream",
     "text": [
      "100%|█████████████████████████████████████████████████████████████████████████████████| 87/87 [00:00<00:00, 576.19it/s]\n"
     ]
    },
    {
     "name": "stdout",
     "output_type": "stream",
     "text": [
      "Total loss: 180.8620409965515\n",
      "Validation accuracy: 0.5\n",
      "\n",
      "======== Epoch 149 / 200 ========\n",
      "Training...\n"
     ]
    },
    {
     "name": "stderr",
     "output_type": "stream",
     "text": [
      "100%|█████████████████████████████████████████████████████████████████████████████████| 87/87 [00:00<00:00, 576.18it/s]\n"
     ]
    },
    {
     "name": "stdout",
     "output_type": "stream",
     "text": [
      "Total loss: 180.91598868370056\n",
      "Validation accuracy: 0.5\n",
      "\n",
      "======== Epoch 150 / 200 ========\n",
      "Training...\n"
     ]
    },
    {
     "name": "stderr",
     "output_type": "stream",
     "text": [
      "100%|█████████████████████████████████████████████████████████████████████████████████| 87/87 [00:00<00:00, 564.94it/s]\n"
     ]
    },
    {
     "name": "stdout",
     "output_type": "stream",
     "text": [
      "Total loss: 180.86204266548157\n",
      "Validation accuracy: 0.5\n",
      "\n",
      "======== Epoch 151 / 200 ========\n",
      "Training...\n"
     ]
    },
    {
     "name": "stderr",
     "output_type": "stream",
     "text": [
      "100%|█████████████████████████████████████████████████████████████████████████████████| 87/87 [00:00<00:00, 564.95it/s]\n"
     ]
    },
    {
     "name": "stdout",
     "output_type": "stream",
     "text": [
      "Total loss: 180.90426421165466\n",
      "Validation accuracy: 0.5\n",
      "\n",
      "======== Epoch 152 / 200 ========\n",
      "Training...\n"
     ]
    },
    {
     "name": "stderr",
     "output_type": "stream",
     "text": [
      "100%|█████████████████████████████████████████████████████████████████████████████████| 87/87 [00:00<00:00, 564.95it/s]\n"
     ]
    },
    {
     "name": "stdout",
     "output_type": "stream",
     "text": [
      "Total loss: 180.90409517288208\n",
      "Validation accuracy: 0.5\n",
      "\n",
      "======== Epoch 153 / 200 ========\n",
      "Training...\n"
     ]
    },
    {
     "name": "stderr",
     "output_type": "stream",
     "text": [
      "100%|█████████████████████████████████████████████████████████████████████████████████| 87/87 [00:00<00:00, 572.38it/s]\n"
     ]
    },
    {
     "name": "stdout",
     "output_type": "stream",
     "text": [
      "Total loss: 180.86228466033936\n",
      "Validation accuracy: 0.5\n",
      "\n",
      "======== Epoch 154 / 200 ========\n",
      "Training...\n"
     ]
    },
    {
     "name": "stderr",
     "output_type": "stream",
     "text": [
      "100%|█████████████████████████████████████████████████████████████████████████████████| 87/87 [00:00<00:00, 595.91it/s]\n"
     ]
    },
    {
     "name": "stdout",
     "output_type": "stream",
     "text": [
      "Total loss: 180.8802375793457\n",
      "Validation accuracy: 0.5\n",
      "\n",
      "======== Epoch 155 / 200 ========\n",
      "Training...\n"
     ]
    },
    {
     "name": "stderr",
     "output_type": "stream",
     "text": [
      "100%|█████████████████████████████████████████████████████████████████████████████████| 87/87 [00:00<00:00, 577.40it/s]\n"
     ]
    },
    {
     "name": "stdout",
     "output_type": "stream",
     "text": [
      "Total loss: 180.92574429512024\n",
      "Validation accuracy: 0.5\n",
      "\n",
      "======== Epoch 156 / 200 ========\n",
      "Training...\n"
     ]
    },
    {
     "name": "stderr",
     "output_type": "stream",
     "text": [
      "100%|█████████████████████████████████████████████████████████████████████████████████| 87/87 [00:00<00:00, 576.18it/s]\n"
     ]
    },
    {
     "name": "stdout",
     "output_type": "stream",
     "text": [
      "Total loss: 180.86517000198364\n",
      "Validation accuracy: 0.5\n",
      "\n",
      "======== Epoch 157 / 200 ========\n",
      "Training...\n"
     ]
    },
    {
     "name": "stderr",
     "output_type": "stream",
     "text": [
      "100%|█████████████████████████████████████████████████████████████████████████████████| 87/87 [00:00<00:00, 561.30it/s]\n"
     ]
    },
    {
     "name": "stdout",
     "output_type": "stream",
     "text": [
      "Total loss: 180.86198949813843\n",
      "Validation accuracy: 0.5\n",
      "\n",
      "======== Epoch 158 / 200 ========\n",
      "Training...\n"
     ]
    },
    {
     "name": "stderr",
     "output_type": "stream",
     "text": [
      "100%|█████████████████████████████████████████████████████████████████████████████████| 87/87 [00:00<00:00, 580.03it/s]\n"
     ]
    },
    {
     "name": "stdout",
     "output_type": "stream",
     "text": [
      "Total loss: 180.8625292778015\n",
      "Validation accuracy: 0.5\n",
      "\n",
      "======== Epoch 159 / 200 ========\n",
      "Training...\n"
     ]
    },
    {
     "name": "stderr",
     "output_type": "stream",
     "text": [
      "100%|█████████████████████████████████████████████████████████████████████████████████| 87/87 [00:00<00:00, 587.86it/s]\n"
     ]
    },
    {
     "name": "stdout",
     "output_type": "stream",
     "text": [
      "Total loss: 180.86206459999084\n",
      "Validation accuracy: 0.5\n",
      "\n",
      "======== Epoch 160 / 200 ========\n",
      "Training...\n"
     ]
    },
    {
     "name": "stderr",
     "output_type": "stream",
     "text": [
      "100%|█████████████████████████████████████████████████████████████████████████████████| 87/87 [00:00<00:00, 591.85it/s]\n"
     ]
    },
    {
     "name": "stdout",
     "output_type": "stream",
     "text": [
      "Total loss: 180.92296504974365\n",
      "Validation accuracy: 0.5\n",
      "\n",
      "======== Epoch 161 / 200 ========\n",
      "Training...\n"
     ]
    },
    {
     "name": "stderr",
     "output_type": "stream",
     "text": [
      "100%|█████████████████████████████████████████████████████████████████████████████████| 87/87 [00:00<00:00, 591.86it/s]\n"
     ]
    },
    {
     "name": "stdout",
     "output_type": "stream",
     "text": [
      "Total loss: 180.86295700073242\n",
      "Validation accuracy: 0.5\n",
      "\n",
      "======== Epoch 162 / 200 ========\n",
      "Training...\n"
     ]
    },
    {
     "name": "stderr",
     "output_type": "stream",
     "text": [
      "100%|█████████████████████████████████████████████████████████████████████████████████| 87/87 [00:00<00:00, 583.91it/s]\n"
     ]
    },
    {
     "name": "stdout",
     "output_type": "stream",
     "text": [
      "Total loss: 180.86209201812744\n",
      "Validation accuracy: 0.5\n",
      "\n",
      "======== Epoch 163 / 200 ========\n",
      "Training...\n"
     ]
    },
    {
     "name": "stderr",
     "output_type": "stream",
     "text": [
      "100%|█████████████████████████████████████████████████████████████████████████████████| 87/87 [00:00<00:00, 576.17it/s]\n"
     ]
    },
    {
     "name": "stdout",
     "output_type": "stream",
     "text": [
      "Total loss: 180.86199259757996\n",
      "Validation accuracy: 0.5\n",
      "\n",
      "======== Epoch 164 / 200 ========\n",
      "Training...\n"
     ]
    },
    {
     "name": "stderr",
     "output_type": "stream",
     "text": [
      "100%|█████████████████████████████████████████████████████████████████████████████████| 87/87 [00:00<00:00, 579.99it/s]\n"
     ]
    },
    {
     "name": "stdout",
     "output_type": "stream",
     "text": [
      "Total loss: 180.86222124099731\n",
      "Validation accuracy: 0.5\n",
      "\n",
      "======== Epoch 165 / 200 ========\n",
      "Training...\n"
     ]
    },
    {
     "name": "stderr",
     "output_type": "stream",
     "text": [
      "100%|█████████████████████████████████████████████████████████████████████████████████| 87/87 [00:00<00:00, 572.38it/s]\n"
     ]
    },
    {
     "name": "stdout",
     "output_type": "stream",
     "text": [
      "Total loss: 180.87160754203796\n",
      "Validation accuracy: 0.5\n",
      "\n",
      "======== Epoch 166 / 200 ========\n",
      "Training...\n"
     ]
    },
    {
     "name": "stderr",
     "output_type": "stream",
     "text": [
      "100%|█████████████████████████████████████████████████████████████████████████████████| 87/87 [00:00<00:00, 568.65it/s]\n"
     ]
    },
    {
     "name": "stdout",
     "output_type": "stream",
     "text": [
      "Total loss: 180.86239314079285\n",
      "Validation accuracy: 0.5\n",
      "\n",
      "======== Epoch 167 / 200 ========\n",
      "Training...\n"
     ]
    },
    {
     "name": "stderr",
     "output_type": "stream",
     "text": [
      "100%|█████████████████████████████████████████████████████████████████████████████████| 87/87 [00:00<00:00, 591.87it/s]\n"
     ]
    },
    {
     "name": "stdout",
     "output_type": "stream",
     "text": [
      "Total loss: 180.86232995986938\n",
      "Validation accuracy: 0.5\n",
      "\n",
      "======== Epoch 168 / 200 ========\n",
      "Training...\n"
     ]
    },
    {
     "name": "stderr",
     "output_type": "stream",
     "text": [
      "100%|█████████████████████████████████████████████████████████████████████████████████| 87/87 [00:00<00:00, 591.85it/s]\n"
     ]
    },
    {
     "name": "stdout",
     "output_type": "stream",
     "text": [
      "Total loss: 180.8779320716858\n",
      "Validation accuracy: 0.5\n",
      "\n",
      "======== Epoch 169 / 200 ========\n",
      "Training...\n"
     ]
    },
    {
     "name": "stderr",
     "output_type": "stream",
     "text": [
      "100%|█████████████████████████████████████████████████████████████████████████████████| 87/87 [00:00<00:00, 583.91it/s]\n"
     ]
    },
    {
     "name": "stdout",
     "output_type": "stream",
     "text": [
      "Total loss: 180.86211562156677\n",
      "Validation accuracy: 0.5\n",
      "\n",
      "======== Epoch 170 / 200 ========\n",
      "Training...\n"
     ]
    },
    {
     "name": "stderr",
     "output_type": "stream",
     "text": [
      "100%|█████████████████████████████████████████████████████████████████████████████████| 87/87 [00:00<00:00, 576.18it/s]\n"
     ]
    },
    {
     "name": "stdout",
     "output_type": "stream",
     "text": [
      "Total loss: 180.8693346977234\n",
      "Validation accuracy: 0.5\n",
      "\n",
      "======== Epoch 171 / 200 ========\n",
      "Training...\n"
     ]
    },
    {
     "name": "stderr",
     "output_type": "stream",
     "text": [
      "100%|█████████████████████████████████████████████████████████████████████████████████| 87/87 [00:00<00:00, 583.89it/s]\n"
     ]
    },
    {
     "name": "stdout",
     "output_type": "stream",
     "text": [
      "Total loss: 180.86214232444763\n",
      "Validation accuracy: 0.5\n",
      "\n",
      "======== Epoch 172 / 200 ========\n",
      "Training...\n"
     ]
    },
    {
     "name": "stderr",
     "output_type": "stream",
     "text": [
      "100%|█████████████████████████████████████████████████████████████████████████████████| 87/87 [00:00<00:00, 572.40it/s]\n"
     ]
    },
    {
     "name": "stdout",
     "output_type": "stream",
     "text": [
      "Total loss: 180.8619954586029\n",
      "Validation accuracy: 0.5\n",
      "\n",
      "======== Epoch 173 / 200 ========\n",
      "Training...\n"
     ]
    },
    {
     "name": "stderr",
     "output_type": "stream",
     "text": [
      "100%|█████████████████████████████████████████████████████████████████████████████████| 87/87 [00:00<00:00, 600.01it/s]\n"
     ]
    },
    {
     "name": "stdout",
     "output_type": "stream",
     "text": [
      "Total loss: 180.86210370063782\n",
      "Validation accuracy: 0.5\n",
      "\n",
      "======== Epoch 174 / 200 ========\n",
      "Training...\n"
     ]
    },
    {
     "name": "stderr",
     "output_type": "stream",
     "text": [
      "100%|█████████████████████████████████████████████████████████████████████████████████| 87/87 [00:00<00:00, 587.86it/s]\n"
     ]
    },
    {
     "name": "stdout",
     "output_type": "stream",
     "text": [
      "Total loss: 180.8619954586029\n",
      "Validation accuracy: 0.5\n",
      "\n",
      "======== Epoch 175 / 200 ========\n",
      "Training...\n"
     ]
    },
    {
     "name": "stderr",
     "output_type": "stream",
     "text": [
      "100%|█████████████████████████████████████████████████████████████████████████████████| 87/87 [00:00<00:00, 591.86it/s]\n"
     ]
    },
    {
     "name": "stdout",
     "output_type": "stream",
     "text": [
      "Total loss: 180.86215233802795\n",
      "Validation accuracy: 0.5\n",
      "\n",
      "======== Epoch 176 / 200 ========\n",
      "Training...\n"
     ]
    },
    {
     "name": "stderr",
     "output_type": "stream",
     "text": [
      "100%|█████████████████████████████████████████████████████████████████████████████████| 87/87 [00:00<00:00, 595.91it/s]\n"
     ]
    },
    {
     "name": "stdout",
     "output_type": "stream",
     "text": [
      "Total loss: 180.8620388507843\n",
      "Validation accuracy: 0.5\n",
      "\n",
      "======== Epoch 177 / 200 ========\n",
      "Training...\n"
     ]
    },
    {
     "name": "stderr",
     "output_type": "stream",
     "text": [
      "100%|█████████████████████████████████████████████████████████████████████████████████| 87/87 [00:00<00:00, 591.87it/s]\n"
     ]
    },
    {
     "name": "stdout",
     "output_type": "stream",
     "text": [
      "Total loss: 180.9194781780243\n",
      "Validation accuracy: 0.5\n",
      "\n",
      "======== Epoch 178 / 200 ========\n",
      "Training...\n"
     ]
    },
    {
     "name": "stderr",
     "output_type": "stream",
     "text": [
      "100%|█████████████████████████████████████████████████████████████████████████████████| 87/87 [00:00<00:00, 587.86it/s]\n"
     ]
    },
    {
     "name": "stdout",
     "output_type": "stream",
     "text": [
      "Total loss: 180.86210799217224\n",
      "Validation accuracy: 0.5\n",
      "\n",
      "======== Epoch 179 / 200 ========\n",
      "Training...\n"
     ]
    },
    {
     "name": "stderr",
     "output_type": "stream",
     "text": [
      "100%|█████████████████████████████████████████████████████████████████████████████████| 87/87 [00:00<00:00, 576.18it/s]\n"
     ]
    },
    {
     "name": "stdout",
     "output_type": "stream",
     "text": [
      "Total loss: 180.86227178573608\n",
      "Validation accuracy: 0.5\n",
      "\n",
      "======== Epoch 180 / 200 ========\n",
      "Training...\n"
     ]
    },
    {
     "name": "stderr",
     "output_type": "stream",
     "text": [
      "100%|█████████████████████████████████████████████████████████████████████████████████| 87/87 [00:00<00:00, 595.91it/s]\n"
     ]
    },
    {
     "name": "stdout",
     "output_type": "stream",
     "text": [
      "Total loss: 180.86363697052002\n",
      "Validation accuracy: 0.5\n",
      "\n",
      "======== Epoch 181 / 200 ========\n",
      "Training...\n"
     ]
    },
    {
     "name": "stderr",
     "output_type": "stream",
     "text": [
      "100%|█████████████████████████████████████████████████████████████████████████████████| 87/87 [00:00<00:00, 591.85it/s]\n"
     ]
    },
    {
     "name": "stdout",
     "output_type": "stream",
     "text": [
      "Total loss: 180.86220741271973\n",
      "Validation accuracy: 0.5\n",
      "\n",
      "======== Epoch 182 / 200 ========\n",
      "Training...\n"
     ]
    },
    {
     "name": "stderr",
     "output_type": "stream",
     "text": [
      "100%|█████████████████████████████████████████████████████████████████████████████████| 87/87 [00:00<00:00, 600.02it/s]\n"
     ]
    },
    {
     "name": "stdout",
     "output_type": "stream",
     "text": [
      "Total loss: 180.86219596862793\n",
      "Validation accuracy: 0.5\n",
      "\n",
      "======== Epoch 183 / 200 ========\n",
      "Training...\n"
     ]
    },
    {
     "name": "stderr",
     "output_type": "stream",
     "text": [
      "100%|█████████████████████████████████████████████████████████████████████████████████| 87/87 [00:00<00:00, 595.91it/s]\n"
     ]
    },
    {
     "name": "stdout",
     "output_type": "stream",
     "text": [
      "Total loss: 180.86221981048584\n",
      "Validation accuracy: 0.5\n",
      "\n",
      "======== Epoch 184 / 200 ========\n",
      "Training...\n"
     ]
    },
    {
     "name": "stderr",
     "output_type": "stream",
     "text": [
      "100%|█████████████████████████████████████████████████████████████████████████████████| 87/87 [00:00<00:00, 600.01it/s]\n"
     ]
    },
    {
     "name": "stdout",
     "output_type": "stream",
     "text": [
      "Total loss: 180.86259365081787\n",
      "Validation accuracy: 0.5\n",
      "\n",
      "======== Epoch 185 / 200 ========\n",
      "Training...\n"
     ]
    },
    {
     "name": "stderr",
     "output_type": "stream",
     "text": [
      "100%|█████████████████████████████████████████████████████████████████████████████████| 87/87 [00:00<00:00, 591.79it/s]\n"
     ]
    },
    {
     "name": "stdout",
     "output_type": "stream",
     "text": [
      "Total loss: 180.86198830604553\n",
      "Validation accuracy: 0.5\n",
      "\n",
      "======== Epoch 186 / 200 ========\n",
      "Training...\n"
     ]
    },
    {
     "name": "stderr",
     "output_type": "stream",
     "text": [
      "100%|█████████████████████████████████████████████████████████████████████████████████| 87/87 [00:00<00:00, 561.30it/s]\n"
     ]
    },
    {
     "name": "stdout",
     "output_type": "stream",
     "text": [
      "Total loss: 180.86251187324524\n",
      "Validation accuracy: 0.5\n",
      "\n",
      "======== Epoch 187 / 200 ========\n",
      "Training...\n"
     ]
    },
    {
     "name": "stderr",
     "output_type": "stream",
     "text": [
      "100%|█████████████████████████████████████████████████████████████████████████████████| 87/87 [00:00<00:00, 591.86it/s]\n"
     ]
    },
    {
     "name": "stdout",
     "output_type": "stream",
     "text": [
      "Total loss: 180.86567616462708\n",
      "Validation accuracy: 0.5\n",
      "\n",
      "======== Epoch 188 / 200 ========\n",
      "Training...\n"
     ]
    },
    {
     "name": "stderr",
     "output_type": "stream",
     "text": [
      "100%|█████████████████████████████████████████████████████████████████████████████████| 87/87 [00:00<00:00, 587.86it/s]\n"
     ]
    },
    {
     "name": "stdout",
     "output_type": "stream",
     "text": [
      "Total loss: 180.86213326454163\n",
      "Validation accuracy: 0.5\n",
      "\n",
      "======== Epoch 189 / 200 ========\n",
      "Training...\n"
     ]
    },
    {
     "name": "stderr",
     "output_type": "stream",
     "text": [
      "100%|█████████████████████████████████████████████████████████████████████████████████| 87/87 [00:00<00:00, 608.43it/s]\n"
     ]
    },
    {
     "name": "stdout",
     "output_type": "stream",
     "text": [
      "Total loss: 180.86199593544006\n",
      "Validation accuracy: 0.5\n",
      "\n",
      "======== Epoch 190 / 200 ========\n",
      "Training...\n"
     ]
    },
    {
     "name": "stderr",
     "output_type": "stream",
     "text": [
      "100%|█████████████████████████████████████████████████████████████████████████████████| 87/87 [00:00<00:00, 600.02it/s]\n"
     ]
    },
    {
     "name": "stdout",
     "output_type": "stream",
     "text": [
      "Total loss: 180.86421251296997\n",
      "Validation accuracy: 0.5\n",
      "\n",
      "======== Epoch 191 / 200 ========\n",
      "Training...\n"
     ]
    },
    {
     "name": "stderr",
     "output_type": "stream",
     "text": [
      "100%|█████████████████████████████████████████████████████████████████████████████████| 87/87 [00:00<00:00, 583.91it/s]\n"
     ]
    },
    {
     "name": "stdout",
     "output_type": "stream",
     "text": [
      "Total loss: 180.86199402809143\n",
      "Validation accuracy: 0.5\n",
      "\n",
      "======== Epoch 192 / 200 ========\n",
      "Training...\n"
     ]
    },
    {
     "name": "stderr",
     "output_type": "stream",
     "text": [
      "100%|█████████████████████████████████████████████████████████████████████████████████| 87/87 [00:00<00:00, 604.18it/s]\n"
     ]
    },
    {
     "name": "stdout",
     "output_type": "stream",
     "text": [
      "Total loss: 180.86199069023132\n",
      "Validation accuracy: 0.5\n",
      "\n",
      "======== Epoch 193 / 200 ========\n",
      "Training...\n"
     ]
    },
    {
     "name": "stderr",
     "output_type": "stream",
     "text": [
      "100%|█████████████████████████████████████████████████████████████████████████████████| 87/87 [00:00<00:00, 580.02it/s]\n"
     ]
    },
    {
     "name": "stdout",
     "output_type": "stream",
     "text": [
      "Total loss: 180.86198902130127\n",
      "Validation accuracy: 0.5\n",
      "\n",
      "======== Epoch 194 / 200 ========\n",
      "Training...\n"
     ]
    },
    {
     "name": "stderr",
     "output_type": "stream",
     "text": [
      "100%|█████████████████████████████████████████████████████████████████████████████████| 87/87 [00:00<00:00, 583.91it/s]\n"
     ]
    },
    {
     "name": "stdout",
     "output_type": "stream",
     "text": [
      "Total loss: 180.86674737930298\n",
      "Validation accuracy: 0.5\n",
      "\n",
      "======== Epoch 195 / 200 ========\n",
      "Training...\n"
     ]
    },
    {
     "name": "stderr",
     "output_type": "stream",
     "text": [
      "100%|█████████████████████████████████████████████████████████████████████████████████| 87/87 [00:00<00:00, 583.92it/s]\n"
     ]
    },
    {
     "name": "stdout",
     "output_type": "stream",
     "text": [
      "Total loss: 180.86203002929688\n",
      "Validation accuracy: 0.5\n",
      "\n",
      "======== Epoch 196 / 200 ========\n",
      "Training...\n"
     ]
    },
    {
     "name": "stderr",
     "output_type": "stream",
     "text": [
      "100%|█████████████████████████████████████████████████████████████████████████████████| 87/87 [00:00<00:00, 587.86it/s]\n"
     ]
    },
    {
     "name": "stdout",
     "output_type": "stream",
     "text": [
      "Total loss: 180.86217665672302\n",
      "Validation accuracy: 0.5\n",
      "\n",
      "======== Epoch 197 / 200 ========\n",
      "Training...\n"
     ]
    },
    {
     "name": "stderr",
     "output_type": "stream",
     "text": [
      "100%|█████████████████████████████████████████████████████████████████████████████████| 87/87 [00:00<00:00, 595.92it/s]\n"
     ]
    },
    {
     "name": "stdout",
     "output_type": "stream",
     "text": [
      "Total loss: 180.8969690799713\n",
      "Validation accuracy: 0.5\n",
      "\n",
      "======== Epoch 198 / 200 ========\n",
      "Training...\n"
     ]
    },
    {
     "name": "stderr",
     "output_type": "stream",
     "text": [
      "100%|█████████████████████████████████████████████████████████████████████████████████| 87/87 [00:00<00:00, 587.86it/s]\n"
     ]
    },
    {
     "name": "stdout",
     "output_type": "stream",
     "text": [
      "Total loss: 180.8620011806488\n",
      "Validation accuracy: 0.5\n",
      "\n",
      "======== Epoch 199 / 200 ========\n",
      "Training...\n"
     ]
    },
    {
     "name": "stderr",
     "output_type": "stream",
     "text": [
      "100%|█████████████████████████████████████████████████████████████████████████████████| 87/87 [00:00<00:00, 591.85it/s]\n"
     ]
    },
    {
     "name": "stdout",
     "output_type": "stream",
     "text": [
      "Total loss: 180.86199069023132\n",
      "Validation accuracy: 0.5\n",
      "\n",
      "======== Epoch 200 / 200 ========\n",
      "Training...\n"
     ]
    },
    {
     "name": "stderr",
     "output_type": "stream",
     "text": [
      "100%|█████████████████████████████████████████████████████████████████████████████████| 87/87 [00:00<00:00, 568.64it/s]\n"
     ]
    },
    {
     "name": "stdout",
     "output_type": "stream",
     "text": [
      "Total loss: 180.87264752388\n",
      "Validation accuracy: 0.5\n",
      "\n",
      "Training complete!\n"
     ]
    }
   ],
   "source": [
    "class DeepClassifier(nn.Module):\n",
    "    \n",
    "    def __init__(self, input_dim, hidden_dim, output_dim):\n",
    "        super(DeepClassifier, self).__init__()\n",
    "        self.linear1 = nn.Linear(input_dim, hidden_dim)\n",
    "        self.linear2 = nn.Linear(hidden_dim, output_dim)\n",
    "        \n",
    "        self.relu = nn.ReLU()\n",
    "        self.softmax = nn.Softmax()\n",
    "        \n",
    "        self.dropout = nn.Dropout(p=0.5)\n",
    "\n",
    "    def forward(self, x):\n",
    "        hidden = self.linear1(x)\n",
    "        hidden = self.relu(hidden)\n",
    "        \n",
    "        hidden = self.dropout(hidden)\n",
    "        \n",
    "        hidden = self.linear2(hidden)\n",
    "        out = self.softmax(hidden)\n",
    "        \n",
    "        return out\n",
    "    \n",
    "\n",
    "input_dim = training_inputs.shape[1]\n",
    "hidden_dim = 128\n",
    "output_dim = len(label_string_to_ID)\n",
    "\n",
    "model = DeepClassifier(input_dim, hidden_dim, output_dim)\n",
    "\n",
    "\n",
    "\n",
    "\n",
    "# Tell pytorch to run this model on the GPU.\n",
    "model.cuda()\n",
    "\n",
    "criterion = nn.CrossEntropyLoss()\n",
    "\n",
    "hyperparameter_config_iter = 1\n",
    "\n",
    "save_path = \"Saved models/Authors and abstract/Hyperparameter configuration \" + str(hyperparameter_config_iter)\n",
    "\n",
    "if(os.path.exists(save_path)):\n",
    "    raise Exception(\"ERROR! Hyperparameter config \" + str(hyperparameter_config_iter))\n",
    "\n",
    "else:\n",
    "    os.makedirs(save_path)\n",
    "    os.makedirs(save_path + \"/Plots\")\n",
    "\n",
    "\n",
    "# Fine-tuning hyperparameters\n",
    "\n",
    "batch_size = 16\n",
    "\n",
    "optimizer = torch.optim.Adam(model.parameters())\n",
    "epochs = 200\n",
    "\n",
    "hyperparameter_dict = dict()\n",
    "hyperparameter_dict['batch_size'] = batch_size\n",
    "hyperparameter_dict['epochs'] = epochs\n",
    "\n",
    "\n",
    "with open(save_path + \"/Hyperparameters.json\", 'w') as f:\n",
    "    json.dump(hyperparameter_dict, f)\n",
    "\n",
    "def save(model, optimizer, output_path):\n",
    "    torch.save({'model_state_dict': model.state_dict(), 'optimizer_state_dict': optimizer.state_dict()}, output_path)\n",
    "\n",
    "# function to get validation accuracy\n",
    "def get_performance(data_set):\n",
    "    # Put the model in evaluation mode\n",
    "    model.eval()\n",
    "\n",
    "    # Tracking variables \n",
    "    total_eval_accuracy = 0\n",
    "    total_eval_loss = 0\n",
    "\n",
    "    num_batches = int(len(data_set)/batch_size) + 1\n",
    "\n",
    "    total_correct = 0\n",
    "\n",
    "    for i in range(num_batches):\n",
    "\n",
    "        end_index = min(batch_size * (i+1), len(data_set))\n",
    "        \n",
    "        if len(data_set[0]) == 0: continue\n",
    "\n",
    "        input_id_tensors = data_set[0][i*batch_size:end_index]\n",
    "        label_tensors = data_set[1][i*batch_size:end_index]\n",
    "\n",
    "        # Move tensors to the GPU\n",
    "        b_input_ids = input_id_tensors.to(device)\n",
    "        b_labels = label_tensors.to(device)\n",
    "\n",
    "        # Tell pytorch not to bother with constructing the compute graph during\n",
    "        # the forward pass, since this is only needed for backprop (training).\n",
    "        with torch.no_grad():        \n",
    "\n",
    "            # Forward pass, calculate logit predictions.\n",
    "            b_outputs = model(b_input_ids)\n",
    "            \n",
    "            loss = criterion(b_outputs, b_labels)\n",
    "\n",
    "            logits = b_outputs\n",
    "\n",
    "            # Accumulate the validation loss.\n",
    "            total_eval_loss += loss.item()\n",
    "\n",
    "            # Move logits and labels to CPU\n",
    "            logits = logits.detach().cpu().numpy()\n",
    "            label_ids = b_labels.to('cpu').numpy()\n",
    "\n",
    "            # Calculate the number of correctly labeled examples in batch\n",
    "            pred_flat = np.argmax(logits, axis=1).flatten()\n",
    "            labels_flat = label_ids.flatten()\n",
    "            num_correct = np.sum(pred_flat == labels_flat)\n",
    "            total_correct += num_correct\n",
    "        \n",
    "    # Report the final accuracy for this validation run.\n",
    "    avg_val_accuracy = total_correct / len(data_set)\n",
    "    return avg_val_accuracy\n",
    "\n",
    "# training loop\n",
    "\n",
    "max_val_acc = -1\n",
    "\n",
    "metric_vs_epoch = dict()\n",
    "\n",
    "epoch_list = []\n",
    "training_loss_list = []\n",
    "training_acc_list = []\n",
    "\n",
    "val_acc_list = []\n",
    "\n",
    "# For each epoch...\n",
    "for epoch_i in range(0, epochs):\n",
    "    \n",
    "    epoch_list.append(epoch_i + 1)\n",
    "    \n",
    "    # Perform one full pass over the training set.\n",
    "\n",
    "    print(\"\")\n",
    "    print('======== Epoch {:} / {:} ========'.format(epoch_i + 1, epochs))\n",
    "    print('Training...')\n",
    "\n",
    "    # Reset the total loss for this epoch.\n",
    "    total_train_loss = 0\n",
    "\n",
    "    # Put the model into training mode.\n",
    "    model.train()\n",
    "\n",
    "    # For each batch of training data...\n",
    "    num_batches = int(training_inputs.shape[0]/batch_size) + 1\n",
    "\n",
    "    for i in tqdm(range(num_batches)):\n",
    "        \n",
    "        end_index = min(batch_size * (i+1), training_inputs.shape[0])\n",
    "\n",
    "        b_input_ids = training_inputs[i*batch_size:end_index]\n",
    "        b_labels = training_label_IDs[i*batch_size:end_index]\n",
    "\n",
    "        if len(b_input_ids) == 0: continue\n",
    "\n",
    "        # Move tensors to the GPU\n",
    "        b_input_ids = b_input_ids.to(device)\n",
    "        b_labels = b_labels.to(device)\n",
    "\n",
    "        # Clear the previously calculated gradient\n",
    "        model.zero_grad()\n",
    "\n",
    "        # Perform a forward pass (evaluate the model on this training batch).\n",
    "        b_outputs = model(b_input_ids)\n",
    "        \n",
    "        loss = criterion(b_outputs, b_labels)\n",
    "        \n",
    "        #logits = outputs.logits\n",
    "\n",
    "        total_train_loss += loss.item()\n",
    "\n",
    "        # Perform a backward pass to calculate the gradients.\n",
    "        loss.backward()\n",
    "\n",
    "        # Update parameters and take a step using the computed gradient.\n",
    "        optimizer.step()\n",
    "        \n",
    "    # ========================================\n",
    "    #               Validation\n",
    "    # ========================================\n",
    "    # After the completion of each training epoch, measure our performance on\n",
    "    # our validation set. Implement this function in the cell above.\n",
    "    \n",
    "    training_acc = get_performance([training_inputs, training_label_IDs])\n",
    "    val_acc = get_performance([validation_inputs, validation_label_IDs])\n",
    "    \n",
    "    print(f\"Total loss: {total_train_loss}\")\n",
    "    print(f\"Validation accuracy: {val_acc}\")\n",
    "    \n",
    "    val_acc_list.append(val_acc)\n",
    "    training_acc_list.append(training_acc)\n",
    "    \n",
    "    training_loss_list.append(total_train_loss)\n",
    "    \n",
    "    if(val_acc > max_val_acc):\n",
    "        \n",
    "        max_val_acc = val_acc\n",
    "        \n",
    "        torch.save(model.state_dict(), save_path + \"/best validation accuracy model.model\")\n",
    "        save(model, optimizer, save_path + \"/best validation accuracy.modelState\")\n",
    "    \n",
    "    \n",
    "print(\"\")\n",
    "print(\"Training complete!\")            \n",
    "\n",
    "metric_vs_epoch[\"Epochs\"] = epoch_list\n",
    "metric_vs_epoch[\"Training loss\"] = training_loss_list\n",
    "metric_vs_epoch[\"Training accuracy\"] = training_acc_list\n",
    "metric_vs_epoch[\"Validation accuracy\"] = val_acc_list\n",
    "\n",
    "with open(save_path + \"/Plots/Plot data.json\", 'w') as f:\n",
    "    json.dump(metric_vs_epoch, f)\n",
    "\n",
    "metric_vs_epoch_df = pd.DataFrame(metric_vs_epoch, columns = [\"Epochs\", \"Training loss\", \"Training accuracy\", \"Validation accuracy\"])\n",
    "\n",
    "fig = px.line(metric_vs_epoch_df, x='Epochs', y=\"Training loss\", title=\"Training loss vs epochs\")\n",
    "plotly.offline.plot(fig, filename = save_path + \"/Plots/Training loss.html\")\n",
    "\n",
    "accuracy_vs_epoch = dict()\n",
    "accuracy_vs_epoch[\"Epochs\"] = epoch_list + epoch_list\n",
    "accuracy_vs_epoch[\"Accuracy\"] = training_acc_list + val_acc_list\n",
    "accuracy_vs_epoch[\"Dataset\"] = [\"Training\"]*len(training_acc_list) + [\"Validation\"]*len(val_acc_list)\n",
    "\n",
    "accuracy_vs_epoch_df = pd.DataFrame(accuracy_vs_epoch, columns = [\"Epochs\", \"Accuracy\", \"Dataset\"])\n",
    "\n",
    "fig = px.line(accuracy_vs_epoch_df, x='Epochs', y='Accuracy', color='Dataset', markers=True, title=\"Training/Validation accuracy vs epochs\")\n",
    "plotly.offline.plot(fig, filename = save_path + \"/Plots/Accuracy.html\")\n",
    "\n",
    "with open(save_path + \"/Best validation accuracy.txt\", 'w') as f:\n",
    "    f.write(\"Best validation accuracy: \" + str(max_val_acc))"
   ]
  }
 ],
 "metadata": {
  "kernelspec": {
   "display_name": "Python [conda env:NLP]",
   "language": "python",
   "name": "conda-env-NLP-py"
  },
  "language_info": {
   "codemirror_mode": {
    "name": "ipython",
    "version": 3
   },
   "file_extension": ".py",
   "mimetype": "text/x-python",
   "name": "python",
   "nbconvert_exporter": "python",
   "pygments_lexer": "ipython3",
   "version": "3.9.7"
  }
 },
 "nbformat": 4,
 "nbformat_minor": 5
}
