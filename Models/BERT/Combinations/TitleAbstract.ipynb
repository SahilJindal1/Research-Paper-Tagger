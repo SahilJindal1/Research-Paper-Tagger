{
 "cells": [
  {
   "cell_type": "code",
   "execution_count": 1,
   "id": "9cc28d1d",
   "metadata": {},
   "outputs": [],
   "source": [
    "import os\n",
    "import zipfile\n",
    "import json\n",
    "import random\n",
    "from tqdm import tqdm\n",
    "import plotly\n",
    "import plotly.express as px\n",
    "import plotly.graph_objects as go\n",
    "\n",
    "import numpy as np\n",
    "import pandas as pd\n",
    "\n",
    "from helpers import tokenize_and_format, flat_accuracy\n",
    "\n",
    "import torch\n",
    "import torch.nn as nn\n",
    "import torch.nn.functional as F\n",
    "from transformers import BertForSequenceClassification, AdamW, BertConfig, get_linear_schedule_with_warmup"
   ]
  },
  {
   "cell_type": "code",
   "execution_count": 2,
   "id": "cac15081",
   "metadata": {},
   "outputs": [
    {
     "name": "stdout",
     "output_type": "stream",
     "text": [
      "Found device: NVIDIA GeForce RTX 2060 with Max-Q Design, n_gpu: 1\n"
     ]
    }
   ],
   "source": [
    "random.seed(0)\n",
    "np.random.seed(0)\n",
    "\n",
    "torch.manual_seed(0)\n",
    "torch.use_deterministic_algorithms(False)\n",
    "# Confirm that the GPU is detected\n",
    "\n",
    "assert torch.cuda.is_available()\n",
    "\n",
    "# Get the GPU device name.\n",
    "device_name = torch.cuda.get_device_name()\n",
    "n_gpu = torch.cuda.device_count()\n",
    "print(f\"Found device: {device_name}, n_gpu: {n_gpu}\")\n",
    "device = torch.device(\"cuda\")"
   ]
  },
  {
   "cell_type": "markdown",
   "id": "6c7a23be",
   "metadata": {},
   "source": [
    "### Load data"
   ]
  },
  {
   "cell_type": "code",
   "execution_count": 3,
   "id": "22febb40",
   "metadata": {},
   "outputs": [],
   "source": [
    "title_train = torch.load(\"Data/BERT output/title_train.pt\")\n",
    "title_val = torch.load(\"Data/BERT output/title_val.pt\")\n",
    "title_test = torch.load(\"Data/BERT output/title_test.pt\")\n",
    "\n",
    "abstract_train = torch.load(\"Data/BERT output/abstract_train.pt\")\n",
    "abstract_val = torch.load(\"Data/BERT output/abstract_val.pt\")\n",
    "abstract_test = torch.load(\"Data/BERT output/abstract_test.pt\")"
   ]
  },
  {
   "cell_type": "code",
   "execution_count": 4,
   "id": "7b8bbbff",
   "metadata": {},
   "outputs": [],
   "source": [
    "training_inputs = torch.cat([title_train, abstract_train], dim = 1)\n",
    "validation_inputs = torch.cat([title_val, abstract_val], dim = 1)\n",
    "test_inputs = torch.cat([title_test, abstract_test], dim = 1)"
   ]
  },
  {
   "cell_type": "code",
   "execution_count": 5,
   "id": "2b11cccf",
   "metadata": {},
   "outputs": [],
   "source": [
    "with open(\"Data/Raw data/training_data.jsonl\", \"r\") as f:\n",
    "    training_data = json.load(f)\n",
    "    \n",
    "with open(\"Data/Raw data/validation_data.jsonl\", \"r\") as f:\n",
    "    validation_data = json.load(f)\n",
    "    \n",
    "with open(\"Data/Raw data/test_data.jsonl\", \"r\") as f:\n",
    "    test_data = json.load(f)\n",
    "\n",
    "with open(\"Data/Metadata/label_string_to_ID.jsonl\", \"r\") as f:\n",
    "    label_string_to_ID = json.load(f)\n",
    "    \n",
    "with open(\"Data/Metadata/label_ID_to_string.jsonl\", \"r\") as f:\n",
    "    label_ID_to_string = json.load(f)\n",
    "\n",
    "training_label_strings = []\n",
    "validation_label_strings = []\n",
    "test_label_strings = []\n",
    "\n",
    "for training_example in training_data:\n",
    "    training_label_strings.append(training_example[1])\n",
    "    \n",
    "for validation_example in validation_data:\n",
    "    validation_label_strings.append(validation_example[1])\n",
    "    \n",
    "for test_example in test_data:\n",
    "    test_label_strings.append(test_example[1])\n",
    "    \n",
    "training_label_IDs = []\n",
    "validation_label_IDs = []\n",
    "test_label_IDs = []\n",
    "\n",
    "for training_label_string in training_label_strings:\n",
    "    training_label_IDs.append(label_string_to_ID[training_label_string])\n",
    "    \n",
    "for validation_label_string in validation_label_strings:\n",
    "    validation_label_IDs.append(label_string_to_ID[validation_label_string])\n",
    "    \n",
    "for test_label_string in test_label_strings:\n",
    "    test_label_IDs.append(label_string_to_ID[test_label_string])\n",
    "    \n",
    "training_label_IDs = torch.tensor(training_label_IDs)\n",
    "validation_label_IDs = torch.tensor(validation_label_IDs)\n",
    "test_label_IDs = torch.tensor(test_label_IDs)"
   ]
  },
  {
   "cell_type": "markdown",
   "id": "3313ae70",
   "metadata": {},
   "source": [
    "### Train the deep classifier"
   ]
  },
  {
   "cell_type": "code",
   "execution_count": 6,
   "id": "5c2d53bf",
   "metadata": {
    "scrolled": true
   },
   "outputs": [
    {
     "name": "stdout",
     "output_type": "stream",
     "text": [
      "\n",
      "======== Epoch 1 / 200 ========\n",
      "Training...\n"
     ]
    },
    {
     "name": "stderr",
     "output_type": "stream",
     "text": [
      "  0%|                                                                                           | 0/22 [00:00<?, ?it/s]C:\\Users\\arbaa\\AppData\\Local\\Temp/ipykernel_17688/1427435524.py:10: UserWarning: Implicit dimension choice for softmax has been deprecated. Change the call to include dim=X as an argument.\n",
      "  out = self.output(out)\n",
      "100%|██████████████████████████████████████████████████████████████████████████████████| 22/22 [00:00<00:00, 29.61it/s]\n"
     ]
    },
    {
     "name": "stdout",
     "output_type": "stream",
     "text": [
      "Total loss: 50.7719988822937\n",
      "Validation accuracy: 0.5\n",
      "\n",
      "======== Epoch 2 / 200 ========\n",
      "Training...\n"
     ]
    },
    {
     "name": "stderr",
     "output_type": "stream",
     "text": [
      "100%|█████████████████████████████████████████████████████████████████████████████████| 22/22 [00:00<00:00, 814.88it/s]\n"
     ]
    },
    {
     "name": "stdout",
     "output_type": "stream",
     "text": [
      "Total loss: 45.77286338806152\n",
      "Validation accuracy: 0.5\n",
      "\n",
      "======== Epoch 3 / 200 ========\n",
      "Training...\n"
     ]
    },
    {
     "name": "stderr",
     "output_type": "stream",
     "text": [
      "100%|█████████████████████████████████████████████████████████████████████████████████| 22/22 [00:00<00:00, 880.22it/s]\n"
     ]
    },
    {
     "name": "stdout",
     "output_type": "stream",
     "text": [
      "Total loss: 45.74944472312927\n",
      "Validation accuracy: 0.5\n",
      "\n",
      "======== Epoch 4 / 200 ========\n",
      "Training...\n"
     ]
    },
    {
     "name": "stderr",
     "output_type": "stream",
     "text": [
      "100%|█████████████████████████████████████████████████████████████████████████████████| 22/22 [00:00<00:00, 814.85it/s]\n"
     ]
    },
    {
     "name": "stdout",
     "output_type": "stream",
     "text": [
      "Total loss: 45.740986824035645\n",
      "Validation accuracy: 0.5\n",
      "\n",
      "======== Epoch 5 / 200 ========\n",
      "Training...\n"
     ]
    },
    {
     "name": "stderr",
     "output_type": "stream",
     "text": [
      "100%|█████████████████████████████████████████████████████████████████████████████████| 22/22 [00:00<00:00, 880.08it/s]\n"
     ]
    },
    {
     "name": "stdout",
     "output_type": "stream",
     "text": [
      "Total loss: 45.73984718322754\n",
      "Validation accuracy: 0.5\n",
      "\n",
      "======== Epoch 6 / 200 ========\n",
      "Training...\n"
     ]
    },
    {
     "name": "stderr",
     "output_type": "stream",
     "text": [
      "100%|█████████████████████████████████████████████████████████████████████████████████| 22/22 [00:00<00:00, 785.80it/s]\n"
     ]
    },
    {
     "name": "stdout",
     "output_type": "stream",
     "text": [
      "Total loss: 45.73912048339844\n",
      "Validation accuracy: 0.5\n",
      "\n",
      "======== Epoch 7 / 200 ========\n",
      "Training...\n"
     ]
    },
    {
     "name": "stderr",
     "output_type": "stream",
     "text": [
      "100%|█████████████████████████████████████████████████████████████████████████████████| 22/22 [00:00<00:00, 785.80it/s]\n"
     ]
    },
    {
     "name": "stdout",
     "output_type": "stream",
     "text": [
      "Total loss: 45.73864126205444\n",
      "Validation accuracy: 0.5\n",
      "\n",
      "======== Epoch 8 / 200 ========\n",
      "Training...\n"
     ]
    },
    {
     "name": "stderr",
     "output_type": "stream",
     "text": [
      "100%|█████████████████████████████████████████████████████████████████████████████████| 22/22 [00:00<00:00, 916.78it/s]\n"
     ]
    },
    {
     "name": "stdout",
     "output_type": "stream",
     "text": [
      "Total loss: 45.73829245567322\n",
      "Validation accuracy: 0.5\n",
      "\n",
      "======== Epoch 9 / 200 ========\n",
      "Training...\n"
     ]
    },
    {
     "name": "stderr",
     "output_type": "stream",
     "text": [
      "100%|█████████████████████████████████████████████████████████████████████████████████| 22/22 [00:00<00:00, 880.06it/s]\n"
     ]
    },
    {
     "name": "stdout",
     "output_type": "stream",
     "text": [
      "Total loss: 45.73801922798157\n",
      "Validation accuracy: 0.5\n",
      "\n",
      "======== Epoch 10 / 200 ========\n",
      "Training...\n"
     ]
    },
    {
     "name": "stderr",
     "output_type": "stream",
     "text": [
      "100%|█████████████████████████████████████████████████████████████████████████████████| 22/22 [00:00<00:00, 758.66it/s]\n"
     ]
    },
    {
     "name": "stdout",
     "output_type": "stream",
     "text": [
      "Total loss: 45.73779773712158\n",
      "Validation accuracy: 0.5\n",
      "\n",
      "======== Epoch 11 / 200 ========\n",
      "Training...\n"
     ]
    },
    {
     "name": "stderr",
     "output_type": "stream",
     "text": [
      "100%|█████████████████████████████████████████████████████████████████████████████████| 22/22 [00:00<00:00, 846.19it/s]\n"
     ]
    },
    {
     "name": "stdout",
     "output_type": "stream",
     "text": [
      "Total loss: 45.73760795593262\n",
      "Validation accuracy: 0.5\n",
      "\n",
      "======== Epoch 12 / 200 ========\n",
      "Training...\n"
     ]
    },
    {
     "name": "stderr",
     "output_type": "stream",
     "text": [
      "100%|█████████████████████████████████████████████████████████████████████████████████| 22/22 [00:00<00:00, 785.75it/s]\n"
     ]
    },
    {
     "name": "stdout",
     "output_type": "stream",
     "text": [
      "Total loss: 45.7374472618103\n",
      "Validation accuracy: 0.5\n",
      "\n",
      "======== Epoch 13 / 200 ========\n",
      "Training...\n"
     ]
    },
    {
     "name": "stderr",
     "output_type": "stream",
     "text": [
      "100%|█████████████████████████████████████████████████████████████████████████████████| 22/22 [00:00<00:00, 814.90it/s]\n"
     ]
    },
    {
     "name": "stdout",
     "output_type": "stream",
     "text": [
      "Total loss: 45.737303733825684\n",
      "Validation accuracy: 0.5\n",
      "\n",
      "======== Epoch 14 / 200 ========\n",
      "Training...\n"
     ]
    },
    {
     "name": "stderr",
     "output_type": "stream",
     "text": [
      "100%|█████████████████████████████████████████████████████████████████████████████████| 22/22 [00:00<00:00, 611.36it/s]\n"
     ]
    },
    {
     "name": "stdout",
     "output_type": "stream",
     "text": [
      "Total loss: 45.73717975616455\n",
      "Validation accuracy: 0.5\n",
      "\n",
      "======== Epoch 15 / 200 ========\n",
      "Training...\n"
     ]
    },
    {
     "name": "stderr",
     "output_type": "stream",
     "text": [
      "100%|█████████████████████████████████████████████████████████████████████████████████| 22/22 [00:00<00:00, 846.25it/s]\n"
     ]
    },
    {
     "name": "stdout",
     "output_type": "stream",
     "text": [
      "Total loss: 45.737067461013794\n",
      "Validation accuracy: 0.5\n",
      "\n",
      "======== Epoch 16 / 200 ========\n",
      "Training...\n"
     ]
    },
    {
     "name": "stderr",
     "output_type": "stream",
     "text": [
      "100%|█████████████████████████████████████████████████████████████████████████████████| 22/22 [00:00<00:00, 846.07it/s]\n"
     ]
    },
    {
     "name": "stdout",
     "output_type": "stream",
     "text": [
      "Total loss: 45.73696422576904\n",
      "Validation accuracy: 0.5\n",
      "\n",
      "======== Epoch 17 / 200 ========\n",
      "Training...\n"
     ]
    },
    {
     "name": "stderr",
     "output_type": "stream",
     "text": [
      "100%|█████████████████████████████████████████████████████████████████████████████████| 22/22 [00:00<00:00, 846.21it/s]\n"
     ]
    },
    {
     "name": "stdout",
     "output_type": "stream",
     "text": [
      "Total loss: 45.73687124252319\n",
      "Validation accuracy: 0.5\n",
      "\n",
      "======== Epoch 18 / 200 ========\n",
      "Training...\n"
     ]
    },
    {
     "name": "stderr",
     "output_type": "stream",
     "text": [
      "100%|█████████████████████████████████████████████████████████████████████████████████| 22/22 [00:00<00:00, 880.09it/s]\n"
     ]
    },
    {
     "name": "stdout",
     "output_type": "stream",
     "text": [
      "Total loss: 45.736785888671875\n",
      "Validation accuracy: 0.5\n",
      "\n",
      "======== Epoch 19 / 200 ========\n",
      "Training...\n"
     ]
    },
    {
     "name": "stderr",
     "output_type": "stream",
     "text": [
      "100%|█████████████████████████████████████████████████████████████████████████████████| 22/22 [00:00<00:00, 846.20it/s]\n"
     ]
    },
    {
     "name": "stdout",
     "output_type": "stream",
     "text": [
      "Total loss: 45.73670554161072\n",
      "Validation accuracy: 0.5\n",
      "\n",
      "======== Epoch 20 / 200 ========\n",
      "Training...\n"
     ]
    },
    {
     "name": "stderr",
     "output_type": "stream",
     "text": [
      "100%|█████████████████████████████████████████████████████████████████████████████████| 22/22 [00:00<00:00, 814.85it/s]\n"
     ]
    },
    {
     "name": "stdout",
     "output_type": "stream",
     "text": [
      "Total loss: 45.736634969711304\n",
      "Validation accuracy: 0.5\n",
      "\n",
      "======== Epoch 21 / 200 ========\n",
      "Training...\n"
     ]
    },
    {
     "name": "stderr",
     "output_type": "stream",
     "text": [
      "100%|█████████████████████████████████████████████████████████████████████████████████| 22/22 [00:00<00:00, 880.11it/s]\n"
     ]
    },
    {
     "name": "stdout",
     "output_type": "stream",
     "text": [
      "Total loss: 45.73656439781189\n",
      "Validation accuracy: 0.5\n",
      "\n",
      "======== Epoch 22 / 200 ========\n",
      "Training...\n"
     ]
    },
    {
     "name": "stderr",
     "output_type": "stream",
     "text": [
      "100%|█████████████████████████████████████████████████████████████████████████████████| 22/22 [00:00<00:00, 785.77it/s]\n"
     ]
    },
    {
     "name": "stdout",
     "output_type": "stream",
     "text": [
      "Total loss: 45.73650145530701\n",
      "Validation accuracy: 0.5\n",
      "\n",
      "======== Epoch 23 / 200 ========\n",
      "Training...\n"
     ]
    },
    {
     "name": "stderr",
     "output_type": "stream",
     "text": [
      "100%|█████████████████████████████████████████████████████████████████████████████████| 22/22 [00:00<00:00, 733.35it/s]\n"
     ]
    },
    {
     "name": "stdout",
     "output_type": "stream",
     "text": [
      "Total loss: 45.736440896987915\n",
      "Validation accuracy: 0.5\n",
      "\n",
      "======== Epoch 24 / 200 ========\n",
      "Training...\n"
     ]
    },
    {
     "name": "stderr",
     "output_type": "stream",
     "text": [
      "100%|█████████████████████████████████████████████████████████████████████████████████| 22/22 [00:00<00:00, 880.32it/s]\n"
     ]
    },
    {
     "name": "stdout",
     "output_type": "stream",
     "text": [
      "Total loss: 45.736387729644775\n",
      "Validation accuracy: 0.5\n",
      "\n",
      "======== Epoch 25 / 200 ========\n",
      "Training...\n"
     ]
    },
    {
     "name": "stderr",
     "output_type": "stream",
     "text": [
      "100%|█████████████████████████████████████████████████████████████████████████████████| 22/22 [00:00<00:00, 814.84it/s]\n"
     ]
    },
    {
     "name": "stdout",
     "output_type": "stream",
     "text": [
      "Total loss: 45.7363338470459\n",
      "Validation accuracy: 0.5\n",
      "\n",
      "======== Epoch 26 / 200 ========\n",
      "Training...\n"
     ]
    },
    {
     "name": "stderr",
     "output_type": "stream",
     "text": [
      "100%|█████████████████████████████████████████████████████████████████████████████████| 22/22 [00:00<00:00, 916.77it/s]\n"
     ]
    },
    {
     "name": "stdout",
     "output_type": "stream",
     "text": [
      "Total loss: 45.7362859249115\n",
      "Validation accuracy: 0.5\n",
      "\n",
      "======== Epoch 27 / 200 ========\n",
      "Training...\n"
     ]
    },
    {
     "name": "stderr",
     "output_type": "stream",
     "text": [
      "100%|█████████████████████████████████████████████████████████████████████████████████| 22/22 [00:00<00:00, 880.11it/s]\n"
     ]
    },
    {
     "name": "stdout",
     "output_type": "stream",
     "text": [
      "Total loss: 45.73623752593994\n",
      "Validation accuracy: 0.5\n",
      "\n",
      "======== Epoch 28 / 200 ========\n",
      "Training...\n"
     ]
    },
    {
     "name": "stderr",
     "output_type": "stream",
     "text": [
      "100%|█████████████████████████████████████████████████████████████████████████████████| 22/22 [00:00<00:00, 880.08it/s]\n"
     ]
    },
    {
     "name": "stdout",
     "output_type": "stream",
     "text": [
      "Total loss: 45.73619365692139\n",
      "Validation accuracy: 0.5\n",
      "\n",
      "======== Epoch 29 / 200 ========\n",
      "Training...\n"
     ]
    },
    {
     "name": "stderr",
     "output_type": "stream",
     "text": [
      "100%|█████████████████████████████████████████████████████████████████████████████████| 22/22 [00:00<00:00, 846.22it/s]\n"
     ]
    },
    {
     "name": "stdout",
     "output_type": "stream",
     "text": [
      "Total loss: 45.73615288734436\n",
      "Validation accuracy: 0.5\n",
      "\n",
      "======== Epoch 30 / 200 ========\n",
      "Training...\n"
     ]
    },
    {
     "name": "stderr",
     "output_type": "stream",
     "text": [
      "100%|█████████████████████████████████████████████████████████████████████████████████| 22/22 [00:00<00:00, 880.12it/s]\n"
     ]
    },
    {
     "name": "stdout",
     "output_type": "stream",
     "text": [
      "Total loss: 45.73611283302307\n",
      "Validation accuracy: 0.5\n",
      "\n",
      "======== Epoch 31 / 200 ========\n",
      "Training...\n"
     ]
    },
    {
     "name": "stderr",
     "output_type": "stream",
     "text": [
      "100%|█████████████████████████████████████████████████████████████████████████████████| 22/22 [00:00<00:00, 758.74it/s]\n"
     ]
    },
    {
     "name": "stdout",
     "output_type": "stream",
     "text": [
      "Total loss: 45.73607325553894\n",
      "Validation accuracy: 0.5\n",
      "\n",
      "======== Epoch 32 / 200 ========\n",
      "Training...\n"
     ]
    },
    {
     "name": "stderr",
     "output_type": "stream",
     "text": [
      "100%|█████████████████████████████████████████████████████████████████████████████████| 22/22 [00:00<00:00, 916.75it/s]\n"
     ]
    },
    {
     "name": "stdout",
     "output_type": "stream",
     "text": [
      "Total loss: 45.73603892326355\n",
      "Validation accuracy: 0.5\n",
      "\n",
      "======== Epoch 33 / 200 ========\n",
      "Training...\n"
     ]
    },
    {
     "name": "stderr",
     "output_type": "stream",
     "text": [
      "100%|█████████████████████████████████████████████████████████████████████████████████| 22/22 [00:00<00:00, 846.19it/s]\n"
     ]
    },
    {
     "name": "stdout",
     "output_type": "stream",
     "text": [
      "Total loss: 45.73600506782532\n",
      "Validation accuracy: 0.5\n",
      "\n",
      "======== Epoch 34 / 200 ========\n",
      "Training...\n"
     ]
    },
    {
     "name": "stderr",
     "output_type": "stream",
     "text": [
      "100%|█████████████████████████████████████████████████████████████████████████████████| 22/22 [00:00<00:00, 814.88it/s]\n"
     ]
    },
    {
     "name": "stdout",
     "output_type": "stream",
     "text": [
      "Total loss: 45.7359733581543\n",
      "Validation accuracy: 0.5\n",
      "\n",
      "======== Epoch 35 / 200 ========\n",
      "Training...\n"
     ]
    },
    {
     "name": "stderr",
     "output_type": "stream",
     "text": [
      "100%|█████████████████████████████████████████████████████████████████████████████████| 22/22 [00:00<00:00, 879.99it/s]\n"
     ]
    },
    {
     "name": "stdout",
     "output_type": "stream",
     "text": [
      "Total loss: 45.735942125320435\n",
      "Validation accuracy: 0.5\n",
      "\n",
      "======== Epoch 36 / 200 ========\n",
      "Training...\n"
     ]
    },
    {
     "name": "stderr",
     "output_type": "stream",
     "text": [
      "100%|█████████████████████████████████████████████████████████████████████████████████| 22/22 [00:00<00:00, 880.13it/s]\n"
     ]
    },
    {
     "name": "stdout",
     "output_type": "stream",
     "text": [
      "Total loss: 45.73591184616089\n",
      "Validation accuracy: 0.5\n",
      "\n",
      "======== Epoch 37 / 200 ========\n",
      "Training...\n"
     ]
    },
    {
     "name": "stderr",
     "output_type": "stream",
     "text": [
      "100%|█████████████████████████████████████████████████████████████████████████████████| 22/22 [00:00<00:00, 879.99it/s]\n"
     ]
    },
    {
     "name": "stdout",
     "output_type": "stream",
     "text": [
      "Total loss: 45.735883951187134\n",
      "Validation accuracy: 0.5\n",
      "\n",
      "======== Epoch 38 / 200 ========\n",
      "Training...\n"
     ]
    },
    {
     "name": "stderr",
     "output_type": "stream",
     "text": [
      "100%|█████████████████████████████████████████████████████████████████████████████████| 22/22 [00:00<00:00, 846.25it/s]\n"
     ]
    },
    {
     "name": "stdout",
     "output_type": "stream",
     "text": [
      "Total loss: 45.73585867881775\n",
      "Validation accuracy: 0.5\n",
      "\n",
      "======== Epoch 39 / 200 ========\n",
      "Training...\n"
     ]
    },
    {
     "name": "stderr",
     "output_type": "stream",
     "text": [
      "100%|█████████████████████████████████████████████████████████████████████████████████| 22/22 [00:00<00:00, 846.24it/s]\n"
     ]
    },
    {
     "name": "stdout",
     "output_type": "stream",
     "text": [
      "Total loss: 45.73583269119263\n",
      "Validation accuracy: 0.5\n",
      "\n",
      "======== Epoch 40 / 200 ========\n",
      "Training...\n"
     ]
    },
    {
     "name": "stderr",
     "output_type": "stream",
     "text": [
      "100%|█████████████████████████████████████████████████████████████████████████████████| 22/22 [00:00<00:00, 846.17it/s]\n"
     ]
    },
    {
     "name": "stdout",
     "output_type": "stream",
     "text": [
      "Total loss: 45.73580837249756\n",
      "Validation accuracy: 0.5\n",
      "\n",
      "======== Epoch 41 / 200 ========\n",
      "Training...\n"
     ]
    },
    {
     "name": "stderr",
     "output_type": "stream",
     "text": [
      "100%|█████████████████████████████████████████████████████████████████████████████████| 22/22 [00:00<00:00, 880.22it/s]\n"
     ]
    },
    {
     "name": "stdout",
     "output_type": "stream",
     "text": [
      "Total loss: 45.73578429222107\n",
      "Validation accuracy: 0.5\n",
      "\n",
      "======== Epoch 42 / 200 ========\n",
      "Training...\n"
     ]
    },
    {
     "name": "stderr",
     "output_type": "stream",
     "text": [
      "100%|█████████████████████████████████████████████████████████████████████████████████| 22/22 [00:00<00:00, 916.71it/s]\n"
     ]
    },
    {
     "name": "stdout",
     "output_type": "stream",
     "text": [
      "Total loss: 45.73576092720032\n",
      "Validation accuracy: 0.5\n",
      "\n",
      "======== Epoch 43 / 200 ========\n",
      "Training...\n"
     ]
    },
    {
     "name": "stderr",
     "output_type": "stream",
     "text": [
      "100%|█████████████████████████████████████████████████████████████████████████████████| 22/22 [00:00<00:00, 846.22it/s]\n"
     ]
    },
    {
     "name": "stdout",
     "output_type": "stream",
     "text": [
      "Total loss: 45.735740423202515\n",
      "Validation accuracy: 0.5\n",
      "\n",
      "======== Epoch 44 / 200 ========\n",
      "Training...\n"
     ]
    },
    {
     "name": "stderr",
     "output_type": "stream",
     "text": [
      "100%|█████████████████████████████████████████████████████████████████████████████████| 22/22 [00:00<00:00, 880.05it/s]\n"
     ]
    },
    {
     "name": "stdout",
     "output_type": "stream",
     "text": [
      "Total loss: 45.735719442367554\n",
      "Validation accuracy: 0.5\n",
      "\n",
      "======== Epoch 45 / 200 ========\n",
      "Training...\n"
     ]
    },
    {
     "name": "stderr",
     "output_type": "stream",
     "text": [
      "100%|█████████████████████████████████████████████████████████████████████████████████| 22/22 [00:00<00:00, 880.06it/s]\n"
     ]
    },
    {
     "name": "stdout",
     "output_type": "stream",
     "text": [
      "Total loss: 45.73570108413696\n",
      "Validation accuracy: 0.5\n",
      "\n",
      "======== Epoch 46 / 200 ========\n",
      "Training...\n"
     ]
    },
    {
     "name": "stderr",
     "output_type": "stream",
     "text": [
      "100%|█████████████████████████████████████████████████████████████████████████████████| 22/22 [00:00<00:00, 846.25it/s]\n"
     ]
    },
    {
     "name": "stdout",
     "output_type": "stream",
     "text": [
      "Total loss: 45.735682010650635\n",
      "Validation accuracy: 0.5\n",
      "\n",
      "======== Epoch 47 / 200 ========\n",
      "Training...\n"
     ]
    },
    {
     "name": "stderr",
     "output_type": "stream",
     "text": [
      "100%|█████████████████████████████████████████████████████████████████████████████████| 22/22 [00:00<00:00, 880.27it/s]\n"
     ]
    },
    {
     "name": "stdout",
     "output_type": "stream",
     "text": [
      "Total loss: 45.735663175582886\n",
      "Validation accuracy: 0.5\n",
      "\n",
      "======== Epoch 48 / 200 ========\n",
      "Training...\n"
     ]
    },
    {
     "name": "stderr",
     "output_type": "stream",
     "text": [
      "100%|█████████████████████████████████████████████████████████████████████████████████| 22/22 [00:00<00:00, 846.25it/s]\n"
     ]
    },
    {
     "name": "stdout",
     "output_type": "stream",
     "text": [
      "Total loss: 45.73564600944519\n",
      "Validation accuracy: 0.5\n",
      "\n",
      "======== Epoch 49 / 200 ========\n",
      "Training...\n"
     ]
    },
    {
     "name": "stderr",
     "output_type": "stream",
     "text": [
      "100%|█████████████████████████████████████████████████████████████████████████████████| 22/22 [00:00<00:00, 880.11it/s]\n"
     ]
    },
    {
     "name": "stdout",
     "output_type": "stream",
     "text": [
      "Total loss: 45.735628843307495\n",
      "Validation accuracy: 0.5\n",
      "\n",
      "======== Epoch 50 / 200 ========\n",
      "Training...\n"
     ]
    },
    {
     "name": "stderr",
     "output_type": "stream",
     "text": [
      "100%|█████████████████████████████████████████████████████████████████████████████████| 22/22 [00:00<00:00, 880.11it/s]\n"
     ]
    },
    {
     "name": "stdout",
     "output_type": "stream",
     "text": [
      "Total loss: 45.73561191558838\n",
      "Validation accuracy: 0.5\n",
      "\n",
      "======== Epoch 51 / 200 ========\n",
      "Training...\n"
     ]
    },
    {
     "name": "stderr",
     "output_type": "stream",
     "text": [
      "100%|█████████████████████████████████████████████████████████████████████████████████| 22/22 [00:00<00:00, 846.20it/s]\n"
     ]
    },
    {
     "name": "stdout",
     "output_type": "stream",
     "text": [
      "Total loss: 45.73559761047363\n",
      "Validation accuracy: 0.5\n",
      "\n",
      "======== Epoch 52 / 200 ========\n",
      "Training...\n"
     ]
    },
    {
     "name": "stderr",
     "output_type": "stream",
     "text": [
      "100%|█████████████████████████████████████████████████████████████████████████████████| 22/22 [00:00<00:00, 880.06it/s]\n"
     ]
    },
    {
     "name": "stdout",
     "output_type": "stream",
     "text": [
      "Total loss: 45.73558306694031\n",
      "Validation accuracy: 0.5\n",
      "\n",
      "======== Epoch 53 / 200 ========\n",
      "Training...\n"
     ]
    },
    {
     "name": "stderr",
     "output_type": "stream",
     "text": [
      "100%|█████████████████████████████████████████████████████████████████████████████████| 22/22 [00:00<00:00, 846.22it/s]\n"
     ]
    },
    {
     "name": "stdout",
     "output_type": "stream",
     "text": [
      "Total loss: 45.7355682849884\n",
      "Validation accuracy: 0.5\n",
      "\n",
      "======== Epoch 54 / 200 ========\n",
      "Training...\n"
     ]
    },
    {
     "name": "stderr",
     "output_type": "stream",
     "text": [
      "100%|█████████████████████████████████████████████████████████████████████████████████| 22/22 [00:00<00:00, 880.16it/s]\n"
     ]
    },
    {
     "name": "stdout",
     "output_type": "stream",
     "text": [
      "Total loss: 45.735554456710815\n",
      "Validation accuracy: 0.5\n",
      "\n",
      "======== Epoch 55 / 200 ========\n",
      "Training...\n"
     ]
    },
    {
     "name": "stderr",
     "output_type": "stream",
     "text": [
      "100%|█████████████████████████████████████████████████████████████████████████████████| 22/22 [00:00<00:00, 880.13it/s]\n"
     ]
    },
    {
     "name": "stdout",
     "output_type": "stream",
     "text": [
      "Total loss: 45.73554086685181\n",
      "Validation accuracy: 0.5\n",
      "\n",
      "======== Epoch 56 / 200 ========\n",
      "Training...\n"
     ]
    },
    {
     "name": "stderr",
     "output_type": "stream",
     "text": [
      "100%|█████████████████████████████████████████████████████████████████████████████████| 22/22 [00:00<00:00, 880.01it/s]\n"
     ]
    },
    {
     "name": "stdout",
     "output_type": "stream",
     "text": [
      "Total loss: 45.735527753829956\n",
      "Validation accuracy: 0.5\n",
      "\n",
      "======== Epoch 57 / 200 ========\n",
      "Training...\n"
     ]
    },
    {
     "name": "stderr",
     "output_type": "stream",
     "text": [
      "100%|█████████████████████████████████████████████████████████████████████████████████| 22/22 [00:00<00:00, 846.22it/s]\n"
     ]
    },
    {
     "name": "stdout",
     "output_type": "stream",
     "text": [
      "Total loss: 45.73551630973816\n",
      "Validation accuracy: 0.5\n",
      "\n",
      "======== Epoch 58 / 200 ========\n",
      "Training...\n"
     ]
    },
    {
     "name": "stderr",
     "output_type": "stream",
     "text": [
      "100%|█████████████████████████████████████████████████████████████████████████████████| 22/22 [00:00<00:00, 880.24it/s]\n"
     ]
    },
    {
     "name": "stdout",
     "output_type": "stream",
     "text": [
      "Total loss: 45.735504150390625\n",
      "Validation accuracy: 0.5\n",
      "\n",
      "======== Epoch 59 / 200 ========\n",
      "Training...\n"
     ]
    },
    {
     "name": "stderr",
     "output_type": "stream",
     "text": [
      "100%|█████████████████████████████████████████████████████████████████████████████████| 22/22 [00:00<00:00, 758.68it/s]\n"
     ]
    },
    {
     "name": "stdout",
     "output_type": "stream",
     "text": [
      "Total loss: 45.73549175262451\n",
      "Validation accuracy: 0.5\n",
      "\n",
      "======== Epoch 60 / 200 ========\n",
      "Training...\n"
     ]
    },
    {
     "name": "stderr",
     "output_type": "stream",
     "text": [
      "100%|█████████████████████████████████████████████████████████████████████████████████| 22/22 [00:00<00:00, 814.89it/s]\n"
     ]
    },
    {
     "name": "stdout",
     "output_type": "stream",
     "text": [
      "Total loss: 45.7354793548584\n",
      "Validation accuracy: 0.5\n",
      "\n",
      "======== Epoch 61 / 200 ========\n",
      "Training...\n"
     ]
    },
    {
     "name": "stderr",
     "output_type": "stream",
     "text": [
      "100%|█████████████████████████████████████████████████████████████████████████████████| 22/22 [00:00<00:00, 785.77it/s]\n"
     ]
    },
    {
     "name": "stdout",
     "output_type": "stream",
     "text": [
      "Total loss: 45.735469579696655\n",
      "Validation accuracy: 0.5\n",
      "\n",
      "======== Epoch 62 / 200 ========\n",
      "Training...\n"
     ]
    },
    {
     "name": "stderr",
     "output_type": "stream",
     "text": [
      "100%|█████████████████████████████████████████████████████████████████████████████████| 22/22 [00:00<00:00, 916.81it/s]\n"
     ]
    },
    {
     "name": "stdout",
     "output_type": "stream",
     "text": [
      "Total loss: 45.73545956611633\n",
      "Validation accuracy: 0.5\n",
      "\n",
      "======== Epoch 63 / 200 ========\n",
      "Training...\n"
     ]
    },
    {
     "name": "stderr",
     "output_type": "stream",
     "text": [
      "100%|█████████████████████████████████████████████████████████████████████████████████| 22/22 [00:00<00:00, 880.06it/s]\n"
     ]
    },
    {
     "name": "stdout",
     "output_type": "stream",
     "text": [
      "Total loss: 45.73544979095459\n",
      "Validation accuracy: 0.5\n",
      "\n",
      "======== Epoch 64 / 200 ========\n",
      "Training...\n"
     ]
    },
    {
     "name": "stderr",
     "output_type": "stream",
     "text": [
      "100%|█████████████████████████████████████████████████████████████████████████████████| 22/22 [00:00<00:00, 916.98it/s]\n"
     ]
    },
    {
     "name": "stdout",
     "output_type": "stream",
     "text": [
      "Total loss: 45.73543977737427\n",
      "Validation accuracy: 0.5\n",
      "\n",
      "======== Epoch 65 / 200 ========\n",
      "Training...\n"
     ]
    },
    {
     "name": "stderr",
     "output_type": "stream",
     "text": [
      "100%|█████████████████████████████████████████████████████████████████████████████████| 22/22 [00:00<00:00, 814.89it/s]\n"
     ]
    },
    {
     "name": "stdout",
     "output_type": "stream",
     "text": [
      "Total loss: 45.73543095588684\n",
      "Validation accuracy: 0.5\n",
      "\n",
      "======== Epoch 66 / 200 ========\n",
      "Training...\n"
     ]
    },
    {
     "name": "stderr",
     "output_type": "stream",
     "text": [
      "100%|█████████████████████████████████████████████████████████████████████████████████| 22/22 [00:00<00:00, 880.08it/s]\n"
     ]
    },
    {
     "name": "stdout",
     "output_type": "stream",
     "text": [
      "Total loss: 45.73542141914368\n",
      "Validation accuracy: 0.5\n",
      "\n",
      "======== Epoch 67 / 200 ========\n",
      "Training...\n"
     ]
    },
    {
     "name": "stderr",
     "output_type": "stream",
     "text": [
      "100%|█████████████████████████████████████████████████████████████████████████████████| 22/22 [00:00<00:00, 916.82it/s]\n"
     ]
    },
    {
     "name": "stdout",
     "output_type": "stream",
     "text": [
      "Total loss: 45.73541307449341\n",
      "Validation accuracy: 0.5\n",
      "\n",
      "======== Epoch 68 / 200 ========\n",
      "Training...\n"
     ]
    },
    {
     "name": "stderr",
     "output_type": "stream",
     "text": [
      "100%|█████████████████████████████████████████████████████████████████████████████████| 22/22 [00:00<00:00, 880.11it/s]\n"
     ]
    },
    {
     "name": "stdout",
     "output_type": "stream",
     "text": [
      "Total loss: 45.73540472984314\n",
      "Validation accuracy: 0.5\n",
      "\n",
      "======== Epoch 69 / 200 ========\n",
      "Training...\n"
     ]
    },
    {
     "name": "stderr",
     "output_type": "stream",
     "text": [
      "100%|█████████████████████████████████████████████████████████████████████████████████| 22/22 [00:00<00:00, 846.24it/s]\n"
     ]
    },
    {
     "name": "stdout",
     "output_type": "stream",
     "text": [
      "Total loss: 45.73539614677429\n",
      "Validation accuracy: 0.5\n",
      "\n",
      "======== Epoch 70 / 200 ========\n",
      "Training...\n"
     ]
    },
    {
     "name": "stderr",
     "output_type": "stream",
     "text": [
      "100%|█████████████████████████████████████████████████████████████████████████████████| 22/22 [00:00<00:00, 880.08it/s]\n"
     ]
    },
    {
     "name": "stdout",
     "output_type": "stream",
     "text": [
      "Total loss: 45.73538613319397\n",
      "Validation accuracy: 0.5\n",
      "\n",
      "======== Epoch 71 / 200 ========\n",
      "Training...\n"
     ]
    },
    {
     "name": "stderr",
     "output_type": "stream",
     "text": [
      "100%|█████████████████████████████████████████████████████████████████████████████████| 22/22 [00:00<00:00, 880.08it/s]\n"
     ]
    },
    {
     "name": "stdout",
     "output_type": "stream",
     "text": [
      "Total loss: 45.73537993431091\n",
      "Validation accuracy: 0.5\n",
      "\n",
      "======== Epoch 72 / 200 ========\n",
      "Training...\n"
     ]
    },
    {
     "name": "stderr",
     "output_type": "stream",
     "text": [
      "100%|█████████████████████████████████████████████████████████████████████████████████| 22/22 [00:00<00:00, 916.77it/s]\n"
     ]
    },
    {
     "name": "stdout",
     "output_type": "stream",
     "text": [
      "Total loss: 45.735371351242065\n",
      "Validation accuracy: 0.5\n",
      "\n",
      "======== Epoch 73 / 200 ========\n",
      "Training...\n"
     ]
    },
    {
     "name": "stderr",
     "output_type": "stream",
     "text": [
      "100%|█████████████████████████████████████████████████████████████████████████████████| 22/22 [00:00<00:00, 846.27it/s]\n"
     ]
    },
    {
     "name": "stdout",
     "output_type": "stream",
     "text": [
      "Total loss: 45.735363721847534\n",
      "Validation accuracy: 0.5\n",
      "\n",
      "======== Epoch 74 / 200 ========\n",
      "Training...\n"
     ]
    },
    {
     "name": "stderr",
     "output_type": "stream",
     "text": [
      "100%|█████████████████████████████████████████████████████████████████████████████████| 22/22 [00:00<00:00, 880.03it/s]\n"
     ]
    },
    {
     "name": "stdout",
     "output_type": "stream",
     "text": [
      "Total loss: 45.735355615615845\n",
      "Validation accuracy: 0.5\n",
      "\n",
      "======== Epoch 75 / 200 ========\n",
      "Training...\n"
     ]
    },
    {
     "name": "stderr",
     "output_type": "stream",
     "text": [
      "100%|█████████████████████████████████████████████████████████████████████████████████| 22/22 [00:00<00:00, 846.25it/s]\n"
     ]
    },
    {
     "name": "stdout",
     "output_type": "stream",
     "text": [
      "Total loss: 45.73534870147705\n",
      "Validation accuracy: 0.5\n",
      "\n",
      "======== Epoch 76 / 200 ========\n",
      "Training...\n"
     ]
    },
    {
     "name": "stderr",
     "output_type": "stream",
     "text": [
      "100%|█████████████████████████████████████████████████████████████████████████████████| 22/22 [00:00<00:00, 880.16it/s]\n"
     ]
    },
    {
     "name": "stdout",
     "output_type": "stream",
     "text": [
      "Total loss: 45.73534345626831\n",
      "Validation accuracy: 0.5\n",
      "\n",
      "======== Epoch 77 / 200 ========\n",
      "Training...\n"
     ]
    },
    {
     "name": "stderr",
     "output_type": "stream",
     "text": [
      "100%|█████████████████████████████████████████████████████████████████████████████████| 22/22 [00:00<00:00, 880.08it/s]\n"
     ]
    },
    {
     "name": "stdout",
     "output_type": "stream",
     "text": [
      "Total loss: 45.73533654212952\n",
      "Validation accuracy: 0.5\n",
      "\n",
      "======== Epoch 78 / 200 ========\n",
      "Training...\n"
     ]
    },
    {
     "name": "stderr",
     "output_type": "stream",
     "text": [
      "100%|█████████████████████████████████████████████████████████████████████████████████| 22/22 [00:00<00:00, 880.11it/s]\n"
     ]
    },
    {
     "name": "stdout",
     "output_type": "stream",
     "text": [
      "Total loss: 45.735329389572144\n",
      "Validation accuracy: 0.5\n",
      "\n",
      "======== Epoch 79 / 200 ========\n",
      "Training...\n"
     ]
    },
    {
     "name": "stderr",
     "output_type": "stream",
     "text": [
      "100%|█████████████████████████████████████████████████████████████████████████████████| 22/22 [00:00<00:00, 880.10it/s]\n"
     ]
    },
    {
     "name": "stdout",
     "output_type": "stream",
     "text": [
      "Total loss: 45.735323667526245\n",
      "Validation accuracy: 0.5\n",
      "\n",
      "======== Epoch 80 / 200 ========\n",
      "Training...\n"
     ]
    },
    {
     "name": "stderr",
     "output_type": "stream",
     "text": [
      "100%|█████████████████████████████████████████████████████████████████████████████████| 22/22 [00:00<00:00, 814.90it/s]\n"
     ]
    },
    {
     "name": "stdout",
     "output_type": "stream",
     "text": [
      "Total loss: 45.735318660736084\n",
      "Validation accuracy: 0.5\n",
      "\n",
      "======== Epoch 81 / 200 ========\n",
      "Training...\n"
     ]
    },
    {
     "name": "stderr",
     "output_type": "stream",
     "text": [
      "100%|█████████████████████████████████████████████████████████████████████████████████| 22/22 [00:00<00:00, 814.88it/s]\n"
     ]
    },
    {
     "name": "stdout",
     "output_type": "stream",
     "text": [
      "Total loss: 45.73531174659729\n",
      "Validation accuracy: 0.5\n",
      "\n",
      "======== Epoch 82 / 200 ========\n",
      "Training...\n"
     ]
    },
    {
     "name": "stderr",
     "output_type": "stream",
     "text": [
      "100%|█████████████████████████████████████████████████████████████████████████████████| 22/22 [00:00<00:00, 916.79it/s]\n"
     ]
    },
    {
     "name": "stdout",
     "output_type": "stream",
     "text": [
      "Total loss: 45.73530673980713\n",
      "Validation accuracy: 0.5\n",
      "\n",
      "======== Epoch 83 / 200 ========\n",
      "Training...\n"
     ]
    },
    {
     "name": "stderr",
     "output_type": "stream",
     "text": [
      "100%|█████████████████████████████████████████████████████████████████████████████████| 22/22 [00:00<00:00, 880.07it/s]\n"
     ]
    },
    {
     "name": "stdout",
     "output_type": "stream",
     "text": [
      "Total loss: 45.73530077934265\n",
      "Validation accuracy: 0.5\n",
      "\n",
      "======== Epoch 84 / 200 ========\n",
      "Training...\n"
     ]
    },
    {
     "name": "stderr",
     "output_type": "stream",
     "text": [
      "100%|█████████████████████████████████████████████████████████████████████████████████| 22/22 [00:00<00:00, 880.11it/s]\n"
     ]
    },
    {
     "name": "stdout",
     "output_type": "stream",
     "text": [
      "Total loss: 45.73529505729675\n",
      "Validation accuracy: 0.5\n",
      "\n",
      "======== Epoch 85 / 200 ========\n",
      "Training...\n"
     ]
    },
    {
     "name": "stderr",
     "output_type": "stream",
     "text": [
      "100%|█████████████████████████████████████████████████████████████████████████████████| 22/22 [00:00<00:00, 880.06it/s]\n"
     ]
    },
    {
     "name": "stdout",
     "output_type": "stream",
     "text": [
      "Total loss: 45.73529052734375\n",
      "Validation accuracy: 0.5\n",
      "\n",
      "======== Epoch 86 / 200 ========\n",
      "Training...\n"
     ]
    },
    {
     "name": "stderr",
     "output_type": "stream",
     "text": [
      "100%|█████████████████████████████████████████████████████████████████████████████████| 22/22 [00:00<00:00, 880.08it/s]\n"
     ]
    },
    {
     "name": "stdout",
     "output_type": "stream",
     "text": [
      "Total loss: 45.73528504371643\n",
      "Validation accuracy: 0.5\n",
      "\n",
      "======== Epoch 87 / 200 ========\n",
      "Training...\n"
     ]
    },
    {
     "name": "stderr",
     "output_type": "stream",
     "text": [
      "100%|█████████████████████████████████████████████████████████████████████████████████| 22/22 [00:00<00:00, 916.75it/s]\n"
     ]
    },
    {
     "name": "stdout",
     "output_type": "stream",
     "text": [
      "Total loss: 45.73527956008911\n",
      "Validation accuracy: 0.5\n",
      "\n",
      "======== Epoch 88 / 200 ========\n",
      "Training...\n"
     ]
    },
    {
     "name": "stderr",
     "output_type": "stream",
     "text": [
      "100%|█████████████████████████████████████████████████████████████████████████████████| 22/22 [00:00<00:00, 880.04it/s]\n"
     ]
    },
    {
     "name": "stdout",
     "output_type": "stream",
     "text": [
      "Total loss: 45.735275745391846\n",
      "Validation accuracy: 0.5\n",
      "\n",
      "======== Epoch 89 / 200 ========\n",
      "Training...\n"
     ]
    },
    {
     "name": "stderr",
     "output_type": "stream",
     "text": [
      "100%|█████████████████████████████████████████████████████████████████████████████████| 22/22 [00:00<00:00, 880.05it/s]\n"
     ]
    },
    {
     "name": "stdout",
     "output_type": "stream",
     "text": [
      "Total loss: 45.735270738601685\n",
      "Validation accuracy: 0.5\n",
      "\n",
      "======== Epoch 90 / 200 ========\n",
      "Training...\n"
     ]
    },
    {
     "name": "stderr",
     "output_type": "stream",
     "text": [
      "100%|█████████████████████████████████████████████████████████████████████████████████| 22/22 [00:00<00:00, 758.64it/s]\n"
     ]
    },
    {
     "name": "stdout",
     "output_type": "stream",
     "text": [
      "Total loss: 45.73526573181152\n",
      "Validation accuracy: 0.5\n",
      "\n",
      "======== Epoch 91 / 200 ========\n",
      "Training...\n"
     ]
    },
    {
     "name": "stderr",
     "output_type": "stream",
     "text": [
      "100%|█████████████████████████████████████████████████████████████████████████████████| 22/22 [00:00<00:00, 879.99it/s]\n"
     ]
    },
    {
     "name": "stdout",
     "output_type": "stream",
     "text": [
      "Total loss: 45.73526191711426\n",
      "Validation accuracy: 0.5\n",
      "\n",
      "======== Epoch 92 / 200 ========\n",
      "Training...\n"
     ]
    },
    {
     "name": "stderr",
     "output_type": "stream",
     "text": [
      "100%|█████████████████████████████████████████████████████████████████████████████████| 22/22 [00:00<00:00, 880.11it/s]\n"
     ]
    },
    {
     "name": "stdout",
     "output_type": "stream",
     "text": [
      "Total loss: 45.73525834083557\n",
      "Validation accuracy: 0.5\n",
      "\n",
      "======== Epoch 93 / 200 ========\n",
      "Training...\n"
     ]
    },
    {
     "name": "stderr",
     "output_type": "stream",
     "text": [
      "100%|█████████████████████████████████████████████████████████████████████████████████| 22/22 [00:00<00:00, 880.09it/s]\n"
     ]
    },
    {
     "name": "stdout",
     "output_type": "stream",
     "text": [
      "Total loss: 45.73525357246399\n",
      "Validation accuracy: 0.5\n",
      "\n",
      "======== Epoch 94 / 200 ========\n",
      "Training...\n"
     ]
    },
    {
     "name": "stderr",
     "output_type": "stream",
     "text": [
      "100%|█████████████████████████████████████████████████████████████████████████████████| 22/22 [00:00<00:00, 733.41it/s]\n"
     ]
    },
    {
     "name": "stdout",
     "output_type": "stream",
     "text": [
      "Total loss: 45.73524856567383\n",
      "Validation accuracy: 0.5\n",
      "\n",
      "======== Epoch 95 / 200 ========\n",
      "Training...\n"
     ]
    },
    {
     "name": "stderr",
     "output_type": "stream",
     "text": [
      "100%|█████████████████████████████████████████████████████████████████████████████████| 22/22 [00:00<00:00, 814.88it/s]\n"
     ]
    },
    {
     "name": "stdout",
     "output_type": "stream",
     "text": [
      "Total loss: 45.735243797302246\n",
      "Validation accuracy: 0.5\n",
      "\n",
      "======== Epoch 96 / 200 ========\n",
      "Training...\n"
     ]
    },
    {
     "name": "stderr",
     "output_type": "stream",
     "text": [
      "100%|█████████████████████████████████████████████████████████████████████████████████| 22/22 [00:00<00:00, 733.42it/s]\n"
     ]
    },
    {
     "name": "stdout",
     "output_type": "stream",
     "text": [
      "Total loss: 45.73524045944214\n",
      "Validation accuracy: 0.5\n",
      "\n",
      "======== Epoch 97 / 200 ========\n",
      "Training...\n"
     ]
    },
    {
     "name": "stderr",
     "output_type": "stream",
     "text": [
      "100%|█████████████████████████████████████████████████████████████████████████████████| 22/22 [00:00<00:00, 814.89it/s]\n"
     ]
    },
    {
     "name": "stdout",
     "output_type": "stream",
     "text": [
      "Total loss: 45.73523664474487\n",
      "Validation accuracy: 0.5\n",
      "\n",
      "======== Epoch 98 / 200 ========\n",
      "Training...\n"
     ]
    },
    {
     "name": "stderr",
     "output_type": "stream",
     "text": [
      "100%|█████████████████████████████████████████████████████████████████████████████████| 22/22 [00:00<00:00, 846.21it/s]\n"
     ]
    },
    {
     "name": "stdout",
     "output_type": "stream",
     "text": [
      "Total loss: 45.7352340221405\n",
      "Validation accuracy: 0.5\n",
      "\n",
      "======== Epoch 99 / 200 ========\n",
      "Training...\n"
     ]
    },
    {
     "name": "stderr",
     "output_type": "stream",
     "text": [
      "100%|█████████████████████████████████████████████████████████████████████████████████| 22/22 [00:00<00:00, 916.73it/s]\n"
     ]
    },
    {
     "name": "stdout",
     "output_type": "stream",
     "text": [
      "Total loss: 45.735228538513184\n",
      "Validation accuracy: 0.5\n",
      "\n",
      "======== Epoch 100 / 200 ========\n",
      "Training...\n"
     ]
    },
    {
     "name": "stderr",
     "output_type": "stream",
     "text": [
      "100%|█████████████████████████████████████████████████████████████████████████████████| 22/22 [00:00<00:00, 846.21it/s]\n"
     ]
    },
    {
     "name": "stdout",
     "output_type": "stream",
     "text": [
      "Total loss: 45.73522472381592\n",
      "Validation accuracy: 0.5\n",
      "\n",
      "======== Epoch 101 / 200 ========\n",
      "Training...\n"
     ]
    },
    {
     "name": "stderr",
     "output_type": "stream",
     "text": [
      "100%|█████████████████████████████████████████████████████████████████████████████████| 22/22 [00:00<00:00, 846.21it/s]\n"
     ]
    },
    {
     "name": "stdout",
     "output_type": "stream",
     "text": [
      "Total loss: 45.73522114753723\n",
      "Validation accuracy: 0.5\n",
      "\n",
      "======== Epoch 102 / 200 ========\n",
      "Training...\n"
     ]
    },
    {
     "name": "stderr",
     "output_type": "stream",
     "text": [
      "100%|█████████████████████████████████████████████████████████████████████████████████| 22/22 [00:00<00:00, 846.25it/s]\n"
     ]
    },
    {
     "name": "stdout",
     "output_type": "stream",
     "text": [
      "Total loss: 45.73521852493286\n",
      "Validation accuracy: 0.5\n",
      "\n",
      "======== Epoch 103 / 200 ========\n",
      "Training...\n"
     ]
    },
    {
     "name": "stderr",
     "output_type": "stream",
     "text": [
      "100%|█████████████████████████████████████████████████████████████████████████████████| 22/22 [00:00<00:00, 880.11it/s]\n"
     ]
    },
    {
     "name": "stdout",
     "output_type": "stream",
     "text": [
      "Total loss: 45.73521447181702\n",
      "Validation accuracy: 0.5\n",
      "\n",
      "======== Epoch 104 / 200 ========\n",
      "Training...\n"
     ]
    },
    {
     "name": "stderr",
     "output_type": "stream",
     "text": [
      "100%|█████████████████████████████████████████████████████████████████████████████████| 22/22 [00:00<00:00, 880.13it/s]\n"
     ]
    },
    {
     "name": "stdout",
     "output_type": "stream",
     "text": [
      "Total loss: 45.73521137237549\n",
      "Validation accuracy: 0.5\n",
      "\n",
      "======== Epoch 105 / 200 ========\n",
      "Training...\n"
     ]
    },
    {
     "name": "stderr",
     "output_type": "stream",
     "text": [
      "100%|█████████████████████████████████████████████████████████████████████████████████| 22/22 [00:00<00:00, 785.82it/s]\n"
     ]
    },
    {
     "name": "stdout",
     "output_type": "stream",
     "text": [
      "Total loss: 45.7352077960968\n",
      "Validation accuracy: 0.5\n",
      "\n",
      "======== Epoch 106 / 200 ========\n",
      "Training...\n"
     ]
    },
    {
     "name": "stderr",
     "output_type": "stream",
     "text": [
      "100%|█████████████████████████████████████████████████████████████████████████████████| 22/22 [00:00<00:00, 846.15it/s]\n"
     ]
    },
    {
     "name": "stdout",
     "output_type": "stream",
     "text": [
      "Total loss: 45.73520517349243\n",
      "Validation accuracy: 0.5\n",
      "\n",
      "======== Epoch 107 / 200 ========\n",
      "Training...\n"
     ]
    },
    {
     "name": "stderr",
     "output_type": "stream",
     "text": [
      "100%|█████████████████████████████████████████████████████████████████████████████████| 22/22 [00:00<00:00, 846.21it/s]\n"
     ]
    },
    {
     "name": "stdout",
     "output_type": "stream",
     "text": [
      "Total loss: 45.735201597213745\n",
      "Validation accuracy: 0.5\n",
      "\n",
      "======== Epoch 108 / 200 ========\n",
      "Training...\n"
     ]
    },
    {
     "name": "stderr",
     "output_type": "stream",
     "text": [
      "100%|█████████████████████████████████████████████████████████████████████████████████| 22/22 [00:00<00:00, 880.12it/s]\n"
     ]
    },
    {
     "name": "stdout",
     "output_type": "stream",
     "text": [
      "Total loss: 45.73519802093506\n",
      "Validation accuracy: 0.5\n",
      "\n",
      "======== Epoch 109 / 200 ========\n",
      "Training...\n"
     ]
    },
    {
     "name": "stderr",
     "output_type": "stream",
     "text": [
      "100%|█████████████████████████████████████████████████████████████████████████████████| 22/22 [00:00<00:00, 785.70it/s]\n"
     ]
    },
    {
     "name": "stdout",
     "output_type": "stream",
     "text": [
      "Total loss: 45.73519539833069\n",
      "Validation accuracy: 0.5\n",
      "\n",
      "======== Epoch 110 / 200 ========\n",
      "Training...\n"
     ]
    },
    {
     "name": "stderr",
     "output_type": "stream",
     "text": [
      "100%|█████████████████████████████████████████████████████████████████████████████████| 22/22 [00:00<00:00, 846.34it/s]\n"
     ]
    },
    {
     "name": "stdout",
     "output_type": "stream",
     "text": [
      "Total loss: 45.73519277572632\n",
      "Validation accuracy: 0.5\n",
      "\n",
      "======== Epoch 111 / 200 ========\n",
      "Training...\n"
     ]
    },
    {
     "name": "stderr",
     "output_type": "stream",
     "text": [
      "100%|█████████████████████████████████████████████████████████████████████████████████| 22/22 [00:00<00:00, 785.76it/s]\n"
     ]
    },
    {
     "name": "stdout",
     "output_type": "stream",
     "text": [
      "Total loss: 45.73518919944763\n",
      "Validation accuracy: 0.5\n",
      "\n",
      "======== Epoch 112 / 200 ========\n",
      "Training...\n"
     ]
    },
    {
     "name": "stderr",
     "output_type": "stream",
     "text": [
      "100%|█████████████████████████████████████████████████████████████████████████████████| 22/22 [00:00<00:00, 785.78it/s]\n"
     ]
    },
    {
     "name": "stdout",
     "output_type": "stream",
     "text": [
      "Total loss: 45.735187292099\n",
      "Validation accuracy: 0.5\n",
      "\n",
      "======== Epoch 113 / 200 ========\n",
      "Training...\n"
     ]
    },
    {
     "name": "stderr",
     "output_type": "stream",
     "text": [
      "100%|█████████████████████████████████████████████████████████████████████████████████| 22/22 [00:00<00:00, 814.87it/s]\n"
     ]
    },
    {
     "name": "stdout",
     "output_type": "stream",
     "text": [
      "Total loss: 45.73518514633179\n",
      "Validation accuracy: 0.5\n",
      "\n",
      "======== Epoch 114 / 200 ========\n",
      "Training...\n"
     ]
    },
    {
     "name": "stderr",
     "output_type": "stream",
     "text": [
      "100%|█████████████████████████████████████████████████████████████████████████████████| 22/22 [00:00<00:00, 814.90it/s]\n"
     ]
    },
    {
     "name": "stdout",
     "output_type": "stream",
     "text": [
      "Total loss: 45.735180616378784\n",
      "Validation accuracy: 0.5\n",
      "\n",
      "======== Epoch 115 / 200 ========\n",
      "Training...\n"
     ]
    },
    {
     "name": "stderr",
     "output_type": "stream",
     "text": [
      "100%|█████████████████████████████████████████████████████████████████████████████████| 22/22 [00:00<00:00, 814.85it/s]\n"
     ]
    },
    {
     "name": "stdout",
     "output_type": "stream",
     "text": [
      "Total loss: 45.73517894744873\n",
      "Validation accuracy: 0.5\n",
      "\n",
      "======== Epoch 116 / 200 ========\n",
      "Training...\n"
     ]
    },
    {
     "name": "stderr",
     "output_type": "stream",
     "text": [
      "100%|█████████████████████████████████████████████████████████████████████████████████| 22/22 [00:00<00:00, 846.19it/s]\n"
     ]
    },
    {
     "name": "stdout",
     "output_type": "stream",
     "text": [
      "Total loss: 45.73517608642578\n",
      "Validation accuracy: 0.5\n",
      "\n",
      "======== Epoch 117 / 200 ========\n",
      "Training...\n"
     ]
    },
    {
     "name": "stderr",
     "output_type": "stream",
     "text": [
      "100%|█████████████████████████████████████████████████████████████████████████████████| 22/22 [00:00<00:00, 846.30it/s]\n"
     ]
    },
    {
     "name": "stdout",
     "output_type": "stream",
     "text": [
      "Total loss: 45.73517394065857\n",
      "Validation accuracy: 0.5\n",
      "\n",
      "======== Epoch 118 / 200 ========\n",
      "Training...\n"
     ]
    },
    {
     "name": "stderr",
     "output_type": "stream",
     "text": [
      "100%|█████████████████████████████████████████████████████████████████████████████████| 22/22 [00:00<00:00, 846.21it/s]\n"
     ]
    },
    {
     "name": "stdout",
     "output_type": "stream",
     "text": [
      "Total loss: 45.73517107963562\n",
      "Validation accuracy: 0.5\n",
      "\n",
      "======== Epoch 119 / 200 ========\n",
      "Training...\n"
     ]
    },
    {
     "name": "stderr",
     "output_type": "stream",
     "text": [
      "100%|█████████████████████████████████████████████████████████████████████████████████| 22/22 [00:00<00:00, 815.00it/s]\n"
     ]
    },
    {
     "name": "stdout",
     "output_type": "stream",
     "text": [
      "Total loss: 45.73516869544983\n",
      "Validation accuracy: 0.5\n",
      "\n",
      "======== Epoch 120 / 200 ========\n",
      "Training...\n"
     ]
    },
    {
     "name": "stderr",
     "output_type": "stream",
     "text": [
      "100%|█████████████████████████████████████████████████████████████████████████████████| 22/22 [00:00<00:00, 846.27it/s]\n"
     ]
    },
    {
     "name": "stdout",
     "output_type": "stream",
     "text": [
      "Total loss: 45.73516607284546\n",
      "Validation accuracy: 0.5\n",
      "\n",
      "======== Epoch 121 / 200 ========\n",
      "Training...\n"
     ]
    },
    {
     "name": "stderr",
     "output_type": "stream",
     "text": [
      "100%|█████████████████████████████████████████████████████████████████████████████████| 22/22 [00:00<00:00, 880.06it/s]\n"
     ]
    },
    {
     "name": "stdout",
     "output_type": "stream",
     "text": [
      "Total loss: 45.73516297340393\n",
      "Validation accuracy: 0.5\n",
      "\n",
      "======== Epoch 122 / 200 ========\n",
      "Training...\n"
     ]
    },
    {
     "name": "stderr",
     "output_type": "stream",
     "text": [
      "100%|█████████████████████████████████████████████████████████████████████████████████| 22/22 [00:00<00:00, 880.12it/s]\n"
     ]
    },
    {
     "name": "stdout",
     "output_type": "stream",
     "text": [
      "Total loss: 45.73516011238098\n",
      "Validation accuracy: 0.5\n",
      "\n",
      "======== Epoch 123 / 200 ========\n",
      "Training...\n"
     ]
    },
    {
     "name": "stderr",
     "output_type": "stream",
     "text": [
      "100%|█████████████████████████████████████████████████████████████████████████████████| 22/22 [00:00<00:00, 846.25it/s]\n"
     ]
    },
    {
     "name": "stdout",
     "output_type": "stream",
     "text": [
      "Total loss: 45.73515820503235\n",
      "Validation accuracy: 0.5\n",
      "\n",
      "======== Epoch 124 / 200 ========\n",
      "Training...\n"
     ]
    },
    {
     "name": "stderr",
     "output_type": "stream",
     "text": [
      "100%|█████████████████████████████████████████████████████████████████████████████████| 22/22 [00:00<00:00, 814.87it/s]\n"
     ]
    },
    {
     "name": "stdout",
     "output_type": "stream",
     "text": [
      "Total loss: 45.73515605926514\n",
      "Validation accuracy: 0.5\n",
      "\n",
      "======== Epoch 125 / 200 ========\n",
      "Training...\n"
     ]
    },
    {
     "name": "stderr",
     "output_type": "stream",
     "text": [
      "100%|█████████████████████████████████████████████████████████████████████████████████| 22/22 [00:00<00:00, 758.67it/s]\n"
     ]
    },
    {
     "name": "stdout",
     "output_type": "stream",
     "text": [
      "Total loss: 45.73515439033508\n",
      "Validation accuracy: 0.5\n",
      "\n",
      "======== Epoch 126 / 200 ========\n",
      "Training...\n"
     ]
    },
    {
     "name": "stderr",
     "output_type": "stream",
     "text": [
      "100%|█████████████████████████████████████████████████████████████████████████████████| 22/22 [00:00<00:00, 733.58it/s]\n"
     ]
    },
    {
     "name": "stdout",
     "output_type": "stream",
     "text": [
      "Total loss: 45.735151529312134\n",
      "Validation accuracy: 0.5\n",
      "\n",
      "======== Epoch 127 / 200 ========\n",
      "Training...\n"
     ]
    },
    {
     "name": "stderr",
     "output_type": "stream",
     "text": [
      "100%|█████████████████████████████████████████████████████████████████████████████████| 22/22 [00:00<00:00, 758.67it/s]\n"
     ]
    },
    {
     "name": "stdout",
     "output_type": "stream",
     "text": [
      "Total loss: 45.73514914512634\n",
      "Validation accuracy: 0.5\n",
      "\n",
      "======== Epoch 128 / 200 ========\n",
      "Training...\n"
     ]
    },
    {
     "name": "stderr",
     "output_type": "stream",
     "text": [
      "100%|█████████████████████████████████████████████████████████████████████████████████| 22/22 [00:00<00:00, 758.64it/s]\n"
     ]
    },
    {
     "name": "stdout",
     "output_type": "stream",
     "text": [
      "Total loss: 45.73514676094055\n",
      "Validation accuracy: 0.5\n",
      "\n",
      "======== Epoch 129 / 200 ========\n",
      "Training...\n"
     ]
    },
    {
     "name": "stderr",
     "output_type": "stream",
     "text": [
      "100%|█████████████████████████████████████████████████████████████████████████████████| 22/22 [00:00<00:00, 733.35it/s]\n"
     ]
    },
    {
     "name": "stdout",
     "output_type": "stream",
     "text": [
      "Total loss: 45.7351450920105\n",
      "Validation accuracy: 0.5\n",
      "\n",
      "======== Epoch 130 / 200 ========\n",
      "Training...\n"
     ]
    },
    {
     "name": "stderr",
     "output_type": "stream",
     "text": [
      "100%|█████████████████████████████████████████████████████████████████████████████████| 22/22 [00:00<00:00, 733.39it/s]\n"
     ]
    },
    {
     "name": "stdout",
     "output_type": "stream",
     "text": [
      "Total loss: 45.73514413833618\n",
      "Validation accuracy: 0.5\n",
      "\n",
      "======== Epoch 131 / 200 ========\n",
      "Training...\n"
     ]
    },
    {
     "name": "stderr",
     "output_type": "stream",
     "text": [
      "100%|█████████████████████████████████████████████████████████████████████████████████| 22/22 [00:00<00:00, 733.36it/s]\n"
     ]
    },
    {
     "name": "stdout",
     "output_type": "stream",
     "text": [
      "Total loss: 45.73514127731323\n",
      "Validation accuracy: 0.5\n",
      "\n",
      "======== Epoch 132 / 200 ========\n",
      "Training...\n"
     ]
    },
    {
     "name": "stderr",
     "output_type": "stream",
     "text": [
      "100%|█████████████████████████████████████████████████████████████████████████████████| 22/22 [00:00<00:00, 733.38it/s]\n"
     ]
    },
    {
     "name": "stdout",
     "output_type": "stream",
     "text": [
      "Total loss: 45.7351393699646\n",
      "Validation accuracy: 0.5\n",
      "\n",
      "======== Epoch 133 / 200 ========\n",
      "Training...\n"
     ]
    },
    {
     "name": "stderr",
     "output_type": "stream",
     "text": [
      "100%|█████████████████████████████████████████████████████████████████████████████████| 22/22 [00:00<00:00, 687.50it/s]\n"
     ]
    },
    {
     "name": "stdout",
     "output_type": "stream",
     "text": [
      "Total loss: 45.73513722419739\n",
      "Validation accuracy: 0.5\n",
      "\n",
      "======== Epoch 134 / 200 ========\n",
      "Training...\n"
     ]
    },
    {
     "name": "stderr",
     "output_type": "stream",
     "text": [
      "100%|█████████████████████████████████████████████████████████████████████████████████| 22/22 [00:00<00:00, 709.77it/s]\n"
     ]
    },
    {
     "name": "stdout",
     "output_type": "stream",
     "text": [
      "Total loss: 45.735135555267334\n",
      "Validation accuracy: 0.5\n",
      "\n",
      "======== Epoch 135 / 200 ========\n",
      "Training...\n"
     ]
    },
    {
     "name": "stderr",
     "output_type": "stream",
     "text": [
      "100%|█████████████████████████████████████████████████████████████████████████████████| 22/22 [00:00<00:00, 733.42it/s]\n"
     ]
    },
    {
     "name": "stdout",
     "output_type": "stream",
     "text": [
      "Total loss: 45.73513436317444\n",
      "Validation accuracy: 0.5\n",
      "\n",
      "======== Epoch 136 / 200 ========\n",
      "Training...\n"
     ]
    },
    {
     "name": "stderr",
     "output_type": "stream",
     "text": [
      "100%|█████████████████████████████████████████████████████████████████████████████████| 22/22 [00:00<00:00, 785.78it/s]\n"
     ]
    },
    {
     "name": "stdout",
     "output_type": "stream",
     "text": [
      "Total loss: 45.735132932662964\n",
      "Validation accuracy: 0.5\n",
      "\n",
      "======== Epoch 137 / 200 ========\n",
      "Training...\n"
     ]
    },
    {
     "name": "stderr",
     "output_type": "stream",
     "text": [
      "100%|█████████████████████████████████████████████████████████████████████████████████| 22/22 [00:00<00:00, 785.78it/s]\n"
     ]
    },
    {
     "name": "stdout",
     "output_type": "stream",
     "text": [
      "Total loss: 45.73513078689575\n",
      "Validation accuracy: 0.5\n",
      "\n",
      "======== Epoch 138 / 200 ========\n",
      "Training...\n"
     ]
    },
    {
     "name": "stderr",
     "output_type": "stream",
     "text": [
      "100%|█████████████████████████████████████████████████████████████████████████████████| 22/22 [00:00<00:00, 846.22it/s]\n"
     ]
    },
    {
     "name": "stdout",
     "output_type": "stream",
     "text": [
      "Total loss: 45.73512864112854\n",
      "Validation accuracy: 0.5\n",
      "\n",
      "======== Epoch 139 / 200 ========\n",
      "Training...\n"
     ]
    },
    {
     "name": "stderr",
     "output_type": "stream",
     "text": [
      "100%|█████████████████████████████████████████████████████████████████████████████████| 22/22 [00:00<00:00, 814.84it/s]\n"
     ]
    },
    {
     "name": "stdout",
     "output_type": "stream",
     "text": [
      "Total loss: 45.735126972198486\n",
      "Validation accuracy: 0.5\n",
      "\n",
      "======== Epoch 140 / 200 ========\n",
      "Training...\n"
     ]
    },
    {
     "name": "stderr",
     "output_type": "stream",
     "text": [
      "100%|█████████████████████████████████████████████████████████████████████████████████| 22/22 [00:00<00:00, 846.24it/s]\n"
     ]
    },
    {
     "name": "stdout",
     "output_type": "stream",
     "text": [
      "Total loss: 45.73512506484985\n",
      "Validation accuracy: 0.5\n",
      "\n",
      "======== Epoch 141 / 200 ========\n",
      "Training...\n"
     ]
    },
    {
     "name": "stderr",
     "output_type": "stream",
     "text": [
      "100%|█████████████████████████████████████████████████████████████████████████████████| 22/22 [00:00<00:00, 880.06it/s]\n"
     ]
    },
    {
     "name": "stdout",
     "output_type": "stream",
     "text": [
      "Total loss: 45.73512363433838\n",
      "Validation accuracy: 0.5\n",
      "\n",
      "======== Epoch 142 / 200 ========\n",
      "Training...\n"
     ]
    },
    {
     "name": "stderr",
     "output_type": "stream",
     "text": [
      "100%|█████████████████████████████████████████████████████████████████████████████████| 22/22 [00:00<00:00, 785.72it/s]\n"
     ]
    },
    {
     "name": "stdout",
     "output_type": "stream",
     "text": [
      "Total loss: 45.735121965408325\n",
      "Validation accuracy: 0.5\n",
      "\n",
      "======== Epoch 143 / 200 ========\n",
      "Training...\n"
     ]
    },
    {
     "name": "stderr",
     "output_type": "stream",
     "text": [
      "100%|█████████████████████████████████████████████████████████████████████████████████| 22/22 [00:00<00:00, 758.65it/s]\n"
     ]
    },
    {
     "name": "stdout",
     "output_type": "stream",
     "text": [
      "Total loss: 45.73512077331543\n",
      "Validation accuracy: 0.5\n",
      "\n",
      "======== Epoch 144 / 200 ========\n",
      "Training...\n"
     ]
    },
    {
     "name": "stderr",
     "output_type": "stream",
     "text": [
      "100%|█████████████████████████████████████████████████████████████████████████████████| 22/22 [00:00<00:00, 785.80it/s]\n"
     ]
    },
    {
     "name": "stdout",
     "output_type": "stream",
     "text": [
      "Total loss: 45.735119581222534\n",
      "Validation accuracy: 0.5\n",
      "\n",
      "======== Epoch 145 / 200 ========\n",
      "Training...\n"
     ]
    },
    {
     "name": "stderr",
     "output_type": "stream",
     "text": [
      "100%|█████████████████████████████████████████████████████████████████████████████████| 22/22 [00:00<00:00, 758.70it/s]\n"
     ]
    },
    {
     "name": "stdout",
     "output_type": "stream",
     "text": [
      "Total loss: 45.73511815071106\n",
      "Validation accuracy: 0.5\n",
      "\n",
      "======== Epoch 146 / 200 ========\n",
      "Training...\n"
     ]
    },
    {
     "name": "stderr",
     "output_type": "stream",
     "text": [
      "100%|█████████████████████████████████████████████████████████████████████████████████| 22/22 [00:00<00:00, 709.66it/s]\n"
     ]
    },
    {
     "name": "stdout",
     "output_type": "stream",
     "text": [
      "Total loss: 45.735116481781006\n",
      "Validation accuracy: 0.5\n",
      "\n",
      "======== Epoch 147 / 200 ========\n",
      "Training...\n"
     ]
    },
    {
     "name": "stderr",
     "output_type": "stream",
     "text": [
      "100%|█████████████████████████████████████████████████████████████████████████████████| 22/22 [00:00<00:00, 709.76it/s]\n"
     ]
    },
    {
     "name": "stdout",
     "output_type": "stream",
     "text": [
      "Total loss: 45.73511528968811\n",
      "Validation accuracy: 0.5\n",
      "\n",
      "======== Epoch 148 / 200 ========\n",
      "Training...\n"
     ]
    },
    {
     "name": "stderr",
     "output_type": "stream",
     "text": [
      "100%|█████████████████████████████████████████████████████████████████████████████████| 22/22 [00:00<00:00, 687.57it/s]\n"
     ]
    },
    {
     "name": "stdout",
     "output_type": "stream",
     "text": [
      "Total loss: 45.73511362075806\n",
      "Validation accuracy: 0.5\n",
      "\n",
      "======== Epoch 149 / 200 ========\n",
      "Training...\n"
     ]
    },
    {
     "name": "stderr",
     "output_type": "stream",
     "text": [
      "100%|█████████████████████████████████████████████████████████████████████████████████| 22/22 [00:00<00:00, 785.79it/s]\n"
     ]
    },
    {
     "name": "stdout",
     "output_type": "stream",
     "text": [
      "Total loss: 45.73511242866516\n",
      "Validation accuracy: 0.5\n",
      "\n",
      "======== Epoch 150 / 200 ========\n",
      "Training...\n"
     ]
    },
    {
     "name": "stderr",
     "output_type": "stream",
     "text": [
      "100%|█████████████████████████████████████████████████████████████████████████████████| 22/22 [00:00<00:00, 785.74it/s]\n"
     ]
    },
    {
     "name": "stdout",
     "output_type": "stream",
     "text": [
      "Total loss: 45.735111474990845\n",
      "Validation accuracy: 0.5\n",
      "\n",
      "======== Epoch 151 / 200 ========\n",
      "Training...\n"
     ]
    },
    {
     "name": "stderr",
     "output_type": "stream",
     "text": [
      "100%|█████████████████████████████████████████████████████████████████████████████████| 22/22 [00:00<00:00, 785.80it/s]\n"
     ]
    },
    {
     "name": "stdout",
     "output_type": "stream",
     "text": [
      "Total loss: 45.73510980606079\n",
      "Validation accuracy: 0.5\n",
      "\n",
      "======== Epoch 152 / 200 ========\n",
      "Training...\n"
     ]
    },
    {
     "name": "stderr",
     "output_type": "stream",
     "text": [
      "100%|█████████████████████████████████████████████████████████████████████████████████| 22/22 [00:00<00:00, 814.87it/s]\n"
     ]
    },
    {
     "name": "stdout",
     "output_type": "stream",
     "text": [
      "Total loss: 45.73510932922363\n",
      "Validation accuracy: 0.5\n",
      "\n",
      "======== Epoch 153 / 200 ========\n",
      "Training...\n"
     ]
    },
    {
     "name": "stderr",
     "output_type": "stream",
     "text": [
      "100%|█████████████████████████████████████████████████████████████████████████████████| 22/22 [00:00<00:00, 814.90it/s]\n"
     ]
    },
    {
     "name": "stdout",
     "output_type": "stream",
     "text": [
      "Total loss: 45.73510789871216\n",
      "Validation accuracy: 0.5\n",
      "\n",
      "======== Epoch 154 / 200 ========\n",
      "Training...\n"
     ]
    },
    {
     "name": "stderr",
     "output_type": "stream",
     "text": [
      "100%|█████████████████████████████████████████████████████████████████████████████████| 22/22 [00:00<00:00, 814.94it/s]\n"
     ]
    },
    {
     "name": "stdout",
     "output_type": "stream",
     "text": [
      "Total loss: 45.73510670661926\n",
      "Validation accuracy: 0.5\n",
      "\n",
      "======== Epoch 155 / 200 ========\n",
      "Training...\n"
     ]
    },
    {
     "name": "stderr",
     "output_type": "stream",
     "text": [
      "100%|█████████████████████████████████████████████████████████████████████████████████| 22/22 [00:00<00:00, 846.21it/s]\n"
     ]
    },
    {
     "name": "stdout",
     "output_type": "stream",
     "text": [
      "Total loss: 45.73510551452637\n",
      "Validation accuracy: 0.5\n",
      "\n",
      "======== Epoch 156 / 200 ========\n",
      "Training...\n"
     ]
    },
    {
     "name": "stderr",
     "output_type": "stream",
     "text": [
      "100%|█████████████████████████████████████████████████████████████████████████████████| 22/22 [00:00<00:00, 758.73it/s]\n"
     ]
    },
    {
     "name": "stdout",
     "output_type": "stream",
     "text": [
      "Total loss: 45.73510408401489\n",
      "Validation accuracy: 0.5\n",
      "\n",
      "======== Epoch 157 / 200 ========\n",
      "Training...\n"
     ]
    },
    {
     "name": "stderr",
     "output_type": "stream",
     "text": [
      "100%|█████████████████████████████████████████████████████████████████████████████████| 22/22 [00:00<00:00, 814.97it/s]\n"
     ]
    },
    {
     "name": "stdout",
     "output_type": "stream",
     "text": [
      "Total loss: 45.7351016998291\n",
      "Validation accuracy: 0.5\n",
      "\n",
      "======== Epoch 158 / 200 ========\n",
      "Training...\n"
     ]
    },
    {
     "name": "stderr",
     "output_type": "stream",
     "text": [
      "100%|█████████████████████████████████████████████████████████████████████████████████| 22/22 [00:00<00:00, 846.22it/s]\n"
     ]
    },
    {
     "name": "stdout",
     "output_type": "stream",
     "text": [
      "Total loss: 45.735100746154785\n",
      "Validation accuracy: 0.5\n",
      "\n",
      "======== Epoch 159 / 200 ========\n",
      "Training...\n"
     ]
    },
    {
     "name": "stderr",
     "output_type": "stream",
     "text": [
      "100%|█████████████████████████████████████████████████████████████████████████████████| 22/22 [00:00<00:00, 733.40it/s]\n"
     ]
    },
    {
     "name": "stdout",
     "output_type": "stream",
     "text": [
      "Total loss: 45.73510026931763\n",
      "Validation accuracy: 0.5\n",
      "\n",
      "======== Epoch 160 / 200 ========\n",
      "Training...\n"
     ]
    },
    {
     "name": "stderr",
     "output_type": "stream",
     "text": [
      "100%|█████████████████████████████████████████████████████████████████████████████████| 22/22 [00:00<00:00, 758.68it/s]\n"
     ]
    },
    {
     "name": "stdout",
     "output_type": "stream",
     "text": [
      "Total loss: 45.73509860038757\n",
      "Validation accuracy: 0.5\n",
      "\n",
      "======== Epoch 161 / 200 ========\n",
      "Training...\n"
     ]
    },
    {
     "name": "stderr",
     "output_type": "stream",
     "text": [
      "100%|█████████████████████████████████████████████████████████████████████████████████| 22/22 [00:00<00:00, 733.36it/s]\n"
     ]
    },
    {
     "name": "stdout",
     "output_type": "stream",
     "text": [
      "Total loss: 45.735098361968994\n",
      "Validation accuracy: 0.5\n",
      "\n",
      "======== Epoch 162 / 200 ========\n",
      "Training...\n"
     ]
    },
    {
     "name": "stderr",
     "output_type": "stream",
     "text": [
      "100%|█████████████████████████████████████████████████████████████████████████████████| 22/22 [00:00<00:00, 687.55it/s]\n"
     ]
    },
    {
     "name": "stdout",
     "output_type": "stream",
     "text": [
      "Total loss: 45.7350971698761\n",
      "Validation accuracy: 0.5\n",
      "\n",
      "======== Epoch 163 / 200 ========\n",
      "Training...\n"
     ]
    },
    {
     "name": "stderr",
     "output_type": "stream",
     "text": [
      "100%|█████████████████████████████████████████████████████████████████████████████████| 22/22 [00:00<00:00, 733.36it/s]\n"
     ]
    },
    {
     "name": "stdout",
     "output_type": "stream",
     "text": [
      "Total loss: 45.7350959777832\n",
      "Validation accuracy: 0.5\n",
      "\n",
      "======== Epoch 164 / 200 ========\n",
      "Training...\n"
     ]
    },
    {
     "name": "stderr",
     "output_type": "stream",
     "text": [
      "100%|█████████████████████████████████████████████████████████████████████████████████| 22/22 [00:00<00:00, 666.73it/s]\n"
     ]
    },
    {
     "name": "stdout",
     "output_type": "stream",
     "text": [
      "Total loss: 45.735095500946045\n",
      "Validation accuracy: 0.5\n",
      "\n",
      "======== Epoch 165 / 200 ========\n",
      "Training...\n"
     ]
    },
    {
     "name": "stderr",
     "output_type": "stream",
     "text": [
      "100%|█████████████████████████████████████████████████████████████████████████████████| 22/22 [00:00<00:00, 814.90it/s]\n"
     ]
    },
    {
     "name": "stdout",
     "output_type": "stream",
     "text": [
      "Total loss: 45.73509454727173\n",
      "Validation accuracy: 0.5\n",
      "\n",
      "======== Epoch 166 / 200 ========\n",
      "Training...\n"
     ]
    },
    {
     "name": "stderr",
     "output_type": "stream",
     "text": [
      "100%|█████████████████████████████████████████████████████████████████████████████████| 22/22 [00:00<00:00, 814.93it/s]\n"
     ]
    },
    {
     "name": "stdout",
     "output_type": "stream",
     "text": [
      "Total loss: 45.73509335517883\n",
      "Validation accuracy: 0.5\n",
      "\n",
      "======== Epoch 167 / 200 ========\n",
      "Training...\n"
     ]
    },
    {
     "name": "stderr",
     "output_type": "stream",
     "text": [
      "100%|█████████████████████████████████████████████████████████████████████████████████| 22/22 [00:00<00:00, 814.88it/s]\n"
     ]
    },
    {
     "name": "stdout",
     "output_type": "stream",
     "text": [
      "Total loss: 45.735092878341675\n",
      "Validation accuracy: 0.5\n",
      "\n",
      "======== Epoch 168 / 200 ========\n",
      "Training...\n"
     ]
    },
    {
     "name": "stderr",
     "output_type": "stream",
     "text": [
      "100%|█████████████████████████████████████████████████████████████████████████████████| 22/22 [00:00<00:00, 758.76it/s]\n"
     ]
    },
    {
     "name": "stdout",
     "output_type": "stream",
     "text": [
      "Total loss: 45.73509168624878\n",
      "Validation accuracy: 0.5\n",
      "\n",
      "======== Epoch 169 / 200 ========\n",
      "Training...\n"
     ]
    },
    {
     "name": "stderr",
     "output_type": "stream",
     "text": [
      "100%|█████████████████████████████████████████████████████████████████████████████████| 22/22 [00:00<00:00, 758.69it/s]\n"
     ]
    },
    {
     "name": "stdout",
     "output_type": "stream",
     "text": [
      "Total loss: 45.73509073257446\n",
      "Validation accuracy: 0.5\n",
      "\n",
      "======== Epoch 170 / 200 ========\n",
      "Training...\n"
     ]
    },
    {
     "name": "stderr",
     "output_type": "stream",
     "text": [
      "100%|█████████████████████████████████████████████████████████████████████████████████| 22/22 [00:00<00:00, 733.41it/s]\n"
     ]
    },
    {
     "name": "stdout",
     "output_type": "stream",
     "text": [
      "Total loss: 45.73508906364441\n",
      "Validation accuracy: 0.5\n",
      "\n",
      "======== Epoch 171 / 200 ========\n",
      "Training...\n"
     ]
    },
    {
     "name": "stderr",
     "output_type": "stream",
     "text": [
      "100%|█████████████████████████████████████████████████████████████████████████████████| 22/22 [00:00<00:00, 733.42it/s]\n"
     ]
    },
    {
     "name": "stdout",
     "output_type": "stream",
     "text": [
      "Total loss: 45.73508810997009\n",
      "Validation accuracy: 0.5\n",
      "\n",
      "======== Epoch 172 / 200 ========\n",
      "Training...\n"
     ]
    },
    {
     "name": "stderr",
     "output_type": "stream",
     "text": [
      "100%|█████████████████████████████████████████████████████████████████████████████████| 22/22 [00:00<00:00, 785.82it/s]\n"
     ]
    },
    {
     "name": "stdout",
     "output_type": "stream",
     "text": [
      "Total loss: 45.735087394714355\n",
      "Validation accuracy: 0.5\n",
      "\n",
      "======== Epoch 173 / 200 ========\n",
      "Training...\n"
     ]
    },
    {
     "name": "stderr",
     "output_type": "stream",
     "text": [
      "100%|█████████████████████████████████████████████████████████████████████████████████| 22/22 [00:00<00:00, 709.81it/s]\n"
     ]
    },
    {
     "name": "stdout",
     "output_type": "stream",
     "text": [
      "Total loss: 45.735087156295776\n",
      "Validation accuracy: 0.5\n",
      "\n",
      "======== Epoch 174 / 200 ========\n",
      "Training...\n"
     ]
    },
    {
     "name": "stderr",
     "output_type": "stream",
     "text": [
      "100%|█████████████████████████████████████████████████████████████████████████████████| 22/22 [00:00<00:00, 733.40it/s]\n"
     ]
    },
    {
     "name": "stdout",
     "output_type": "stream",
     "text": [
      "Total loss: 45.73508667945862\n",
      "Validation accuracy: 0.5\n",
      "\n",
      "======== Epoch 175 / 200 ========\n",
      "Training...\n"
     ]
    },
    {
     "name": "stderr",
     "output_type": "stream",
     "text": [
      "100%|█████████████████████████████████████████████████████████████████████████████████| 22/22 [00:00<00:00, 733.42it/s]\n"
     ]
    },
    {
     "name": "stdout",
     "output_type": "stream",
     "text": [
      "Total loss: 45.735085248947144\n",
      "Validation accuracy: 0.5\n",
      "\n",
      "======== Epoch 176 / 200 ========\n",
      "Training...\n"
     ]
    },
    {
     "name": "stderr",
     "output_type": "stream",
     "text": [
      "100%|█████████████████████████████████████████████████████████████████████████████████| 22/22 [00:00<00:00, 758.67it/s]\n"
     ]
    },
    {
     "name": "stdout",
     "output_type": "stream",
     "text": [
      "Total loss: 45.73508429527283\n",
      "Validation accuracy: 0.5\n",
      "\n",
      "======== Epoch 177 / 200 ========\n",
      "Training...\n"
     ]
    },
    {
     "name": "stderr",
     "output_type": "stream",
     "text": [
      "100%|█████████████████████████████████████████████████████████████████████████████████| 22/22 [00:00<00:00, 733.38it/s]\n"
     ]
    },
    {
     "name": "stdout",
     "output_type": "stream",
     "text": [
      "Total loss: 45.73508262634277\n",
      "Validation accuracy: 0.5\n",
      "\n",
      "======== Epoch 178 / 200 ========\n",
      "Training...\n"
     ]
    },
    {
     "name": "stderr",
     "output_type": "stream",
     "text": [
      "100%|█████████████████████████████████████████████████████████████████████████████████| 22/22 [00:00<00:00, 758.68it/s]\n"
     ]
    },
    {
     "name": "stdout",
     "output_type": "stream",
     "text": [
      "Total loss: 45.735081911087036\n",
      "Validation accuracy: 0.5\n",
      "\n",
      "======== Epoch 179 / 200 ========\n",
      "Training...\n"
     ]
    },
    {
     "name": "stderr",
     "output_type": "stream",
     "text": [
      "100%|█████████████████████████████████████████████████████████████████████████████████| 22/22 [00:00<00:00, 785.76it/s]\n"
     ]
    },
    {
     "name": "stdout",
     "output_type": "stream",
     "text": [
      "Total loss: 45.73508143424988\n",
      "Validation accuracy: 0.5\n",
      "\n",
      "======== Epoch 180 / 200 ========\n",
      "Training...\n"
     ]
    },
    {
     "name": "stderr",
     "output_type": "stream",
     "text": [
      "100%|█████████████████████████████████████████████████████████████████████████████████| 22/22 [00:00<00:00, 785.76it/s]\n"
     ]
    },
    {
     "name": "stdout",
     "output_type": "stream",
     "text": [
      "Total loss: 45.7350811958313\n",
      "Validation accuracy: 0.5\n",
      "\n",
      "======== Epoch 181 / 200 ========\n",
      "Training...\n"
     ]
    },
    {
     "name": "stderr",
     "output_type": "stream",
     "text": [
      "100%|█████████████████████████████████████████████████████████████████████████████████| 22/22 [00:00<00:00, 846.28it/s]\n"
     ]
    },
    {
     "name": "stdout",
     "output_type": "stream",
     "text": [
      "Total loss: 45.73508095741272\n",
      "Validation accuracy: 0.5\n",
      "\n",
      "======== Epoch 182 / 200 ========\n",
      "Training...\n"
     ]
    },
    {
     "name": "stderr",
     "output_type": "stream",
     "text": [
      "100%|█████████████████████████████████████████████████████████████████████████████████| 22/22 [00:00<00:00, 880.23it/s]\n"
     ]
    },
    {
     "name": "stdout",
     "output_type": "stream",
     "text": [
      "Total loss: 45.7350800037384\n",
      "Validation accuracy: 0.5\n",
      "\n",
      "======== Epoch 183 / 200 ========\n",
      "Training...\n"
     ]
    },
    {
     "name": "stderr",
     "output_type": "stream",
     "text": [
      "100%|█████████████████████████████████████████████████████████████████████████████████| 22/22 [00:00<00:00, 758.73it/s]\n"
     ]
    },
    {
     "name": "stdout",
     "output_type": "stream",
     "text": [
      "Total loss: 45.73507905006409\n",
      "Validation accuracy: 0.5\n",
      "\n",
      "======== Epoch 184 / 200 ========\n",
      "Training...\n"
     ]
    },
    {
     "name": "stderr",
     "output_type": "stream",
     "text": [
      "100%|█████████████████████████████████████████████████████████████████████████████████| 22/22 [00:00<00:00, 758.75it/s]\n"
     ]
    },
    {
     "name": "stdout",
     "output_type": "stream",
     "text": [
      "Total loss: 45.73507881164551\n",
      "Validation accuracy: 0.5\n",
      "\n",
      "======== Epoch 185 / 200 ========\n",
      "Training...\n"
     ]
    },
    {
     "name": "stderr",
     "output_type": "stream",
     "text": [
      "100%|█████████████████████████████████████████████████████████████████████████████████| 22/22 [00:00<00:00, 758.68it/s]\n"
     ]
    },
    {
     "name": "stdout",
     "output_type": "stream",
     "text": [
      "Total loss: 45.73507833480835\n",
      "Validation accuracy: 0.5\n",
      "\n",
      "======== Epoch 186 / 200 ========\n",
      "Training...\n"
     ]
    },
    {
     "name": "stderr",
     "output_type": "stream",
     "text": [
      "100%|█████████████████████████████████████████████████████████████████████████████████| 22/22 [00:00<00:00, 758.67it/s]\n"
     ]
    },
    {
     "name": "stdout",
     "output_type": "stream",
     "text": [
      "Total loss: 45.73507809638977\n",
      "Validation accuracy: 0.5\n",
      "\n",
      "======== Epoch 187 / 200 ========\n",
      "Training...\n"
     ]
    },
    {
     "name": "stderr",
     "output_type": "stream",
     "text": [
      "100%|█████████████████████████████████████████████████████████████████████████████████| 22/22 [00:00<00:00, 785.80it/s]\n"
     ]
    },
    {
     "name": "stdout",
     "output_type": "stream",
     "text": [
      "Total loss: 45.73507738113403\n",
      "Validation accuracy: 0.5\n",
      "\n",
      "======== Epoch 188 / 200 ========\n",
      "Training...\n"
     ]
    },
    {
     "name": "stderr",
     "output_type": "stream",
     "text": [
      "100%|█████████████████████████████████████████████████████████████████████████████████| 22/22 [00:00<00:00, 846.29it/s]\n"
     ]
    },
    {
     "name": "stdout",
     "output_type": "stream",
     "text": [
      "Total loss: 45.735076665878296\n",
      "Validation accuracy: 0.5\n",
      "\n",
      "======== Epoch 189 / 200 ========\n",
      "Training...\n"
     ]
    },
    {
     "name": "stderr",
     "output_type": "stream",
     "text": [
      "100%|█████████████████████████████████████████████████████████████████████████████████| 22/22 [00:00<00:00, 758.69it/s]\n"
     ]
    },
    {
     "name": "stdout",
     "output_type": "stream",
     "text": [
      "Total loss: 45.73507595062256\n",
      "Validation accuracy: 0.5\n",
      "\n",
      "======== Epoch 190 / 200 ========\n",
      "Training...\n"
     ]
    },
    {
     "name": "stderr",
     "output_type": "stream",
     "text": [
      "100%|█████████████████████████████████████████████████████████████████████████████████| 22/22 [00:00<00:00, 880.16it/s]\n"
     ]
    },
    {
     "name": "stdout",
     "output_type": "stream",
     "text": [
      "Total loss: 45.73507523536682\n",
      "Validation accuracy: 0.5\n",
      "\n",
      "======== Epoch 191 / 200 ========\n",
      "Training...\n"
     ]
    },
    {
     "name": "stderr",
     "output_type": "stream",
     "text": [
      "100%|█████████████████████████████████████████████████████████████████████████████████| 22/22 [00:00<00:00, 758.74it/s]\n"
     ]
    },
    {
     "name": "stdout",
     "output_type": "stream",
     "text": [
      "Total loss: 45.7350754737854\n",
      "Validation accuracy: 0.5\n",
      "\n",
      "======== Epoch 192 / 200 ========\n",
      "Training...\n"
     ]
    },
    {
     "name": "stderr",
     "output_type": "stream",
     "text": [
      "100%|█████████████████████████████████████████████████████████████████████████████████| 22/22 [00:00<00:00, 785.78it/s]\n"
     ]
    },
    {
     "name": "stdout",
     "output_type": "stream",
     "text": [
      "Total loss: 45.73507475852966\n",
      "Validation accuracy: 0.5\n",
      "\n",
      "======== Epoch 193 / 200 ========\n",
      "Training...\n"
     ]
    },
    {
     "name": "stderr",
     "output_type": "stream",
     "text": [
      "100%|█████████████████████████████████████████████████████████████████████████████████| 22/22 [00:00<00:00, 814.95it/s]\n"
     ]
    },
    {
     "name": "stdout",
     "output_type": "stream",
     "text": [
      "Total loss: 45.735074281692505\n",
      "Validation accuracy: 0.5\n",
      "\n",
      "======== Epoch 194 / 200 ========\n",
      "Training...\n"
     ]
    },
    {
     "name": "stderr",
     "output_type": "stream",
     "text": [
      "100%|█████████████████████████████████████████████████████████████████████████████████| 22/22 [00:00<00:00, 814.90it/s]\n"
     ]
    },
    {
     "name": "stdout",
     "output_type": "stream",
     "text": [
      "Total loss: 45.73507308959961\n",
      "Validation accuracy: 0.5\n",
      "\n",
      "======== Epoch 195 / 200 ========\n",
      "Training...\n"
     ]
    },
    {
     "name": "stderr",
     "output_type": "stream",
     "text": [
      "100%|█████████████████████████████████████████████████████████████████████████████████| 22/22 [00:00<00:00, 846.25it/s]\n"
     ]
    },
    {
     "name": "stdout",
     "output_type": "stream",
     "text": [
      "Total loss: 45.73507237434387\n",
      "Validation accuracy: 0.5\n",
      "\n",
      "======== Epoch 196 / 200 ========\n",
      "Training...\n"
     ]
    },
    {
     "name": "stderr",
     "output_type": "stream",
     "text": [
      "100%|█████████████████████████████████████████████████████████████████████████████████| 22/22 [00:00<00:00, 785.76it/s]\n"
     ]
    },
    {
     "name": "stdout",
     "output_type": "stream",
     "text": [
      "Total loss: 45.73507213592529\n",
      "Validation accuracy: 0.5\n",
      "\n",
      "======== Epoch 197 / 200 ========\n",
      "Training...\n"
     ]
    },
    {
     "name": "stderr",
     "output_type": "stream",
     "text": [
      "100%|█████████████████████████████████████████████████████████████████████████████████| 22/22 [00:00<00:00, 687.64it/s]\n"
     ]
    },
    {
     "name": "stdout",
     "output_type": "stream",
     "text": [
      "Total loss: 45.7350709438324\n",
      "Validation accuracy: 0.5\n",
      "\n",
      "======== Epoch 198 / 200 ========\n",
      "Training...\n"
     ]
    },
    {
     "name": "stderr",
     "output_type": "stream",
     "text": [
      "100%|█████████████████████████████████████████████████████████████████████████████████| 22/22 [00:00<00:00, 785.80it/s]\n"
     ]
    },
    {
     "name": "stdout",
     "output_type": "stream",
     "text": [
      "Total loss: 45.73506999015808\n",
      "Validation accuracy: 0.5\n",
      "\n",
      "======== Epoch 199 / 200 ========\n",
      "Training...\n"
     ]
    },
    {
     "name": "stderr",
     "output_type": "stream",
     "text": [
      "100%|█████████████████████████████████████████████████████████████████████████████████| 22/22 [00:00<00:00, 758.69it/s]\n"
     ]
    },
    {
     "name": "stdout",
     "output_type": "stream",
     "text": [
      "Total loss: 45.73506951332092\n",
      "Validation accuracy: 0.5\n",
      "\n",
      "======== Epoch 200 / 200 ========\n",
      "Training...\n"
     ]
    },
    {
     "name": "stderr",
     "output_type": "stream",
     "text": [
      "100%|█████████████████████████████████████████████████████████████████████████████████| 22/22 [00:00<00:00, 785.80it/s]\n"
     ]
    },
    {
     "name": "stdout",
     "output_type": "stream",
     "text": [
      "Total loss: 45.735069274902344\n",
      "Validation accuracy: 0.5\n",
      "\n",
      "Training complete!\n"
     ]
    }
   ],
   "source": [
    "class DeepClassifier(nn.Module):\n",
    "    \n",
    "    def __init__(self, input_dim, output_dim):\n",
    "        super(DeepClassifier, self).__init__()\n",
    "        self.linear = nn.Linear(input_dim, output_dim)\n",
    "        self.output = nn.Softmax()\n",
    "\n",
    "    def forward(self, x):\n",
    "        out = self.linear(x)\n",
    "        out = self.output(out)\n",
    "        return out\n",
    "    \n",
    "\n",
    "input_dim = training_inputs.shape[1]   \n",
    "output_dim = len(label_string_to_ID)\n",
    "model = DeepClassifier(input_dim, output_dim)\n",
    "\n",
    "\n",
    "\n",
    "\n",
    "# Tell pytorch to run this model on the GPU.\n",
    "model.cuda()\n",
    "\n",
    "criterion = nn.CrossEntropyLoss()\n",
    "\n",
    "hyperparameter_config_iter = 1\n",
    "\n",
    "save_path = \"Saved models/Title and abstract/Hyperparameter configuration \" + str(hyperparameter_config_iter)\n",
    "\n",
    "if(os.path.exists(save_path)):\n",
    "    raise Exception(\"ERROR! Hyperparameter config \" + str(hyperparameter_config_iter))\n",
    "\n",
    "else:\n",
    "    os.makedirs(save_path)\n",
    "    os.makedirs(save_path + \"/Plots\")\n",
    "\n",
    "\n",
    "# Fine-tuning hyperparameters\n",
    "\n",
    "batch_size = 16\n",
    "\n",
    "optimizer = torch.optim.Adam(model.parameters())\n",
    "epochs = 200\n",
    "\n",
    "hyperparameter_dict = dict()\n",
    "hyperparameter_dict['batch_size'] = batch_size\n",
    "hyperparameter_dict['epochs'] = epochs\n",
    "\n",
    "\n",
    "with open(save_path + \"/Hyperparameters.json\", 'w') as f:\n",
    "    json.dump(hyperparameter_dict, f)\n",
    "\n",
    "def save(model, optimizer, output_path):\n",
    "    torch.save({'model_state_dict': model.state_dict(), 'optimizer_state_dict': optimizer.state_dict()}, output_path)\n",
    "\n",
    "# function to get validation accuracy\n",
    "def get_performance(data_set):\n",
    "    # Put the model in evaluation mode\n",
    "    model.eval()\n",
    "\n",
    "    # Tracking variables \n",
    "    total_eval_accuracy = 0\n",
    "    total_eval_loss = 0\n",
    "\n",
    "    num_batches = int(len(data_set)/batch_size) + 1\n",
    "\n",
    "    total_correct = 0\n",
    "\n",
    "    for i in range(num_batches):\n",
    "\n",
    "        end_index = min(batch_size * (i+1), len(data_set))\n",
    "        \n",
    "        if len(data_set[0]) == 0: continue\n",
    "\n",
    "        input_id_tensors = data_set[0][i*batch_size:end_index]\n",
    "        label_tensors = data_set[1][i*batch_size:end_index]\n",
    "\n",
    "        # Move tensors to the GPU\n",
    "        b_input_ids = input_id_tensors.to(device)\n",
    "        b_labels = label_tensors.to(device)\n",
    "\n",
    "        # Tell pytorch not to bother with constructing the compute graph during\n",
    "        # the forward pass, since this is only needed for backprop (training).\n",
    "        with torch.no_grad():        \n",
    "\n",
    "            # Forward pass, calculate logit predictions.\n",
    "            b_outputs = model(b_input_ids)\n",
    "            \n",
    "            loss = criterion(b_outputs, b_labels)\n",
    "\n",
    "            logits = b_outputs\n",
    "\n",
    "            # Accumulate the validation loss.\n",
    "            total_eval_loss += loss.item()\n",
    "\n",
    "            # Move logits and labels to CPU\n",
    "            logits = logits.detach().cpu().numpy()\n",
    "            label_ids = b_labels.to('cpu').numpy()\n",
    "\n",
    "            # Calculate the number of correctly labeled examples in batch\n",
    "            pred_flat = np.argmax(logits, axis=1).flatten()\n",
    "            labels_flat = label_ids.flatten()\n",
    "            num_correct = np.sum(pred_flat == labels_flat)\n",
    "            total_correct += num_correct\n",
    "        \n",
    "    # Report the final accuracy for this validation run.\n",
    "    avg_val_accuracy = total_correct / len(data_set)\n",
    "    return avg_val_accuracy\n",
    "\n",
    "# training loop\n",
    "\n",
    "max_val_acc = -1\n",
    "\n",
    "metric_vs_epoch = dict()\n",
    "\n",
    "epoch_list = []\n",
    "training_loss_list = []\n",
    "training_acc_list = []\n",
    "\n",
    "val_acc_list = []\n",
    "\n",
    "# For each epoch...\n",
    "for epoch_i in range(0, epochs):\n",
    "    \n",
    "    epoch_list.append(epoch_i + 1)\n",
    "    \n",
    "    # Perform one full pass over the training set.\n",
    "\n",
    "    print(\"\")\n",
    "    print('======== Epoch {:} / {:} ========'.format(epoch_i + 1, epochs))\n",
    "    print('Training...')\n",
    "\n",
    "    # Reset the total loss for this epoch.\n",
    "    total_train_loss = 0\n",
    "\n",
    "    # Put the model into training mode.\n",
    "    model.train()\n",
    "\n",
    "    # For each batch of training data...\n",
    "    num_batches = int(training_inputs.shape[0]/batch_size) + 1\n",
    "\n",
    "    for i in tqdm(range(num_batches)):\n",
    "        \n",
    "        end_index = min(batch_size * (i+1), training_inputs.shape[0])\n",
    "\n",
    "        b_input_ids = training_inputs[i*batch_size:end_index]\n",
    "        b_labels = training_label_IDs[i*batch_size:end_index]\n",
    "\n",
    "        if len(b_input_ids) == 0: continue\n",
    "\n",
    "        # Move tensors to the GPU\n",
    "        b_input_ids = b_input_ids.to(device)\n",
    "        b_labels = b_labels.to(device)\n",
    "\n",
    "        # Clear the previously calculated gradient\n",
    "        model.zero_grad()\n",
    "\n",
    "        # Perform a forward pass (evaluate the model on this training batch).\n",
    "        b_outputs = model(b_input_ids)\n",
    "        \n",
    "        loss = criterion(b_outputs, b_labels)\n",
    "        \n",
    "        #logits = outputs.logits\n",
    "\n",
    "        total_train_loss += loss.item()\n",
    "\n",
    "        # Perform a backward pass to calculate the gradients.\n",
    "        loss.backward()\n",
    "\n",
    "        # Update parameters and take a step using the computed gradient.\n",
    "        optimizer.step()\n",
    "        \n",
    "    # ========================================\n",
    "    #               Validation\n",
    "    # ========================================\n",
    "    # After the completion of each training epoch, measure our performance on\n",
    "    # our validation set. Implement this function in the cell above.\n",
    "    \n",
    "    training_acc = get_performance([training_inputs, training_label_IDs])\n",
    "    val_acc = get_performance([validation_inputs, validation_label_IDs])\n",
    "    \n",
    "    print(f\"Total loss: {total_train_loss}\")\n",
    "    print(f\"Validation accuracy: {val_acc}\")\n",
    "    \n",
    "    val_acc_list.append(val_acc)\n",
    "    training_acc_list.append(training_acc)\n",
    "    \n",
    "    training_loss_list.append(total_train_loss)\n",
    "    \n",
    "    if(val_acc > max_val_acc):\n",
    "        \n",
    "        max_val_acc = val_acc\n",
    "        \n",
    "        torch.save(model.state_dict(), save_path + \"/best validation accuracy model.model\")\n",
    "        save(model, optimizer, save_path + \"/best validation accuracy.modelState\")\n",
    "    \n",
    "    \n",
    "print(\"\")\n",
    "print(\"Training complete!\")            \n",
    "\n",
    "metric_vs_epoch[\"Epochs\"] = epoch_list\n",
    "metric_vs_epoch[\"Training loss\"] = training_loss_list\n",
    "metric_vs_epoch[\"Training accuracy\"] = training_acc_list\n",
    "metric_vs_epoch[\"Validation accuracy\"] = val_acc_list\n",
    "\n",
    "with open(save_path + \"/Plots/Plot data.json\", 'w') as f:\n",
    "    json.dump(metric_vs_epoch, f)\n",
    "\n",
    "metric_vs_epoch_df = pd.DataFrame(metric_vs_epoch, columns = [\"Epochs\", \"Training loss\", \"Training accuracy\", \"Validation accuracy\"])\n",
    "\n",
    "fig = px.line(metric_vs_epoch_df, x='Epochs', y=\"Training loss\", title=\"Training loss vs epochs\")\n",
    "plotly.offline.plot(fig, filename = save_path + \"/Plots/Training loss.html\")\n",
    "\n",
    "accuracy_vs_epoch = dict()\n",
    "accuracy_vs_epoch[\"Epochs\"] = epoch_list + epoch_list\n",
    "accuracy_vs_epoch[\"Accuracy\"] = training_acc_list + val_acc_list\n",
    "accuracy_vs_epoch[\"Dataset\"] = [\"Training\"]*len(training_acc_list) + [\"Validation\"]*len(val_acc_list)\n",
    "\n",
    "accuracy_vs_epoch_df = pd.DataFrame(accuracy_vs_epoch, columns = [\"Epochs\", \"Accuracy\", \"Dataset\"])\n",
    "\n",
    "fig = px.line(accuracy_vs_epoch_df, x='Epochs', y='Accuracy', color='Dataset', markers=True, title=\"Training/Validation accuracy vs epochs\")\n",
    "plotly.offline.plot(fig, filename = save_path + \"/Plots/Accuracy.html\")\n",
    "\n",
    "with open(save_path + \"/Best validation accuracy.txt\", 'w') as f:\n",
    "    f.write(\"Best validation accuracy: \" + str(max_val_acc))"
   ]
  }
 ],
 "metadata": {
  "kernelspec": {
   "display_name": "Python [conda env:NLP]",
   "language": "python",
   "name": "conda-env-NLP-py"
  },
  "language_info": {
   "codemirror_mode": {
    "name": "ipython",
    "version": 3
   },
   "file_extension": ".py",
   "mimetype": "text/x-python",
   "name": "python",
   "nbconvert_exporter": "python",
   "pygments_lexer": "ipython3",
   "version": "3.9.7"
  }
 },
 "nbformat": 4,
 "nbformat_minor": 5
}
