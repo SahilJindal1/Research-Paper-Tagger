{
 "cells": [
  {
   "cell_type": "markdown",
   "id": "14e4932d",
   "metadata": {},
   "source": [
    "# RPT (Research Paper Tagger)\n",
    "\n",
    "\n",
    "This Jupyter notebook contains the code that trains RPT. It also has the ablation study over the input. We take a pre-trained BERT model and fine-tune it on the ACL data that we have collected."
   ]
  },
  {
   "cell_type": "code",
   "execution_count": 3,
   "id": "206dd150",
   "metadata": {},
   "outputs": [],
   "source": [
    "import os\n",
    "import zipfile\n",
    "import json\n",
    "import random\n",
    "from tqdm import tqdm\n",
    "import plotly\n",
    "import plotly.express as px\n",
    "import plotly.graph_objects as go\n",
    "\n",
    "import numpy as np\n",
    "import pandas as pd\n",
    "\n",
    "from helpers import tokenize_and_format, flat_accuracy\n",
    "\n",
    "import torch\n",
    "from transformers import BertForSequenceClassification, AdamW, BertConfig, get_linear_schedule_with_warmup\n",
    "\n",
    "from sklearn.metrics import precision_recall_fscore_support, top_k_accuracy_score"
   ]
  },
  {
   "cell_type": "code",
   "execution_count": 4,
   "id": "3758d13e",
   "metadata": {},
   "outputs": [
    {
     "name": "stdout",
     "output_type": "stream",
     "text": [
      "Found device: NVIDIA GeForce RTX 2060 with Max-Q Design, n_gpu: 1\n"
     ]
    }
   ],
   "source": [
    "random.seed(0)\n",
    "np.random.seed(0)\n",
    "\n",
    "torch.manual_seed(0)\n",
    "torch.use_deterministic_algorithms(False)\n",
    "# Confirm that the GPU is detected\n",
    "\n",
    "assert torch.cuda.is_available()\n",
    "\n",
    "# Get the GPU device name.\n",
    "device_name = torch.cuda.get_device_name()\n",
    "n_gpu = torch.cuda.device_count()\n",
    "print(f\"Found device: {device_name}, n_gpu: {n_gpu}\")\n",
    "device = torch.device(\"cuda\")"
   ]
  },
  {
   "cell_type": "code",
   "execution_count": 5,
   "id": "61150200",
   "metadata": {},
   "outputs": [],
   "source": [
    "with open(\"Data/Raw data/training_data.jsonl\", \"r\") as f:\n",
    "    training_data = json.load(f)\n",
    "    \n",
    "with open(\"Data/Raw data/validation_data.jsonl\", \"r\") as f:\n",
    "    validation_data = json.load(f)\n",
    "    \n",
    "with open(\"Data/Raw data/test_data.jsonl\", \"r\") as f:\n",
    "    test_data = json.load(f)\n",
    "    \n",
    "with open(\"Data/Metadata/label_string_to_ID.jsonl\", \"r\") as f:\n",
    "    label_string_to_ID = json.load(f)\n",
    "    \n",
    "with open(\"Data/Metadata/label_ID_to_string.jsonl\", \"r\") as f:\n",
    "    label_ID_to_string = json.load(f)"
   ]
  },
  {
   "cell_type": "markdown",
   "id": "90675f40",
   "metadata": {},
   "source": [
    "### Predictions using only authors"
   ]
  },
  {
   "cell_type": "code",
   "execution_count": 6,
   "id": "3e344cc2",
   "metadata": {},
   "outputs": [],
   "source": [
    "training_inputs = []\n",
    "training_label_strings = []\n",
    "\n",
    "validation_inputs = []\n",
    "validation_label_strings = []\n",
    "\n",
    "test_inputs = []\n",
    "test_label_strings = []\n",
    "\n",
    "for training_example in training_data:\n",
    "    \n",
    "    training_input = training_example[0][1].replace(' |', ',')\n",
    "    training_inputs.append(training_input)\n",
    "    \n",
    "    training_label_strings.append(training_example[1])\n",
    "    \n",
    "for validation_example in validation_data:\n",
    "    \n",
    "    validation_input = validation_example[0][1].replace(' |', ',')\n",
    "    validation_inputs.append(validation_input)\n",
    "    \n",
    "    validation_label_strings.append(validation_example[1])\n",
    "    \n",
    "for test_example in test_data:\n",
    "    \n",
    "    test_input = test_example[0][1].replace(' |', ',')\n",
    "    test_inputs.append(test_input)\n",
    "    \n",
    "    test_label_strings.append(test_example[1])"
   ]
  },
  {
   "cell_type": "code",
   "execution_count": 7,
   "id": "549b0226",
   "metadata": {},
   "outputs": [],
   "source": [
    "max_seq_length = 64\n",
    "\n",
    "training_input_ids, training_attention_masks = tokenize_and_format(training_inputs, max_seq_length)\n",
    "validation_input_ids, validation_attention_masks = tokenize_and_format(validation_inputs, max_seq_length)\n",
    "test_input_ids, test_attention_masks = tokenize_and_format(test_inputs, max_seq_length)"
   ]
  },
  {
   "cell_type": "code",
   "execution_count": 8,
   "id": "36a0a738",
   "metadata": {},
   "outputs": [],
   "source": [
    "training_label_IDs = []\n",
    "validation_label_IDs = []\n",
    "test_label_IDs = []\n",
    "\n",
    "for training_label_string in training_label_strings:\n",
    "    training_label_IDs.append(label_string_to_ID[training_label_string])\n",
    "    \n",
    "for validation_label_string in validation_label_strings:\n",
    "    validation_label_IDs.append(label_string_to_ID[validation_label_string])\n",
    "    \n",
    "for test_label_string in test_label_strings:\n",
    "    test_label_IDs.append(label_string_to_ID[test_label_string])\n",
    "    \n",
    "    \n",
    "# Convert the lists into tensors.\n",
    "training_input_ids = torch.cat(training_input_ids, dim=0)\n",
    "training_attention_masks = torch.cat(training_attention_masks, dim=0)\n",
    "training_label_IDs = torch.tensor(training_label_IDs)\n",
    "\n",
    "validation_input_ids = torch.cat(validation_input_ids, dim=0)\n",
    "validation_attention_masks = torch.cat(validation_attention_masks, dim=0)\n",
    "validation_label_IDs = torch.tensor(validation_label_IDs)\n",
    "\n",
    "test_input_ids = torch.cat(test_input_ids, dim=0)\n",
    "test_attention_masks = torch.cat(test_attention_masks, dim=0)\n",
    "test_label_IDs = torch.tensor(test_label_IDs)"
   ]
  },
  {
   "cell_type": "code",
   "execution_count": 9,
   "id": "0c260bfa",
   "metadata": {},
   "outputs": [],
   "source": [
    "train_set = [(training_input_ids[i], training_attention_masks[i], training_label_IDs[i]) for i in range(len(training_inputs))]\n",
    "val_set = [(validation_input_ids[i], validation_attention_masks[i], validation_label_IDs[i]) for i in range(len(validation_inputs))]\n",
    "test_set = [(test_input_ids[i], test_attention_masks[i], test_label_IDs[i]) for i in range(len(test_inputs))]"
   ]
  },
  {
   "cell_type": "markdown",
   "id": "8866da11",
   "metadata": {},
   "source": [
    "#### Fine-tune the BERT model"
   ]
  },
  {
   "cell_type": "code",
   "execution_count": 8,
   "id": "694fdc73",
   "metadata": {
    "scrolled": true
   },
   "outputs": [
    {
     "name": "stderr",
     "output_type": "stream",
     "text": [
      "Some weights of the model checkpoint at bert-base-uncased were not used when initializing BertForSequenceClassification: ['cls.predictions.decoder.weight', 'cls.seq_relationship.bias', 'cls.predictions.bias', 'cls.predictions.transform.dense.weight', 'cls.predictions.transform.LayerNorm.weight', 'cls.predictions.transform.dense.bias', 'cls.predictions.transform.LayerNorm.bias', 'cls.seq_relationship.weight']\n",
      "- This IS expected if you are initializing BertForSequenceClassification from the checkpoint of a model trained on another task or with another architecture (e.g. initializing a BertForSequenceClassification model from a BertForPreTraining model).\n",
      "- This IS NOT expected if you are initializing BertForSequenceClassification from the checkpoint of a model that you expect to be exactly identical (initializing a BertForSequenceClassification model from a BertForSequenceClassification model).\n",
      "Some weights of BertForSequenceClassification were not initialized from the model checkpoint at bert-base-uncased and are newly initialized: ['classifier.bias', 'classifier.weight']\n",
      "You should probably TRAIN this model on a down-stream task to be able to use it for predictions and inference.\n"
     ]
    },
    {
     "name": "stdout",
     "output_type": "stream",
     "text": [
      "\n",
      "======== Epoch 1 / 50 ========\n",
      "Training...\n"
     ]
    },
    {
     "name": "stderr",
     "output_type": "stream",
     "text": [
      "100%|██████████████████████████████████████████████████████████████████████████████████| 44/44 [00:16<00:00,  2.61it/s]\n"
     ]
    },
    {
     "name": "stdout",
     "output_type": "stream",
     "text": [
      "Total loss: 126.14678573608398\n",
      "Validation accuracy: 0.10857142857142857\n",
      "\n",
      "======== Epoch 2 / 50 ========\n",
      "Training...\n"
     ]
    },
    {
     "name": "stderr",
     "output_type": "stream",
     "text": [
      "100%|██████████████████████████████████████████████████████████████████████████████████| 44/44 [00:15<00:00,  2.89it/s]\n"
     ]
    },
    {
     "name": "stdout",
     "output_type": "stream",
     "text": [
      "Total loss: 123.11237597465515\n",
      "Validation accuracy: 0.08\n",
      "\n",
      "======== Epoch 3 / 50 ========\n",
      "Training...\n"
     ]
    },
    {
     "name": "stderr",
     "output_type": "stream",
     "text": [
      "100%|██████████████████████████████████████████████████████████████████████████████████| 44/44 [00:15<00:00,  2.87it/s]\n"
     ]
    },
    {
     "name": "stdout",
     "output_type": "stream",
     "text": [
      "Total loss: 121.210928440094\n",
      "Validation accuracy: 0.11428571428571428\n",
      "\n",
      "======== Epoch 4 / 50 ========\n",
      "Training...\n"
     ]
    },
    {
     "name": "stderr",
     "output_type": "stream",
     "text": [
      "100%|██████████████████████████████████████████████████████████████████████████████████| 44/44 [00:15<00:00,  2.85it/s]\n"
     ]
    },
    {
     "name": "stdout",
     "output_type": "stream",
     "text": [
      "Total loss: 117.69003629684448\n",
      "Validation accuracy: 0.12\n",
      "\n",
      "======== Epoch 5 / 50 ========\n",
      "Training...\n"
     ]
    },
    {
     "name": "stderr",
     "output_type": "stream",
     "text": [
      "100%|██████████████████████████████████████████████████████████████████████████████████| 44/44 [00:15<00:00,  2.85it/s]\n"
     ]
    },
    {
     "name": "stdout",
     "output_type": "stream",
     "text": [
      "Total loss: 110.19169855117798\n",
      "Validation accuracy: 0.12571428571428572\n",
      "\n",
      "======== Epoch 6 / 50 ========\n",
      "Training...\n"
     ]
    },
    {
     "name": "stderr",
     "output_type": "stream",
     "text": [
      "100%|██████████████████████████████████████████████████████████████████████████████████| 44/44 [00:15<00:00,  2.84it/s]\n"
     ]
    },
    {
     "name": "stdout",
     "output_type": "stream",
     "text": [
      "Total loss: 102.06300795078278\n",
      "Validation accuracy: 0.1657142857142857\n",
      "\n",
      "======== Epoch 7 / 50 ========\n",
      "Training...\n"
     ]
    },
    {
     "name": "stderr",
     "output_type": "stream",
     "text": [
      "100%|██████████████████████████████████████████████████████████████████████████████████| 44/44 [00:15<00:00,  2.83it/s]\n"
     ]
    },
    {
     "name": "stdout",
     "output_type": "stream",
     "text": [
      "Total loss: 89.92872750759125\n",
      "Validation accuracy: 0.14285714285714285\n",
      "\n",
      "======== Epoch 8 / 50 ========\n",
      "Training...\n"
     ]
    },
    {
     "name": "stderr",
     "output_type": "stream",
     "text": [
      "100%|██████████████████████████████████████████████████████████████████████████████████| 44/44 [00:15<00:00,  2.83it/s]\n"
     ]
    },
    {
     "name": "stdout",
     "output_type": "stream",
     "text": [
      "Total loss: 74.31729227304459\n",
      "Validation accuracy: 0.18285714285714286\n",
      "\n",
      "======== Epoch 9 / 50 ========\n",
      "Training...\n"
     ]
    },
    {
     "name": "stderr",
     "output_type": "stream",
     "text": [
      "100%|██████████████████████████████████████████████████████████████████████████████████| 44/44 [00:15<00:00,  2.82it/s]\n"
     ]
    },
    {
     "name": "stdout",
     "output_type": "stream",
     "text": [
      "Total loss: 63.991128385066986\n",
      "Validation accuracy: 0.17142857142857143\n",
      "\n",
      "======== Epoch 10 / 50 ========\n",
      "Training...\n"
     ]
    },
    {
     "name": "stderr",
     "output_type": "stream",
     "text": [
      "100%|██████████████████████████████████████████████████████████████████████████████████| 44/44 [00:15<00:00,  2.82it/s]\n"
     ]
    },
    {
     "name": "stdout",
     "output_type": "stream",
     "text": [
      "Total loss: 53.31758767366409\n",
      "Validation accuracy: 0.17714285714285713\n",
      "\n",
      "======== Epoch 11 / 50 ========\n",
      "Training...\n"
     ]
    },
    {
     "name": "stderr",
     "output_type": "stream",
     "text": [
      "100%|██████████████████████████████████████████████████████████████████████████████████| 44/44 [00:15<00:00,  2.81it/s]\n"
     ]
    },
    {
     "name": "stdout",
     "output_type": "stream",
     "text": [
      "Total loss: 42.83891275525093\n",
      "Validation accuracy: 0.16\n",
      "\n",
      "======== Epoch 12 / 50 ========\n",
      "Training...\n"
     ]
    },
    {
     "name": "stderr",
     "output_type": "stream",
     "text": [
      "100%|██████████████████████████████████████████████████████████████████████████████████| 44/44 [00:15<00:00,  2.81it/s]\n"
     ]
    },
    {
     "name": "stdout",
     "output_type": "stream",
     "text": [
      "Total loss: 32.303250163793564\n",
      "Validation accuracy: 0.1657142857142857\n",
      "\n",
      "======== Epoch 13 / 50 ========\n",
      "Training...\n"
     ]
    },
    {
     "name": "stderr",
     "output_type": "stream",
     "text": [
      "100%|██████████████████████████████████████████████████████████████████████████████████| 44/44 [00:15<00:00,  2.80it/s]\n"
     ]
    },
    {
     "name": "stdout",
     "output_type": "stream",
     "text": [
      "Total loss: 23.71753117442131\n",
      "Validation accuracy: 0.1657142857142857\n",
      "\n",
      "======== Epoch 14 / 50 ========\n",
      "Training...\n"
     ]
    },
    {
     "name": "stderr",
     "output_type": "stream",
     "text": [
      "100%|██████████████████████████████████████████████████████████████████████████████████| 44/44 [00:15<00:00,  2.80it/s]\n"
     ]
    },
    {
     "name": "stdout",
     "output_type": "stream",
     "text": [
      "Total loss: 17.717458099126816\n",
      "Validation accuracy: 0.21714285714285714\n",
      "\n",
      "======== Epoch 15 / 50 ========\n",
      "Training...\n"
     ]
    },
    {
     "name": "stderr",
     "output_type": "stream",
     "text": [
      "100%|██████████████████████████████████████████████████████████████████████████████████| 44/44 [00:15<00:00,  2.78it/s]\n"
     ]
    },
    {
     "name": "stdout",
     "output_type": "stream",
     "text": [
      "Total loss: 13.834288820624352\n",
      "Validation accuracy: 0.18857142857142858\n",
      "\n",
      "======== Epoch 16 / 50 ========\n",
      "Training...\n"
     ]
    },
    {
     "name": "stderr",
     "output_type": "stream",
     "text": [
      "100%|██████████████████████████████████████████████████████████████████████████████████| 44/44 [00:15<00:00,  2.79it/s]\n"
     ]
    },
    {
     "name": "stdout",
     "output_type": "stream",
     "text": [
      "Total loss: 10.005564615130424\n",
      "Validation accuracy: 0.1657142857142857\n",
      "\n",
      "======== Epoch 17 / 50 ========\n",
      "Training...\n"
     ]
    },
    {
     "name": "stderr",
     "output_type": "stream",
     "text": [
      "100%|██████████████████████████████████████████████████████████████████████████████████| 44/44 [00:15<00:00,  2.79it/s]\n"
     ]
    },
    {
     "name": "stdout",
     "output_type": "stream",
     "text": [
      "Total loss: 7.489698152989149\n",
      "Validation accuracy: 0.18285714285714286\n",
      "\n",
      "======== Epoch 18 / 50 ========\n",
      "Training...\n"
     ]
    },
    {
     "name": "stderr",
     "output_type": "stream",
     "text": [
      "100%|██████████████████████████████████████████████████████████████████████████████████| 44/44 [00:15<00:00,  2.78it/s]\n"
     ]
    },
    {
     "name": "stdout",
     "output_type": "stream",
     "text": [
      "Total loss: 5.479719042778015\n",
      "Validation accuracy: 0.2057142857142857\n",
      "\n",
      "======== Epoch 19 / 50 ========\n",
      "Training...\n"
     ]
    },
    {
     "name": "stderr",
     "output_type": "stream",
     "text": [
      "100%|██████████████████████████████████████████████████████████████████████████████████| 44/44 [00:15<00:00,  2.78it/s]\n"
     ]
    },
    {
     "name": "stdout",
     "output_type": "stream",
     "text": [
      "Total loss: 3.3387830266728997\n",
      "Validation accuracy: 0.17714285714285713\n",
      "\n",
      "======== Epoch 20 / 50 ========\n",
      "Training...\n"
     ]
    },
    {
     "name": "stderr",
     "output_type": "stream",
     "text": [
      "100%|██████████████████████████████████████████████████████████████████████████████████| 44/44 [00:15<00:00,  2.78it/s]\n"
     ]
    },
    {
     "name": "stdout",
     "output_type": "stream",
     "text": [
      "Total loss: 2.550509111955762\n",
      "Validation accuracy: 0.21714285714285714\n",
      "\n",
      "======== Epoch 21 / 50 ========\n",
      "Training...\n"
     ]
    },
    {
     "name": "stderr",
     "output_type": "stream",
     "text": [
      "100%|██████████████████████████████████████████████████████████████████████████████████| 44/44 [00:15<00:00,  2.78it/s]\n"
     ]
    },
    {
     "name": "stdout",
     "output_type": "stream",
     "text": [
      "Total loss: 2.0784520218148828\n",
      "Validation accuracy: 0.22285714285714286\n",
      "\n",
      "======== Epoch 22 / 50 ========\n",
      "Training...\n"
     ]
    },
    {
     "name": "stderr",
     "output_type": "stream",
     "text": [
      "100%|██████████████████████████████████████████████████████████████████████████████████| 44/44 [00:15<00:00,  2.77it/s]\n"
     ]
    },
    {
     "name": "stdout",
     "output_type": "stream",
     "text": [
      "Total loss: 1.8494965378195047\n",
      "Validation accuracy: 0.22285714285714286\n",
      "\n",
      "======== Epoch 23 / 50 ========\n",
      "Training...\n"
     ]
    },
    {
     "name": "stderr",
     "output_type": "stream",
     "text": [
      "100%|██████████████████████████████████████████████████████████████████████████████████| 44/44 [00:15<00:00,  2.77it/s]\n"
     ]
    },
    {
     "name": "stdout",
     "output_type": "stream",
     "text": [
      "Total loss: 1.714165711775422\n",
      "Validation accuracy: 0.21714285714285714\n",
      "\n",
      "======== Epoch 24 / 50 ========\n",
      "Training...\n"
     ]
    },
    {
     "name": "stderr",
     "output_type": "stream",
     "text": [
      "100%|██████████████████████████████████████████████████████████████████████████████████| 44/44 [00:15<00:00,  2.77it/s]\n"
     ]
    },
    {
     "name": "stdout",
     "output_type": "stream",
     "text": [
      "Total loss: 1.873368639498949\n",
      "Validation accuracy: 0.22857142857142856\n",
      "\n",
      "======== Epoch 25 / 50 ========\n",
      "Training...\n"
     ]
    },
    {
     "name": "stderr",
     "output_type": "stream",
     "text": [
      "100%|██████████████████████████████████████████████████████████████████████████████████| 44/44 [00:15<00:00,  2.76it/s]\n"
     ]
    },
    {
     "name": "stdout",
     "output_type": "stream",
     "text": [
      "Total loss: 1.6673411121591926\n",
      "Validation accuracy: 0.2057142857142857\n",
      "\n",
      "======== Epoch 26 / 50 ========\n",
      "Training...\n"
     ]
    },
    {
     "name": "stderr",
     "output_type": "stream",
     "text": [
      "100%|██████████████████████████████████████████████████████████████████████████████████| 44/44 [00:15<00:00,  2.77it/s]\n"
     ]
    },
    {
     "name": "stdout",
     "output_type": "stream",
     "text": [
      "Total loss: 1.4765444118529558\n",
      "Validation accuracy: 0.2\n",
      "\n",
      "======== Epoch 27 / 50 ========\n",
      "Training...\n"
     ]
    },
    {
     "name": "stderr",
     "output_type": "stream",
     "text": [
      "100%|██████████████████████████████████████████████████████████████████████████████████| 44/44 [00:15<00:00,  2.76it/s]\n"
     ]
    },
    {
     "name": "stdout",
     "output_type": "stream",
     "text": [
      "Total loss: 1.3485346222296357\n",
      "Validation accuracy: 0.2057142857142857\n",
      "\n",
      "======== Epoch 28 / 50 ========\n",
      "Training...\n"
     ]
    },
    {
     "name": "stderr",
     "output_type": "stream",
     "text": [
      "100%|██████████████████████████████████████████████████████████████████████████████████| 44/44 [00:15<00:00,  2.76it/s]\n"
     ]
    },
    {
     "name": "stdout",
     "output_type": "stream",
     "text": [
      "Total loss: 1.2828673496842384\n",
      "Validation accuracy: 0.19428571428571428\n",
      "\n",
      "======== Epoch 29 / 50 ========\n",
      "Training...\n"
     ]
    },
    {
     "name": "stderr",
     "output_type": "stream",
     "text": [
      "100%|██████████████████████████████████████████████████████████████████████████████████| 44/44 [00:15<00:00,  2.76it/s]\n"
     ]
    },
    {
     "name": "stdout",
     "output_type": "stream",
     "text": [
      "Total loss: 1.1329875369556248\n",
      "Validation accuracy: 0.21714285714285714\n",
      "\n",
      "======== Epoch 30 / 50 ========\n",
      "Training...\n"
     ]
    },
    {
     "name": "stderr",
     "output_type": "stream",
     "text": [
      "100%|██████████████████████████████████████████████████████████████████████████████████| 44/44 [00:15<00:00,  2.76it/s]\n"
     ]
    },
    {
     "name": "stdout",
     "output_type": "stream",
     "text": [
      "Total loss: 1.0317073445767164\n",
      "Validation accuracy: 0.21714285714285714\n",
      "\n",
      "======== Epoch 31 / 50 ========\n",
      "Training...\n"
     ]
    },
    {
     "name": "stderr",
     "output_type": "stream",
     "text": [
      "100%|██████████████████████████████████████████████████████████████████████████████████| 44/44 [00:15<00:00,  2.75it/s]\n"
     ]
    },
    {
     "name": "stdout",
     "output_type": "stream",
     "text": [
      "Total loss: 0.9249451532959938\n",
      "Validation accuracy: 0.21714285714285714\n",
      "\n",
      "======== Epoch 32 / 50 ========\n",
      "Training...\n"
     ]
    },
    {
     "name": "stderr",
     "output_type": "stream",
     "text": [
      "100%|██████████████████████████████████████████████████████████████████████████████████| 44/44 [00:15<00:00,  2.75it/s]\n"
     ]
    },
    {
     "name": "stdout",
     "output_type": "stream",
     "text": [
      "Total loss: 0.9329290520399809\n",
      "Validation accuracy: 0.21714285714285714\n",
      "\n",
      "======== Epoch 33 / 50 ========\n",
      "Training...\n"
     ]
    },
    {
     "name": "stderr",
     "output_type": "stream",
     "text": [
      "100%|██████████████████████████████████████████████████████████████████████████████████| 44/44 [00:16<00:00,  2.75it/s]\n"
     ]
    },
    {
     "name": "stdout",
     "output_type": "stream",
     "text": [
      "Total loss: 0.9278357098810375\n",
      "Validation accuracy: 0.2\n",
      "\n",
      "======== Epoch 34 / 50 ========\n",
      "Training...\n"
     ]
    },
    {
     "name": "stderr",
     "output_type": "stream",
     "text": [
      "100%|██████████████████████████████████████████████████████████████████████████████████| 44/44 [00:16<00:00,  2.75it/s]\n"
     ]
    },
    {
     "name": "stdout",
     "output_type": "stream",
     "text": [
      "Total loss: 0.9613334210589528\n",
      "Validation accuracy: 0.22857142857142856\n",
      "\n",
      "======== Epoch 35 / 50 ========\n",
      "Training...\n"
     ]
    },
    {
     "name": "stderr",
     "output_type": "stream",
     "text": [
      "100%|██████████████████████████████████████████████████████████████████████████████████| 44/44 [00:16<00:00,  2.75it/s]\n"
     ]
    },
    {
     "name": "stdout",
     "output_type": "stream",
     "text": [
      "Total loss: 0.7995053324848413\n",
      "Validation accuracy: 0.22857142857142856\n",
      "\n",
      "======== Epoch 36 / 50 ========\n",
      "Training...\n"
     ]
    },
    {
     "name": "stderr",
     "output_type": "stream",
     "text": [
      "100%|██████████████████████████████████████████████████████████████████████████████████| 44/44 [00:16<00:00,  2.75it/s]\n"
     ]
    },
    {
     "name": "stdout",
     "output_type": "stream",
     "text": [
      "Total loss: 1.617682024370879\n",
      "Validation accuracy: 0.18285714285714286\n",
      "\n",
      "======== Epoch 37 / 50 ========\n",
      "Training...\n"
     ]
    },
    {
     "name": "stderr",
     "output_type": "stream",
     "text": [
      "100%|██████████████████████████████████████████████████████████████████████████████████| 44/44 [00:16<00:00,  2.74it/s]\n"
     ]
    },
    {
     "name": "stdout",
     "output_type": "stream",
     "text": [
      "Total loss: 4.841340241488069\n",
      "Validation accuracy: 0.18857142857142858\n",
      "\n",
      "======== Epoch 38 / 50 ========\n",
      "Training...\n"
     ]
    },
    {
     "name": "stderr",
     "output_type": "stream",
     "text": [
      "100%|██████████████████████████████████████████████████████████████████████████████████| 44/44 [00:16<00:00,  2.74it/s]\n"
     ]
    },
    {
     "name": "stdout",
     "output_type": "stream",
     "text": [
      "Total loss: 5.715789498761296\n",
      "Validation accuracy: 0.18285714285714286\n",
      "\n",
      "======== Epoch 39 / 50 ========\n",
      "Training...\n"
     ]
    },
    {
     "name": "stderr",
     "output_type": "stream",
     "text": [
      "100%|██████████████████████████████████████████████████████████████████████████████████| 44/44 [00:16<00:00,  2.74it/s]\n"
     ]
    },
    {
     "name": "stdout",
     "output_type": "stream",
     "text": [
      "Total loss: 8.052685348317027\n",
      "Validation accuracy: 0.19428571428571428\n",
      "\n",
      "======== Epoch 40 / 50 ========\n",
      "Training...\n"
     ]
    },
    {
     "name": "stderr",
     "output_type": "stream",
     "text": [
      "100%|██████████████████████████████████████████████████████████████████████████████████| 44/44 [00:16<00:00,  2.74it/s]\n"
     ]
    },
    {
     "name": "stdout",
     "output_type": "stream",
     "text": [
      "Total loss: 6.368104383349419\n",
      "Validation accuracy: 0.17714285714285713\n",
      "\n",
      "======== Epoch 41 / 50 ========\n",
      "Training...\n"
     ]
    },
    {
     "name": "stderr",
     "output_type": "stream",
     "text": [
      "100%|██████████████████████████████████████████████████████████████████████████████████| 44/44 [00:16<00:00,  2.74it/s]\n"
     ]
    },
    {
     "name": "stdout",
     "output_type": "stream",
     "text": [
      "Total loss: 4.126081122085452\n",
      "Validation accuracy: 0.17714285714285713\n",
      "\n",
      "======== Epoch 42 / 50 ========\n",
      "Training...\n"
     ]
    },
    {
     "name": "stderr",
     "output_type": "stream",
     "text": [
      "100%|██████████████████████████████████████████████████████████████████████████████████| 44/44 [00:16<00:00,  2.74it/s]\n"
     ]
    },
    {
     "name": "stdout",
     "output_type": "stream",
     "text": [
      "Total loss: 3.9688877761363983\n",
      "Validation accuracy: 0.21714285714285714\n",
      "\n",
      "======== Epoch 43 / 50 ========\n",
      "Training...\n"
     ]
    },
    {
     "name": "stderr",
     "output_type": "stream",
     "text": [
      "100%|██████████████████████████████████████████████████████████████████████████████████| 44/44 [00:16<00:00,  2.74it/s]\n"
     ]
    },
    {
     "name": "stdout",
     "output_type": "stream",
     "text": [
      "Total loss: 3.02814686531201\n",
      "Validation accuracy: 0.21142857142857144\n",
      "\n",
      "======== Epoch 44 / 50 ========\n",
      "Training...\n"
     ]
    },
    {
     "name": "stderr",
     "output_type": "stream",
     "text": [
      "100%|██████████████████████████████████████████████████████████████████████████████████| 44/44 [00:16<00:00,  2.74it/s]\n"
     ]
    },
    {
     "name": "stdout",
     "output_type": "stream",
     "text": [
      "Total loss: 2.565954566001892\n",
      "Validation accuracy: 0.18285714285714286\n",
      "\n",
      "======== Epoch 45 / 50 ========\n",
      "Training...\n"
     ]
    },
    {
     "name": "stderr",
     "output_type": "stream",
     "text": [
      "100%|██████████████████████████████████████████████████████████████████████████████████| 44/44 [00:16<00:00,  2.74it/s]\n"
     ]
    },
    {
     "name": "stdout",
     "output_type": "stream",
     "text": [
      "Total loss: 3.3358571100980043\n",
      "Validation accuracy: 0.22285714285714286\n",
      "\n",
      "======== Epoch 46 / 50 ========\n",
      "Training...\n"
     ]
    },
    {
     "name": "stderr",
     "output_type": "stream",
     "text": [
      "100%|██████████████████████████████████████████████████████████████████████████████████| 44/44 [00:16<00:00,  2.73it/s]\n"
     ]
    },
    {
     "name": "stdout",
     "output_type": "stream",
     "text": [
      "Total loss: 3.151503290515393\n",
      "Validation accuracy: 0.19428571428571428\n",
      "\n",
      "======== Epoch 47 / 50 ========\n",
      "Training...\n"
     ]
    },
    {
     "name": "stderr",
     "output_type": "stream",
     "text": [
      "100%|██████████████████████████████████████████████████████████████████████████████████| 44/44 [00:16<00:00,  2.74it/s]\n"
     ]
    },
    {
     "name": "stdout",
     "output_type": "stream",
     "text": [
      "Total loss: 2.9115145807154477\n",
      "Validation accuracy: 0.19428571428571428\n",
      "\n",
      "======== Epoch 48 / 50 ========\n",
      "Training...\n"
     ]
    },
    {
     "name": "stderr",
     "output_type": "stream",
     "text": [
      "100%|██████████████████████████████████████████████████████████████████████████████████| 44/44 [00:16<00:00,  2.74it/s]\n"
     ]
    },
    {
     "name": "stdout",
     "output_type": "stream",
     "text": [
      "Total loss: 2.099695194978267\n",
      "Validation accuracy: 0.18285714285714286\n",
      "\n",
      "======== Epoch 49 / 50 ========\n",
      "Training...\n"
     ]
    },
    {
     "name": "stderr",
     "output_type": "stream",
     "text": [
      "100%|██████████████████████████████████████████████████████████████████████████████████| 44/44 [00:16<00:00,  2.73it/s]\n"
     ]
    },
    {
     "name": "stdout",
     "output_type": "stream",
     "text": [
      "Total loss: 1.6102650177199394\n",
      "Validation accuracy: 0.19428571428571428\n",
      "\n",
      "======== Epoch 50 / 50 ========\n",
      "Training...\n"
     ]
    },
    {
     "name": "stderr",
     "output_type": "stream",
     "text": [
      "100%|██████████████████████████████████████████████████████████████████████████████████| 44/44 [00:16<00:00,  2.73it/s]\n"
     ]
    },
    {
     "name": "stdout",
     "output_type": "stream",
     "text": [
      "Total loss: 1.908570702187717\n",
      "Validation accuracy: 0.17714285714285713\n",
      "\n",
      "Training complete!\n"
     ]
    }
   ],
   "source": [
    "model = BertForSequenceClassification.from_pretrained(\n",
    "    \"bert-base-uncased\", # Use the 12-layer BERT model, with an uncased vocab.\n",
    "    num_labels = 20, # The number of output labels.   \n",
    "    output_attentions = False, # Whether the model returns attentions weights.\n",
    "    output_hidden_states = False, # Whether the model returns all hidden-states.\n",
    ")\n",
    "\n",
    "# Tell pytorch to run this model on the GPU.\n",
    "model.cuda()\n",
    "\n",
    "\n",
    "\n",
    "\n",
    "\n",
    "hyperparameter_config_iter = 1\n",
    "\n",
    "save_path = \"Saved models/Hyperparameter configuration \" + str(hyperparameter_config_iter)\n",
    "\n",
    "if(os.path.exists(save_path)):\n",
    "    raise Exception(\"ERROR! Hyperparameter config \" + str(hyperparameter_config_iter))\n",
    "\n",
    "else:\n",
    "    os.makedirs(save_path)\n",
    "    os.makedirs(save_path + \"/Plots\")\n",
    "\n",
    "\n",
    "# Fine-tuning hyperparameters\n",
    "\n",
    "batch_size = 32\n",
    "optimizer = AdamW(model.parameters(),\n",
    "                  lr = 5e-5, # args.learning_rate - default is 5e-5\n",
    "                  eps = 1e-8 # args.adam_epsilon  - default is 1e-8\n",
    "                )\n",
    "epochs = 50\n",
    "\n",
    "hyperparameter_dict = dict()\n",
    "hyperparameter_dict['batch_size'] = batch_size\n",
    "hyperparameter_dict['epochs'] = epochs\n",
    "\n",
    "with open(save_path + \"/Hyperparameters.json\", 'w') as f:\n",
    "    json.dump(hyperparameter_dict, f)\n",
    "\n",
    "def save(model, optimizer, output_path):\n",
    "    torch.save({'model_state_dict': model.state_dict(), 'optimizer_state_dict': optimizer.state_dict()}, output_path)\n",
    "\n",
    "# function to get validation accuracy\n",
    "def get_performance(data_set):\n",
    "    # Put the model in evaluation mode\n",
    "    model.eval()\n",
    "\n",
    "    # Tracking variables \n",
    "    total_eval_accuracy = 0\n",
    "    total_eval_loss = 0\n",
    "\n",
    "    num_batches = int(len(data_set)/batch_size) + 1\n",
    "\n",
    "    total_correct = 0\n",
    "\n",
    "    for i in range(num_batches):\n",
    "\n",
    "        end_index = min(batch_size * (i+1), len(data_set))\n",
    "\n",
    "        batch = data_set[i*batch_size:end_index]\n",
    "\n",
    "        if len(batch) == 0: continue\n",
    "\n",
    "        input_id_tensors = torch.stack([data[0] for data in batch])\n",
    "        input_mask_tensors = torch.stack([data[1] for data in batch])\n",
    "        label_tensors = torch.stack([data[2] for data in batch])\n",
    "\n",
    "        # Move tensors to the GPU\n",
    "        b_input_ids = input_id_tensors.to(device)\n",
    "        b_input_mask = input_mask_tensors.to(device)\n",
    "        b_labels = label_tensors.to(device)\n",
    "\n",
    "        # Tell pytorch not to bother with constructing the compute graph during\n",
    "        # the forward pass, since this is only needed for backprop (training).\n",
    "        with torch.no_grad():        \n",
    "\n",
    "            # Forward pass, calculate logit predictions.\n",
    "            outputs = model(b_input_ids, \n",
    "                                    token_type_ids=None, \n",
    "                                    attention_mask=b_input_mask,\n",
    "                                    labels=b_labels)\n",
    "            loss = outputs.loss\n",
    "            logits = outputs.logits\n",
    "\n",
    "            # Accumulate the validation loss.\n",
    "            total_eval_loss += loss.item()\n",
    "\n",
    "            # Move logits and labels to CPU\n",
    "            logits = logits.detach().cpu().numpy()\n",
    "            label_ids = b_labels.to('cpu').numpy()\n",
    "\n",
    "            # Calculate the number of correctly labeled examples in batch\n",
    "            pred_flat = np.argmax(logits, axis=1).flatten()\n",
    "            labels_flat = label_ids.flatten()\n",
    "            num_correct = np.sum(pred_flat == labels_flat)\n",
    "            total_correct += num_correct\n",
    "        \n",
    "    # Report the final accuracy for this validation run.\n",
    "    avg_val_accuracy = total_correct / len(data_set)\n",
    "    return avg_val_accuracy\n",
    "\n",
    "\n",
    "\n",
    "# training loop\n",
    "\n",
    "max_val_acc = -1\n",
    "\n",
    "metric_vs_epoch = dict()\n",
    "\n",
    "epoch_list = []\n",
    "training_loss_list = []\n",
    "training_acc_list = []\n",
    "\n",
    "val_acc_list = []\n",
    "\n",
    "# For each epoch...\n",
    "for epoch_i in range(0, epochs):\n",
    "    \n",
    "    epoch_list.append(epoch_i + 1)\n",
    "    \n",
    "    # Perform one full pass over the training set.\n",
    "\n",
    "    print(\"\")\n",
    "    print('======== Epoch {:} / {:} ========'.format(epoch_i + 1, epochs))\n",
    "    print('Training...')\n",
    "\n",
    "    # Reset the total loss for this epoch.\n",
    "    total_train_loss = 0\n",
    "\n",
    "    # Put the model into training mode.\n",
    "    model.train()\n",
    "\n",
    "    # For each batch of training data...\n",
    "    num_batches = int(len(train_set)/batch_size) + 1\n",
    "\n",
    "    for i in tqdm(range(num_batches)):\n",
    "        \n",
    "        end_index = min(batch_size * (i+1), len(train_set))\n",
    "\n",
    "        batch = train_set[i*batch_size:end_index]\n",
    "\n",
    "        if len(batch) == 0: continue\n",
    "\n",
    "        input_id_tensors = torch.stack([data[0] for data in batch])\n",
    "        input_mask_tensors = torch.stack([data[1] for data in batch])\n",
    "        label_tensors = torch.stack([data[2] for data in batch])\n",
    "\n",
    "        # Move tensors to the GPU\n",
    "        b_input_ids = input_id_tensors.to(device)\n",
    "        b_input_mask = input_mask_tensors.to(device)\n",
    "        b_labels = label_tensors.to(device)\n",
    "\n",
    "        # Clear the previously calculated gradient\n",
    "        model.zero_grad()        \n",
    "\n",
    "        # Perform a forward pass (evaluate the model on this training batch).\n",
    "        outputs = model(b_input_ids, \n",
    "                            token_type_ids=None, \n",
    "                            attention_mask=b_input_mask, \n",
    "                            labels=b_labels)\n",
    "        loss = outputs.loss\n",
    "        logits = outputs.logits\n",
    "\n",
    "        total_train_loss += loss.item()\n",
    "\n",
    "        # Perform a backward pass to calculate the gradients.\n",
    "        loss.backward()\n",
    "\n",
    "        # Update parameters and take a step using the computed gradient.\n",
    "        optimizer.step()\n",
    "        \n",
    "    # ========================================\n",
    "    #               Validation\n",
    "    # ========================================\n",
    "    # After the completion of each training epoch, measure our performance on\n",
    "    # our validation set. Implement this function in the cell above.\n",
    "    \n",
    "    training_acc = get_performance(train_set)\n",
    "    val_acc = get_performance(val_set)\n",
    "    \n",
    "    print(f\"Total loss: {total_train_loss}\")\n",
    "    print(f\"Validation accuracy: {val_acc}\")\n",
    "    \n",
    "    val_acc_list.append(val_acc)\n",
    "    training_acc_list.append(training_acc)\n",
    "    \n",
    "    training_loss_list.append(total_train_loss)\n",
    "    \n",
    "    if(val_acc > max_val_acc):\n",
    "        \n",
    "        max_val_acc = val_acc\n",
    "        \n",
    "        model.save_pretrained(save_path + \"/best validation accuracy model\")\n",
    "        save(model, optimizer, save_path + \"/best validation accuracy.modelState\")\n",
    "    \n",
    "    \n",
    "print(\"\")\n",
    "print(\"Training complete!\")            \n",
    "\n",
    "metric_vs_epoch[\"Epochs\"] = epoch_list\n",
    "metric_vs_epoch[\"Training loss\"] = training_loss_list\n",
    "metric_vs_epoch[\"Training accuracy\"] = training_acc_list\n",
    "metric_vs_epoch[\"Validation accuracy\"] = val_acc_list\n",
    "\n",
    "with open(save_path + \"/Plots/Plot data.json\", 'w') as f:\n",
    "    json.dump(metric_vs_epoch, f)\n",
    "\n",
    "metric_vs_epoch_df = pd.DataFrame(metric_vs_epoch, columns = [\"Epochs\", \"Training loss\", \"Training accuracy\", \"Validation accuracy\"])\n",
    "\n",
    "fig = px.line(metric_vs_epoch_df, x='Epochs', y=\"Training loss\", title=\"Training loss vs epochs\")\n",
    "plotly.offline.plot(fig, filename = save_path + \"/Plots/Training loss.html\")\n",
    "\n",
    "accuracy_vs_epoch = dict()\n",
    "accuracy_vs_epoch[\"Epochs\"] = epoch_list + epoch_list\n",
    "accuracy_vs_epoch[\"Accuracy\"] = training_acc_list + val_acc_list\n",
    "accuracy_vs_epoch[\"Dataset\"] = [\"Training\"]*len(training_acc_list) + [\"Validation\"]*len(val_acc_list)\n",
    "\n",
    "accuracy_vs_epoch_df = pd.DataFrame(accuracy_vs_epoch, columns = [\"Epochs\", \"Accuracy\", \"Dataset\"])\n",
    "\n",
    "fig = px.line(accuracy_vs_epoch_df, x='Epochs', y='Accuracy', color='Dataset', markers=True, title=\"Training/Validation accuracy vs epochs\")\n",
    "plotly.offline.plot(fig, filename = save_path + \"/Plots/Accuracy.html\")\n",
    "\n",
    "with open(save_path + \"/Best validation accuracy.txt\", 'w') as f:\n",
    "    f.write(\"Best validation accuracy: \" + str(max_val_acc))"
   ]
  },
  {
   "cell_type": "markdown",
   "id": "1ab7b33e",
   "metadata": {},
   "source": [
    "### Get the classification metrics for the best model"
   ]
  },
  {
   "cell_type": "code",
   "execution_count": 10,
   "id": "a6a4d561",
   "metadata": {},
   "outputs": [
    {
     "name": "stdout",
     "output_type": "stream",
     "text": [
      "Top 1 accuracy:  0.18579234972677597\n",
      "Top 3 accuracy:  0.3333333333333333\n",
      "Top 5 accuracy:  0.4207650273224044\n",
      "Precision, Recall, F-1: (0.16008860638929664, 0.18579234972677597, 0.17035283607349722, None)\n"
     ]
    }
   ],
   "source": [
    "best_hyperparameter_configuration = \"Hyperparameter configuration 1\"\n",
    "\n",
    "model = BertForSequenceClassification.from_pretrained(\n",
    "    \"Saved models/\" + best_hyperparameter_configuration + \"/best validation accuracy model/\",\n",
    "    local_files_only = True,\n",
    "    output_hidden_states = False, # Whether the model returns all hidden-states.\n",
    ")\n",
    "\n",
    "model.cuda()\n",
    "\n",
    "\n",
    "batch_size = 8\n",
    "\n",
    "def get_outputs(data_set):\n",
    "    # Put the model in evaluation mode\n",
    "    model.eval()\n",
    "\n",
    "    num_batches = int(len(data_set)/batch_size) + 1\n",
    "\n",
    "    total_correct = 0\n",
    "    \n",
    "    outputs = []\n",
    "    \n",
    "    all_labels = []\n",
    "    all_logits = []\n",
    "\n",
    "    for i in range(num_batches):\n",
    "\n",
    "        end_index = min(batch_size * (i+1), len(data_set))\n",
    "\n",
    "        batch = data_set[i*batch_size:end_index]\n",
    "\n",
    "        if len(batch) == 0: continue\n",
    "\n",
    "        input_id_tensors = torch.stack([data[0] for data in batch])\n",
    "        input_mask_tensors = torch.stack([data[1] for data in batch])\n",
    "        label_tensors = torch.stack([data[2] for data in batch])\n",
    "\n",
    "        # Move tensors to the GPU\n",
    "        b_input_ids = input_id_tensors.to(device)\n",
    "        b_input_mask = input_mask_tensors.to(device)\n",
    "        b_labels = label_tensors.to(device)\n",
    "\n",
    "        # Tell pytorch not to bother with constructing the compute graph during\n",
    "        # the forward pass, since this is only needed for backprop (training).\n",
    "        with torch.no_grad():        \n",
    "\n",
    "            # Forward pass, calculate logit predictions.\n",
    "            \n",
    "            outputs = model(b_input_ids, token_type_ids=None, attention_mask=b_input_mask)\n",
    "            \n",
    "            loss = outputs.loss\n",
    "            logits = outputs.logits\n",
    "\n",
    "            # Move logits and labels to CPU\n",
    "            logits = logits.detach().cpu().numpy()\n",
    "            label_ids = b_labels.to('cpu').numpy()\n",
    "\n",
    "            # Calculate the number of correctly labeled examples in batch\n",
    "            pred_flat = np.argmax(logits, axis=1).flatten()\n",
    "            labels_flat = label_ids.flatten()\n",
    "            \n",
    "            all_labels.append(labels_flat)\n",
    "            all_logits.append(logits)\n",
    "            \n",
    "    \n",
    "    all_labels = np.concatenate(all_labels)\n",
    "    all_logits = np.concatenate(all_logits)\n",
    "    \n",
    "    print(\"Top 1 accuracy: \", top_k_accuracy_score( y_true = all_labels, y_score = all_logits, k=1, labels = np.array(range(0, 20, 1)) ) )\n",
    "    print(\"Top 3 accuracy: \", top_k_accuracy_score( y_true = all_labels, y_score = all_logits, k=3, labels = np.array(range(0, 20, 1)) ) )\n",
    "    print(\"Top 5 accuracy: \", top_k_accuracy_score( y_true = all_labels, y_score = all_logits, k=5, labels = np.array(range(0, 20, 1)) ) )\n",
    "    \n",
    "    print(\"Precision, Recall, F-1:\", precision_recall_fscore_support(y_true = all_labels, y_pred = np.argmax(all_logits, axis = 1), average='weighted'))\n",
    "    \n",
    "get_outputs(test_set)"
   ]
  }
 ],
 "metadata": {
  "kernelspec": {
   "display_name": "Python [conda env:NLP]",
   "language": "python",
   "name": "conda-env-NLP-py"
  },
  "language_info": {
   "codemirror_mode": {
    "name": "ipython",
    "version": 3
   },
   "file_extension": ".py",
   "mimetype": "text/x-python",
   "name": "python",
   "nbconvert_exporter": "python",
   "pygments_lexer": "ipython3",
   "version": "3.9.7"
  }
 },
 "nbformat": 4,
 "nbformat_minor": 5
}
