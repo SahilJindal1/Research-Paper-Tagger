{
 "cells": [
  {
   "cell_type": "markdown",
   "id": "14e4932d",
   "metadata": {},
   "source": [
    "# RPT (Research Paper Tagger)"
   ]
  },
  {
   "cell_type": "code",
   "execution_count": 1,
   "id": "206dd150",
   "metadata": {},
   "outputs": [],
   "source": [
    "import os\n",
    "import zipfile\n",
    "import json\n",
    "import random\n",
    "from tqdm import tqdm\n",
    "import plotly\n",
    "import plotly.express as px\n",
    "import plotly.graph_objects as go\n",
    "\n",
    "import numpy as np\n",
    "import pandas as pd\n",
    "\n",
    "from helpers import tokenize_and_format, flat_accuracy\n",
    "\n",
    "import torch\n",
    "from transformers import BertForSequenceClassification, AdamW, BertConfig, get_linear_schedule_with_warmup\n",
    "\n",
    "from sklearn.metrics import precision_recall_fscore_support, top_k_accuracy_score"
   ]
  },
  {
   "cell_type": "code",
   "execution_count": 2,
   "id": "3758d13e",
   "metadata": {},
   "outputs": [
    {
     "name": "stdout",
     "output_type": "stream",
     "text": [
      "Found device: NVIDIA GeForce RTX 2060 with Max-Q Design, n_gpu: 1\n"
     ]
    }
   ],
   "source": [
    "random.seed(0)\n",
    "np.random.seed(0)\n",
    "\n",
    "torch.manual_seed(0)\n",
    "torch.use_deterministic_algorithms(False)\n",
    "# Confirm that the GPU is detected\n",
    "\n",
    "assert torch.cuda.is_available()\n",
    "\n",
    "# Get the GPU device name.\n",
    "device_name = torch.cuda.get_device_name()\n",
    "n_gpu = torch.cuda.device_count()\n",
    "print(f\"Found device: {device_name}, n_gpu: {n_gpu}\")\n",
    "device = torch.device(\"cuda\")"
   ]
  },
  {
   "cell_type": "code",
   "execution_count": 3,
   "id": "61150200",
   "metadata": {},
   "outputs": [],
   "source": [
    "with open(\"Data/Raw data/training_data.jsonl\", \"r\") as f:\n",
    "    training_data = json.load(f)\n",
    "    \n",
    "with open(\"Data/Raw data/validation_data.jsonl\", \"r\") as f:\n",
    "    validation_data = json.load(f)\n",
    "    \n",
    "with open(\"Data/Raw data/test_data.jsonl\", \"r\") as f:\n",
    "    test_data = json.load(f)\n",
    "    \n",
    "with open(\"Data/Metadata/label_string_to_ID.jsonl\", \"r\") as f:\n",
    "    label_string_to_ID = json.load(f)\n",
    "    \n",
    "with open(\"Data/Metadata/label_ID_to_string.jsonl\", \"r\") as f:\n",
    "    label_ID_to_string = json.load(f)"
   ]
  },
  {
   "cell_type": "markdown",
   "id": "90675f40",
   "metadata": {},
   "source": [
    "### Predictions using only abstract"
   ]
  },
  {
   "cell_type": "code",
   "execution_count": 4,
   "id": "3e344cc2",
   "metadata": {},
   "outputs": [],
   "source": [
    "training_inputs = []\n",
    "training_label_strings = []\n",
    "\n",
    "validation_inputs = []\n",
    "validation_label_strings = []\n",
    "\n",
    "test_inputs = []\n",
    "test_label_strings = []\n",
    "\n",
    "for training_example in training_data:\n",
    "    \n",
    "    training_input = training_example[0][0] + '. ' + training_example[0][2]\n",
    "    training_inputs.append(training_input)\n",
    "    \n",
    "    training_label_strings.append(training_example[1])\n",
    "    \n",
    "for validation_example in validation_data:\n",
    "    \n",
    "    validation_input = validation_example[0][0] + '. ' + validation_example[0][2]\n",
    "    validation_inputs.append(validation_input)\n",
    "    \n",
    "    validation_label_strings.append(validation_example[1])\n",
    "    \n",
    "for test_example in test_data:\n",
    "    \n",
    "    test_input = test_example[0][0] + '. ' + test_example[0][2]\n",
    "    test_inputs.append(test_input)\n",
    "    \n",
    "    test_label_strings.append(test_example[1])"
   ]
  },
  {
   "cell_type": "code",
   "execution_count": 5,
   "id": "549b0226",
   "metadata": {},
   "outputs": [],
   "source": [
    "max_seq_length = 332\n",
    "\n",
    "training_input_ids, training_attention_masks = tokenize_and_format(training_inputs, max_seq_length)\n",
    "validation_input_ids, validation_attention_masks = tokenize_and_format(validation_inputs, max_seq_length)\n",
    "test_input_ids, test_attention_masks = tokenize_and_format(test_inputs, max_seq_length)"
   ]
  },
  {
   "cell_type": "code",
   "execution_count": 6,
   "id": "36a0a738",
   "metadata": {},
   "outputs": [],
   "source": [
    "training_label_IDs = []\n",
    "validation_label_IDs = []\n",
    "test_label_IDs = []\n",
    "\n",
    "for training_label_string in training_label_strings:\n",
    "    training_label_IDs.append(label_string_to_ID[training_label_string])\n",
    "    \n",
    "for validation_label_string in validation_label_strings:\n",
    "    validation_label_IDs.append(label_string_to_ID[validation_label_string])\n",
    "    \n",
    "for test_label_string in test_label_strings:\n",
    "    test_label_IDs.append(label_string_to_ID[test_label_string])\n",
    "    \n",
    "    \n",
    "# Convert the lists into tensors.\n",
    "training_input_ids = torch.cat(training_input_ids, dim=0)\n",
    "training_attention_masks = torch.cat(training_attention_masks, dim=0)\n",
    "training_label_IDs = torch.tensor(training_label_IDs)\n",
    "\n",
    "validation_input_ids = torch.cat(validation_input_ids, dim=0)\n",
    "validation_attention_masks = torch.cat(validation_attention_masks, dim=0)\n",
    "validation_label_IDs = torch.tensor(validation_label_IDs)\n",
    "\n",
    "test_input_ids = torch.cat(test_input_ids, dim=0)\n",
    "test_attention_masks = torch.cat(test_attention_masks, dim=0)\n",
    "test_label_IDs = torch.tensor(test_label_IDs)"
   ]
  },
  {
   "cell_type": "code",
   "execution_count": 7,
   "id": "0c260bfa",
   "metadata": {},
   "outputs": [],
   "source": [
    "train_set = [(training_input_ids[i], training_attention_masks[i], training_label_IDs[i]) for i in range(len(training_inputs))]\n",
    "val_set = [(validation_input_ids[i], validation_attention_masks[i], validation_label_IDs[i]) for i in range(len(validation_inputs))]\n",
    "test_set = [(test_input_ids[i], test_attention_masks[i], test_label_IDs[i]) for i in range(len(test_inputs))]"
   ]
  },
  {
   "cell_type": "markdown",
   "id": "8866da11",
   "metadata": {},
   "source": [
    "#### Fine-tune the BERT model"
   ]
  },
  {
   "cell_type": "code",
   "execution_count": 10,
   "id": "694fdc73",
   "metadata": {
    "scrolled": true
   },
   "outputs": [
    {
     "name": "stderr",
     "output_type": "stream",
     "text": [
      "Some weights of the model checkpoint at bert-base-uncased were not used when initializing BertForSequenceClassification: ['cls.predictions.transform.LayerNorm.bias', 'cls.predictions.transform.dense.weight', 'cls.seq_relationship.weight', 'cls.predictions.transform.dense.bias', 'cls.predictions.transform.LayerNorm.weight', 'cls.predictions.bias', 'cls.predictions.decoder.weight', 'cls.seq_relationship.bias']\n",
      "- This IS expected if you are initializing BertForSequenceClassification from the checkpoint of a model trained on another task or with another architecture (e.g. initializing a BertForSequenceClassification model from a BertForPreTraining model).\n",
      "- This IS NOT expected if you are initializing BertForSequenceClassification from the checkpoint of a model that you expect to be exactly identical (initializing a BertForSequenceClassification model from a BertForSequenceClassification model).\n",
      "Some weights of BertForSequenceClassification were not initialized from the model checkpoint at bert-base-uncased and are newly initialized: ['classifier.weight', 'classifier.bias']\n",
      "You should probably TRAIN this model on a down-stream task to be able to use it for predictions and inference.\n",
      "Some weights of the model checkpoint at bert-base-uncased were not used when initializing BertForSequenceClassification: ['cls.predictions.transform.LayerNorm.bias', 'cls.predictions.transform.dense.weight', 'cls.seq_relationship.weight', 'cls.predictions.transform.dense.bias', 'cls.predictions.transform.LayerNorm.weight', 'cls.predictions.bias', 'cls.predictions.decoder.weight', 'cls.seq_relationship.bias']\n",
      "- This IS expected if you are initializing BertForSequenceClassification from the checkpoint of a model trained on another task or with another architecture (e.g. initializing a BertForSequenceClassification model from a BertForPreTraining model).\n",
      "- This IS NOT expected if you are initializing BertForSequenceClassification from the checkpoint of a model that you expect to be exactly identical (initializing a BertForSequenceClassification model from a BertForSequenceClassification model).\n",
      "Some weights of BertForSequenceClassification were not initialized from the model checkpoint at bert-base-uncased and are newly initialized: ['classifier.weight', 'classifier.bias']\n",
      "You should probably TRAIN this model on a down-stream task to be able to use it for predictions and inference.\n"
     ]
    },
    {
     "name": "stdout",
     "output_type": "stream",
     "text": [
      "\n",
      "======== Epoch 1 / 30 ========\n",
      "Training...\n"
     ]
    },
    {
     "name": "stderr",
     "output_type": "stream",
     "text": [
      "\r",
      "  0%|                                                                                          | 0/347 [00:00<?, ?it/s]"
     ]
    },
    {
     "name": "stdout",
     "output_type": "stream",
     "text": [
      "\n",
      "======== Epoch 1 / 30 ========\n",
      "Training...\n"
     ]
    },
    {
     "name": "stderr",
     "output_type": "stream",
     "text": [
      "100%|████████████████████████████████████████████████████████████████████████████████| 347/347 [01:31<00:00,  3.81it/s]\n",
      "\n"
     ]
    },
    {
     "name": "stdout",
     "output_type": "stream",
     "text": [
      "Total loss: 951.603481054306\n",
      "Validation accuracy: 0.3657142857142857\n",
      "Total loss: 951.603481054306\n",
      "Validation accuracy: 0.3657142857142857\n",
      "\n",
      "======== Epoch 2 / 30 ========\n",
      "Training...\n"
     ]
    },
    {
     "name": "stderr",
     "output_type": "stream",
     "text": [
      "\r",
      "  0%|                                                                                          | 0/347 [00:00<?, ?it/s]"
     ]
    },
    {
     "name": "stdout",
     "output_type": "stream",
     "text": [
      "\n",
      "======== Epoch 2 / 30 ========\n",
      "Training...\n"
     ]
    },
    {
     "name": "stderr",
     "output_type": "stream",
     "text": [
      "100%|████████████████████████████████████████████████████████████████████████████████| 347/347 [01:28<00:00,  3.93it/s]\n",
      "\n"
     ]
    },
    {
     "name": "stdout",
     "output_type": "stream",
     "text": [
      "Total loss: 726.5376545786858\n",
      "Validation accuracy: 0.5142857142857142\n",
      "Total loss: 726.5376545786858\n",
      "Validation accuracy: 0.5142857142857142\n",
      "\n",
      "======== Epoch 3 / 30 ========\n",
      "Training...\n"
     ]
    },
    {
     "name": "stderr",
     "output_type": "stream",
     "text": [
      "\r",
      "  0%|                                                                                          | 0/347 [00:00<?, ?it/s]"
     ]
    },
    {
     "name": "stdout",
     "output_type": "stream",
     "text": [
      "\n",
      "======== Epoch 3 / 30 ========\n",
      "Training...\n"
     ]
    },
    {
     "name": "stderr",
     "output_type": "stream",
     "text": [
      "100%|████████████████████████████████████████████████████████████████████████████████| 347/347 [01:28<00:00,  3.90it/s]\n",
      "\n"
     ]
    },
    {
     "name": "stdout",
     "output_type": "stream",
     "text": [
      "Total loss: 506.66910749673843\n",
      "Validation accuracy: 0.5657142857142857\n",
      "Total loss: 506.66910749673843\n",
      "Validation accuracy: 0.5657142857142857\n",
      "\n",
      "======== Epoch 4 / 30 ========\n",
      "Training...\n"
     ]
    },
    {
     "name": "stderr",
     "output_type": "stream",
     "text": [
      "\r",
      "  0%|                                                                                          | 0/347 [00:00<?, ?it/s]"
     ]
    },
    {
     "name": "stdout",
     "output_type": "stream",
     "text": [
      "\n",
      "======== Epoch 4 / 30 ========\n",
      "Training...\n"
     ]
    },
    {
     "name": "stderr",
     "output_type": "stream",
     "text": [
      "100%|████████████████████████████████████████████████████████████████████████████████| 347/347 [01:29<00:00,  3.89it/s]\n",
      "\n"
     ]
    },
    {
     "name": "stdout",
     "output_type": "stream",
     "text": [
      "Total loss: 346.2321638315916\n",
      "Validation accuracy: 0.5942857142857143\n",
      "Total loss: 346.2321638315916\n",
      "Validation accuracy: 0.5942857142857143\n",
      "\n",
      "======== Epoch 5 / 30 ========\n",
      "Training...\n"
     ]
    },
    {
     "name": "stderr",
     "output_type": "stream",
     "text": [
      "\r",
      "  0%|                                                                                          | 0/347 [00:00<?, ?it/s]"
     ]
    },
    {
     "name": "stdout",
     "output_type": "stream",
     "text": [
      "\n",
      "======== Epoch 5 / 30 ========\n",
      "Training...\n"
     ]
    },
    {
     "name": "stderr",
     "output_type": "stream",
     "text": [
      "100%|████████████████████████████████████████████████████████████████████████████████| 347/347 [01:29<00:00,  3.88it/s]\n",
      "\n"
     ]
    },
    {
     "name": "stdout",
     "output_type": "stream",
     "text": [
      "Total loss: 254.2959809154272\n",
      "Validation accuracy: 0.6228571428571429\n",
      "Total loss: 254.2959809154272\n",
      "Validation accuracy: 0.6228571428571429\n",
      "\n",
      "======== Epoch 6 / 30 ========\n",
      "Training...\n"
     ]
    },
    {
     "name": "stderr",
     "output_type": "stream",
     "text": [
      "\r",
      "  0%|                                                                                          | 0/347 [00:00<?, ?it/s]"
     ]
    },
    {
     "name": "stdout",
     "output_type": "stream",
     "text": [
      "\n",
      "======== Epoch 6 / 30 ========\n",
      "Training...\n"
     ]
    },
    {
     "name": "stderr",
     "output_type": "stream",
     "text": [
      "100%|████████████████████████████████████████████████████████████████████████████████| 347/347 [01:29<00:00,  3.87it/s]\n",
      "\n"
     ]
    },
    {
     "name": "stdout",
     "output_type": "stream",
     "text": [
      "Total loss: 172.7014456242323\n",
      "Validation accuracy: 0.6171428571428571\n",
      "\n",
      "======== Epoch 7 / 30 ========\n",
      "Training...\n"
     ]
    },
    {
     "name": "stderr",
     "output_type": "stream",
     "text": [
      "\r",
      "  0%|                                                                                          | 0/347 [00:00<?, ?it/s]"
     ]
    },
    {
     "name": "stdout",
     "output_type": "stream",
     "text": [
      "Total loss: 172.7014456242323\n",
      "Validation accuracy: 0.6171428571428571\n",
      "\n",
      "======== Epoch 7 / 30 ========\n",
      "Training...\n"
     ]
    },
    {
     "name": "stderr",
     "output_type": "stream",
     "text": [
      "100%|████████████████████████████████████████████████████████████████████████████████| 347/347 [01:29<00:00,  3.87it/s]\n",
      "\n"
     ]
    },
    {
     "name": "stdout",
     "output_type": "stream",
     "text": [
      "Total loss: 103.61433965340257\n",
      "Validation accuracy: 0.6457142857142857\n",
      "Total loss: 103.61433965340257\n",
      "Validation accuracy: 0.6457142857142857\n",
      "\n",
      "======== Epoch 8 / 30 ========\n",
      "Training...\n"
     ]
    },
    {
     "name": "stderr",
     "output_type": "stream",
     "text": [
      "\r",
      "  0%|                                                                                          | 0/347 [00:00<?, ?it/s]"
     ]
    },
    {
     "name": "stdout",
     "output_type": "stream",
     "text": [
      "\n",
      "======== Epoch 8 / 30 ========\n",
      "Training...\n"
     ]
    },
    {
     "name": "stderr",
     "output_type": "stream",
     "text": [
      "100%|████████████████████████████████████████████████████████████████████████████████| 347/347 [01:29<00:00,  3.86it/s]\n",
      "\n"
     ]
    },
    {
     "name": "stdout",
     "output_type": "stream",
     "text": [
      "Total loss: 73.29466884583235\n",
      "Validation accuracy: 0.64\n",
      "\n",
      "======== Epoch 9 / 30 ========\n",
      "Training...\n"
     ]
    },
    {
     "name": "stderr",
     "output_type": "stream",
     "text": [
      "\r",
      "  0%|                                                                                          | 0/347 [00:00<?, ?it/s]"
     ]
    },
    {
     "name": "stdout",
     "output_type": "stream",
     "text": [
      "Total loss: 73.29466884583235\n",
      "Validation accuracy: 0.64\n",
      "\n",
      "======== Epoch 9 / 30 ========\n",
      "Training...\n"
     ]
    },
    {
     "name": "stderr",
     "output_type": "stream",
     "text": [
      "100%|████████████████████████████████████████████████████████████████████████████████| 347/347 [01:29<00:00,  3.86it/s]\n",
      "\n"
     ]
    },
    {
     "name": "stdout",
     "output_type": "stream",
     "text": [
      "Total loss: 51.6582138184458\n",
      "Validation accuracy: 0.6171428571428571\n",
      "\n",
      "======== Epoch 10 / 30 ========\n",
      "Training...\n"
     ]
    },
    {
     "name": "stderr",
     "output_type": "stream",
     "text": [
      "\r",
      "  0%|                                                                                          | 0/347 [00:00<?, ?it/s]"
     ]
    },
    {
     "name": "stdout",
     "output_type": "stream",
     "text": [
      "Total loss: 51.6582138184458\n",
      "Validation accuracy: 0.6171428571428571\n",
      "\n",
      "======== Epoch 10 / 30 ========\n",
      "Training...\n"
     ]
    },
    {
     "name": "stderr",
     "output_type": "stream",
     "text": [
      "100%|████████████████████████████████████████████████████████████████████████████████| 347/347 [01:29<00:00,  3.86it/s]\n",
      "\n"
     ]
    },
    {
     "name": "stdout",
     "output_type": "stream",
     "text": [
      "Total loss: 34.08404191862792\n",
      "Validation accuracy: 0.6342857142857142\n",
      "\n",
      "======== Epoch 11 / 30 ========\n",
      "Training...\n"
     ]
    },
    {
     "name": "stderr",
     "output_type": "stream",
     "text": [
      "\r",
      "  0%|                                                                                          | 0/347 [00:00<?, ?it/s]"
     ]
    },
    {
     "name": "stdout",
     "output_type": "stream",
     "text": [
      "Total loss: 34.08404191862792\n",
      "Validation accuracy: 0.6342857142857142\n",
      "\n",
      "======== Epoch 11 / 30 ========\n",
      "Training...\n"
     ]
    },
    {
     "name": "stderr",
     "output_type": "stream",
     "text": [
      "100%|████████████████████████████████████████████████████████████████████████████████| 347/347 [01:29<00:00,  3.86it/s]\n",
      "\n"
     ]
    },
    {
     "name": "stdout",
     "output_type": "stream",
     "text": [
      "Total loss: 23.732166479341686\n",
      "Validation accuracy: 0.6228571428571429\n",
      "\n",
      "======== Epoch 12 / 30 ========\n",
      "Training...\n"
     ]
    },
    {
     "name": "stderr",
     "output_type": "stream",
     "text": [
      "\r",
      "  0%|                                                                                          | 0/347 [00:00<?, ?it/s]"
     ]
    },
    {
     "name": "stdout",
     "output_type": "stream",
     "text": [
      "Total loss: 23.732166479341686\n",
      "Validation accuracy: 0.6228571428571429\n",
      "\n",
      "======== Epoch 12 / 30 ========\n",
      "Training...\n"
     ]
    },
    {
     "name": "stderr",
     "output_type": "stream",
     "text": [
      "100%|████████████████████████████████████████████████████████████████████████████████| 347/347 [01:29<00:00,  3.86it/s]\n",
      "\n"
     ]
    },
    {
     "name": "stdout",
     "output_type": "stream",
     "text": [
      "Total loss: 18.028556033037603\n",
      "Validation accuracy: 0.6457142857142857\n",
      "\n",
      "======== Epoch 13 / 30 ========\n",
      "Training...\n"
     ]
    },
    {
     "name": "stderr",
     "output_type": "stream",
     "text": [
      "\r",
      "  0%|                                                                                          | 0/347 [00:00<?, ?it/s]"
     ]
    },
    {
     "name": "stdout",
     "output_type": "stream",
     "text": [
      "Total loss: 18.028556033037603\n",
      "Validation accuracy: 0.6457142857142857\n",
      "\n",
      "======== Epoch 13 / 30 ========\n",
      "Training...\n"
     ]
    },
    {
     "name": "stderr",
     "output_type": "stream",
     "text": [
      "100%|████████████████████████████████████████████████████████████████████████████████| 347/347 [01:29<00:00,  3.86it/s]\n",
      "\n"
     ]
    },
    {
     "name": "stdout",
     "output_type": "stream",
     "text": [
      "Total loss: 14.819039726629853\n",
      "Validation accuracy: 0.6457142857142857\n",
      "\n",
      "======== Epoch 14 / 30 ========\n",
      "Training...\n"
     ]
    },
    {
     "name": "stderr",
     "output_type": "stream",
     "text": [
      "\r",
      "  0%|                                                                                          | 0/347 [00:00<?, ?it/s]"
     ]
    },
    {
     "name": "stdout",
     "output_type": "stream",
     "text": [
      "Total loss: 14.819039726629853\n",
      "Validation accuracy: 0.6457142857142857\n",
      "\n",
      "======== Epoch 14 / 30 ========\n",
      "Training...\n"
     ]
    },
    {
     "name": "stderr",
     "output_type": "stream",
     "text": [
      "100%|████████████████████████████████████████████████████████████████████████████████| 347/347 [01:29<00:00,  3.86it/s]\n",
      "\n"
     ]
    },
    {
     "name": "stdout",
     "output_type": "stream",
     "text": [
      "Total loss: 15.089112772606313\n",
      "Validation accuracy: 0.64\n",
      "\n",
      "======== Epoch 15 / 30 ========\n",
      "Training...\n"
     ]
    },
    {
     "name": "stderr",
     "output_type": "stream",
     "text": [
      "\r",
      "  0%|                                                                                          | 0/347 [00:00<?, ?it/s]"
     ]
    },
    {
     "name": "stdout",
     "output_type": "stream",
     "text": [
      "Total loss: 15.089112772606313\n",
      "Validation accuracy: 0.64\n",
      "\n",
      "======== Epoch 15 / 30 ========\n",
      "Training...\n"
     ]
    },
    {
     "name": "stderr",
     "output_type": "stream",
     "text": [
      "100%|████████████████████████████████████████████████████████████████████████████████| 347/347 [01:29<00:00,  3.86it/s]\n",
      "\n"
     ]
    },
    {
     "name": "stdout",
     "output_type": "stream",
     "text": [
      "Total loss: 13.307247541379184\n",
      "Validation accuracy: 0.64\n",
      "\n",
      "======== Epoch 16 / 30 ========\n",
      "Training...\n"
     ]
    },
    {
     "name": "stderr",
     "output_type": "stream",
     "text": [
      "\r",
      "  0%|                                                                                          | 0/347 [00:00<?, ?it/s]"
     ]
    },
    {
     "name": "stdout",
     "output_type": "stream",
     "text": [
      "Total loss: 13.307247541379184\n",
      "Validation accuracy: 0.64\n",
      "\n",
      "======== Epoch 16 / 30 ========\n",
      "Training...\n"
     ]
    },
    {
     "name": "stderr",
     "output_type": "stream",
     "text": [
      "100%|████████████████████████████████████████████████████████████████████████████████| 347/347 [01:29<00:00,  3.86it/s]\n",
      "\n"
     ]
    },
    {
     "name": "stdout",
     "output_type": "stream",
     "text": [
      "Total loss: 13.292059191968292\n",
      "Validation accuracy: 0.6457142857142857\n",
      "\n",
      "======== Epoch 17 / 30 ========\n",
      "Training...\n"
     ]
    },
    {
     "name": "stderr",
     "output_type": "stream",
     "text": [
      "\r",
      "  0%|                                                                                          | 0/347 [00:00<?, ?it/s]"
     ]
    },
    {
     "name": "stdout",
     "output_type": "stream",
     "text": [
      "Total loss: 13.292059191968292\n",
      "Validation accuracy: 0.6457142857142857\n",
      "\n",
      "======== Epoch 17 / 30 ========\n",
      "Training...\n"
     ]
    },
    {
     "name": "stderr",
     "output_type": "stream",
     "text": [
      "100%|████████████████████████████████████████████████████████████████████████████████| 347/347 [01:29<00:00,  3.86it/s]\n",
      "\n"
     ]
    },
    {
     "name": "stdout",
     "output_type": "stream",
     "text": [
      "Total loss: 13.528193207923323\n",
      "Validation accuracy: 0.6457142857142857\n",
      "\n",
      "======== Epoch 18 / 30 ========\n",
      "Training...\n"
     ]
    },
    {
     "name": "stderr",
     "output_type": "stream",
     "text": [
      "\r",
      "  0%|                                                                                          | 0/347 [00:00<?, ?it/s]"
     ]
    },
    {
     "name": "stdout",
     "output_type": "stream",
     "text": [
      "Total loss: 13.528193207923323\n",
      "Validation accuracy: 0.6457142857142857\n",
      "\n",
      "======== Epoch 18 / 30 ========\n",
      "Training...\n"
     ]
    },
    {
     "name": "stderr",
     "output_type": "stream",
     "text": [
      "100%|████████████████████████████████████████████████████████████████████████████████| 347/347 [01:30<00:00,  3.85it/s]\n",
      "\n"
     ]
    },
    {
     "name": "stdout",
     "output_type": "stream",
     "text": [
      "Total loss: 11.530293301213533\n",
      "Validation accuracy: 0.6457142857142857\n",
      "\n",
      "======== Epoch 19 / 30 ========\n",
      "Training...\n"
     ]
    },
    {
     "name": "stderr",
     "output_type": "stream",
     "text": [
      "\r",
      "  0%|                                                                                          | 0/347 [00:00<?, ?it/s]"
     ]
    },
    {
     "name": "stdout",
     "output_type": "stream",
     "text": [
      "Total loss: 11.530293301213533\n",
      "Validation accuracy: 0.6457142857142857\n",
      "\n",
      "======== Epoch 19 / 30 ========\n",
      "Training...\n"
     ]
    },
    {
     "name": "stderr",
     "output_type": "stream",
     "text": [
      "100%|████████████████████████████████████████████████████████████████████████████████| 347/347 [01:30<00:00,  3.85it/s]\n",
      "\n"
     ]
    },
    {
     "name": "stdout",
     "output_type": "stream",
     "text": [
      "Total loss: 13.549445481505245\n",
      "Validation accuracy: 0.6342857142857142\n",
      "\n",
      "======== Epoch 20 / 30 ========\n",
      "Training...\n"
     ]
    },
    {
     "name": "stderr",
     "output_type": "stream",
     "text": [
      "\r",
      "  0%|                                                                                          | 0/347 [00:00<?, ?it/s]"
     ]
    },
    {
     "name": "stdout",
     "output_type": "stream",
     "text": [
      "Total loss: 13.549445481505245\n",
      "Validation accuracy: 0.6342857142857142\n",
      "\n",
      "======== Epoch 20 / 30 ========\n",
      "Training...\n"
     ]
    },
    {
     "name": "stderr",
     "output_type": "stream",
     "text": [
      "100%|████████████████████████████████████████████████████████████████████████████████| 347/347 [01:30<00:00,  3.85it/s]\n",
      "\n"
     ]
    },
    {
     "name": "stdout",
     "output_type": "stream",
     "text": [
      "Total loss: 12.120482798432931\n",
      "Validation accuracy: 0.64\n",
      "\n",
      "======== Epoch 21 / 30 ========\n",
      "Training...\n",
      "Total loss: 12.120482798432931\n",
      "Validation accuracy: 0.64\n",
      "\n",
      "======== Epoch 21 / 30 ========\n",
      "Training...\n"
     ]
    },
    {
     "name": "stderr",
     "output_type": "stream",
     "text": [
      "100%|████████████████████████████████████████████████████████████████████████████████| 347/347 [01:30<00:00,  3.85it/s]\n",
      "\n"
     ]
    },
    {
     "name": "stdout",
     "output_type": "stream",
     "text": [
      "Total loss: 11.768166802590713\n",
      "Validation accuracy: 0.6457142857142857\n",
      "\n",
      "======== Epoch 22 / 30 ========\n",
      "Training...\n"
     ]
    },
    {
     "name": "stderr",
     "output_type": "stream",
     "text": [
      "\r",
      "  0%|                                                                                          | 0/347 [00:00<?, ?it/s]"
     ]
    },
    {
     "name": "stdout",
     "output_type": "stream",
     "text": [
      "Total loss: 11.768166802590713\n",
      "Validation accuracy: 0.6457142857142857\n",
      "\n",
      "======== Epoch 22 / 30 ========\n",
      "Training...\n"
     ]
    },
    {
     "name": "stderr",
     "output_type": "stream",
     "text": [
      "100%|████████████████████████████████████████████████████████████████████████████████| 347/347 [01:30<00:00,  3.85it/s]\n",
      "\n"
     ]
    },
    {
     "name": "stdout",
     "output_type": "stream",
     "text": [
      "Total loss: 11.590393365127966\n",
      "Validation accuracy: 0.64\n",
      "\n",
      "======== Epoch 23 / 30 ========\n",
      "Training...\n"
     ]
    },
    {
     "name": "stderr",
     "output_type": "stream",
     "text": [
      "\r",
      "  0%|                                                                                          | 0/347 [00:00<?, ?it/s]"
     ]
    },
    {
     "name": "stdout",
     "output_type": "stream",
     "text": [
      "Total loss: 11.590393365127966\n",
      "Validation accuracy: 0.64\n",
      "\n",
      "======== Epoch 23 / 30 ========\n",
      "Training...\n"
     ]
    },
    {
     "name": "stderr",
     "output_type": "stream",
     "text": [
      "100%|████████████████████████████████████████████████████████████████████████████████| 347/347 [01:30<00:00,  3.85it/s]\n",
      "\n"
     ]
    },
    {
     "name": "stdout",
     "output_type": "stream",
     "text": [
      "Total loss: 10.766582627315074\n",
      "Validation accuracy: 0.6457142857142857\n",
      "\n",
      "======== Epoch 24 / 30 ========\n",
      "Training...\n"
     ]
    },
    {
     "name": "stderr",
     "output_type": "stream",
     "text": [
      "\r",
      "  0%|                                                                                          | 0/347 [00:00<?, ?it/s]"
     ]
    },
    {
     "name": "stdout",
     "output_type": "stream",
     "text": [
      "Total loss: 10.766582627315074\n",
      "Validation accuracy: 0.6457142857142857\n",
      "\n",
      "======== Epoch 24 / 30 ========\n",
      "Training...\n"
     ]
    },
    {
     "name": "stderr",
     "output_type": "stream",
     "text": [
      "100%|████████████████████████████████████████████████████████████████████████████████| 347/347 [01:30<00:00,  3.84it/s]\n",
      "\n"
     ]
    },
    {
     "name": "stdout",
     "output_type": "stream",
     "text": [
      "Total loss: 12.057971419068053\n",
      "Validation accuracy: 0.6457142857142857\n",
      "\n",
      "======== Epoch 25 / 30 ========\n",
      "Training...\n",
      "Total loss: 12.057971419068053\n",
      "Validation accuracy: 0.6457142857142857\n",
      "\n",
      "======== Epoch 25 / 30 ========\n",
      "Training...\n"
     ]
    },
    {
     "name": "stderr",
     "output_type": "stream",
     "text": [
      "100%|████████████████████████████████████████████████████████████████████████████████| 347/347 [01:30<00:00,  3.84it/s]\n",
      "\n"
     ]
    },
    {
     "name": "stdout",
     "output_type": "stream",
     "text": [
      "Total loss: 11.059794471831992\n",
      "Validation accuracy: 0.64\n",
      "\n",
      "======== Epoch 26 / 30 ========\n",
      "Training...\n"
     ]
    },
    {
     "name": "stderr",
     "output_type": "stream",
     "text": [
      "\r",
      "  0%|                                                                                          | 0/347 [00:00<?, ?it/s]"
     ]
    },
    {
     "name": "stdout",
     "output_type": "stream",
     "text": [
      "Total loss: 11.059794471831992\n",
      "Validation accuracy: 0.64\n",
      "\n",
      "======== Epoch 26 / 30 ========\n",
      "Training...\n"
     ]
    },
    {
     "name": "stderr",
     "output_type": "stream",
     "text": [
      "100%|████████████████████████████████████████████████████████████████████████████████| 347/347 [01:30<00:00,  3.84it/s]\n",
      "\n"
     ]
    },
    {
     "name": "stdout",
     "output_type": "stream",
     "text": [
      "Total loss: 11.075509556103498\n",
      "Validation accuracy: 0.6342857142857142\n",
      "\n",
      "======== Epoch 27 / 30 ========\n",
      "Training...\n"
     ]
    },
    {
     "name": "stderr",
     "output_type": "stream",
     "text": [
      "\r",
      "  0%|                                                                                          | 0/347 [00:00<?, ?it/s]"
     ]
    },
    {
     "name": "stdout",
     "output_type": "stream",
     "text": [
      "Total loss: 11.075509556103498\n",
      "Validation accuracy: 0.6342857142857142\n",
      "\n",
      "======== Epoch 27 / 30 ========\n",
      "Training...\n"
     ]
    },
    {
     "name": "stderr",
     "output_type": "stream",
     "text": [
      "100%|████████████████████████████████████████████████████████████████████████████████| 347/347 [01:30<00:00,  3.84it/s]\n",
      "\n"
     ]
    },
    {
     "name": "stdout",
     "output_type": "stream",
     "text": [
      "Total loss: 12.423062508460134\n",
      "Validation accuracy: 0.6342857142857142\n",
      "\n",
      "======== Epoch 28 / 30 ========\n",
      "Training...\n"
     ]
    },
    {
     "name": "stderr",
     "output_type": "stream",
     "text": [
      "\r",
      "  0%|                                                                                          | 0/347 [00:00<?, ?it/s]"
     ]
    },
    {
     "name": "stdout",
     "output_type": "stream",
     "text": [
      "Total loss: 12.423062508460134\n",
      "Validation accuracy: 0.6342857142857142\n",
      "\n",
      "======== Epoch 28 / 30 ========\n",
      "Training...\n"
     ]
    },
    {
     "name": "stderr",
     "output_type": "stream",
     "text": [
      "100%|████████████████████████████████████████████████████████████████████████████████| 347/347 [01:30<00:00,  3.84it/s]\n",
      "\n"
     ]
    },
    {
     "name": "stdout",
     "output_type": "stream",
     "text": [
      "Total loss: 9.380897851195186\n",
      "Validation accuracy: 0.6342857142857142\n",
      "\n",
      "======== Epoch 29 / 30 ========\n",
      "Training...\n"
     ]
    },
    {
     "name": "stderr",
     "output_type": "stream",
     "text": [
      "\r",
      "  0%|                                                                                          | 0/347 [00:00<?, ?it/s]"
     ]
    },
    {
     "name": "stdout",
     "output_type": "stream",
     "text": [
      "Total loss: 9.380897851195186\n",
      "Validation accuracy: 0.6342857142857142\n",
      "\n",
      "======== Epoch 29 / 30 ========\n",
      "Training...\n"
     ]
    },
    {
     "name": "stderr",
     "output_type": "stream",
     "text": [
      "100%|████████████████████████████████████████████████████████████████████████████████| 347/347 [01:30<00:00,  3.85it/s]\n",
      "\n"
     ]
    },
    {
     "name": "stdout",
     "output_type": "stream",
     "text": [
      "Total loss: 12.25325699953828\n",
      "Validation accuracy: 0.6342857142857142\n",
      "\n",
      "======== Epoch 30 / 30 ========\n",
      "Training...\n"
     ]
    },
    {
     "name": "stderr",
     "output_type": "stream",
     "text": [
      "\r",
      "  0%|                                                                                          | 0/347 [00:00<?, ?it/s]"
     ]
    },
    {
     "name": "stdout",
     "output_type": "stream",
     "text": [
      "Total loss: 12.25325699953828\n",
      "Validation accuracy: 0.6342857142857142\n",
      "\n",
      "======== Epoch 30 / 30 ========\n",
      "Training...\n"
     ]
    },
    {
     "name": "stderr",
     "output_type": "stream",
     "text": [
      "100%|████████████████████████████████████████████████████████████████████████████████| 347/347 [01:30<00:00,  3.85it/s]\n",
      "\n"
     ]
    },
    {
     "name": "stdout",
     "output_type": "stream",
     "text": [
      "Total loss: 10.857569964369759\n",
      "Validation accuracy: 0.6342857142857142\n",
      "\n",
      "Training complete!\n",
      "Total loss: 10.857569964369759\n",
      "Validation accuracy: 0.6342857142857142\n",
      "\n",
      "Training complete!\n"
     ]
    }
   ],
   "source": [
    "model = BertForSequenceClassification.from_pretrained(\n",
    "    \"bert-base-uncased\", # Use the 12-layer BERT model, with an uncased vocab.\n",
    "    num_labels = 20, # The number of output labels.   \n",
    "    output_attentions = False, # Whether the model returns attentions weights.\n",
    "    output_hidden_states = False, # Whether the model returns all hidden-states.\n",
    ")\n",
    "\n",
    "# Tell pytorch to run this model on the GPU.\n",
    "model.cuda()\n",
    "\n",
    "\n",
    "\n",
    "\n",
    "\n",
    "hyperparameter_config_iter = 1\n",
    "\n",
    "save_path = \"Saved models/Hyperparameter configuration \" + str(hyperparameter_config_iter)\n",
    "\n",
    "if(os.path.exists(save_path)):\n",
    "    raise Exception(\"ERROR! Hyperparameter config \" + str(hyperparameter_config_iter))\n",
    "\n",
    "else:\n",
    "    os.makedirs(save_path)\n",
    "    os.makedirs(save_path + \"/Plots\")\n",
    "\n",
    "\n",
    "# Fine-tuning hyperparameters\n",
    "\n",
    "batch_size = 4\n",
    "full_batch_size = 32\n",
    "\n",
    "no_of_steps = int(full_batch_size/batch_size)\n",
    "\n",
    "optimizer = AdamW(model.parameters(),\n",
    "                  lr = 5e-5, # args.learning_rate - default is 5e-5\n",
    "                  eps = 1e-8 # args.adam_epsilon  - default is 1e-8\n",
    "                )\n",
    "epochs = 30\n",
    "\n",
    "hyperparameter_dict = dict()\n",
    "hyperparameter_dict['batch_size'] = full_batch_size\n",
    "hyperparameter_dict['epochs'] = epochs\n",
    "\n",
    "with open(save_path + \"/Hyperparameters.json\", 'w') as f:\n",
    "    json.dump(hyperparameter_dict, f)\n",
    "\n",
    "def save(model, optimizer, output_path):\n",
    "    torch.save({'model_state_dict': model.state_dict(), 'optimizer_state_dict': optimizer.state_dict()}, output_path)\n",
    "\n",
    "# function to get validation accuracy\n",
    "def get_performance(data_set):\n",
    "    # Put the model in evaluation mode\n",
    "    model.eval()\n",
    "\n",
    "    # Tracking variables \n",
    "    total_eval_accuracy = 0\n",
    "    total_eval_loss = 0\n",
    "\n",
    "    num_batches = int(len(data_set)/batch_size) + 1\n",
    "\n",
    "    total_correct = 0\n",
    "\n",
    "    for i in range(num_batches):\n",
    "\n",
    "        end_index = min(batch_size * (i+1), len(data_set))\n",
    "\n",
    "        batch = data_set[i*batch_size:end_index]\n",
    "\n",
    "        if len(batch) == 0: continue\n",
    "\n",
    "        input_id_tensors = torch.stack([data[0] for data in batch])\n",
    "        input_mask_tensors = torch.stack([data[1] for data in batch])\n",
    "        label_tensors = torch.stack([data[2] for data in batch])\n",
    "\n",
    "        # Move tensors to the GPU\n",
    "        b_input_ids = input_id_tensors.to(device)\n",
    "        b_input_mask = input_mask_tensors.to(device)\n",
    "        b_labels = label_tensors.to(device)\n",
    "\n",
    "        # Tell pytorch not to bother with constructing the compute graph during\n",
    "        # the forward pass, since this is only needed for backprop (training).\n",
    "        with torch.no_grad():        \n",
    "\n",
    "            # Forward pass, calculate logit predictions.\n",
    "            outputs = model(b_input_ids,\n",
    "                                    token_type_ids=None,\n",
    "                                    attention_mask=b_input_mask,\n",
    "                                    labels=b_labels)\n",
    "            loss = outputs.loss\n",
    "            logits = outputs.logits\n",
    "\n",
    "            # Accumulate the validation loss.\n",
    "            total_eval_loss += loss.item()\n",
    "\n",
    "            # Move logits and labels to CPU\n",
    "            logits = logits.detach().cpu().numpy()\n",
    "            label_ids = b_labels.to('cpu').numpy()\n",
    "\n",
    "            # Calculate the number of correctly labeled examples in batch\n",
    "            pred_flat = np.argmax(logits, axis=1).flatten()\n",
    "            labels_flat = label_ids.flatten()\n",
    "            num_correct = np.sum(pred_flat == labels_flat)\n",
    "            total_correct += num_correct\n",
    "        \n",
    "    # Report the final accuracy for this validation run.\n",
    "    avg_val_accuracy = total_correct / len(data_set)\n",
    "    return avg_val_accuracy\n",
    "\n",
    "\n",
    "\n",
    "# training loop\n",
    "\n",
    "max_val_acc = -1\n",
    "\n",
    "metric_vs_epoch = dict()\n",
    "\n",
    "epoch_list = []\n",
    "training_loss_list = []\n",
    "training_acc_list = []\n",
    "\n",
    "val_acc_list = []\n",
    "\n",
    "# For each epoch...\n",
    "for epoch_i in range(0, epochs):\n",
    "    \n",
    "    epoch_list.append(epoch_i + 1)\n",
    "    \n",
    "    # Perform one full pass over the training set.\n",
    "\n",
    "    print(\"\")\n",
    "    print('======== Epoch {:} / {:} ========'.format(epoch_i + 1, epochs))\n",
    "    print('Training...')\n",
    "\n",
    "    # Reset the total loss for this epoch.\n",
    "    total_train_loss = 0\n",
    "\n",
    "    # Put the model into training mode.\n",
    "    model.train()\n",
    "\n",
    "    # For each batch of training data...\n",
    "    num_batches = int(len(train_set)/batch_size) + 1\n",
    "\n",
    "    for i in tqdm(range(num_batches)):\n",
    "        \n",
    "        end_index = min(batch_size * (i+1), len(train_set))\n",
    "\n",
    "        batch = train_set[i*batch_size:end_index]\n",
    "\n",
    "        if len(batch) == 0: continue\n",
    "\n",
    "        input_id_tensors = torch.stack([data[0] for data in batch])\n",
    "        input_mask_tensors = torch.stack([data[1] for data in batch])\n",
    "        label_tensors = torch.stack([data[2] for data in batch])\n",
    "\n",
    "        # Move tensors to the GPU\n",
    "        b_input_ids = input_id_tensors.to(device)\n",
    "        b_input_mask = input_mask_tensors.to(device)\n",
    "        b_labels = label_tensors.to(device)\n",
    "\n",
    "        if(i%no_of_steps == 0):\n",
    "            # Clear the previously calculated gradient\n",
    "            model.zero_grad()\n",
    "\n",
    "        # Perform a forward pass (evaluate the model on this training batch).\n",
    "        outputs = model(b_input_ids,\n",
    "                            token_type_ids=None,\n",
    "                            attention_mask=b_input_mask, \n",
    "                            labels=b_labels)\n",
    "        loss = outputs.loss\n",
    "        logits = outputs.logits\n",
    "\n",
    "        total_train_loss += loss.item()\n",
    "\n",
    "        # Perform a backward pass to calculate the gradients.\n",
    "        loss.backward()\n",
    "\n",
    "        if((i+1)%no_of_steps == 0):\n",
    "            # Update parameters and take a step using the computed gradient.\n",
    "            optimizer.step()\n",
    "        \n",
    "    # ========================================\n",
    "    #               Validation\n",
    "    # ========================================\n",
    "    # After the completion of each training epoch, measure our performance on\n",
    "    # our validation set. Implement this function in the cell above.\n",
    "    \n",
    "    training_acc = get_performance(train_set)\n",
    "    val_acc = get_performance(val_set)\n",
    "    \n",
    "    print(f\"Total loss: {total_train_loss}\")\n",
    "    print(f\"Validation accuracy: {val_acc}\")\n",
    "    \n",
    "    val_acc_list.append(val_acc)\n",
    "    training_acc_list.append(training_acc)\n",
    "    \n",
    "    training_loss_list.append(total_train_loss)\n",
    "    \n",
    "    if(val_acc > max_val_acc):\n",
    "        \n",
    "        max_val_acc = val_acc\n",
    "        \n",
    "        model.save_pretrained(save_path + \"/best validation accuracy model\")\n",
    "        save(model, optimizer, save_path + \"/best validation accuracy.modelState\")\n",
    "    \n",
    "    \n",
    "print(\"\")\n",
    "print(\"Training complete!\")            \n",
    "\n",
    "metric_vs_epoch[\"Epochs\"] = epoch_list\n",
    "metric_vs_epoch[\"Training loss\"] = training_loss_list\n",
    "metric_vs_epoch[\"Training accuracy\"] = training_acc_list\n",
    "metric_vs_epoch[\"Validation accuracy\"] = val_acc_list\n",
    "\n",
    "with open(save_path + \"/Plots/Plot data.json\", 'w') as f:\n",
    "    json.dump(metric_vs_epoch, f)\n",
    "\n",
    "metric_vs_epoch_df = pd.DataFrame(metric_vs_epoch, columns = [\"Epochs\", \"Training loss\", \"Training accuracy\", \"Validation accuracy\"])\n",
    "\n",
    "fig = px.line(metric_vs_epoch_df, x='Epochs', y=\"Training loss\", title=\"Training loss vs epochs\")\n",
    "plotly.offline.plot(fig, filename = save_path + \"/Plots/Training loss.html\")\n",
    "\n",
    "accuracy_vs_epoch = dict()\n",
    "accuracy_vs_epoch[\"Epochs\"] = epoch_list + epoch_list\n",
    "accuracy_vs_epoch[\"Accuracy\"] = training_acc_list + val_acc_list\n",
    "accuracy_vs_epoch[\"Dataset\"] = [\"Training\"]*len(training_acc_list) + [\"Validation\"]*len(val_acc_list)\n",
    "\n",
    "accuracy_vs_epoch_df = pd.DataFrame(accuracy_vs_epoch, columns = [\"Epochs\", \"Accuracy\", \"Dataset\"])\n",
    "\n",
    "fig = px.line(accuracy_vs_epoch_df, x='Epochs', y='Accuracy', color='Dataset', markers=True, title=\"Training/Validation accuracy vs epochs\")\n",
    "plotly.offline.plot(fig, filename = save_path + \"/Plots/Accuracy.html\")\n",
    "\n",
    "with open(save_path + \"/Best validation accuracy.txt\", 'w') as f:\n",
    "    f.write(\"Best validation accuracy: \" + str(max_val_acc))"
   ]
  },
  {
   "cell_type": "markdown",
   "id": "65bf855c",
   "metadata": {},
   "source": [
    "### Get the classification metrics for the best model"
   ]
  },
  {
   "cell_type": "code",
   "execution_count": 8,
   "id": "6c9b8c30",
   "metadata": {},
   "outputs": [
    {
     "name": "stdout",
     "output_type": "stream",
     "text": [
      "Top 1 accuracy:  0.644808743169399\n",
      "Top 3 accuracy:  0.7923497267759563\n",
      "Top 5 accuracy:  0.8415300546448088\n",
      "Precision, Recall, F-1: (0.7121894845077311, 0.644808743169399, 0.6407995012179304, None)\n"
     ]
    }
   ],
   "source": [
    "best_hyperparameter_configuration = \"Hyperparameter configuration 2\"\n",
    "\n",
    "model = BertForSequenceClassification.from_pretrained(\n",
    "    \"Saved models/\" + best_hyperparameter_configuration + \"/best validation accuracy model/\",\n",
    "    local_files_only = True,\n",
    "    output_hidden_states = False, # Whether the model returns all hidden-states.\n",
    ")\n",
    "\n",
    "model.cuda()\n",
    "\n",
    "\n",
    "batch_size = 8\n",
    "\n",
    "def get_outputs(data_set):\n",
    "    # Put the model in evaluation mode\n",
    "    model.eval()\n",
    "\n",
    "    num_batches = int(len(data_set)/batch_size) + 1\n",
    "\n",
    "    total_correct = 0\n",
    "    \n",
    "    outputs = []\n",
    "    \n",
    "    all_labels = []\n",
    "    all_logits = []\n",
    "\n",
    "    for i in range(num_batches):\n",
    "\n",
    "        end_index = min(batch_size * (i+1), len(data_set))\n",
    "\n",
    "        batch = data_set[i*batch_size:end_index]\n",
    "\n",
    "        if len(batch) == 0: continue\n",
    "\n",
    "        input_id_tensors = torch.stack([data[0] for data in batch])\n",
    "        input_mask_tensors = torch.stack([data[1] for data in batch])\n",
    "        label_tensors = torch.stack([data[2] for data in batch])\n",
    "\n",
    "        # Move tensors to the GPU\n",
    "        b_input_ids = input_id_tensors.to(device)\n",
    "        b_input_mask = input_mask_tensors.to(device)\n",
    "        b_labels = label_tensors.to(device)\n",
    "\n",
    "        # Tell pytorch not to bother with constructing the compute graph during\n",
    "        # the forward pass, since this is only needed for backprop (training).\n",
    "        with torch.no_grad():        \n",
    "\n",
    "            # Forward pass, calculate logit predictions.\n",
    "            \n",
    "            outputs = model(b_input_ids, token_type_ids=None, attention_mask=b_input_mask)\n",
    "            \n",
    "            loss = outputs.loss\n",
    "            logits = outputs.logits\n",
    "\n",
    "            # Move logits and labels to CPU\n",
    "            logits = logits.detach().cpu().numpy()\n",
    "            label_ids = b_labels.to('cpu').numpy()\n",
    "\n",
    "            # Calculate the number of correctly labeled examples in batch\n",
    "            pred_flat = np.argmax(logits, axis=1).flatten()\n",
    "            labels_flat = label_ids.flatten()\n",
    "            \n",
    "            all_labels.append(labels_flat)\n",
    "            all_logits.append(logits)\n",
    "            \n",
    "    \n",
    "    all_labels = np.concatenate(all_labels)\n",
    "    all_logits = np.concatenate(all_logits)\n",
    "    \n",
    "    print(\"Top 1 accuracy: \", top_k_accuracy_score( y_true = all_labels, y_score = all_logits, k=1, labels = np.array(range(0, 20, 1)) ) )\n",
    "    print(\"Top 3 accuracy: \", top_k_accuracy_score( y_true = all_labels, y_score = all_logits, k=3, labels = np.array(range(0, 20, 1)) ) )\n",
    "    print(\"Top 5 accuracy: \", top_k_accuracy_score( y_true = all_labels, y_score = all_logits, k=5, labels = np.array(range(0, 20, 1)) ) )\n",
    "    \n",
    "    print(\"Precision, Recall, F-1:\", precision_recall_fscore_support(y_true = all_labels, y_pred = np.argmax(all_logits, axis = 1), average='weighted'))\n",
    "    \n",
    "get_outputs(test_set)"
   ]
  }
 ],
 "metadata": {
  "kernelspec": {
   "display_name": "Python [conda env:NLP]",
   "language": "python",
   "name": "conda-env-NLP-py"
  },
  "language_info": {
   "codemirror_mode": {
    "name": "ipython",
    "version": 3
   },
   "file_extension": ".py",
   "mimetype": "text/x-python",
   "name": "python",
   "nbconvert_exporter": "python",
   "pygments_lexer": "ipython3",
   "version": "3.9.7"
  }
 },
 "nbformat": 4,
 "nbformat_minor": 5
}
