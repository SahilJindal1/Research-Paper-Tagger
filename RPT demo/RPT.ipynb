{
 "cells": [
  {
   "cell_type": "markdown",
   "id": "14e4932d",
   "metadata": {},
   "source": [
    "# RPT (Research Paper Tagger)"
   ]
  },
  {
   "cell_type": "code",
   "execution_count": 1,
   "id": "206dd150",
   "metadata": {},
   "outputs": [],
   "source": [
    "import os\n",
    "import zipfile\n",
    "import json\n",
    "import random\n",
    "from tqdm import tqdm\n",
    "import plotly\n",
    "import plotly.express as px\n",
    "import plotly.graph_objects as go\n",
    "\n",
    "import numpy as np\n",
    "import pandas as pd\n",
    "\n",
    "from helpers import tokenize_and_format, flat_accuracy\n",
    "\n",
    "import torch\n",
    "from transformers import BertForSequenceClassification, AdamW, BertConfig, get_linear_schedule_with_warmup\n",
    "\n",
    "from sklearn.metrics import precision_recall_fscore_support, top_k_accuracy_score"
   ]
  },
  {
   "cell_type": "code",
   "execution_count": 2,
   "id": "3758d13e",
   "metadata": {},
   "outputs": [
    {
     "name": "stdout",
     "output_type": "stream",
     "text": [
      "Found device: NVIDIA GeForce RTX 2060 with Max-Q Design, n_gpu: 1\n"
     ]
    }
   ],
   "source": [
    "random.seed(0)\n",
    "np.random.seed(0)\n",
    "\n",
    "torch.manual_seed(0)\n",
    "torch.use_deterministic_algorithms(False)\n",
    "# Confirm that the GPU is detected\n",
    "\n",
    "assert torch.cuda.is_available()\n",
    "\n",
    "# Get the GPU device name.\n",
    "device_name = torch.cuda.get_device_name()\n",
    "n_gpu = torch.cuda.device_count()\n",
    "print(f\"Found device: {device_name}, n_gpu: {n_gpu}\")\n",
    "device = torch.device(\"cuda\")"
   ]
  },
  {
   "cell_type": "code",
   "execution_count": 3,
   "id": "71df6f14",
   "metadata": {},
   "outputs": [],
   "source": [
    "with open(\"Data/Metadata/label_string_to_ID.jsonl\", \"r\") as f:\n",
    "    label_string_to_ID = json.load(f)\n",
    "    \n",
    "with open(\"Data/Metadata/label_ID_to_string.jsonl\", \"r\") as f:\n",
    "    label_ID_to_string = json.load(f)"
   ]
  },
  {
   "cell_type": "code",
   "execution_count": 4,
   "id": "3ac3a6f0",
   "metadata": {},
   "outputs": [],
   "source": [
    "with open(\"Title.txt\", 'r', encoding='utf-8') as f:\n",
    "    title = f.read()\n",
    "    \n",
    "with open(\"Abstract.txt\", 'r', encoding='utf-8') as f:\n",
    "    abstract = f.read()\n",
    "    \n",
    "with open(\"Authors.txt\", 'r', encoding='utf-8') as f:\n",
    "    authors = f.read()"
   ]
  },
  {
   "cell_type": "code",
   "execution_count": 5,
   "id": "9aa93e0a",
   "metadata": {},
   "outputs": [],
   "source": [
    "title = title.lower()\n",
    "abstract = abstract.lower()\n",
    "authors = authors.lower()"
   ]
  },
  {
   "cell_type": "markdown",
   "id": "90675f40",
   "metadata": {},
   "source": [
    "### Bake the data"
   ]
  },
  {
   "cell_type": "code",
   "execution_count": 6,
   "id": "3e344cc2",
   "metadata": {},
   "outputs": [],
   "source": [
    "test_inputs = [title + '. ' + abstract + '. ' + authors]"
   ]
  },
  {
   "cell_type": "code",
   "execution_count": 7,
   "id": "549b0226",
   "metadata": {},
   "outputs": [],
   "source": [
    "max_seq_length = 396\n",
    "\n",
    "test_input_ids, test_attention_masks = tokenize_and_format(test_inputs, max_seq_length)"
   ]
  },
  {
   "cell_type": "code",
   "execution_count": 8,
   "id": "36a0a738",
   "metadata": {},
   "outputs": [],
   "source": [
    "test_input_ids = torch.cat(test_input_ids, dim=0)\n",
    "test_attention_masks = torch.cat(test_attention_masks, dim=0)"
   ]
  },
  {
   "cell_type": "code",
   "execution_count": 9,
   "id": "0c260bfa",
   "metadata": {},
   "outputs": [],
   "source": [
    "test_set = [(test_input_ids[i], test_attention_masks[i]) for i in range(len(test_inputs))]"
   ]
  },
  {
   "cell_type": "markdown",
   "id": "076ed4e2",
   "metadata": {},
   "source": [
    "### Get the Predictions"
   ]
  },
  {
   "cell_type": "code",
   "execution_count": 10,
   "id": "5dbdc77c",
   "metadata": {},
   "outputs": [
    {
     "name": "stdout",
     "output_type": "stream",
     "text": [
      "resources and evaluation\n",
      "generation\n",
      "nlp applications\n"
     ]
    }
   ],
   "source": [
    "best_hyperparameter_configuration = \"Hyperparameter configuration 1\"\n",
    "\n",
    "model = BertForSequenceClassification.from_pretrained(\n",
    "    \"Saved models/\" + best_hyperparameter_configuration + \"/best validation accuracy model/\",\n",
    "    local_files_only = True,\n",
    "    output_hidden_states = False, # Whether the model returns all hidden-states.\n",
    ")\n",
    "\n",
    "model.cuda()\n",
    "\n",
    "\n",
    "batch_size = 8\n",
    "\n",
    "def get_outputs(data_set):\n",
    "    # Put the model in evaluation mode\n",
    "    model.eval()\n",
    "\n",
    "    num_batches = int(len(data_set)/batch_size) + 1\n",
    "\n",
    "    total_correct = 0\n",
    "    \n",
    "    outputs = []\n",
    "    \n",
    "    all_predictions = []\n",
    "\n",
    "    for i in range(num_batches):\n",
    "\n",
    "        end_index = min(batch_size * (i+1), len(data_set))\n",
    "\n",
    "        batch = data_set[i*batch_size:end_index]\n",
    "\n",
    "        if len(batch) == 0: continue\n",
    "\n",
    "        input_id_tensors = torch.stack([data[0] for data in batch])\n",
    "        input_mask_tensors = torch.stack([data[1] for data in batch])\n",
    "\n",
    "        # Move tensors to the GPU\n",
    "        b_input_ids = input_id_tensors.to(device)\n",
    "        b_input_mask = input_mask_tensors.to(device)\n",
    "\n",
    "        # Tell pytorch not to bother with constructing the compute graph during\n",
    "        # the forward pass, since this is only needed for backprop (training).\n",
    "        with torch.no_grad():        \n",
    "\n",
    "            # Forward pass, calculate logit predictions.\n",
    "            \n",
    "            outputs = model(b_input_ids, token_type_ids=None, attention_mask=b_input_mask)\n",
    "            \n",
    "            logits = outputs.logits\n",
    "\n",
    "            # Move logits and labels to CPU\n",
    "            logits = logits.detach().cpu().numpy()\n",
    "\n",
    "            # Calculate the number of correctly labeled examples in batch\n",
    "            #pred_flat = np.argmax(logits, axis=1).flatten()\n",
    "            preds_flat = [np.argpartition(logits[0], -3)[-3:]]\n",
    "            \n",
    "            for preds in preds_flat:\n",
    "                for pred in preds:\n",
    "                    print(label_ID_to_string[str(pred)])\n",
    "\n",
    "    \n",
    "    \n",
    "get_outputs(test_set)"
   ]
  }
 ],
 "metadata": {
  "kernelspec": {
   "display_name": "Python [conda env:NLP]",
   "language": "python",
   "name": "conda-env-NLP-py"
  },
  "language_info": {
   "codemirror_mode": {
    "name": "ipython",
    "version": 3
   },
   "file_extension": ".py",
   "mimetype": "text/x-python",
   "name": "python",
   "nbconvert_exporter": "python",
   "pygments_lexer": "ipython3",
   "version": "3.9.7"
  }
 },
 "nbformat": 4,
 "nbformat_minor": 5
}
