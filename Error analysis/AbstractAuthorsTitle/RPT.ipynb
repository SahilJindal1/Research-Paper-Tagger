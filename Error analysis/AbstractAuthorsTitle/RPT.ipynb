{
 "cells": [
  {
   "cell_type": "markdown",
   "id": "14e4932d",
   "metadata": {},
   "source": [
    "# RPT (Research Paper Tagger)"
   ]
  },
  {
   "cell_type": "code",
   "execution_count": 1,
   "id": "206dd150",
   "metadata": {},
   "outputs": [],
   "source": [
    "import os\n",
    "import zipfile\n",
    "import json\n",
    "import random\n",
    "from tqdm import tqdm\n",
    "import plotly\n",
    "import plotly.express as px\n",
    "import plotly.graph_objects as go\n",
    "\n",
    "import numpy as np\n",
    "import pandas as pd\n",
    "\n",
    "from helpers import tokenize_and_format, flat_accuracy\n",
    "\n",
    "import torch\n",
    "from transformers import BertForSequenceClassification, AdamW, BertConfig, get_linear_schedule_with_warmup\n",
    "\n",
    "from sklearn.metrics import precision_recall_fscore_support, top_k_accuracy_score\n",
    "from sklearn.manifold import TSNE"
   ]
  },
  {
   "cell_type": "code",
   "execution_count": 2,
   "id": "3758d13e",
   "metadata": {},
   "outputs": [
    {
     "name": "stdout",
     "output_type": "stream",
     "text": [
      "Found device: NVIDIA GeForce RTX 2060 with Max-Q Design, n_gpu: 1\n"
     ]
    }
   ],
   "source": [
    "random.seed(0)\n",
    "np.random.seed(0)\n",
    "\n",
    "torch.manual_seed(0)\n",
    "torch.use_deterministic_algorithms(False)\n",
    "# Confirm that the GPU is detected\n",
    "\n",
    "assert torch.cuda.is_available()\n",
    "\n",
    "# Get the GPU device name.\n",
    "device_name = torch.cuda.get_device_name()\n",
    "n_gpu = torch.cuda.device_count()\n",
    "print(f\"Found device: {device_name}, n_gpu: {n_gpu}\")\n",
    "device = torch.device(\"cuda\")"
   ]
  },
  {
   "cell_type": "code",
   "execution_count": 3,
   "id": "61150200",
   "metadata": {},
   "outputs": [],
   "source": [
    "with open(\"Data/Raw data/training_data.jsonl\", \"r\") as f:\n",
    "    training_data = json.load(f)\n",
    "    \n",
    "with open(\"Data/Raw data/validation_data.jsonl\", \"r\") as f:\n",
    "    validation_data = json.load(f)\n",
    "    \n",
    "with open(\"Data/Raw data/test_data.jsonl\", \"r\") as f:\n",
    "    test_data = json.load(f)\n",
    "    \n",
    "with open(\"Data/Metadata/label_string_to_ID.jsonl\", \"r\") as f:\n",
    "    label_string_to_ID = json.load(f)\n",
    "    \n",
    "with open(\"Data/Metadata/label_ID_to_string.jsonl\", \"r\") as f:\n",
    "    label_ID_to_string = json.load(f)"
   ]
  },
  {
   "cell_type": "markdown",
   "id": "90675f40",
   "metadata": {},
   "source": [
    "### Predictions using only abstract"
   ]
  },
  {
   "cell_type": "code",
   "execution_count": 4,
   "id": "3e344cc2",
   "metadata": {},
   "outputs": [],
   "source": [
    "training_inputs = []\n",
    "training_label_strings = []\n",
    "\n",
    "validation_inputs = []\n",
    "validation_label_strings = []\n",
    "\n",
    "test_inputs = []\n",
    "test_label_strings = []\n",
    "\n",
    "for training_example in training_data:\n",
    "    \n",
    "    training_input = training_example[0][0] + '. ' + training_example[0][2] + '. ' + training_example[0][1].replace(' |', ',')\n",
    "    training_inputs.append(training_input)\n",
    "    \n",
    "    training_label_strings.append(training_example[1])\n",
    "    \n",
    "for validation_example in validation_data:\n",
    "    \n",
    "    validation_input = validation_example[0][0] + '. ' + validation_example[0][2] + '. ' + validation_example[0][1].replace(' |', ',')\n",
    "    validation_inputs.append(validation_input)\n",
    "    \n",
    "    validation_label_strings.append(validation_example[1])\n",
    "    \n",
    "for test_example in test_data:\n",
    "    \n",
    "    test_input = test_example[0][0] + '. ' + test_example[0][2] + '. ' + test_example[0][1].replace(' |', ',')\n",
    "    test_inputs.append(test_input)\n",
    "    \n",
    "    test_label_strings.append(test_example[1])"
   ]
  },
  {
   "cell_type": "code",
   "execution_count": 5,
   "id": "549b0226",
   "metadata": {},
   "outputs": [],
   "source": [
    "max_seq_length = 396\n",
    "\n",
    "training_input_ids, training_attention_masks = tokenize_and_format(training_inputs, max_seq_length)\n",
    "validation_input_ids, validation_attention_masks = tokenize_and_format(validation_inputs, max_seq_length)\n",
    "test_input_ids, test_attention_masks = tokenize_and_format(test_inputs, max_seq_length)"
   ]
  },
  {
   "cell_type": "code",
   "execution_count": 6,
   "id": "36a0a738",
   "metadata": {},
   "outputs": [],
   "source": [
    "training_label_IDs = []\n",
    "validation_label_IDs = []\n",
    "test_label_IDs = []\n",
    "\n",
    "for training_label_string in training_label_strings:\n",
    "    training_label_IDs.append(label_string_to_ID[training_label_string])\n",
    "    \n",
    "for validation_label_string in validation_label_strings:\n",
    "    validation_label_IDs.append(label_string_to_ID[validation_label_string])\n",
    "    \n",
    "for test_label_string in test_label_strings:\n",
    "    test_label_IDs.append(label_string_to_ID[test_label_string])\n",
    "    \n",
    "    \n",
    "# Convert the lists into tensors.\n",
    "training_input_ids = torch.cat(training_input_ids, dim=0)\n",
    "training_attention_masks = torch.cat(training_attention_masks, dim=0)\n",
    "training_label_IDs = torch.tensor(training_label_IDs)\n",
    "\n",
    "validation_input_ids = torch.cat(validation_input_ids, dim=0)\n",
    "validation_attention_masks = torch.cat(validation_attention_masks, dim=0)\n",
    "validation_label_IDs = torch.tensor(validation_label_IDs)\n",
    "\n",
    "test_input_ids = torch.cat(test_input_ids, dim=0)\n",
    "test_attention_masks = torch.cat(test_attention_masks, dim=0)\n",
    "test_label_IDs = torch.tensor(test_label_IDs)"
   ]
  },
  {
   "cell_type": "code",
   "execution_count": 7,
   "id": "0c260bfa",
   "metadata": {},
   "outputs": [],
   "source": [
    "train_set = [(training_input_ids[i], training_attention_masks[i], training_label_IDs[i]) for i in range(len(training_inputs))]\n",
    "val_set = [(validation_input_ids[i], validation_attention_masks[i], validation_label_IDs[i]) for i in range(len(validation_inputs))]\n",
    "test_set = [(test_input_ids[i], test_attention_masks[i], test_label_IDs[i]) for i in range(len(test_inputs))]"
   ]
  },
  {
   "cell_type": "markdown",
   "id": "076ed4e2",
   "metadata": {},
   "source": [
    "### Get the classification metrics for best model"
   ]
  },
  {
   "cell_type": "code",
   "execution_count": 8,
   "id": "5dbdc77c",
   "metadata": {},
   "outputs": [],
   "source": [
    "best_hyperparameter_configuration = \"Hyperparameter configuration 1\"\n",
    "\n",
    "model = BertForSequenceClassification.from_pretrained(\n",
    "    \"Saved models/\" + best_hyperparameter_configuration + \"/best validation accuracy model/\",\n",
    "    local_files_only = True,\n",
    "    output_hidden_states = True, # Whether the model returns all hidden-states.\n",
    ")\n",
    "\n",
    "model.cuda()\n",
    "\n",
    "\n",
    "batch_size = 8\n",
    "\n",
    "def get_outputs(data_set):\n",
    "    # Put the model in evaluation mode\n",
    "    model.eval()\n",
    "\n",
    "    num_batches = int(len(data_set)/batch_size) + 1\n",
    "\n",
    "    total_correct = 0\n",
    "    \n",
    "    outputs = []\n",
    "    \n",
    "    all_labels = []\n",
    "    all_logits = []\n",
    "    \n",
    "    CLS_vectors = []\n",
    "\n",
    "    for i in range(num_batches):\n",
    "\n",
    "        end_index = min(batch_size * (i+1), len(data_set))\n",
    "\n",
    "        batch = data_set[i*batch_size:end_index]\n",
    "\n",
    "        if len(batch) == 0: continue\n",
    "\n",
    "        input_id_tensors = torch.stack([data[0] for data in batch])\n",
    "        input_mask_tensors = torch.stack([data[1] for data in batch])\n",
    "        label_tensors = torch.stack([data[2] for data in batch])\n",
    "\n",
    "        # Move tensors to the GPU\n",
    "        b_input_ids = input_id_tensors.to(device)\n",
    "        b_input_mask = input_mask_tensors.to(device)\n",
    "        b_labels = label_tensors.to(device)\n",
    "\n",
    "        # Tell pytorch not to bother with constructing the compute graph during\n",
    "        # the forward pass, since this is only needed for backprop (training).\n",
    "        with torch.no_grad():        \n",
    "\n",
    "            # Forward pass, calculate logit predictions.\n",
    "            \n",
    "            outputs = model(b_input_ids, token_type_ids=None, attention_mask=b_input_mask)\n",
    "            \n",
    "            logits = outputs.logits\n",
    "\n",
    "            # Move logits and labels to CPU\n",
    "            logits = logits.detach().cpu().numpy()\n",
    "            label_ids = b_labels.to('cpu').numpy()\n",
    "\n",
    "            # Calculate the number of correctly labeled examples in batch\n",
    "            pred_flat = np.argmax(logits, axis=1).flatten()\n",
    "            labels_flat = label_ids.flatten()\n",
    "            \n",
    "            all_labels.append(labels_flat)\n",
    "            all_logits.append(logits)\n",
    "            CLS_vectors.append(outputs[-1][-1][:, 0, :])\n",
    "            \n",
    "    \n",
    "    all_labels = np.concatenate(all_labels)\n",
    "    \n",
    "    all_logits = np.concatenate(all_logits)\n",
    "    all_logits = np.argmax(all_logits, axis = 1)\n",
    "    \n",
    "    CLS_vectors = torch.cat(CLS_vectors).cpu().numpy()\n",
    "    \n",
    "    return (CLS_vectors, all_logits, all_labels)"
   ]
  },
  {
   "cell_type": "code",
   "execution_count": 9,
   "id": "900be98d",
   "metadata": {},
   "outputs": [],
   "source": [
    "CLS_vectors, test_predictions, test_labels = get_outputs(test_set)"
   ]
  },
  {
   "cell_type": "code",
   "execution_count": 10,
   "id": "2cdebdf2",
   "metadata": {},
   "outputs": [
    {
     "name": "stderr",
     "output_type": "stream",
     "text": [
      "C:\\Users\\arbaa\\anaconda3\\envs\\NLP\\lib\\site-packages\\sklearn\\manifold\\_t_sne.py:780: FutureWarning: The default initialization in TSNE will change from 'random' to 'pca' in 1.2.\n",
      "  warnings.warn(\n",
      "C:\\Users\\arbaa\\anaconda3\\envs\\NLP\\lib\\site-packages\\sklearn\\manifold\\_t_sne.py:790: FutureWarning: The default learning rate in TSNE will change from 200.0 to 'auto' in 1.2.\n",
      "  warnings.warn(\n"
     ]
    }
   ],
   "source": [
    "t_sne = TSNE()\n",
    "t_sne_vectors = t_sne.fit_transform(X = CLS_vectors)"
   ]
  },
  {
   "cell_type": "code",
   "execution_count": 11,
   "id": "177a28f9",
   "metadata": {},
   "outputs": [],
   "source": [
    "data_dictionary = dict()\n",
    "data_dictionary['Input'] = test_inputs\n",
    "data_dictionary['X'] = t_sne_vectors[:, 0]\n",
    "data_dictionary['Y'] = t_sne_vectors[:, 1]\n",
    "data_dictionary['predictions'] = [label_ID_to_string[str(pred)] for pred in test_predictions]\n",
    "data_dictionary['labels'] = [label_ID_to_string[str(pred)] for pred in test_labels]\n",
    "\n",
    "df = pd.DataFrame.from_dict(data_dictionary)"
   ]
  },
  {
   "cell_type": "code",
   "execution_count": 29,
   "id": "0efc0359",
   "metadata": {},
   "outputs": [],
   "source": [
    "df.to_csv(\"RPT_misclassified.csv\")"
   ]
  },
  {
   "cell_type": "code",
   "execution_count": 30,
   "id": "e592bf4c",
   "metadata": {},
   "outputs": [
    {
     "data": {
      "text/html": [
       "<div>\n",
       "<style scoped>\n",
       "    .dataframe tbody tr th:only-of-type {\n",
       "        vertical-align: middle;\n",
       "    }\n",
       "\n",
       "    .dataframe tbody tr th {\n",
       "        vertical-align: top;\n",
       "    }\n",
       "\n",
       "    .dataframe thead th {\n",
       "        text-align: right;\n",
       "    }\n",
       "</style>\n",
       "<table border=\"1\" class=\"dataframe\">\n",
       "  <thead>\n",
       "    <tr style=\"text-align: right;\">\n",
       "      <th></th>\n",
       "      <th>Input</th>\n",
       "      <th>X</th>\n",
       "      <th>Y</th>\n",
       "      <th>predictions</th>\n",
       "      <th>labels</th>\n",
       "    </tr>\n",
       "  </thead>\n",
       "  <tbody>\n",
       "    <tr>\n",
       "      <th>48</th>\n",
       "      <td>which linguist invented the lightbulb? presupp...</td>\n",
       "      <td>6.839929</td>\n",
       "      <td>7.583899</td>\n",
       "      <td>question answering</td>\n",
       "      <td>discourse and pragmatics</td>\n",
       "    </tr>\n",
       "  </tbody>\n",
       "</table>\n",
       "</div>"
      ],
      "text/plain": [
       "                                                Input         X         Y  \\\n",
       "48  which linguist invented the lightbulb? presupp...  6.839929  7.583899   \n",
       "\n",
       "           predictions                    labels  \n",
       "48  question answering  discourse and pragmatics  "
      ]
     },
     "execution_count": 30,
     "metadata": {},
     "output_type": "execute_result"
    }
   ],
   "source": [
    "df[df['X'] == 6.839929]"
   ]
  },
  {
   "cell_type": "code",
   "execution_count": 26,
   "id": "1003fb90",
   "metadata": {},
   "outputs": [
    {
     "data": {
      "application/vnd.plotly.v1+json": {
       "config": {
        "plotlyServerURL": "https://plot.ly"
       },
       "data": [
        {
         "hovertemplate": "predictions=computational social science, social media and cultural analytics<br>X=%{x}<br>Y=%{y}<extra></extra>",
         "legendgroup": "computational social science, social media and cultural analytics",
         "marker": {
          "color": "black",
          "symbol": "circle"
         },
         "mode": "markers",
         "name": "computational social science, social media and cultural analytics",
         "orientation": "v",
         "showlegend": true,
         "type": "scatter",
         "x": [
          5.404052257537842,
          3.841315269470215,
          5.192886829376221
         ],
         "xaxis": "x",
         "y": [
          -1.016556978225708,
          -1.238883137702942,
          -0.9568558931350708
         ],
         "yaxis": "y"
        },
        {
         "hovertemplate": "predictions=machine learning for nlp<br>X=%{x}<br>Y=%{y}<extra></extra>",
         "legendgroup": "machine learning for nlp",
         "marker": {
          "color": "blueviolet",
          "symbol": "circle"
         },
         "mode": "markers",
         "name": "machine learning for nlp",
         "orientation": "v",
         "showlegend": true,
         "type": "scatter",
         "x": [
          -9.78873348236084,
          -9.289685249328613,
          -9.671988487243652,
          -8.504077911376953,
          -9.358458518981934,
          -9.332139015197754,
          -8.418961524963379,
          -8.730076789855957,
          -9.698307991027832,
          -8.12747859954834,
          -9.075179100036621,
          -8.612171173095703,
          -8.268532752990723,
          -9.003002166748047,
          -8.796792030334473,
          -8.032295227050781,
          -8.633757591247559,
          -7.346230506896973
         ],
         "xaxis": "x",
         "y": [
          -0.1920807659626007,
          -1.2296571731567383,
          -2.5823473930358887,
          -1.3957263231277466,
          -1.3593418598175049,
          -0.6643185019493103,
          -1.3879364728927612,
          -0.4219781160354614,
          -2.3387084007263184,
          0.06279942393302917,
          -2.0895659923553467,
          -2.704968214035034,
          -2.875478506088257,
          -0.6498486995697021,
          -3.085465431213379,
          -2.844270944595337,
          -3.2939720153808594,
          -1.0610419511795044
         ],
         "yaxis": "y"
        },
        {
         "hovertemplate": "predictions=tagging, chunking, syntax and parsing<br>X=%{x}<br>Y=%{y}<extra></extra>",
         "legendgroup": "tagging, chunking, syntax and parsing",
         "marker": {
          "color": "chocolate",
          "symbol": "circle"
         },
         "mode": "markers",
         "name": "tagging, chunking, syntax and parsing",
         "orientation": "v",
         "showlegend": true,
         "type": "scatter",
         "x": [
          -7.479600429534912,
          -7.137081146240234,
          -7.2556376457214355,
          -7.363610744476318,
          -7.4158406257629395,
          -7.415275573730469
         ],
         "xaxis": "x",
         "y": [
          -6.637093544006348,
          -8.154791831970215,
          -5.662631988525391,
          -7.058570861816406,
          -6.87236213684082,
          -6.344747543334961
         ],
         "yaxis": "y"
        },
        {
         "hovertemplate": "predictions=information extraction, retrieval and text mining<br>X=%{x}<br>Y=%{y}<extra></extra>",
         "legendgroup": "information extraction, retrieval and text mining",
         "marker": {
          "color": "darkgray",
          "symbol": "circle"
         },
         "mode": "markers",
         "name": "information extraction, retrieval and text mining",
         "orientation": "v",
         "showlegend": true,
         "type": "scatter",
         "x": [
          -6.90955114364624,
          -5.183569431304932,
          -7.8478779792785645,
          -5.78946590423584,
          -6.229022979736328,
          -7.035764694213867,
          -7.438854694366455,
          -5.226018905639648,
          -5.659513473510742,
          -6.473413467407227,
          -7.100496292114258,
          -5.591043949127197,
          -6.453015327453613,
          -6.8950324058532715,
          -6.496481418609619,
          -6.218206405639648,
          -5.714471817016602,
          -6.129475116729736,
          -4.833367347717285,
          -6.046313762664795,
          -6.834134578704834
         ],
         "xaxis": "x",
         "y": [
          -10.499074935913086,
          -10.248146057128906,
          -9.792546272277832,
          -11.067028045654297,
          -10.084273338317871,
          -8.900238990783691,
          -10.347241401672363,
          -11.20250129699707,
          -11.346667289733887,
          -11.10962963104248,
          -9.665266036987305,
          -10.689264297485352,
          -10.132312774658203,
          -10.625662803649902,
          -11.113512992858887,
          -10.598424911499023,
          -9.98718547821045,
          -10.384502410888672,
          -10.678060531616211,
          -9.842385292053223,
          -9.1993989944458
         ],
         "yaxis": "y"
        },
        {
         "hovertemplate": "predictions=machine translation and multilinguality<br>X=%{x}<br>Y=%{y}<extra></extra>",
         "legendgroup": "machine translation and multilinguality",
         "marker": {
          "color": "dodgerblue",
          "symbol": "circle"
         },
         "mode": "markers",
         "name": "machine translation and multilinguality",
         "orientation": "v",
         "showlegend": true,
         "type": "scatter",
         "x": [
          -5.981533527374268,
          -6.377598285675049,
          -5.555886268615723,
          -6.1200385093688965,
          -5.269744873046875,
          -4.033855438232422,
          -5.52391242980957,
          -6.532057285308838,
          -5.2680439949035645,
          -6.035042762756348,
          -6.170019626617432,
          -6.544259071350098,
          -5.702218532562256,
          -6.0443878173828125,
          -6.644736289978027,
          -5.507385730743408
         ],
         "xaxis": "x",
         "y": [
          3.3959898948669434,
          4.227257251739502,
          4.34458065032959,
          4.361696243286133,
          3.476625442504883,
          3.6837973594665527,
          3.913689613342285,
          3.6582274436950684,
          4.347359657287598,
          4.383090972900391,
          3.469937801361084,
          3.9758706092834473,
          3.7252562046051025,
          3.8771612644195557,
          2.2672324180603027,
          1.2870452404022217
         ],
         "yaxis": "y"
        },
        {
         "hovertemplate": "predictions=language grounding to vision, robotics and beyond<br>X=%{x}<br>Y=%{y}<extra></extra>",
         "legendgroup": "language grounding to vision, robotics and beyond",
         "marker": {
          "color": "greenyellow",
          "symbol": "circle"
         },
         "mode": "markers",
         "name": "language grounding to vision, robotics and beyond",
         "orientation": "v",
         "showlegend": true,
         "type": "scatter",
         "x": [
          3.126526355743408,
          4.270149230957031,
          4.202428340911865,
          4.734281539916992,
          4.319811820983887,
          4.3137526512146
         ],
         "xaxis": "x",
         "y": [
          -5.350175857543945,
          -5.159066200256348,
          -5.277254104614258,
          -4.757221698760986,
          -5.261518955230713,
          -5.30795955657959
         ],
         "yaxis": "y"
        },
        {
         "hovertemplate": "predictions=semantics<br>X=%{x}<br>Y=%{y}<extra></extra>",
         "legendgroup": "semantics",
         "marker": {
          "color": "gold",
          "symbol": "circle"
         },
         "mode": "markers",
         "name": "semantics",
         "orientation": "v",
         "showlegend": true,
         "type": "scatter",
         "x": [
          -2.759826421737671,
          -2.4565510749816895,
          -2.783658027648926,
          -2.052762269973755,
          -4.556958198547363,
          -2.358095407485962,
          -2.6154322624206543,
          -3.247474193572998,
          -1.9757235050201416,
          -1.1372712850570679,
          -4.8163862228393555,
          -2.3511784076690674,
          -1.7030507326126099,
          -3.2828404903411865,
          -3.7264599800109863,
          -1.6864792108535767
         ],
         "xaxis": "x",
         "y": [
          -1.0402119159698486,
          -0.7260053753852844,
          -1.2690328359603882,
          -1.6515498161315918,
          -1.3186182975769043,
          -0.9065249562263489,
          -0.024486791342496872,
          -2.0097804069519043,
          0.24198640882968903,
          -0.050885532051324844,
          1.0328558683395386,
          -0.25118160247802734,
          -0.7823801636695862,
          -1.3055130243301392,
          -1.1096476316452026,
          -0.13148343563079834
         ],
         "yaxis": "y"
        },
        {
         "hovertemplate": "predictions=question answering<br>X=%{x}<br>Y=%{y}<extra></extra>",
         "legendgroup": "question answering",
         "marker": {
          "color": "lightgreen",
          "symbol": "circle"
         },
         "mode": "markers",
         "name": "question answering",
         "orientation": "v",
         "showlegend": true,
         "type": "scatter",
         "x": [
          6.908520221710205,
          7.262259006500244,
          6.839929103851318,
          6.589498996734619,
          7.3663716316223145,
          7.195158958435059,
          7.1480607986450195,
          7.29266357421875,
          6.302280902862549,
          7.783576488494873,
          7.215184688568115,
          6.770023822784424,
          6.094654083251953
         ],
         "xaxis": "x",
         "y": [
          7.0936503410339355,
          7.395843505859375,
          7.583898544311523,
          8.049306869506836,
          7.760405540466309,
          8.00924301147461,
          7.174429416656494,
          6.9874396324157715,
          7.757288932800293,
          7.448988437652588,
          7.808311939239502,
          7.1980509757995605,
          6.971697807312012
         ],
         "yaxis": "y"
        },
        {
         "hovertemplate": "predictions=summarization<br>X=%{x}<br>Y=%{y}<extra></extra>",
         "legendgroup": "summarization",
         "marker": {
          "color": "brown",
          "symbol": "circle"
         },
         "mode": "markers",
         "name": "summarization",
         "orientation": "v",
         "showlegend": true,
         "type": "scatter",
         "x": [
          -2.942516326904297,
          -2.857616424560547,
          -2.4744553565979004,
          -3.5163183212280273,
          -3.056138277053833,
          -2.851269006729126,
          -2.8650786876678467,
          -3.0721094608306885
         ],
         "xaxis": "x",
         "y": [
          8.057945251464844,
          7.977768898010254,
          8.040887832641602,
          7.878055095672607,
          7.98095703125,
          8.023027420043945,
          8.06736946105957,
          7.444334030151367
         ],
         "yaxis": "y"
        },
        {
         "hovertemplate": "predictions=speech and multimodality<br>X=%{x}<br>Y=%{y}<extra></extra>",
         "legendgroup": "speech and multimodality",
         "marker": {
          "color": "cyan",
          "symbol": "circle"
         },
         "mode": "markers",
         "name": "speech and multimodality",
         "orientation": "v",
         "showlegend": true,
         "type": "scatter",
         "x": [
          4.982625961303711,
          5.788230895996094,
          5.012342929840088
         ],
         "xaxis": "x",
         "y": [
          -3.254838228225708,
          -3.535092830657959,
          -3.269244432449341
         ],
         "yaxis": "y"
        },
        {
         "hovertemplate": "predictions=linguistic theories, cognitive modeling and psycholinguistics<br>X=%{x}<br>Y=%{y}<extra></extra>",
         "legendgroup": "linguistic theories, cognitive modeling and psycholinguistics",
         "marker": {
          "color": "maroon",
          "symbol": "circle"
         },
         "mode": "markers",
         "name": "linguistic theories, cognitive modeling and psycholinguistics",
         "orientation": "v",
         "showlegend": true,
         "type": "scatter",
         "x": [
          -0.5945953726768494,
          -2.8607819080352783
         ],
         "xaxis": "x",
         "y": [
          -3.888371706008911,
          -3.1250641345977783
         ],
         "yaxis": "y"
        },
        {
         "hovertemplate": "predictions=generation<br>X=%{x}<br>Y=%{y}<extra></extra>",
         "legendgroup": "generation",
         "marker": {
          "color": "olive",
          "symbol": "circle"
         },
         "mode": "markers",
         "name": "generation",
         "orientation": "v",
         "showlegend": true,
         "type": "scatter",
         "x": [
          1.9569196701049805,
          2.6043944358825684,
          2.2782516479492188,
          2.622685670852661,
          2.889116048812866,
          1.196438193321228,
          -0.2669049799442291,
          3.899123430252075,
          1.5842093229293823,
          3.175213575363159,
          3.134059429168701,
          2.3143954277038574,
          2.6131911277770996,
          2.589851140975952,
          4.204124927520752,
          1.7384289503097534,
          2.332841157913208,
          1.628541111946106,
          3.2056667804718018,
          3.280571222305298,
          2.577522039413452,
          2.3306193351745605
         ],
         "xaxis": "x",
         "y": [
          2.3948893547058105,
          3.4467830657958984,
          3.1764323711395264,
          4.420345306396484,
          3.596524953842163,
          2.7255938053131104,
          3.682196855545044,
          1.46688973903656,
          4.167375564575195,
          3.4059267044067383,
          3.260960340499878,
          3.992908239364624,
          2.8136346340179443,
          3.7924692630767822,
          3.1998934745788574,
          3.4457366466522217,
          3.7735371589660645,
          1.545013427734375,
          2.924247980117798,
          4.114018440246582,
          2.228951930999756,
          3.0405778884887695
         ],
         "yaxis": "y"
        },
        {
         "hovertemplate": "predictions=dialogue and interactive systems<br>X=%{x}<br>Y=%{y}<extra></extra>",
         "legendgroup": "dialogue and interactive systems",
         "marker": {
          "color": "red",
          "symbol": "circle"
         },
         "mode": "markers",
         "name": "dialogue and interactive systems",
         "orientation": "v",
         "showlegend": true,
         "type": "scatter",
         "x": [
          9.397072792053223,
          8.615693092346191,
          9.024316787719727,
          9.515140533447266,
          9.542482376098633,
          9.324370384216309,
          9.056472778320312,
          8.70965576171875,
          9.03974723815918,
          8.6537446975708,
          9.57663631439209,
          9.823663711547852,
          8.301952362060547,
          9.576169967651367
         ],
         "xaxis": "x",
         "y": [
          -3.5246376991271973,
          -2.5008344650268555,
          -3.2406818866729736,
          -3.6073102951049805,
          -4.1204938888549805,
          -2.9540836811065674,
          -3.955005407333374,
          -3.7606847286224365,
          -3.752558469772339,
          -3.092722177505493,
          -3.2103824615478516,
          -3.4978723526000977,
          -3.775935173034668,
          -2.8030076026916504
         ],
         "yaxis": "y"
        },
        {
         "hovertemplate": "predictions=nlp applications<br>X=%{x}<br>Y=%{y}<extra></extra>",
         "legendgroup": "nlp applications",
         "marker": {
          "color": "teal",
          "symbol": "circle"
         },
         "mode": "markers",
         "name": "nlp applications",
         "orientation": "v",
         "showlegend": true,
         "type": "scatter",
         "x": [
          1.7843400239944458,
          -0.7480331659317017,
          1.8605012893676758,
          1.8352662324905396
         ],
         "xaxis": "x",
         "y": [
          -1.604127287864685,
          3.6522037982940674,
          -2.147571563720703,
          -2.7807681560516357
         ],
         "yaxis": "y"
        },
        {
         "hovertemplate": "predictions=sentiment analysis, stylistic analysis, and argument mining<br>X=%{x}<br>Y=%{y}<extra></extra>",
         "legendgroup": "sentiment analysis, stylistic analysis, and argument mining",
         "marker": {
          "color": "violet",
          "symbol": "circle"
         },
         "mode": "markers",
         "name": "sentiment analysis, stylistic analysis, and argument mining",
         "orientation": "v",
         "showlegend": true,
         "type": "scatter",
         "x": [
          6.621963024139404,
          7.394590377807617,
          6.443504810333252,
          6.551465034484863,
          6.567083358764648,
          6.747236251831055,
          6.568500518798828
         ],
         "xaxis": "x",
         "y": [
          -7.695113182067871,
          -7.416887283325195,
          -7.516470432281494,
          -7.759902477264404,
          -7.740588188171387,
          -7.167232513427734,
          -7.7674665451049805
         ],
         "yaxis": "y"
        },
        {
         "hovertemplate": "predictions=resources and evaluation<br>X=%{x}<br>Y=%{y}<extra></extra>",
         "legendgroup": "resources and evaluation",
         "marker": {
          "color": "mediumblue",
          "symbol": "circle"
         },
         "mode": "markers",
         "name": "resources and evaluation",
         "orientation": "v",
         "showlegend": true,
         "type": "scatter",
         "x": [
          4.247198581695557,
          -0.27143049240112305,
          1.3917076587677002,
          0.10209647566080093,
          1.3688558340072632,
          1.859688401222229,
          0.9329461455345154
         ],
         "xaxis": "x",
         "y": [
          -3.102207660675049,
          -1.4610114097595215,
          -1.2672077417373657,
          -1.4415934085845947,
          -1.3945159912109375,
          -0.9412625432014465,
          -3.505955219268799
         ],
         "yaxis": "y"
        },
        {
         "hovertemplate": "predictions=ethics in nlp<br>X=%{x}<br>Y=%{y}<extra></extra>",
         "legendgroup": "ethics in nlp",
         "marker": {
          "color": "mediumpurple",
          "symbol": "circle"
         },
         "mode": "markers",
         "name": "ethics in nlp",
         "orientation": "v",
         "showlegend": true,
         "type": "scatter",
         "x": [
          -0.060851674526929855,
          -0.21402567625045776
         ],
         "xaxis": "x",
         "y": [
          -4.076372146606445,
          -4.028842926025391
         ],
         "yaxis": "y"
        },
        {
         "hovertemplate": "predictions=interpretability and analysis of models for nlp<br>X=%{x}<br>Y=%{y}<extra></extra>",
         "legendgroup": "interpretability and analysis of models for nlp",
         "marker": {
          "color": "pink",
          "symbol": "circle"
         },
         "mode": "markers",
         "name": "interpretability and analysis of models for nlp",
         "orientation": "v",
         "showlegend": true,
         "type": "scatter",
         "x": [
          -5.378454208374023,
          -5.868680477142334,
          -4.746413230895996,
          -4.070826053619385,
          -4.26148796081543,
          -6.356624603271484,
          -5.8295087814331055,
          -6.495489120483398,
          -4.3541975021362305,
          -6.621313095092773
         ],
         "xaxis": "x",
         "y": [
          -1.3765499591827393,
          -2.4351985454559326,
          -2.722566604614258,
          -2.133667469024658,
          -2.6543686389923096,
          -1.2594445943832397,
          -2.228576183319092,
          -2.018962860107422,
          -2.7124152183532715,
          -2.081052541732788
         ],
         "yaxis": "y"
        },
        {
         "hovertemplate": "predictions=discourse and pragmatics<br>X=%{x}<br>Y=%{y}<extra></extra>",
         "legendgroup": "discourse and pragmatics",
         "marker": {
          "color": "crimson",
          "symbol": "circle"
         },
         "mode": "markers",
         "name": "discourse and pragmatics",
         "orientation": "v",
         "showlegend": true,
         "type": "scatter",
         "x": [
          7.116032600402832,
          7.053833961486816,
          7.1108903884887695
         ],
         "xaxis": "x",
         "y": [
          -1.1764471530914307,
          -1.3976285457611084,
          -1.1848499774932861
         ],
         "yaxis": "y"
        },
        {
         "hovertemplate": "predictions=phonology, morphology and word segmentation<br>X=%{x}<br>Y=%{y}<extra></extra>",
         "legendgroup": "phonology, morphology and word segmentation",
         "marker": {
          "color": "orange",
          "symbol": "circle"
         },
         "mode": "markers",
         "name": "phonology, morphology and word segmentation",
         "orientation": "v",
         "showlegend": true,
         "type": "scatter",
         "x": [
          -2.3392207622528076,
          -2.3495521545410156
         ],
         "xaxis": "x",
         "y": [
          -5.258552551269531,
          -5.251153469085693
         ],
         "yaxis": "y"
        }
       ],
       "layout": {
        "legend": {
         "title": {
          "text": "predictions"
         },
         "tracegroupgap": 0
        },
        "margin": {
         "t": 60
        },
        "template": {
         "data": {
          "bar": [
           {
            "error_x": {
             "color": "#2a3f5f"
            },
            "error_y": {
             "color": "#2a3f5f"
            },
            "marker": {
             "line": {
              "color": "#E5ECF6",
              "width": 0.5
             },
             "pattern": {
              "fillmode": "overlay",
              "size": 10,
              "solidity": 0.2
             }
            },
            "type": "bar"
           }
          ],
          "barpolar": [
           {
            "marker": {
             "line": {
              "color": "#E5ECF6",
              "width": 0.5
             },
             "pattern": {
              "fillmode": "overlay",
              "size": 10,
              "solidity": 0.2
             }
            },
            "type": "barpolar"
           }
          ],
          "carpet": [
           {
            "aaxis": {
             "endlinecolor": "#2a3f5f",
             "gridcolor": "white",
             "linecolor": "white",
             "minorgridcolor": "white",
             "startlinecolor": "#2a3f5f"
            },
            "baxis": {
             "endlinecolor": "#2a3f5f",
             "gridcolor": "white",
             "linecolor": "white",
             "minorgridcolor": "white",
             "startlinecolor": "#2a3f5f"
            },
            "type": "carpet"
           }
          ],
          "choropleth": [
           {
            "colorbar": {
             "outlinewidth": 0,
             "ticks": ""
            },
            "type": "choropleth"
           }
          ],
          "contour": [
           {
            "colorbar": {
             "outlinewidth": 0,
             "ticks": ""
            },
            "colorscale": [
             [
              0,
              "#0d0887"
             ],
             [
              0.1111111111111111,
              "#46039f"
             ],
             [
              0.2222222222222222,
              "#7201a8"
             ],
             [
              0.3333333333333333,
              "#9c179e"
             ],
             [
              0.4444444444444444,
              "#bd3786"
             ],
             [
              0.5555555555555556,
              "#d8576b"
             ],
             [
              0.6666666666666666,
              "#ed7953"
             ],
             [
              0.7777777777777778,
              "#fb9f3a"
             ],
             [
              0.8888888888888888,
              "#fdca26"
             ],
             [
              1,
              "#f0f921"
             ]
            ],
            "type": "contour"
           }
          ],
          "contourcarpet": [
           {
            "colorbar": {
             "outlinewidth": 0,
             "ticks": ""
            },
            "type": "contourcarpet"
           }
          ],
          "heatmap": [
           {
            "colorbar": {
             "outlinewidth": 0,
             "ticks": ""
            },
            "colorscale": [
             [
              0,
              "#0d0887"
             ],
             [
              0.1111111111111111,
              "#46039f"
             ],
             [
              0.2222222222222222,
              "#7201a8"
             ],
             [
              0.3333333333333333,
              "#9c179e"
             ],
             [
              0.4444444444444444,
              "#bd3786"
             ],
             [
              0.5555555555555556,
              "#d8576b"
             ],
             [
              0.6666666666666666,
              "#ed7953"
             ],
             [
              0.7777777777777778,
              "#fb9f3a"
             ],
             [
              0.8888888888888888,
              "#fdca26"
             ],
             [
              1,
              "#f0f921"
             ]
            ],
            "type": "heatmap"
           }
          ],
          "heatmapgl": [
           {
            "colorbar": {
             "outlinewidth": 0,
             "ticks": ""
            },
            "colorscale": [
             [
              0,
              "#0d0887"
             ],
             [
              0.1111111111111111,
              "#46039f"
             ],
             [
              0.2222222222222222,
              "#7201a8"
             ],
             [
              0.3333333333333333,
              "#9c179e"
             ],
             [
              0.4444444444444444,
              "#bd3786"
             ],
             [
              0.5555555555555556,
              "#d8576b"
             ],
             [
              0.6666666666666666,
              "#ed7953"
             ],
             [
              0.7777777777777778,
              "#fb9f3a"
             ],
             [
              0.8888888888888888,
              "#fdca26"
             ],
             [
              1,
              "#f0f921"
             ]
            ],
            "type": "heatmapgl"
           }
          ],
          "histogram": [
           {
            "marker": {
             "pattern": {
              "fillmode": "overlay",
              "size": 10,
              "solidity": 0.2
             }
            },
            "type": "histogram"
           }
          ],
          "histogram2d": [
           {
            "colorbar": {
             "outlinewidth": 0,
             "ticks": ""
            },
            "colorscale": [
             [
              0,
              "#0d0887"
             ],
             [
              0.1111111111111111,
              "#46039f"
             ],
             [
              0.2222222222222222,
              "#7201a8"
             ],
             [
              0.3333333333333333,
              "#9c179e"
             ],
             [
              0.4444444444444444,
              "#bd3786"
             ],
             [
              0.5555555555555556,
              "#d8576b"
             ],
             [
              0.6666666666666666,
              "#ed7953"
             ],
             [
              0.7777777777777778,
              "#fb9f3a"
             ],
             [
              0.8888888888888888,
              "#fdca26"
             ],
             [
              1,
              "#f0f921"
             ]
            ],
            "type": "histogram2d"
           }
          ],
          "histogram2dcontour": [
           {
            "colorbar": {
             "outlinewidth": 0,
             "ticks": ""
            },
            "colorscale": [
             [
              0,
              "#0d0887"
             ],
             [
              0.1111111111111111,
              "#46039f"
             ],
             [
              0.2222222222222222,
              "#7201a8"
             ],
             [
              0.3333333333333333,
              "#9c179e"
             ],
             [
              0.4444444444444444,
              "#bd3786"
             ],
             [
              0.5555555555555556,
              "#d8576b"
             ],
             [
              0.6666666666666666,
              "#ed7953"
             ],
             [
              0.7777777777777778,
              "#fb9f3a"
             ],
             [
              0.8888888888888888,
              "#fdca26"
             ],
             [
              1,
              "#f0f921"
             ]
            ],
            "type": "histogram2dcontour"
           }
          ],
          "mesh3d": [
           {
            "colorbar": {
             "outlinewidth": 0,
             "ticks": ""
            },
            "type": "mesh3d"
           }
          ],
          "parcoords": [
           {
            "line": {
             "colorbar": {
              "outlinewidth": 0,
              "ticks": ""
             }
            },
            "type": "parcoords"
           }
          ],
          "pie": [
           {
            "automargin": true,
            "type": "pie"
           }
          ],
          "scatter": [
           {
            "marker": {
             "colorbar": {
              "outlinewidth": 0,
              "ticks": ""
             }
            },
            "type": "scatter"
           }
          ],
          "scatter3d": [
           {
            "line": {
             "colorbar": {
              "outlinewidth": 0,
              "ticks": ""
             }
            },
            "marker": {
             "colorbar": {
              "outlinewidth": 0,
              "ticks": ""
             }
            },
            "type": "scatter3d"
           }
          ],
          "scattercarpet": [
           {
            "marker": {
             "colorbar": {
              "outlinewidth": 0,
              "ticks": ""
             }
            },
            "type": "scattercarpet"
           }
          ],
          "scattergeo": [
           {
            "marker": {
             "colorbar": {
              "outlinewidth": 0,
              "ticks": ""
             }
            },
            "type": "scattergeo"
           }
          ],
          "scattergl": [
           {
            "marker": {
             "colorbar": {
              "outlinewidth": 0,
              "ticks": ""
             }
            },
            "type": "scattergl"
           }
          ],
          "scattermapbox": [
           {
            "marker": {
             "colorbar": {
              "outlinewidth": 0,
              "ticks": ""
             }
            },
            "type": "scattermapbox"
           }
          ],
          "scatterpolar": [
           {
            "marker": {
             "colorbar": {
              "outlinewidth": 0,
              "ticks": ""
             }
            },
            "type": "scatterpolar"
           }
          ],
          "scatterpolargl": [
           {
            "marker": {
             "colorbar": {
              "outlinewidth": 0,
              "ticks": ""
             }
            },
            "type": "scatterpolargl"
           }
          ],
          "scatterternary": [
           {
            "marker": {
             "colorbar": {
              "outlinewidth": 0,
              "ticks": ""
             }
            },
            "type": "scatterternary"
           }
          ],
          "surface": [
           {
            "colorbar": {
             "outlinewidth": 0,
             "ticks": ""
            },
            "colorscale": [
             [
              0,
              "#0d0887"
             ],
             [
              0.1111111111111111,
              "#46039f"
             ],
             [
              0.2222222222222222,
              "#7201a8"
             ],
             [
              0.3333333333333333,
              "#9c179e"
             ],
             [
              0.4444444444444444,
              "#bd3786"
             ],
             [
              0.5555555555555556,
              "#d8576b"
             ],
             [
              0.6666666666666666,
              "#ed7953"
             ],
             [
              0.7777777777777778,
              "#fb9f3a"
             ],
             [
              0.8888888888888888,
              "#fdca26"
             ],
             [
              1,
              "#f0f921"
             ]
            ],
            "type": "surface"
           }
          ],
          "table": [
           {
            "cells": {
             "fill": {
              "color": "#EBF0F8"
             },
             "line": {
              "color": "white"
             }
            },
            "header": {
             "fill": {
              "color": "#C8D4E3"
             },
             "line": {
              "color": "white"
             }
            },
            "type": "table"
           }
          ]
         },
         "layout": {
          "annotationdefaults": {
           "arrowcolor": "#2a3f5f",
           "arrowhead": 0,
           "arrowwidth": 1
          },
          "autotypenumbers": "strict",
          "coloraxis": {
           "colorbar": {
            "outlinewidth": 0,
            "ticks": ""
           }
          },
          "colorscale": {
           "diverging": [
            [
             0,
             "#8e0152"
            ],
            [
             0.1,
             "#c51b7d"
            ],
            [
             0.2,
             "#de77ae"
            ],
            [
             0.3,
             "#f1b6da"
            ],
            [
             0.4,
             "#fde0ef"
            ],
            [
             0.5,
             "#f7f7f7"
            ],
            [
             0.6,
             "#e6f5d0"
            ],
            [
             0.7,
             "#b8e186"
            ],
            [
             0.8,
             "#7fbc41"
            ],
            [
             0.9,
             "#4d9221"
            ],
            [
             1,
             "#276419"
            ]
           ],
           "sequential": [
            [
             0,
             "#0d0887"
            ],
            [
             0.1111111111111111,
             "#46039f"
            ],
            [
             0.2222222222222222,
             "#7201a8"
            ],
            [
             0.3333333333333333,
             "#9c179e"
            ],
            [
             0.4444444444444444,
             "#bd3786"
            ],
            [
             0.5555555555555556,
             "#d8576b"
            ],
            [
             0.6666666666666666,
             "#ed7953"
            ],
            [
             0.7777777777777778,
             "#fb9f3a"
            ],
            [
             0.8888888888888888,
             "#fdca26"
            ],
            [
             1,
             "#f0f921"
            ]
           ],
           "sequentialminus": [
            [
             0,
             "#0d0887"
            ],
            [
             0.1111111111111111,
             "#46039f"
            ],
            [
             0.2222222222222222,
             "#7201a8"
            ],
            [
             0.3333333333333333,
             "#9c179e"
            ],
            [
             0.4444444444444444,
             "#bd3786"
            ],
            [
             0.5555555555555556,
             "#d8576b"
            ],
            [
             0.6666666666666666,
             "#ed7953"
            ],
            [
             0.7777777777777778,
             "#fb9f3a"
            ],
            [
             0.8888888888888888,
             "#fdca26"
            ],
            [
             1,
             "#f0f921"
            ]
           ]
          },
          "colorway": [
           "#636efa",
           "#EF553B",
           "#00cc96",
           "#ab63fa",
           "#FFA15A",
           "#19d3f3",
           "#FF6692",
           "#B6E880",
           "#FF97FF",
           "#FECB52"
          ],
          "font": {
           "color": "#2a3f5f"
          },
          "geo": {
           "bgcolor": "white",
           "lakecolor": "white",
           "landcolor": "#E5ECF6",
           "showlakes": true,
           "showland": true,
           "subunitcolor": "white"
          },
          "hoverlabel": {
           "align": "left"
          },
          "hovermode": "closest",
          "mapbox": {
           "style": "light"
          },
          "paper_bgcolor": "white",
          "plot_bgcolor": "#E5ECF6",
          "polar": {
           "angularaxis": {
            "gridcolor": "white",
            "linecolor": "white",
            "ticks": ""
           },
           "bgcolor": "#E5ECF6",
           "radialaxis": {
            "gridcolor": "white",
            "linecolor": "white",
            "ticks": ""
           }
          },
          "scene": {
           "xaxis": {
            "backgroundcolor": "#E5ECF6",
            "gridcolor": "white",
            "gridwidth": 2,
            "linecolor": "white",
            "showbackground": true,
            "ticks": "",
            "zerolinecolor": "white"
           },
           "yaxis": {
            "backgroundcolor": "#E5ECF6",
            "gridcolor": "white",
            "gridwidth": 2,
            "linecolor": "white",
            "showbackground": true,
            "ticks": "",
            "zerolinecolor": "white"
           },
           "zaxis": {
            "backgroundcolor": "#E5ECF6",
            "gridcolor": "white",
            "gridwidth": 2,
            "linecolor": "white",
            "showbackground": true,
            "ticks": "",
            "zerolinecolor": "white"
           }
          },
          "shapedefaults": {
           "line": {
            "color": "#2a3f5f"
           }
          },
          "ternary": {
           "aaxis": {
            "gridcolor": "white",
            "linecolor": "white",
            "ticks": ""
           },
           "baxis": {
            "gridcolor": "white",
            "linecolor": "white",
            "ticks": ""
           },
           "bgcolor": "#E5ECF6",
           "caxis": {
            "gridcolor": "white",
            "linecolor": "white",
            "ticks": ""
           }
          },
          "title": {
           "x": 0.05
          },
          "xaxis": {
           "automargin": true,
           "gridcolor": "white",
           "linecolor": "white",
           "ticks": "",
           "title": {
            "standoff": 15
           },
           "zerolinecolor": "white",
           "zerolinewidth": 2
          },
          "yaxis": {
           "automargin": true,
           "gridcolor": "white",
           "linecolor": "white",
           "ticks": "",
           "title": {
            "standoff": 15
           },
           "zerolinecolor": "white",
           "zerolinewidth": 2
          }
         }
        },
        "xaxis": {
         "anchor": "y",
         "domain": [
          0,
          1
         ],
         "title": {
          "text": "X"
         }
        },
        "yaxis": {
         "anchor": "x",
         "domain": [
          0,
          1
         ],
         "title": {
          "text": "Y"
         }
        }
       }
      },
      "text/html": [
       "<div>                            <div id=\"b4044851-8448-46a5-ba54-fc0b7aaa4fc0\" class=\"plotly-graph-div\" style=\"height:525px; width:100%;\"></div>            <script type=\"text/javascript\">                require([\"plotly\"], function(Plotly) {                    window.PLOTLYENV=window.PLOTLYENV || {};                                    if (document.getElementById(\"b4044851-8448-46a5-ba54-fc0b7aaa4fc0\")) {                    Plotly.newPlot(                        \"b4044851-8448-46a5-ba54-fc0b7aaa4fc0\",                        [{\"hovertemplate\":\"predictions=computational social science, social media and cultural analytics<br>X=%{x}<br>Y=%{y}<extra></extra>\",\"legendgroup\":\"computational social science, social media and cultural analytics\",\"marker\":{\"color\":\"black\",\"symbol\":\"circle\"},\"mode\":\"markers\",\"name\":\"computational social science, social media and cultural analytics\",\"orientation\":\"v\",\"showlegend\":true,\"x\":[5.404052257537842,3.841315269470215,5.192886829376221],\"xaxis\":\"x\",\"y\":[-1.016556978225708,-1.238883137702942,-0.9568558931350708],\"yaxis\":\"y\",\"type\":\"scatter\"},{\"hovertemplate\":\"predictions=machine learning for nlp<br>X=%{x}<br>Y=%{y}<extra></extra>\",\"legendgroup\":\"machine learning for nlp\",\"marker\":{\"color\":\"blueviolet\",\"symbol\":\"circle\"},\"mode\":\"markers\",\"name\":\"machine learning for nlp\",\"orientation\":\"v\",\"showlegend\":true,\"x\":[-9.78873348236084,-9.289685249328613,-9.671988487243652,-8.504077911376953,-9.358458518981934,-9.332139015197754,-8.418961524963379,-8.730076789855957,-9.698307991027832,-8.12747859954834,-9.075179100036621,-8.612171173095703,-8.268532752990723,-9.003002166748047,-8.796792030334473,-8.032295227050781,-8.633757591247559,-7.346230506896973],\"xaxis\":\"x\",\"y\":[-0.1920807659626007,-1.2296571731567383,-2.5823473930358887,-1.3957263231277466,-1.3593418598175049,-0.6643185019493103,-1.3879364728927612,-0.4219781160354614,-2.3387084007263184,0.06279942393302917,-2.0895659923553467,-2.704968214035034,-2.875478506088257,-0.6498486995697021,-3.085465431213379,-2.844270944595337,-3.2939720153808594,-1.0610419511795044],\"yaxis\":\"y\",\"type\":\"scatter\"},{\"hovertemplate\":\"predictions=tagging, chunking, syntax and parsing<br>X=%{x}<br>Y=%{y}<extra></extra>\",\"legendgroup\":\"tagging, chunking, syntax and parsing\",\"marker\":{\"color\":\"chocolate\",\"symbol\":\"circle\"},\"mode\":\"markers\",\"name\":\"tagging, chunking, syntax and parsing\",\"orientation\":\"v\",\"showlegend\":true,\"x\":[-7.479600429534912,-7.137081146240234,-7.2556376457214355,-7.363610744476318,-7.4158406257629395,-7.415275573730469],\"xaxis\":\"x\",\"y\":[-6.637093544006348,-8.154791831970215,-5.662631988525391,-7.058570861816406,-6.87236213684082,-6.344747543334961],\"yaxis\":\"y\",\"type\":\"scatter\"},{\"hovertemplate\":\"predictions=information extraction, retrieval and text mining<br>X=%{x}<br>Y=%{y}<extra></extra>\",\"legendgroup\":\"information extraction, retrieval and text mining\",\"marker\":{\"color\":\"darkgray\",\"symbol\":\"circle\"},\"mode\":\"markers\",\"name\":\"information extraction, retrieval and text mining\",\"orientation\":\"v\",\"showlegend\":true,\"x\":[-6.90955114364624,-5.183569431304932,-7.8478779792785645,-5.78946590423584,-6.229022979736328,-7.035764694213867,-7.438854694366455,-5.226018905639648,-5.659513473510742,-6.473413467407227,-7.100496292114258,-5.591043949127197,-6.453015327453613,-6.8950324058532715,-6.496481418609619,-6.218206405639648,-5.714471817016602,-6.129475116729736,-4.833367347717285,-6.046313762664795,-6.834134578704834],\"xaxis\":\"x\",\"y\":[-10.499074935913086,-10.248146057128906,-9.792546272277832,-11.067028045654297,-10.084273338317871,-8.900238990783691,-10.347241401672363,-11.20250129699707,-11.346667289733887,-11.10962963104248,-9.665266036987305,-10.689264297485352,-10.132312774658203,-10.625662803649902,-11.113512992858887,-10.598424911499023,-9.98718547821045,-10.384502410888672,-10.678060531616211,-9.842385292053223,-9.1993989944458],\"yaxis\":\"y\",\"type\":\"scatter\"},{\"hovertemplate\":\"predictions=machine translation and multilinguality<br>X=%{x}<br>Y=%{y}<extra></extra>\",\"legendgroup\":\"machine translation and multilinguality\",\"marker\":{\"color\":\"dodgerblue\",\"symbol\":\"circle\"},\"mode\":\"markers\",\"name\":\"machine translation and multilinguality\",\"orientation\":\"v\",\"showlegend\":true,\"x\":[-5.981533527374268,-6.377598285675049,-5.555886268615723,-6.1200385093688965,-5.269744873046875,-4.033855438232422,-5.52391242980957,-6.532057285308838,-5.2680439949035645,-6.035042762756348,-6.170019626617432,-6.544259071350098,-5.702218532562256,-6.0443878173828125,-6.644736289978027,-5.507385730743408],\"xaxis\":\"x\",\"y\":[3.3959898948669434,4.227257251739502,4.34458065032959,4.361696243286133,3.476625442504883,3.6837973594665527,3.913689613342285,3.6582274436950684,4.347359657287598,4.383090972900391,3.469937801361084,3.9758706092834473,3.7252562046051025,3.8771612644195557,2.2672324180603027,1.2870452404022217],\"yaxis\":\"y\",\"type\":\"scatter\"},{\"hovertemplate\":\"predictions=language grounding to vision, robotics and beyond<br>X=%{x}<br>Y=%{y}<extra></extra>\",\"legendgroup\":\"language grounding to vision, robotics and beyond\",\"marker\":{\"color\":\"greenyellow\",\"symbol\":\"circle\"},\"mode\":\"markers\",\"name\":\"language grounding to vision, robotics and beyond\",\"orientation\":\"v\",\"showlegend\":true,\"x\":[3.126526355743408,4.270149230957031,4.202428340911865,4.734281539916992,4.319811820983887,4.3137526512146],\"xaxis\":\"x\",\"y\":[-5.350175857543945,-5.159066200256348,-5.277254104614258,-4.757221698760986,-5.261518955230713,-5.30795955657959],\"yaxis\":\"y\",\"type\":\"scatter\"},{\"hovertemplate\":\"predictions=semantics<br>X=%{x}<br>Y=%{y}<extra></extra>\",\"legendgroup\":\"semantics\",\"marker\":{\"color\":\"gold\",\"symbol\":\"circle\"},\"mode\":\"markers\",\"name\":\"semantics\",\"orientation\":\"v\",\"showlegend\":true,\"x\":[-2.759826421737671,-2.4565510749816895,-2.783658027648926,-2.052762269973755,-4.556958198547363,-2.358095407485962,-2.6154322624206543,-3.247474193572998,-1.9757235050201416,-1.1372712850570679,-4.8163862228393555,-2.3511784076690674,-1.7030507326126099,-3.2828404903411865,-3.7264599800109863,-1.6864792108535767],\"xaxis\":\"x\",\"y\":[-1.0402119159698486,-0.7260053753852844,-1.2690328359603882,-1.6515498161315918,-1.3186182975769043,-0.9065249562263489,-0.024486791342496872,-2.0097804069519043,0.24198640882968903,-0.050885532051324844,1.0328558683395386,-0.25118160247802734,-0.7823801636695862,-1.3055130243301392,-1.1096476316452026,-0.13148343563079834],\"yaxis\":\"y\",\"type\":\"scatter\"},{\"hovertemplate\":\"predictions=question answering<br>X=%{x}<br>Y=%{y}<extra></extra>\",\"legendgroup\":\"question answering\",\"marker\":{\"color\":\"lightgreen\",\"symbol\":\"circle\"},\"mode\":\"markers\",\"name\":\"question answering\",\"orientation\":\"v\",\"showlegend\":true,\"x\":[6.908520221710205,7.262259006500244,6.839929103851318,6.589498996734619,7.3663716316223145,7.195158958435059,7.1480607986450195,7.29266357421875,6.302280902862549,7.783576488494873,7.215184688568115,6.770023822784424,6.094654083251953],\"xaxis\":\"x\",\"y\":[7.0936503410339355,7.395843505859375,7.583898544311523,8.049306869506836,7.760405540466309,8.00924301147461,7.174429416656494,6.9874396324157715,7.757288932800293,7.448988437652588,7.808311939239502,7.1980509757995605,6.971697807312012],\"yaxis\":\"y\",\"type\":\"scatter\"},{\"hovertemplate\":\"predictions=summarization<br>X=%{x}<br>Y=%{y}<extra></extra>\",\"legendgroup\":\"summarization\",\"marker\":{\"color\":\"brown\",\"symbol\":\"circle\"},\"mode\":\"markers\",\"name\":\"summarization\",\"orientation\":\"v\",\"showlegend\":true,\"x\":[-2.942516326904297,-2.857616424560547,-2.4744553565979004,-3.5163183212280273,-3.056138277053833,-2.851269006729126,-2.8650786876678467,-3.0721094608306885],\"xaxis\":\"x\",\"y\":[8.057945251464844,7.977768898010254,8.040887832641602,7.878055095672607,7.98095703125,8.023027420043945,8.06736946105957,7.444334030151367],\"yaxis\":\"y\",\"type\":\"scatter\"},{\"hovertemplate\":\"predictions=speech and multimodality<br>X=%{x}<br>Y=%{y}<extra></extra>\",\"legendgroup\":\"speech and multimodality\",\"marker\":{\"color\":\"cyan\",\"symbol\":\"circle\"},\"mode\":\"markers\",\"name\":\"speech and multimodality\",\"orientation\":\"v\",\"showlegend\":true,\"x\":[4.982625961303711,5.788230895996094,5.012342929840088],\"xaxis\":\"x\",\"y\":[-3.254838228225708,-3.535092830657959,-3.269244432449341],\"yaxis\":\"y\",\"type\":\"scatter\"},{\"hovertemplate\":\"predictions=linguistic theories, cognitive modeling and psycholinguistics<br>X=%{x}<br>Y=%{y}<extra></extra>\",\"legendgroup\":\"linguistic theories, cognitive modeling and psycholinguistics\",\"marker\":{\"color\":\"maroon\",\"symbol\":\"circle\"},\"mode\":\"markers\",\"name\":\"linguistic theories, cognitive modeling and psycholinguistics\",\"orientation\":\"v\",\"showlegend\":true,\"x\":[-0.5945953726768494,-2.8607819080352783],\"xaxis\":\"x\",\"y\":[-3.888371706008911,-3.1250641345977783],\"yaxis\":\"y\",\"type\":\"scatter\"},{\"hovertemplate\":\"predictions=generation<br>X=%{x}<br>Y=%{y}<extra></extra>\",\"legendgroup\":\"generation\",\"marker\":{\"color\":\"olive\",\"symbol\":\"circle\"},\"mode\":\"markers\",\"name\":\"generation\",\"orientation\":\"v\",\"showlegend\":true,\"x\":[1.9569196701049805,2.6043944358825684,2.2782516479492188,2.622685670852661,2.889116048812866,1.196438193321228,-0.2669049799442291,3.899123430252075,1.5842093229293823,3.175213575363159,3.134059429168701,2.3143954277038574,2.6131911277770996,2.589851140975952,4.204124927520752,1.7384289503097534,2.332841157913208,1.628541111946106,3.2056667804718018,3.280571222305298,2.577522039413452,2.3306193351745605],\"xaxis\":\"x\",\"y\":[2.3948893547058105,3.4467830657958984,3.1764323711395264,4.420345306396484,3.596524953842163,2.7255938053131104,3.682196855545044,1.46688973903656,4.167375564575195,3.4059267044067383,3.260960340499878,3.992908239364624,2.8136346340179443,3.7924692630767822,3.1998934745788574,3.4457366466522217,3.7735371589660645,1.545013427734375,2.924247980117798,4.114018440246582,2.228951930999756,3.0405778884887695],\"yaxis\":\"y\",\"type\":\"scatter\"},{\"hovertemplate\":\"predictions=dialogue and interactive systems<br>X=%{x}<br>Y=%{y}<extra></extra>\",\"legendgroup\":\"dialogue and interactive systems\",\"marker\":{\"color\":\"red\",\"symbol\":\"circle\"},\"mode\":\"markers\",\"name\":\"dialogue and interactive systems\",\"orientation\":\"v\",\"showlegend\":true,\"x\":[9.397072792053223,8.615693092346191,9.024316787719727,9.515140533447266,9.542482376098633,9.324370384216309,9.056472778320312,8.70965576171875,9.03974723815918,8.6537446975708,9.57663631439209,9.823663711547852,8.301952362060547,9.576169967651367],\"xaxis\":\"x\",\"y\":[-3.5246376991271973,-2.5008344650268555,-3.2406818866729736,-3.6073102951049805,-4.1204938888549805,-2.9540836811065674,-3.955005407333374,-3.7606847286224365,-3.752558469772339,-3.092722177505493,-3.2103824615478516,-3.4978723526000977,-3.775935173034668,-2.8030076026916504],\"yaxis\":\"y\",\"type\":\"scatter\"},{\"hovertemplate\":\"predictions=nlp applications<br>X=%{x}<br>Y=%{y}<extra></extra>\",\"legendgroup\":\"nlp applications\",\"marker\":{\"color\":\"teal\",\"symbol\":\"circle\"},\"mode\":\"markers\",\"name\":\"nlp applications\",\"orientation\":\"v\",\"showlegend\":true,\"x\":[1.7843400239944458,-0.7480331659317017,1.8605012893676758,1.8352662324905396],\"xaxis\":\"x\",\"y\":[-1.604127287864685,3.6522037982940674,-2.147571563720703,-2.7807681560516357],\"yaxis\":\"y\",\"type\":\"scatter\"},{\"hovertemplate\":\"predictions=sentiment analysis, stylistic analysis, and argument mining<br>X=%{x}<br>Y=%{y}<extra></extra>\",\"legendgroup\":\"sentiment analysis, stylistic analysis, and argument mining\",\"marker\":{\"color\":\"violet\",\"symbol\":\"circle\"},\"mode\":\"markers\",\"name\":\"sentiment analysis, stylistic analysis, and argument mining\",\"orientation\":\"v\",\"showlegend\":true,\"x\":[6.621963024139404,7.394590377807617,6.443504810333252,6.551465034484863,6.567083358764648,6.747236251831055,6.568500518798828],\"xaxis\":\"x\",\"y\":[-7.695113182067871,-7.416887283325195,-7.516470432281494,-7.759902477264404,-7.740588188171387,-7.167232513427734,-7.7674665451049805],\"yaxis\":\"y\",\"type\":\"scatter\"},{\"hovertemplate\":\"predictions=resources and evaluation<br>X=%{x}<br>Y=%{y}<extra></extra>\",\"legendgroup\":\"resources and evaluation\",\"marker\":{\"color\":\"mediumblue\",\"symbol\":\"circle\"},\"mode\":\"markers\",\"name\":\"resources and evaluation\",\"orientation\":\"v\",\"showlegend\":true,\"x\":[4.247198581695557,-0.27143049240112305,1.3917076587677002,0.10209647566080093,1.3688558340072632,1.859688401222229,0.9329461455345154],\"xaxis\":\"x\",\"y\":[-3.102207660675049,-1.4610114097595215,-1.2672077417373657,-1.4415934085845947,-1.3945159912109375,-0.9412625432014465,-3.505955219268799],\"yaxis\":\"y\",\"type\":\"scatter\"},{\"hovertemplate\":\"predictions=ethics in nlp<br>X=%{x}<br>Y=%{y}<extra></extra>\",\"legendgroup\":\"ethics in nlp\",\"marker\":{\"color\":\"mediumpurple\",\"symbol\":\"circle\"},\"mode\":\"markers\",\"name\":\"ethics in nlp\",\"orientation\":\"v\",\"showlegend\":true,\"x\":[-0.060851674526929855,-0.21402567625045776],\"xaxis\":\"x\",\"y\":[-4.076372146606445,-4.028842926025391],\"yaxis\":\"y\",\"type\":\"scatter\"},{\"hovertemplate\":\"predictions=interpretability and analysis of models for nlp<br>X=%{x}<br>Y=%{y}<extra></extra>\",\"legendgroup\":\"interpretability and analysis of models for nlp\",\"marker\":{\"color\":\"pink\",\"symbol\":\"circle\"},\"mode\":\"markers\",\"name\":\"interpretability and analysis of models for nlp\",\"orientation\":\"v\",\"showlegend\":true,\"x\":[-5.378454208374023,-5.868680477142334,-4.746413230895996,-4.070826053619385,-4.26148796081543,-6.356624603271484,-5.8295087814331055,-6.495489120483398,-4.3541975021362305,-6.621313095092773],\"xaxis\":\"x\",\"y\":[-1.3765499591827393,-2.4351985454559326,-2.722566604614258,-2.133667469024658,-2.6543686389923096,-1.2594445943832397,-2.228576183319092,-2.018962860107422,-2.7124152183532715,-2.081052541732788],\"yaxis\":\"y\",\"type\":\"scatter\"},{\"hovertemplate\":\"predictions=discourse and pragmatics<br>X=%{x}<br>Y=%{y}<extra></extra>\",\"legendgroup\":\"discourse and pragmatics\",\"marker\":{\"color\":\"crimson\",\"symbol\":\"circle\"},\"mode\":\"markers\",\"name\":\"discourse and pragmatics\",\"orientation\":\"v\",\"showlegend\":true,\"x\":[7.116032600402832,7.053833961486816,7.1108903884887695],\"xaxis\":\"x\",\"y\":[-1.1764471530914307,-1.3976285457611084,-1.1848499774932861],\"yaxis\":\"y\",\"type\":\"scatter\"},{\"hovertemplate\":\"predictions=phonology, morphology and word segmentation<br>X=%{x}<br>Y=%{y}<extra></extra>\",\"legendgroup\":\"phonology, morphology and word segmentation\",\"marker\":{\"color\":\"orange\",\"symbol\":\"circle\"},\"mode\":\"markers\",\"name\":\"phonology, morphology and word segmentation\",\"orientation\":\"v\",\"showlegend\":true,\"x\":[-2.3392207622528076,-2.3495521545410156],\"xaxis\":\"x\",\"y\":[-5.258552551269531,-5.251153469085693],\"yaxis\":\"y\",\"type\":\"scatter\"}],                        {\"template\":{\"data\":{\"bar\":[{\"error_x\":{\"color\":\"#2a3f5f\"},\"error_y\":{\"color\":\"#2a3f5f\"},\"marker\":{\"line\":{\"color\":\"#E5ECF6\",\"width\":0.5},\"pattern\":{\"fillmode\":\"overlay\",\"size\":10,\"solidity\":0.2}},\"type\":\"bar\"}],\"barpolar\":[{\"marker\":{\"line\":{\"color\":\"#E5ECF6\",\"width\":0.5},\"pattern\":{\"fillmode\":\"overlay\",\"size\":10,\"solidity\":0.2}},\"type\":\"barpolar\"}],\"carpet\":[{\"aaxis\":{\"endlinecolor\":\"#2a3f5f\",\"gridcolor\":\"white\",\"linecolor\":\"white\",\"minorgridcolor\":\"white\",\"startlinecolor\":\"#2a3f5f\"},\"baxis\":{\"endlinecolor\":\"#2a3f5f\",\"gridcolor\":\"white\",\"linecolor\":\"white\",\"minorgridcolor\":\"white\",\"startlinecolor\":\"#2a3f5f\"},\"type\":\"carpet\"}],\"choropleth\":[{\"colorbar\":{\"outlinewidth\":0,\"ticks\":\"\"},\"type\":\"choropleth\"}],\"contour\":[{\"colorbar\":{\"outlinewidth\":0,\"ticks\":\"\"},\"colorscale\":[[0.0,\"#0d0887\"],[0.1111111111111111,\"#46039f\"],[0.2222222222222222,\"#7201a8\"],[0.3333333333333333,\"#9c179e\"],[0.4444444444444444,\"#bd3786\"],[0.5555555555555556,\"#d8576b\"],[0.6666666666666666,\"#ed7953\"],[0.7777777777777778,\"#fb9f3a\"],[0.8888888888888888,\"#fdca26\"],[1.0,\"#f0f921\"]],\"type\":\"contour\"}],\"contourcarpet\":[{\"colorbar\":{\"outlinewidth\":0,\"ticks\":\"\"},\"type\":\"contourcarpet\"}],\"heatmap\":[{\"colorbar\":{\"outlinewidth\":0,\"ticks\":\"\"},\"colorscale\":[[0.0,\"#0d0887\"],[0.1111111111111111,\"#46039f\"],[0.2222222222222222,\"#7201a8\"],[0.3333333333333333,\"#9c179e\"],[0.4444444444444444,\"#bd3786\"],[0.5555555555555556,\"#d8576b\"],[0.6666666666666666,\"#ed7953\"],[0.7777777777777778,\"#fb9f3a\"],[0.8888888888888888,\"#fdca26\"],[1.0,\"#f0f921\"]],\"type\":\"heatmap\"}],\"heatmapgl\":[{\"colorbar\":{\"outlinewidth\":0,\"ticks\":\"\"},\"colorscale\":[[0.0,\"#0d0887\"],[0.1111111111111111,\"#46039f\"],[0.2222222222222222,\"#7201a8\"],[0.3333333333333333,\"#9c179e\"],[0.4444444444444444,\"#bd3786\"],[0.5555555555555556,\"#d8576b\"],[0.6666666666666666,\"#ed7953\"],[0.7777777777777778,\"#fb9f3a\"],[0.8888888888888888,\"#fdca26\"],[1.0,\"#f0f921\"]],\"type\":\"heatmapgl\"}],\"histogram\":[{\"marker\":{\"pattern\":{\"fillmode\":\"overlay\",\"size\":10,\"solidity\":0.2}},\"type\":\"histogram\"}],\"histogram2d\":[{\"colorbar\":{\"outlinewidth\":0,\"ticks\":\"\"},\"colorscale\":[[0.0,\"#0d0887\"],[0.1111111111111111,\"#46039f\"],[0.2222222222222222,\"#7201a8\"],[0.3333333333333333,\"#9c179e\"],[0.4444444444444444,\"#bd3786\"],[0.5555555555555556,\"#d8576b\"],[0.6666666666666666,\"#ed7953\"],[0.7777777777777778,\"#fb9f3a\"],[0.8888888888888888,\"#fdca26\"],[1.0,\"#f0f921\"]],\"type\":\"histogram2d\"}],\"histogram2dcontour\":[{\"colorbar\":{\"outlinewidth\":0,\"ticks\":\"\"},\"colorscale\":[[0.0,\"#0d0887\"],[0.1111111111111111,\"#46039f\"],[0.2222222222222222,\"#7201a8\"],[0.3333333333333333,\"#9c179e\"],[0.4444444444444444,\"#bd3786\"],[0.5555555555555556,\"#d8576b\"],[0.6666666666666666,\"#ed7953\"],[0.7777777777777778,\"#fb9f3a\"],[0.8888888888888888,\"#fdca26\"],[1.0,\"#f0f921\"]],\"type\":\"histogram2dcontour\"}],\"mesh3d\":[{\"colorbar\":{\"outlinewidth\":0,\"ticks\":\"\"},\"type\":\"mesh3d\"}],\"parcoords\":[{\"line\":{\"colorbar\":{\"outlinewidth\":0,\"ticks\":\"\"}},\"type\":\"parcoords\"}],\"pie\":[{\"automargin\":true,\"type\":\"pie\"}],\"scatter\":[{\"marker\":{\"colorbar\":{\"outlinewidth\":0,\"ticks\":\"\"}},\"type\":\"scatter\"}],\"scatter3d\":[{\"line\":{\"colorbar\":{\"outlinewidth\":0,\"ticks\":\"\"}},\"marker\":{\"colorbar\":{\"outlinewidth\":0,\"ticks\":\"\"}},\"type\":\"scatter3d\"}],\"scattercarpet\":[{\"marker\":{\"colorbar\":{\"outlinewidth\":0,\"ticks\":\"\"}},\"type\":\"scattercarpet\"}],\"scattergeo\":[{\"marker\":{\"colorbar\":{\"outlinewidth\":0,\"ticks\":\"\"}},\"type\":\"scattergeo\"}],\"scattergl\":[{\"marker\":{\"colorbar\":{\"outlinewidth\":0,\"ticks\":\"\"}},\"type\":\"scattergl\"}],\"scattermapbox\":[{\"marker\":{\"colorbar\":{\"outlinewidth\":0,\"ticks\":\"\"}},\"type\":\"scattermapbox\"}],\"scatterpolar\":[{\"marker\":{\"colorbar\":{\"outlinewidth\":0,\"ticks\":\"\"}},\"type\":\"scatterpolar\"}],\"scatterpolargl\":[{\"marker\":{\"colorbar\":{\"outlinewidth\":0,\"ticks\":\"\"}},\"type\":\"scatterpolargl\"}],\"scatterternary\":[{\"marker\":{\"colorbar\":{\"outlinewidth\":0,\"ticks\":\"\"}},\"type\":\"scatterternary\"}],\"surface\":[{\"colorbar\":{\"outlinewidth\":0,\"ticks\":\"\"},\"colorscale\":[[0.0,\"#0d0887\"],[0.1111111111111111,\"#46039f\"],[0.2222222222222222,\"#7201a8\"],[0.3333333333333333,\"#9c179e\"],[0.4444444444444444,\"#bd3786\"],[0.5555555555555556,\"#d8576b\"],[0.6666666666666666,\"#ed7953\"],[0.7777777777777778,\"#fb9f3a\"],[0.8888888888888888,\"#fdca26\"],[1.0,\"#f0f921\"]],\"type\":\"surface\"}],\"table\":[{\"cells\":{\"fill\":{\"color\":\"#EBF0F8\"},\"line\":{\"color\":\"white\"}},\"header\":{\"fill\":{\"color\":\"#C8D4E3\"},\"line\":{\"color\":\"white\"}},\"type\":\"table\"}]},\"layout\":{\"annotationdefaults\":{\"arrowcolor\":\"#2a3f5f\",\"arrowhead\":0,\"arrowwidth\":1},\"autotypenumbers\":\"strict\",\"coloraxis\":{\"colorbar\":{\"outlinewidth\":0,\"ticks\":\"\"}},\"colorscale\":{\"diverging\":[[0,\"#8e0152\"],[0.1,\"#c51b7d\"],[0.2,\"#de77ae\"],[0.3,\"#f1b6da\"],[0.4,\"#fde0ef\"],[0.5,\"#f7f7f7\"],[0.6,\"#e6f5d0\"],[0.7,\"#b8e186\"],[0.8,\"#7fbc41\"],[0.9,\"#4d9221\"],[1,\"#276419\"]],\"sequential\":[[0.0,\"#0d0887\"],[0.1111111111111111,\"#46039f\"],[0.2222222222222222,\"#7201a8\"],[0.3333333333333333,\"#9c179e\"],[0.4444444444444444,\"#bd3786\"],[0.5555555555555556,\"#d8576b\"],[0.6666666666666666,\"#ed7953\"],[0.7777777777777778,\"#fb9f3a\"],[0.8888888888888888,\"#fdca26\"],[1.0,\"#f0f921\"]],\"sequentialminus\":[[0.0,\"#0d0887\"],[0.1111111111111111,\"#46039f\"],[0.2222222222222222,\"#7201a8\"],[0.3333333333333333,\"#9c179e\"],[0.4444444444444444,\"#bd3786\"],[0.5555555555555556,\"#d8576b\"],[0.6666666666666666,\"#ed7953\"],[0.7777777777777778,\"#fb9f3a\"],[0.8888888888888888,\"#fdca26\"],[1.0,\"#f0f921\"]]},\"colorway\":[\"#636efa\",\"#EF553B\",\"#00cc96\",\"#ab63fa\",\"#FFA15A\",\"#19d3f3\",\"#FF6692\",\"#B6E880\",\"#FF97FF\",\"#FECB52\"],\"font\":{\"color\":\"#2a3f5f\"},\"geo\":{\"bgcolor\":\"white\",\"lakecolor\":\"white\",\"landcolor\":\"#E5ECF6\",\"showlakes\":true,\"showland\":true,\"subunitcolor\":\"white\"},\"hoverlabel\":{\"align\":\"left\"},\"hovermode\":\"closest\",\"mapbox\":{\"style\":\"light\"},\"paper_bgcolor\":\"white\",\"plot_bgcolor\":\"#E5ECF6\",\"polar\":{\"angularaxis\":{\"gridcolor\":\"white\",\"linecolor\":\"white\",\"ticks\":\"\"},\"bgcolor\":\"#E5ECF6\",\"radialaxis\":{\"gridcolor\":\"white\",\"linecolor\":\"white\",\"ticks\":\"\"}},\"scene\":{\"xaxis\":{\"backgroundcolor\":\"#E5ECF6\",\"gridcolor\":\"white\",\"gridwidth\":2,\"linecolor\":\"white\",\"showbackground\":true,\"ticks\":\"\",\"zerolinecolor\":\"white\"},\"yaxis\":{\"backgroundcolor\":\"#E5ECF6\",\"gridcolor\":\"white\",\"gridwidth\":2,\"linecolor\":\"white\",\"showbackground\":true,\"ticks\":\"\",\"zerolinecolor\":\"white\"},\"zaxis\":{\"backgroundcolor\":\"#E5ECF6\",\"gridcolor\":\"white\",\"gridwidth\":2,\"linecolor\":\"white\",\"showbackground\":true,\"ticks\":\"\",\"zerolinecolor\":\"white\"}},\"shapedefaults\":{\"line\":{\"color\":\"#2a3f5f\"}},\"ternary\":{\"aaxis\":{\"gridcolor\":\"white\",\"linecolor\":\"white\",\"ticks\":\"\"},\"baxis\":{\"gridcolor\":\"white\",\"linecolor\":\"white\",\"ticks\":\"\"},\"bgcolor\":\"#E5ECF6\",\"caxis\":{\"gridcolor\":\"white\",\"linecolor\":\"white\",\"ticks\":\"\"}},\"title\":{\"x\":0.05},\"xaxis\":{\"automargin\":true,\"gridcolor\":\"white\",\"linecolor\":\"white\",\"ticks\":\"\",\"title\":{\"standoff\":15},\"zerolinecolor\":\"white\",\"zerolinewidth\":2},\"yaxis\":{\"automargin\":true,\"gridcolor\":\"white\",\"linecolor\":\"white\",\"ticks\":\"\",\"title\":{\"standoff\":15},\"zerolinecolor\":\"white\",\"zerolinewidth\":2}}},\"xaxis\":{\"anchor\":\"y\",\"domain\":[0.0,1.0],\"title\":{\"text\":\"X\"}},\"yaxis\":{\"anchor\":\"x\",\"domain\":[0.0,1.0],\"title\":{\"text\":\"Y\"}},\"legend\":{\"title\":{\"text\":\"predictions\"},\"tracegroupgap\":0},\"margin\":{\"t\":60}},                        {\"responsive\": true}                    ).then(function(){\n",
       "                            \n",
       "var gd = document.getElementById('b4044851-8448-46a5-ba54-fc0b7aaa4fc0');\n",
       "var x = new MutationObserver(function (mutations, observer) {{\n",
       "        var display = window.getComputedStyle(gd).display;\n",
       "        if (!display || display === 'none') {{\n",
       "            console.log([gd, 'removed!']);\n",
       "            Plotly.purge(gd);\n",
       "            observer.disconnect();\n",
       "        }}\n",
       "}});\n",
       "\n",
       "// Listen for the removal of the full notebook cells\n",
       "var notebookContainer = gd.closest('#notebook-container');\n",
       "if (notebookContainer) {{\n",
       "    x.observe(notebookContainer, {childList: true});\n",
       "}}\n",
       "\n",
       "// Listen for the clearing of the current output cell\n",
       "var outputEl = gd.closest('.output');\n",
       "if (outputEl) {{\n",
       "    x.observe(outputEl, {childList: true});\n",
       "}}\n",
       "\n",
       "                        })                };                });            </script>        </div>"
      ]
     },
     "metadata": {},
     "output_type": "display_data"
    }
   ],
   "source": [
    "fig = px.scatter(df, x=\"X\", y=\"Y\", color = \"predictions\", color_discrete_sequence=[\"black\", \"blueviolet\", \"chocolate\", \"darkgray\", \"dodgerblue\", \"greenyellow\", \"gold\", \"lightgreen\", \"brown\", \"cyan\", \"maroon\", \"olive\", \"red\", \"teal\", \"violet\", \"mediumblue\", \"mediumpurple\", \"pink\", \"crimson\", \"orange\"])\n",
    "\n",
    "\n",
    "fig.show()\n",
    "#plotly.offline.plot(fig, filename = \"predictions_cluster.html\")\n",
    "#fig.write_image(\"predictions_cluster.png\")"
   ]
  },
  {
   "cell_type": "code",
   "execution_count": 27,
   "id": "ea5e31c2",
   "metadata": {},
   "outputs": [
    {
     "data": {
      "application/vnd.plotly.v1+json": {
       "config": {
        "plotlyServerURL": "https://plot.ly"
       },
       "data": [
        {
         "hovertemplate": "labels=computational social science, social media and cultural analytics<br>X=%{x}<br>Y=%{y}<extra></extra>",
         "legendgroup": "computational social science, social media and cultural analytics",
         "marker": {
          "color": "black",
          "symbol": "circle"
         },
         "mode": "markers",
         "name": "computational social science, social media and cultural analytics",
         "orientation": "v",
         "showlegend": true,
         "type": "scatter",
         "x": [
          5.404052257537842,
          3.841315269470215,
          -0.21402567625045776,
          5.192886829376221,
          1.859688401222229,
          0.9329461455345154,
          1.8605012893676758
         ],
         "xaxis": "x",
         "y": [
          -1.016556978225708,
          -1.238883137702942,
          -4.028842926025391,
          -0.9568558931350708,
          -0.9412625432014465,
          -3.505955219268799,
          -2.147571563720703
         ],
         "yaxis": "y"
        },
        {
         "hovertemplate": "labels=resources and evaluation<br>X=%{x}<br>Y=%{y}<extra></extra>",
         "legendgroup": "resources and evaluation",
         "marker": {
          "color": "blueviolet",
          "symbol": "circle"
         },
         "mode": "markers",
         "name": "resources and evaluation",
         "orientation": "v",
         "showlegend": true,
         "type": "scatter",
         "x": [
          -9.78873348236084,
          4.247198581695557,
          -4.556958198547363,
          -0.27143049240112305,
          -0.2669049799442291,
          8.70965576171875,
          1.3917076587677002,
          0.10209647566080093,
          2.577522039413452,
          9.576169967651367
         ],
         "xaxis": "x",
         "y": [
          -0.1920807659626007,
          -3.102207660675049,
          -1.3186182975769043,
          -1.4610114097595215,
          3.682196855545044,
          -3.7606847286224365,
          -1.2672077417373657,
          -1.4415934085845947,
          2.228951930999756,
          -2.8030076026916504
         ],
         "yaxis": "y"
        },
        {
         "hovertemplate": "labels=tagging, chunking, syntax and parsing<br>X=%{x}<br>Y=%{y}<extra></extra>",
         "legendgroup": "tagging, chunking, syntax and parsing",
         "marker": {
          "color": "chocolate",
          "symbol": "circle"
         },
         "mode": "markers",
         "name": "tagging, chunking, syntax and parsing",
         "orientation": "v",
         "showlegend": true,
         "type": "scatter",
         "x": [
          -7.479600429534912,
          -6.229022979736328,
          -7.2556376457214355,
          -7.363610744476318,
          -7.4158406257629395,
          -7.415275573730469
         ],
         "xaxis": "x",
         "y": [
          -6.637093544006348,
          -10.084273338317871,
          -5.662631988525391,
          -7.058570861816406,
          -6.87236213684082,
          -6.344747543334961
         ],
         "yaxis": "y"
        },
        {
         "hovertemplate": "labels=information extraction, retrieval and text mining<br>X=%{x}<br>Y=%{y}<extra></extra>",
         "legendgroup": "information extraction, retrieval and text mining",
         "marker": {
          "color": "darkgray",
          "symbol": "circle"
         },
         "mode": "markers",
         "name": "information extraction, retrieval and text mining",
         "orientation": "v",
         "showlegend": true,
         "type": "scatter",
         "x": [
          -6.90955114364624,
          -5.183569431304932,
          -2.052762269973755,
          -7.8478779792785645,
          -5.78946590423584,
          -7.035764694213867,
          -5.226018905639648,
          -5.659513473510742,
          -6.473413467407227,
          -7.100496292114258,
          -5.591043949127197,
          -6.453015327453613,
          -6.8950324058532715,
          -6.218206405639648,
          -6.129475116729736,
          -4.833367347717285,
          -6.046313762664795,
          -6.834134578704834
         ],
         "xaxis": "x",
         "y": [
          -10.499074935913086,
          -10.248146057128906,
          -1.6515498161315918,
          -9.792546272277832,
          -11.067028045654297,
          -8.900238990783691,
          -11.20250129699707,
          -11.346667289733887,
          -11.10962963104248,
          -9.665266036987305,
          -10.689264297485352,
          -10.132312774658203,
          -10.625662803649902,
          -10.598424911499023,
          -10.384502410888672,
          -10.678060531616211,
          -9.842385292053223,
          -9.1993989944458
         ],
         "yaxis": "y"
        },
        {
         "hovertemplate": "labels=machine translation and multilinguality<br>X=%{x}<br>Y=%{y}<extra></extra>",
         "legendgroup": "machine translation and multilinguality",
         "marker": {
          "color": "dodgerblue",
          "symbol": "circle"
         },
         "mode": "markers",
         "name": "machine translation and multilinguality",
         "orientation": "v",
         "showlegend": true,
         "type": "scatter",
         "x": [
          -5.981533527374268,
          -5.555886268615723,
          -6.1200385093688965,
          -5.269744873046875,
          -5.378454208374023,
          -4.033855438232422,
          -5.52391242980957,
          -6.532057285308838,
          -5.868680477142334,
          -5.2680439949035645,
          -2.3392207622528076,
          -6.035042762756348,
          1.7384289503097534,
          -6.170019626617432,
          -6.544259071350098,
          -5.702218532562256,
          -6.0443878173828125,
          5.012342929840088,
          -6.644736289978027
         ],
         "xaxis": "x",
         "y": [
          3.3959898948669434,
          4.34458065032959,
          4.361696243286133,
          3.476625442504883,
          -1.3765499591827393,
          3.6837973594665527,
          3.913689613342285,
          3.6582274436950684,
          -2.4351985454559326,
          4.347359657287598,
          -5.258552551269531,
          4.383090972900391,
          3.4457366466522217,
          3.469937801361084,
          3.9758706092834473,
          3.7252562046051025,
          3.8771612644195557,
          -3.269244432449341,
          2.2672324180603027
         ],
         "yaxis": "y"
        },
        {
         "hovertemplate": "labels=language grounding to vision, robotics and beyond<br>X=%{x}<br>Y=%{y}<extra></extra>",
         "legendgroup": "language grounding to vision, robotics and beyond",
         "marker": {
          "color": "greenyellow",
          "symbol": "circle"
         },
         "mode": "markers",
         "name": "language grounding to vision, robotics and beyond",
         "orientation": "v",
         "showlegend": true,
         "type": "scatter",
         "x": [
          3.126526355743408,
          4.270149230957031,
          4.202428340911865,
          4.319811820983887,
          7.783576488494873,
          4.3137526512146
         ],
         "xaxis": "x",
         "y": [
          -5.350175857543945,
          -5.159066200256348,
          -5.277254104614258,
          -5.261518955230713,
          7.448988437652588,
          -5.30795955657959
         ],
         "yaxis": "y"
        },
        {
         "hovertemplate": "labels=semantics<br>X=%{x}<br>Y=%{y}<extra></extra>",
         "legendgroup": "semantics",
         "marker": {
          "color": "gold",
          "symbol": "circle"
         },
         "mode": "markers",
         "name": "semantics",
         "orientation": "v",
         "showlegend": true,
         "type": "scatter",
         "x": [
          -2.759826421737671,
          -2.4565510749816895,
          1.7843400239944458,
          -2.783658027648926,
          -2.358095407485962,
          -2.6154322624206543,
          -3.247474193572998,
          -4.8163862228393555,
          -6.496481418609619,
          -4.070826053619385,
          -1.7030507326126099,
          -5.714471817016602,
          -8.032295227050781,
          -4.3541975021362305,
          -3.7264599800109863,
          -1.6864792108535767,
          -5.507385730743408
         ],
         "xaxis": "x",
         "y": [
          -1.0402119159698486,
          -0.7260053753852844,
          -1.604127287864685,
          -1.2690328359603882,
          -0.9065249562263489,
          -0.024486791342496872,
          -2.0097804069519043,
          1.0328558683395386,
          -11.113512992858887,
          -2.133667469024658,
          -0.7823801636695862,
          -9.98718547821045,
          -2.844270944595337,
          -2.7124152183532715,
          -1.1096476316452026,
          -0.13148343563079834,
          1.2870452404022217
         ],
         "yaxis": "y"
        },
        {
         "hovertemplate": "labels=question answering<br>X=%{x}<br>Y=%{y}<extra></extra>",
         "legendgroup": "question answering",
         "marker": {
          "color": "lightgreen",
          "symbol": "circle"
         },
         "mode": "markers",
         "name": "question answering",
         "orientation": "v",
         "showlegend": true,
         "type": "scatter",
         "x": [
          6.908520221710205,
          7.262259006500244,
          6.589498996734619,
          7.3663716316223145,
          7.195158958435059,
          7.1480607986450195,
          7.29266357421875,
          6.302280902862549,
          7.215184688568115,
          6.770023822784424
         ],
         "xaxis": "x",
         "y": [
          7.0936503410339355,
          7.395843505859375,
          8.049306869506836,
          7.760405540466309,
          8.00924301147461,
          7.174429416656494,
          6.9874396324157715,
          7.757288932800293,
          7.808311939239502,
          7.1980509757995605
         ],
         "yaxis": "y"
        },
        {
         "hovertemplate": "labels=phonology, morphology and word segmentation<br>X=%{x}<br>Y=%{y}<extra></extra>",
         "legendgroup": "phonology, morphology and word segmentation",
         "marker": {
          "color": "brown",
          "symbol": "circle"
         },
         "mode": "markers",
         "name": "phonology, morphology and word segmentation",
         "orientation": "v",
         "showlegend": true,
         "type": "scatter",
         "x": [
          -6.377598285675049,
          -2.3495521545410156,
          -3.2828404903411865
         ],
         "xaxis": "x",
         "y": [
          4.227257251739502,
          -5.251153469085693,
          -1.3055130243301392
         ],
         "yaxis": "y"
        },
        {
         "hovertemplate": "labels=summarization<br>X=%{x}<br>Y=%{y}<extra></extra>",
         "legendgroup": "summarization",
         "marker": {
          "color": "cyan",
          "symbol": "circle"
         },
         "mode": "markers",
         "name": "summarization",
         "orientation": "v",
         "showlegend": true,
         "type": "scatter",
         "x": [
          -2.942516326904297,
          -2.857616424560547,
          -2.4744553565979004,
          -3.056138277053833,
          -2.851269006729126,
          -2.8650786876678467,
          -3.0721094608306885
         ],
         "xaxis": "x",
         "y": [
          8.057945251464844,
          7.977768898010254,
          8.040887832641602,
          7.98095703125,
          8.023027420043945,
          8.06736946105957,
          7.444334030151367
         ],
         "yaxis": "y"
        },
        {
         "hovertemplate": "labels=speech and multimodality<br>X=%{x}<br>Y=%{y}<extra></extra>",
         "legendgroup": "speech and multimodality",
         "marker": {
          "color": "maroon",
          "symbol": "circle"
         },
         "mode": "markers",
         "name": "speech and multimodality",
         "orientation": "v",
         "showlegend": true,
         "type": "scatter",
         "x": [
          4.982625961303711,
          -9.671988487243652,
          3.899123430252075
         ],
         "xaxis": "x",
         "y": [
          -3.254838228225708,
          -2.5823473930358887,
          1.46688973903656
         ],
         "yaxis": "y"
        },
        {
         "hovertemplate": "labels=ethics in nlp<br>X=%{x}<br>Y=%{y}<extra></extra>",
         "legendgroup": "ethics in nlp",
         "marker": {
          "color": "olive",
          "symbol": "circle"
         },
         "mode": "markers",
         "name": "ethics in nlp",
         "orientation": "v",
         "showlegend": true,
         "type": "scatter",
         "x": [
          -0.5945953726768494,
          -0.060851674526929855
         ],
         "xaxis": "x",
         "y": [
          -3.888371706008911,
          -4.076372146606445
         ],
         "yaxis": "y"
        },
        {
         "hovertemplate": "labels=sentiment analysis, stylistic analysis, and argument mining<br>X=%{x}<br>Y=%{y}<extra></extra>",
         "legendgroup": "sentiment analysis, stylistic analysis, and argument mining",
         "marker": {
          "color": "red",
          "symbol": "circle"
         },
         "mode": "markers",
         "name": "sentiment analysis, stylistic analysis, and argument mining",
         "orientation": "v",
         "showlegend": true,
         "type": "scatter",
         "x": [
          1.9569196701049805,
          6.621963024139404,
          7.394590377807617,
          6.551465034484863,
          6.567083358764648,
          6.747236251831055,
          3.280571222305298,
          6.568500518798828
         ],
         "xaxis": "x",
         "y": [
          2.3948893547058105,
          -7.695113182067871,
          -7.416887283325195,
          -7.759902477264404,
          -7.740588188171387,
          -7.167232513427734,
          4.114018440246582,
          -7.7674665451049805
         ],
         "yaxis": "y"
        },
        {
         "hovertemplate": "labels=linguistic theories, cognitive modeling and psycholinguistics<br>X=%{x}<br>Y=%{y}<extra></extra>",
         "legendgroup": "linguistic theories, cognitive modeling and psycholinguistics",
         "marker": {
          "color": "teal",
          "symbol": "circle"
         },
         "mode": "markers",
         "name": "linguistic theories, cognitive modeling and psycholinguistics",
         "orientation": "v",
         "showlegend": true,
         "type": "scatter",
         "x": [
          -2.8607819080352783,
          4.734281539916992,
          -4.746413230895996,
          -4.26148796081543
         ],
         "xaxis": "x",
         "y": [
          -3.1250641345977783,
          -4.757221698760986,
          -2.722566604614258,
          -2.6543686389923096
         ],
         "yaxis": "y"
        },
        {
         "hovertemplate": "labels=machine learning for nlp<br>X=%{x}<br>Y=%{y}<extra></extra>",
         "legendgroup": "machine learning for nlp",
         "marker": {
          "color": "violet",
          "symbol": "circle"
         },
         "mode": "markers",
         "name": "machine learning for nlp",
         "orientation": "v",
         "showlegend": true,
         "type": "scatter",
         "x": [
          2.6043944358825684,
          -7.137081146240234,
          -9.289685249328613,
          -7.438854694366455,
          -8.504077911376953,
          -9.358458518981934,
          -9.332139015197754,
          -8.418961524963379,
          -8.730076789855957,
          -9.698307991027832,
          -8.12747859954834,
          -8.612171173095703,
          -8.268532752990723,
          -9.003002166748047,
          -6.495489120483398,
          -8.633757591247559,
          -7.346230506896973
         ],
         "xaxis": "x",
         "y": [
          3.4467830657958984,
          -8.154791831970215,
          -1.2296571731567383,
          -10.347241401672363,
          -1.3957263231277466,
          -1.3593418598175049,
          -0.6643185019493103,
          -1.3879364728927612,
          -0.4219781160354614,
          -2.3387084007263184,
          0.06279942393302917,
          -2.704968214035034,
          -2.875478506088257,
          -0.6498486995697021,
          -2.018962860107422,
          -3.2939720153808594,
          -1.0610419511795044
         ],
         "yaxis": "y"
        },
        {
         "hovertemplate": "labels=dialogue and interactive systems<br>X=%{x}<br>Y=%{y}<extra></extra>",
         "legendgroup": "dialogue and interactive systems",
         "marker": {
          "color": "mediumblue",
          "symbol": "circle"
         },
         "mode": "markers",
         "name": "dialogue and interactive systems",
         "orientation": "v",
         "showlegend": true,
         "type": "scatter",
         "x": [
          9.397072792053223,
          8.615693092346191,
          9.024316787719727,
          9.515140533447266,
          9.542482376098633,
          6.443504810333252,
          5.788230895996094,
          9.324370384216309,
          9.056472778320312,
          9.03974723815918,
          7.053833961486816,
          8.6537446975708,
          9.57663631439209,
          9.823663711547852,
          8.301952362060547
         ],
         "xaxis": "x",
         "y": [
          -3.5246376991271973,
          -2.5008344650268555,
          -3.2406818866729736,
          -3.6073102951049805,
          -4.1204938888549805,
          -7.516470432281494,
          -3.535092830657959,
          -2.9540836811065674,
          -3.955005407333374,
          -3.752558469772339,
          -1.3976285457611084,
          -3.092722177505493,
          -3.2103824615478516,
          -3.4978723526000977,
          -3.775935173034668
         ],
         "yaxis": "y"
        },
        {
         "hovertemplate": "labels=generation<br>X=%{x}<br>Y=%{y}<extra></extra>",
         "legendgroup": "generation",
         "marker": {
          "color": "mediumpurple",
          "symbol": "circle"
         },
         "mode": "markers",
         "name": "generation",
         "orientation": "v",
         "showlegend": true,
         "type": "scatter",
         "x": [
          2.2782516479492188,
          2.622685670852661,
          2.889116048812866,
          3.175213575363159,
          3.134059429168701,
          2.6131911277770996,
          2.589851140975952,
          4.204124927520752,
          2.332841157913208,
          3.2056667804718018,
          2.3306193351745605
         ],
         "xaxis": "x",
         "y": [
          3.1764323711395264,
          4.420345306396484,
          3.596524953842163,
          3.4059267044067383,
          3.260960340499878,
          2.8136346340179443,
          3.7924692630767822,
          3.1998934745788574,
          3.7735371589660645,
          2.924247980117798,
          3.0405778884887695
         ],
         "yaxis": "y"
        },
        {
         "hovertemplate": "labels=interpretability and analysis of models for nlp<br>X=%{x}<br>Y=%{y}<extra></extra>",
         "legendgroup": "interpretability and analysis of models for nlp",
         "marker": {
          "color": "pink",
          "symbol": "circle"
         },
         "mode": "markers",
         "name": "interpretability and analysis of models for nlp",
         "orientation": "v",
         "showlegend": true,
         "type": "scatter",
         "x": [
          1.196438193321228,
          -6.356624603271484,
          -5.8295087814331055,
          -8.796792030334473,
          -6.621313095092773
         ],
         "xaxis": "x",
         "y": [
          2.7255938053131104,
          -1.2594445943832397,
          -2.228576183319092,
          -3.085465431213379,
          -2.081052541732788
         ],
         "yaxis": "y"
        },
        {
         "hovertemplate": "labels=discourse and pragmatics<br>X=%{x}<br>Y=%{y}<extra></extra>",
         "legendgroup": "discourse and pragmatics",
         "marker": {
          "color": "crimson",
          "symbol": "circle"
         },
         "mode": "markers",
         "name": "discourse and pragmatics",
         "orientation": "v",
         "showlegend": true,
         "type": "scatter",
         "x": [
          6.839929103851318,
          1.5842093229293823,
          7.116032600402832,
          7.1108903884887695
         ],
         "xaxis": "x",
         "y": [
          7.583898544311523,
          4.167375564575195,
          -1.1764471530914307,
          -1.1848499774932861
         ],
         "yaxis": "y"
        },
        {
         "hovertemplate": "labels=nlp applications<br>X=%{x}<br>Y=%{y}<extra></extra>",
         "legendgroup": "nlp applications",
         "marker": {
          "color": "orange",
          "symbol": "circle"
         },
         "mode": "markers",
         "name": "nlp applications",
         "orientation": "v",
         "showlegend": true,
         "type": "scatter",
         "x": [
          -3.5163183212280273,
          -1.9757235050201416,
          -1.1372712850570679,
          2.3143954277038574,
          -2.3511784076690674,
          -9.075179100036621,
          -0.7480331659317017,
          1.628541111946106,
          1.3688558340072632,
          1.8352662324905396,
          6.094654083251953
         ],
         "xaxis": "x",
         "y": [
          7.878055095672607,
          0.24198640882968903,
          -0.050885532051324844,
          3.992908239364624,
          -0.25118160247802734,
          -2.0895659923553467,
          3.6522037982940674,
          1.545013427734375,
          -1.3945159912109375,
          -2.7807681560516357,
          6.971697807312012
         ],
         "yaxis": "y"
        }
       ],
       "layout": {
        "legend": {
         "title": {
          "text": "labels"
         },
         "tracegroupgap": 0
        },
        "margin": {
         "t": 60
        },
        "template": {
         "data": {
          "bar": [
           {
            "error_x": {
             "color": "#2a3f5f"
            },
            "error_y": {
             "color": "#2a3f5f"
            },
            "marker": {
             "line": {
              "color": "#E5ECF6",
              "width": 0.5
             },
             "pattern": {
              "fillmode": "overlay",
              "size": 10,
              "solidity": 0.2
             }
            },
            "type": "bar"
           }
          ],
          "barpolar": [
           {
            "marker": {
             "line": {
              "color": "#E5ECF6",
              "width": 0.5
             },
             "pattern": {
              "fillmode": "overlay",
              "size": 10,
              "solidity": 0.2
             }
            },
            "type": "barpolar"
           }
          ],
          "carpet": [
           {
            "aaxis": {
             "endlinecolor": "#2a3f5f",
             "gridcolor": "white",
             "linecolor": "white",
             "minorgridcolor": "white",
             "startlinecolor": "#2a3f5f"
            },
            "baxis": {
             "endlinecolor": "#2a3f5f",
             "gridcolor": "white",
             "linecolor": "white",
             "minorgridcolor": "white",
             "startlinecolor": "#2a3f5f"
            },
            "type": "carpet"
           }
          ],
          "choropleth": [
           {
            "colorbar": {
             "outlinewidth": 0,
             "ticks": ""
            },
            "type": "choropleth"
           }
          ],
          "contour": [
           {
            "colorbar": {
             "outlinewidth": 0,
             "ticks": ""
            },
            "colorscale": [
             [
              0,
              "#0d0887"
             ],
             [
              0.1111111111111111,
              "#46039f"
             ],
             [
              0.2222222222222222,
              "#7201a8"
             ],
             [
              0.3333333333333333,
              "#9c179e"
             ],
             [
              0.4444444444444444,
              "#bd3786"
             ],
             [
              0.5555555555555556,
              "#d8576b"
             ],
             [
              0.6666666666666666,
              "#ed7953"
             ],
             [
              0.7777777777777778,
              "#fb9f3a"
             ],
             [
              0.8888888888888888,
              "#fdca26"
             ],
             [
              1,
              "#f0f921"
             ]
            ],
            "type": "contour"
           }
          ],
          "contourcarpet": [
           {
            "colorbar": {
             "outlinewidth": 0,
             "ticks": ""
            },
            "type": "contourcarpet"
           }
          ],
          "heatmap": [
           {
            "colorbar": {
             "outlinewidth": 0,
             "ticks": ""
            },
            "colorscale": [
             [
              0,
              "#0d0887"
             ],
             [
              0.1111111111111111,
              "#46039f"
             ],
             [
              0.2222222222222222,
              "#7201a8"
             ],
             [
              0.3333333333333333,
              "#9c179e"
             ],
             [
              0.4444444444444444,
              "#bd3786"
             ],
             [
              0.5555555555555556,
              "#d8576b"
             ],
             [
              0.6666666666666666,
              "#ed7953"
             ],
             [
              0.7777777777777778,
              "#fb9f3a"
             ],
             [
              0.8888888888888888,
              "#fdca26"
             ],
             [
              1,
              "#f0f921"
             ]
            ],
            "type": "heatmap"
           }
          ],
          "heatmapgl": [
           {
            "colorbar": {
             "outlinewidth": 0,
             "ticks": ""
            },
            "colorscale": [
             [
              0,
              "#0d0887"
             ],
             [
              0.1111111111111111,
              "#46039f"
             ],
             [
              0.2222222222222222,
              "#7201a8"
             ],
             [
              0.3333333333333333,
              "#9c179e"
             ],
             [
              0.4444444444444444,
              "#bd3786"
             ],
             [
              0.5555555555555556,
              "#d8576b"
             ],
             [
              0.6666666666666666,
              "#ed7953"
             ],
             [
              0.7777777777777778,
              "#fb9f3a"
             ],
             [
              0.8888888888888888,
              "#fdca26"
             ],
             [
              1,
              "#f0f921"
             ]
            ],
            "type": "heatmapgl"
           }
          ],
          "histogram": [
           {
            "marker": {
             "pattern": {
              "fillmode": "overlay",
              "size": 10,
              "solidity": 0.2
             }
            },
            "type": "histogram"
           }
          ],
          "histogram2d": [
           {
            "colorbar": {
             "outlinewidth": 0,
             "ticks": ""
            },
            "colorscale": [
             [
              0,
              "#0d0887"
             ],
             [
              0.1111111111111111,
              "#46039f"
             ],
             [
              0.2222222222222222,
              "#7201a8"
             ],
             [
              0.3333333333333333,
              "#9c179e"
             ],
             [
              0.4444444444444444,
              "#bd3786"
             ],
             [
              0.5555555555555556,
              "#d8576b"
             ],
             [
              0.6666666666666666,
              "#ed7953"
             ],
             [
              0.7777777777777778,
              "#fb9f3a"
             ],
             [
              0.8888888888888888,
              "#fdca26"
             ],
             [
              1,
              "#f0f921"
             ]
            ],
            "type": "histogram2d"
           }
          ],
          "histogram2dcontour": [
           {
            "colorbar": {
             "outlinewidth": 0,
             "ticks": ""
            },
            "colorscale": [
             [
              0,
              "#0d0887"
             ],
             [
              0.1111111111111111,
              "#46039f"
             ],
             [
              0.2222222222222222,
              "#7201a8"
             ],
             [
              0.3333333333333333,
              "#9c179e"
             ],
             [
              0.4444444444444444,
              "#bd3786"
             ],
             [
              0.5555555555555556,
              "#d8576b"
             ],
             [
              0.6666666666666666,
              "#ed7953"
             ],
             [
              0.7777777777777778,
              "#fb9f3a"
             ],
             [
              0.8888888888888888,
              "#fdca26"
             ],
             [
              1,
              "#f0f921"
             ]
            ],
            "type": "histogram2dcontour"
           }
          ],
          "mesh3d": [
           {
            "colorbar": {
             "outlinewidth": 0,
             "ticks": ""
            },
            "type": "mesh3d"
           }
          ],
          "parcoords": [
           {
            "line": {
             "colorbar": {
              "outlinewidth": 0,
              "ticks": ""
             }
            },
            "type": "parcoords"
           }
          ],
          "pie": [
           {
            "automargin": true,
            "type": "pie"
           }
          ],
          "scatter": [
           {
            "marker": {
             "colorbar": {
              "outlinewidth": 0,
              "ticks": ""
             }
            },
            "type": "scatter"
           }
          ],
          "scatter3d": [
           {
            "line": {
             "colorbar": {
              "outlinewidth": 0,
              "ticks": ""
             }
            },
            "marker": {
             "colorbar": {
              "outlinewidth": 0,
              "ticks": ""
             }
            },
            "type": "scatter3d"
           }
          ],
          "scattercarpet": [
           {
            "marker": {
             "colorbar": {
              "outlinewidth": 0,
              "ticks": ""
             }
            },
            "type": "scattercarpet"
           }
          ],
          "scattergeo": [
           {
            "marker": {
             "colorbar": {
              "outlinewidth": 0,
              "ticks": ""
             }
            },
            "type": "scattergeo"
           }
          ],
          "scattergl": [
           {
            "marker": {
             "colorbar": {
              "outlinewidth": 0,
              "ticks": ""
             }
            },
            "type": "scattergl"
           }
          ],
          "scattermapbox": [
           {
            "marker": {
             "colorbar": {
              "outlinewidth": 0,
              "ticks": ""
             }
            },
            "type": "scattermapbox"
           }
          ],
          "scatterpolar": [
           {
            "marker": {
             "colorbar": {
              "outlinewidth": 0,
              "ticks": ""
             }
            },
            "type": "scatterpolar"
           }
          ],
          "scatterpolargl": [
           {
            "marker": {
             "colorbar": {
              "outlinewidth": 0,
              "ticks": ""
             }
            },
            "type": "scatterpolargl"
           }
          ],
          "scatterternary": [
           {
            "marker": {
             "colorbar": {
              "outlinewidth": 0,
              "ticks": ""
             }
            },
            "type": "scatterternary"
           }
          ],
          "surface": [
           {
            "colorbar": {
             "outlinewidth": 0,
             "ticks": ""
            },
            "colorscale": [
             [
              0,
              "#0d0887"
             ],
             [
              0.1111111111111111,
              "#46039f"
             ],
             [
              0.2222222222222222,
              "#7201a8"
             ],
             [
              0.3333333333333333,
              "#9c179e"
             ],
             [
              0.4444444444444444,
              "#bd3786"
             ],
             [
              0.5555555555555556,
              "#d8576b"
             ],
             [
              0.6666666666666666,
              "#ed7953"
             ],
             [
              0.7777777777777778,
              "#fb9f3a"
             ],
             [
              0.8888888888888888,
              "#fdca26"
             ],
             [
              1,
              "#f0f921"
             ]
            ],
            "type": "surface"
           }
          ],
          "table": [
           {
            "cells": {
             "fill": {
              "color": "#EBF0F8"
             },
             "line": {
              "color": "white"
             }
            },
            "header": {
             "fill": {
              "color": "#C8D4E3"
             },
             "line": {
              "color": "white"
             }
            },
            "type": "table"
           }
          ]
         },
         "layout": {
          "annotationdefaults": {
           "arrowcolor": "#2a3f5f",
           "arrowhead": 0,
           "arrowwidth": 1
          },
          "autotypenumbers": "strict",
          "coloraxis": {
           "colorbar": {
            "outlinewidth": 0,
            "ticks": ""
           }
          },
          "colorscale": {
           "diverging": [
            [
             0,
             "#8e0152"
            ],
            [
             0.1,
             "#c51b7d"
            ],
            [
             0.2,
             "#de77ae"
            ],
            [
             0.3,
             "#f1b6da"
            ],
            [
             0.4,
             "#fde0ef"
            ],
            [
             0.5,
             "#f7f7f7"
            ],
            [
             0.6,
             "#e6f5d0"
            ],
            [
             0.7,
             "#b8e186"
            ],
            [
             0.8,
             "#7fbc41"
            ],
            [
             0.9,
             "#4d9221"
            ],
            [
             1,
             "#276419"
            ]
           ],
           "sequential": [
            [
             0,
             "#0d0887"
            ],
            [
             0.1111111111111111,
             "#46039f"
            ],
            [
             0.2222222222222222,
             "#7201a8"
            ],
            [
             0.3333333333333333,
             "#9c179e"
            ],
            [
             0.4444444444444444,
             "#bd3786"
            ],
            [
             0.5555555555555556,
             "#d8576b"
            ],
            [
             0.6666666666666666,
             "#ed7953"
            ],
            [
             0.7777777777777778,
             "#fb9f3a"
            ],
            [
             0.8888888888888888,
             "#fdca26"
            ],
            [
             1,
             "#f0f921"
            ]
           ],
           "sequentialminus": [
            [
             0,
             "#0d0887"
            ],
            [
             0.1111111111111111,
             "#46039f"
            ],
            [
             0.2222222222222222,
             "#7201a8"
            ],
            [
             0.3333333333333333,
             "#9c179e"
            ],
            [
             0.4444444444444444,
             "#bd3786"
            ],
            [
             0.5555555555555556,
             "#d8576b"
            ],
            [
             0.6666666666666666,
             "#ed7953"
            ],
            [
             0.7777777777777778,
             "#fb9f3a"
            ],
            [
             0.8888888888888888,
             "#fdca26"
            ],
            [
             1,
             "#f0f921"
            ]
           ]
          },
          "colorway": [
           "#636efa",
           "#EF553B",
           "#00cc96",
           "#ab63fa",
           "#FFA15A",
           "#19d3f3",
           "#FF6692",
           "#B6E880",
           "#FF97FF",
           "#FECB52"
          ],
          "font": {
           "color": "#2a3f5f"
          },
          "geo": {
           "bgcolor": "white",
           "lakecolor": "white",
           "landcolor": "#E5ECF6",
           "showlakes": true,
           "showland": true,
           "subunitcolor": "white"
          },
          "hoverlabel": {
           "align": "left"
          },
          "hovermode": "closest",
          "mapbox": {
           "style": "light"
          },
          "paper_bgcolor": "white",
          "plot_bgcolor": "#E5ECF6",
          "polar": {
           "angularaxis": {
            "gridcolor": "white",
            "linecolor": "white",
            "ticks": ""
           },
           "bgcolor": "#E5ECF6",
           "radialaxis": {
            "gridcolor": "white",
            "linecolor": "white",
            "ticks": ""
           }
          },
          "scene": {
           "xaxis": {
            "backgroundcolor": "#E5ECF6",
            "gridcolor": "white",
            "gridwidth": 2,
            "linecolor": "white",
            "showbackground": true,
            "ticks": "",
            "zerolinecolor": "white"
           },
           "yaxis": {
            "backgroundcolor": "#E5ECF6",
            "gridcolor": "white",
            "gridwidth": 2,
            "linecolor": "white",
            "showbackground": true,
            "ticks": "",
            "zerolinecolor": "white"
           },
           "zaxis": {
            "backgroundcolor": "#E5ECF6",
            "gridcolor": "white",
            "gridwidth": 2,
            "linecolor": "white",
            "showbackground": true,
            "ticks": "",
            "zerolinecolor": "white"
           }
          },
          "shapedefaults": {
           "line": {
            "color": "#2a3f5f"
           }
          },
          "ternary": {
           "aaxis": {
            "gridcolor": "white",
            "linecolor": "white",
            "ticks": ""
           },
           "baxis": {
            "gridcolor": "white",
            "linecolor": "white",
            "ticks": ""
           },
           "bgcolor": "#E5ECF6",
           "caxis": {
            "gridcolor": "white",
            "linecolor": "white",
            "ticks": ""
           }
          },
          "title": {
           "x": 0.05
          },
          "xaxis": {
           "automargin": true,
           "gridcolor": "white",
           "linecolor": "white",
           "ticks": "",
           "title": {
            "standoff": 15
           },
           "zerolinecolor": "white",
           "zerolinewidth": 2
          },
          "yaxis": {
           "automargin": true,
           "gridcolor": "white",
           "linecolor": "white",
           "ticks": "",
           "title": {
            "standoff": 15
           },
           "zerolinecolor": "white",
           "zerolinewidth": 2
          }
         }
        },
        "xaxis": {
         "anchor": "y",
         "domain": [
          0,
          1
         ],
         "title": {
          "text": "X"
         }
        },
        "yaxis": {
         "anchor": "x",
         "domain": [
          0,
          1
         ],
         "title": {
          "text": "Y"
         }
        }
       }
      },
      "text/html": [
       "<div>                            <div id=\"52ec2738-0d83-4736-879d-f39a67bbff78\" class=\"plotly-graph-div\" style=\"height:525px; width:100%;\"></div>            <script type=\"text/javascript\">                require([\"plotly\"], function(Plotly) {                    window.PLOTLYENV=window.PLOTLYENV || {};                                    if (document.getElementById(\"52ec2738-0d83-4736-879d-f39a67bbff78\")) {                    Plotly.newPlot(                        \"52ec2738-0d83-4736-879d-f39a67bbff78\",                        [{\"hovertemplate\":\"labels=computational social science, social media and cultural analytics<br>X=%{x}<br>Y=%{y}<extra></extra>\",\"legendgroup\":\"computational social science, social media and cultural analytics\",\"marker\":{\"color\":\"black\",\"symbol\":\"circle\"},\"mode\":\"markers\",\"name\":\"computational social science, social media and cultural analytics\",\"orientation\":\"v\",\"showlegend\":true,\"x\":[5.404052257537842,3.841315269470215,-0.21402567625045776,5.192886829376221,1.859688401222229,0.9329461455345154,1.8605012893676758],\"xaxis\":\"x\",\"y\":[-1.016556978225708,-1.238883137702942,-4.028842926025391,-0.9568558931350708,-0.9412625432014465,-3.505955219268799,-2.147571563720703],\"yaxis\":\"y\",\"type\":\"scatter\"},{\"hovertemplate\":\"labels=resources and evaluation<br>X=%{x}<br>Y=%{y}<extra></extra>\",\"legendgroup\":\"resources and evaluation\",\"marker\":{\"color\":\"blueviolet\",\"symbol\":\"circle\"},\"mode\":\"markers\",\"name\":\"resources and evaluation\",\"orientation\":\"v\",\"showlegend\":true,\"x\":[-9.78873348236084,4.247198581695557,-4.556958198547363,-0.27143049240112305,-0.2669049799442291,8.70965576171875,1.3917076587677002,0.10209647566080093,2.577522039413452,9.576169967651367],\"xaxis\":\"x\",\"y\":[-0.1920807659626007,-3.102207660675049,-1.3186182975769043,-1.4610114097595215,3.682196855545044,-3.7606847286224365,-1.2672077417373657,-1.4415934085845947,2.228951930999756,-2.8030076026916504],\"yaxis\":\"y\",\"type\":\"scatter\"},{\"hovertemplate\":\"labels=tagging, chunking, syntax and parsing<br>X=%{x}<br>Y=%{y}<extra></extra>\",\"legendgroup\":\"tagging, chunking, syntax and parsing\",\"marker\":{\"color\":\"chocolate\",\"symbol\":\"circle\"},\"mode\":\"markers\",\"name\":\"tagging, chunking, syntax and parsing\",\"orientation\":\"v\",\"showlegend\":true,\"x\":[-7.479600429534912,-6.229022979736328,-7.2556376457214355,-7.363610744476318,-7.4158406257629395,-7.415275573730469],\"xaxis\":\"x\",\"y\":[-6.637093544006348,-10.084273338317871,-5.662631988525391,-7.058570861816406,-6.87236213684082,-6.344747543334961],\"yaxis\":\"y\",\"type\":\"scatter\"},{\"hovertemplate\":\"labels=information extraction, retrieval and text mining<br>X=%{x}<br>Y=%{y}<extra></extra>\",\"legendgroup\":\"information extraction, retrieval and text mining\",\"marker\":{\"color\":\"darkgray\",\"symbol\":\"circle\"},\"mode\":\"markers\",\"name\":\"information extraction, retrieval and text mining\",\"orientation\":\"v\",\"showlegend\":true,\"x\":[-6.90955114364624,-5.183569431304932,-2.052762269973755,-7.8478779792785645,-5.78946590423584,-7.035764694213867,-5.226018905639648,-5.659513473510742,-6.473413467407227,-7.100496292114258,-5.591043949127197,-6.453015327453613,-6.8950324058532715,-6.218206405639648,-6.129475116729736,-4.833367347717285,-6.046313762664795,-6.834134578704834],\"xaxis\":\"x\",\"y\":[-10.499074935913086,-10.248146057128906,-1.6515498161315918,-9.792546272277832,-11.067028045654297,-8.900238990783691,-11.20250129699707,-11.346667289733887,-11.10962963104248,-9.665266036987305,-10.689264297485352,-10.132312774658203,-10.625662803649902,-10.598424911499023,-10.384502410888672,-10.678060531616211,-9.842385292053223,-9.1993989944458],\"yaxis\":\"y\",\"type\":\"scatter\"},{\"hovertemplate\":\"labels=machine translation and multilinguality<br>X=%{x}<br>Y=%{y}<extra></extra>\",\"legendgroup\":\"machine translation and multilinguality\",\"marker\":{\"color\":\"dodgerblue\",\"symbol\":\"circle\"},\"mode\":\"markers\",\"name\":\"machine translation and multilinguality\",\"orientation\":\"v\",\"showlegend\":true,\"x\":[-5.981533527374268,-5.555886268615723,-6.1200385093688965,-5.269744873046875,-5.378454208374023,-4.033855438232422,-5.52391242980957,-6.532057285308838,-5.868680477142334,-5.2680439949035645,-2.3392207622528076,-6.035042762756348,1.7384289503097534,-6.170019626617432,-6.544259071350098,-5.702218532562256,-6.0443878173828125,5.012342929840088,-6.644736289978027],\"xaxis\":\"x\",\"y\":[3.3959898948669434,4.34458065032959,4.361696243286133,3.476625442504883,-1.3765499591827393,3.6837973594665527,3.913689613342285,3.6582274436950684,-2.4351985454559326,4.347359657287598,-5.258552551269531,4.383090972900391,3.4457366466522217,3.469937801361084,3.9758706092834473,3.7252562046051025,3.8771612644195557,-3.269244432449341,2.2672324180603027],\"yaxis\":\"y\",\"type\":\"scatter\"},{\"hovertemplate\":\"labels=language grounding to vision, robotics and beyond<br>X=%{x}<br>Y=%{y}<extra></extra>\",\"legendgroup\":\"language grounding to vision, robotics and beyond\",\"marker\":{\"color\":\"greenyellow\",\"symbol\":\"circle\"},\"mode\":\"markers\",\"name\":\"language grounding to vision, robotics and beyond\",\"orientation\":\"v\",\"showlegend\":true,\"x\":[3.126526355743408,4.270149230957031,4.202428340911865,4.319811820983887,7.783576488494873,4.3137526512146],\"xaxis\":\"x\",\"y\":[-5.350175857543945,-5.159066200256348,-5.277254104614258,-5.261518955230713,7.448988437652588,-5.30795955657959],\"yaxis\":\"y\",\"type\":\"scatter\"},{\"hovertemplate\":\"labels=semantics<br>X=%{x}<br>Y=%{y}<extra></extra>\",\"legendgroup\":\"semantics\",\"marker\":{\"color\":\"gold\",\"symbol\":\"circle\"},\"mode\":\"markers\",\"name\":\"semantics\",\"orientation\":\"v\",\"showlegend\":true,\"x\":[-2.759826421737671,-2.4565510749816895,1.7843400239944458,-2.783658027648926,-2.358095407485962,-2.6154322624206543,-3.247474193572998,-4.8163862228393555,-6.496481418609619,-4.070826053619385,-1.7030507326126099,-5.714471817016602,-8.032295227050781,-4.3541975021362305,-3.7264599800109863,-1.6864792108535767,-5.507385730743408],\"xaxis\":\"x\",\"y\":[-1.0402119159698486,-0.7260053753852844,-1.604127287864685,-1.2690328359603882,-0.9065249562263489,-0.024486791342496872,-2.0097804069519043,1.0328558683395386,-11.113512992858887,-2.133667469024658,-0.7823801636695862,-9.98718547821045,-2.844270944595337,-2.7124152183532715,-1.1096476316452026,-0.13148343563079834,1.2870452404022217],\"yaxis\":\"y\",\"type\":\"scatter\"},{\"hovertemplate\":\"labels=question answering<br>X=%{x}<br>Y=%{y}<extra></extra>\",\"legendgroup\":\"question answering\",\"marker\":{\"color\":\"lightgreen\",\"symbol\":\"circle\"},\"mode\":\"markers\",\"name\":\"question answering\",\"orientation\":\"v\",\"showlegend\":true,\"x\":[6.908520221710205,7.262259006500244,6.589498996734619,7.3663716316223145,7.195158958435059,7.1480607986450195,7.29266357421875,6.302280902862549,7.215184688568115,6.770023822784424],\"xaxis\":\"x\",\"y\":[7.0936503410339355,7.395843505859375,8.049306869506836,7.760405540466309,8.00924301147461,7.174429416656494,6.9874396324157715,7.757288932800293,7.808311939239502,7.1980509757995605],\"yaxis\":\"y\",\"type\":\"scatter\"},{\"hovertemplate\":\"labels=phonology, morphology and word segmentation<br>X=%{x}<br>Y=%{y}<extra></extra>\",\"legendgroup\":\"phonology, morphology and word segmentation\",\"marker\":{\"color\":\"brown\",\"symbol\":\"circle\"},\"mode\":\"markers\",\"name\":\"phonology, morphology and word segmentation\",\"orientation\":\"v\",\"showlegend\":true,\"x\":[-6.377598285675049,-2.3495521545410156,-3.2828404903411865],\"xaxis\":\"x\",\"y\":[4.227257251739502,-5.251153469085693,-1.3055130243301392],\"yaxis\":\"y\",\"type\":\"scatter\"},{\"hovertemplate\":\"labels=summarization<br>X=%{x}<br>Y=%{y}<extra></extra>\",\"legendgroup\":\"summarization\",\"marker\":{\"color\":\"cyan\",\"symbol\":\"circle\"},\"mode\":\"markers\",\"name\":\"summarization\",\"orientation\":\"v\",\"showlegend\":true,\"x\":[-2.942516326904297,-2.857616424560547,-2.4744553565979004,-3.056138277053833,-2.851269006729126,-2.8650786876678467,-3.0721094608306885],\"xaxis\":\"x\",\"y\":[8.057945251464844,7.977768898010254,8.040887832641602,7.98095703125,8.023027420043945,8.06736946105957,7.444334030151367],\"yaxis\":\"y\",\"type\":\"scatter\"},{\"hovertemplate\":\"labels=speech and multimodality<br>X=%{x}<br>Y=%{y}<extra></extra>\",\"legendgroup\":\"speech and multimodality\",\"marker\":{\"color\":\"maroon\",\"symbol\":\"circle\"},\"mode\":\"markers\",\"name\":\"speech and multimodality\",\"orientation\":\"v\",\"showlegend\":true,\"x\":[4.982625961303711,-9.671988487243652,3.899123430252075],\"xaxis\":\"x\",\"y\":[-3.254838228225708,-2.5823473930358887,1.46688973903656],\"yaxis\":\"y\",\"type\":\"scatter\"},{\"hovertemplate\":\"labels=ethics in nlp<br>X=%{x}<br>Y=%{y}<extra></extra>\",\"legendgroup\":\"ethics in nlp\",\"marker\":{\"color\":\"olive\",\"symbol\":\"circle\"},\"mode\":\"markers\",\"name\":\"ethics in nlp\",\"orientation\":\"v\",\"showlegend\":true,\"x\":[-0.5945953726768494,-0.060851674526929855],\"xaxis\":\"x\",\"y\":[-3.888371706008911,-4.076372146606445],\"yaxis\":\"y\",\"type\":\"scatter\"},{\"hovertemplate\":\"labels=sentiment analysis, stylistic analysis, and argument mining<br>X=%{x}<br>Y=%{y}<extra></extra>\",\"legendgroup\":\"sentiment analysis, stylistic analysis, and argument mining\",\"marker\":{\"color\":\"red\",\"symbol\":\"circle\"},\"mode\":\"markers\",\"name\":\"sentiment analysis, stylistic analysis, and argument mining\",\"orientation\":\"v\",\"showlegend\":true,\"x\":[1.9569196701049805,6.621963024139404,7.394590377807617,6.551465034484863,6.567083358764648,6.747236251831055,3.280571222305298,6.568500518798828],\"xaxis\":\"x\",\"y\":[2.3948893547058105,-7.695113182067871,-7.416887283325195,-7.759902477264404,-7.740588188171387,-7.167232513427734,4.114018440246582,-7.7674665451049805],\"yaxis\":\"y\",\"type\":\"scatter\"},{\"hovertemplate\":\"labels=linguistic theories, cognitive modeling and psycholinguistics<br>X=%{x}<br>Y=%{y}<extra></extra>\",\"legendgroup\":\"linguistic theories, cognitive modeling and psycholinguistics\",\"marker\":{\"color\":\"teal\",\"symbol\":\"circle\"},\"mode\":\"markers\",\"name\":\"linguistic theories, cognitive modeling and psycholinguistics\",\"orientation\":\"v\",\"showlegend\":true,\"x\":[-2.8607819080352783,4.734281539916992,-4.746413230895996,-4.26148796081543],\"xaxis\":\"x\",\"y\":[-3.1250641345977783,-4.757221698760986,-2.722566604614258,-2.6543686389923096],\"yaxis\":\"y\",\"type\":\"scatter\"},{\"hovertemplate\":\"labels=machine learning for nlp<br>X=%{x}<br>Y=%{y}<extra></extra>\",\"legendgroup\":\"machine learning for nlp\",\"marker\":{\"color\":\"violet\",\"symbol\":\"circle\"},\"mode\":\"markers\",\"name\":\"machine learning for nlp\",\"orientation\":\"v\",\"showlegend\":true,\"x\":[2.6043944358825684,-7.137081146240234,-9.289685249328613,-7.438854694366455,-8.504077911376953,-9.358458518981934,-9.332139015197754,-8.418961524963379,-8.730076789855957,-9.698307991027832,-8.12747859954834,-8.612171173095703,-8.268532752990723,-9.003002166748047,-6.495489120483398,-8.633757591247559,-7.346230506896973],\"xaxis\":\"x\",\"y\":[3.4467830657958984,-8.154791831970215,-1.2296571731567383,-10.347241401672363,-1.3957263231277466,-1.3593418598175049,-0.6643185019493103,-1.3879364728927612,-0.4219781160354614,-2.3387084007263184,0.06279942393302917,-2.704968214035034,-2.875478506088257,-0.6498486995697021,-2.018962860107422,-3.2939720153808594,-1.0610419511795044],\"yaxis\":\"y\",\"type\":\"scatter\"},{\"hovertemplate\":\"labels=dialogue and interactive systems<br>X=%{x}<br>Y=%{y}<extra></extra>\",\"legendgroup\":\"dialogue and interactive systems\",\"marker\":{\"color\":\"mediumblue\",\"symbol\":\"circle\"},\"mode\":\"markers\",\"name\":\"dialogue and interactive systems\",\"orientation\":\"v\",\"showlegend\":true,\"x\":[9.397072792053223,8.615693092346191,9.024316787719727,9.515140533447266,9.542482376098633,6.443504810333252,5.788230895996094,9.324370384216309,9.056472778320312,9.03974723815918,7.053833961486816,8.6537446975708,9.57663631439209,9.823663711547852,8.301952362060547],\"xaxis\":\"x\",\"y\":[-3.5246376991271973,-2.5008344650268555,-3.2406818866729736,-3.6073102951049805,-4.1204938888549805,-7.516470432281494,-3.535092830657959,-2.9540836811065674,-3.955005407333374,-3.752558469772339,-1.3976285457611084,-3.092722177505493,-3.2103824615478516,-3.4978723526000977,-3.775935173034668],\"yaxis\":\"y\",\"type\":\"scatter\"},{\"hovertemplate\":\"labels=generation<br>X=%{x}<br>Y=%{y}<extra></extra>\",\"legendgroup\":\"generation\",\"marker\":{\"color\":\"mediumpurple\",\"symbol\":\"circle\"},\"mode\":\"markers\",\"name\":\"generation\",\"orientation\":\"v\",\"showlegend\":true,\"x\":[2.2782516479492188,2.622685670852661,2.889116048812866,3.175213575363159,3.134059429168701,2.6131911277770996,2.589851140975952,4.204124927520752,2.332841157913208,3.2056667804718018,2.3306193351745605],\"xaxis\":\"x\",\"y\":[3.1764323711395264,4.420345306396484,3.596524953842163,3.4059267044067383,3.260960340499878,2.8136346340179443,3.7924692630767822,3.1998934745788574,3.7735371589660645,2.924247980117798,3.0405778884887695],\"yaxis\":\"y\",\"type\":\"scatter\"},{\"hovertemplate\":\"labels=interpretability and analysis of models for nlp<br>X=%{x}<br>Y=%{y}<extra></extra>\",\"legendgroup\":\"interpretability and analysis of models for nlp\",\"marker\":{\"color\":\"pink\",\"symbol\":\"circle\"},\"mode\":\"markers\",\"name\":\"interpretability and analysis of models for nlp\",\"orientation\":\"v\",\"showlegend\":true,\"x\":[1.196438193321228,-6.356624603271484,-5.8295087814331055,-8.796792030334473,-6.621313095092773],\"xaxis\":\"x\",\"y\":[2.7255938053131104,-1.2594445943832397,-2.228576183319092,-3.085465431213379,-2.081052541732788],\"yaxis\":\"y\",\"type\":\"scatter\"},{\"hovertemplate\":\"labels=discourse and pragmatics<br>X=%{x}<br>Y=%{y}<extra></extra>\",\"legendgroup\":\"discourse and pragmatics\",\"marker\":{\"color\":\"crimson\",\"symbol\":\"circle\"},\"mode\":\"markers\",\"name\":\"discourse and pragmatics\",\"orientation\":\"v\",\"showlegend\":true,\"x\":[6.839929103851318,1.5842093229293823,7.116032600402832,7.1108903884887695],\"xaxis\":\"x\",\"y\":[7.583898544311523,4.167375564575195,-1.1764471530914307,-1.1848499774932861],\"yaxis\":\"y\",\"type\":\"scatter\"},{\"hovertemplate\":\"labels=nlp applications<br>X=%{x}<br>Y=%{y}<extra></extra>\",\"legendgroup\":\"nlp applications\",\"marker\":{\"color\":\"orange\",\"symbol\":\"circle\"},\"mode\":\"markers\",\"name\":\"nlp applications\",\"orientation\":\"v\",\"showlegend\":true,\"x\":[-3.5163183212280273,-1.9757235050201416,-1.1372712850570679,2.3143954277038574,-2.3511784076690674,-9.075179100036621,-0.7480331659317017,1.628541111946106,1.3688558340072632,1.8352662324905396,6.094654083251953],\"xaxis\":\"x\",\"y\":[7.878055095672607,0.24198640882968903,-0.050885532051324844,3.992908239364624,-0.25118160247802734,-2.0895659923553467,3.6522037982940674,1.545013427734375,-1.3945159912109375,-2.7807681560516357,6.971697807312012],\"yaxis\":\"y\",\"type\":\"scatter\"}],                        {\"template\":{\"data\":{\"bar\":[{\"error_x\":{\"color\":\"#2a3f5f\"},\"error_y\":{\"color\":\"#2a3f5f\"},\"marker\":{\"line\":{\"color\":\"#E5ECF6\",\"width\":0.5},\"pattern\":{\"fillmode\":\"overlay\",\"size\":10,\"solidity\":0.2}},\"type\":\"bar\"}],\"barpolar\":[{\"marker\":{\"line\":{\"color\":\"#E5ECF6\",\"width\":0.5},\"pattern\":{\"fillmode\":\"overlay\",\"size\":10,\"solidity\":0.2}},\"type\":\"barpolar\"}],\"carpet\":[{\"aaxis\":{\"endlinecolor\":\"#2a3f5f\",\"gridcolor\":\"white\",\"linecolor\":\"white\",\"minorgridcolor\":\"white\",\"startlinecolor\":\"#2a3f5f\"},\"baxis\":{\"endlinecolor\":\"#2a3f5f\",\"gridcolor\":\"white\",\"linecolor\":\"white\",\"minorgridcolor\":\"white\",\"startlinecolor\":\"#2a3f5f\"},\"type\":\"carpet\"}],\"choropleth\":[{\"colorbar\":{\"outlinewidth\":0,\"ticks\":\"\"},\"type\":\"choropleth\"}],\"contour\":[{\"colorbar\":{\"outlinewidth\":0,\"ticks\":\"\"},\"colorscale\":[[0.0,\"#0d0887\"],[0.1111111111111111,\"#46039f\"],[0.2222222222222222,\"#7201a8\"],[0.3333333333333333,\"#9c179e\"],[0.4444444444444444,\"#bd3786\"],[0.5555555555555556,\"#d8576b\"],[0.6666666666666666,\"#ed7953\"],[0.7777777777777778,\"#fb9f3a\"],[0.8888888888888888,\"#fdca26\"],[1.0,\"#f0f921\"]],\"type\":\"contour\"}],\"contourcarpet\":[{\"colorbar\":{\"outlinewidth\":0,\"ticks\":\"\"},\"type\":\"contourcarpet\"}],\"heatmap\":[{\"colorbar\":{\"outlinewidth\":0,\"ticks\":\"\"},\"colorscale\":[[0.0,\"#0d0887\"],[0.1111111111111111,\"#46039f\"],[0.2222222222222222,\"#7201a8\"],[0.3333333333333333,\"#9c179e\"],[0.4444444444444444,\"#bd3786\"],[0.5555555555555556,\"#d8576b\"],[0.6666666666666666,\"#ed7953\"],[0.7777777777777778,\"#fb9f3a\"],[0.8888888888888888,\"#fdca26\"],[1.0,\"#f0f921\"]],\"type\":\"heatmap\"}],\"heatmapgl\":[{\"colorbar\":{\"outlinewidth\":0,\"ticks\":\"\"},\"colorscale\":[[0.0,\"#0d0887\"],[0.1111111111111111,\"#46039f\"],[0.2222222222222222,\"#7201a8\"],[0.3333333333333333,\"#9c179e\"],[0.4444444444444444,\"#bd3786\"],[0.5555555555555556,\"#d8576b\"],[0.6666666666666666,\"#ed7953\"],[0.7777777777777778,\"#fb9f3a\"],[0.8888888888888888,\"#fdca26\"],[1.0,\"#f0f921\"]],\"type\":\"heatmapgl\"}],\"histogram\":[{\"marker\":{\"pattern\":{\"fillmode\":\"overlay\",\"size\":10,\"solidity\":0.2}},\"type\":\"histogram\"}],\"histogram2d\":[{\"colorbar\":{\"outlinewidth\":0,\"ticks\":\"\"},\"colorscale\":[[0.0,\"#0d0887\"],[0.1111111111111111,\"#46039f\"],[0.2222222222222222,\"#7201a8\"],[0.3333333333333333,\"#9c179e\"],[0.4444444444444444,\"#bd3786\"],[0.5555555555555556,\"#d8576b\"],[0.6666666666666666,\"#ed7953\"],[0.7777777777777778,\"#fb9f3a\"],[0.8888888888888888,\"#fdca26\"],[1.0,\"#f0f921\"]],\"type\":\"histogram2d\"}],\"histogram2dcontour\":[{\"colorbar\":{\"outlinewidth\":0,\"ticks\":\"\"},\"colorscale\":[[0.0,\"#0d0887\"],[0.1111111111111111,\"#46039f\"],[0.2222222222222222,\"#7201a8\"],[0.3333333333333333,\"#9c179e\"],[0.4444444444444444,\"#bd3786\"],[0.5555555555555556,\"#d8576b\"],[0.6666666666666666,\"#ed7953\"],[0.7777777777777778,\"#fb9f3a\"],[0.8888888888888888,\"#fdca26\"],[1.0,\"#f0f921\"]],\"type\":\"histogram2dcontour\"}],\"mesh3d\":[{\"colorbar\":{\"outlinewidth\":0,\"ticks\":\"\"},\"type\":\"mesh3d\"}],\"parcoords\":[{\"line\":{\"colorbar\":{\"outlinewidth\":0,\"ticks\":\"\"}},\"type\":\"parcoords\"}],\"pie\":[{\"automargin\":true,\"type\":\"pie\"}],\"scatter\":[{\"marker\":{\"colorbar\":{\"outlinewidth\":0,\"ticks\":\"\"}},\"type\":\"scatter\"}],\"scatter3d\":[{\"line\":{\"colorbar\":{\"outlinewidth\":0,\"ticks\":\"\"}},\"marker\":{\"colorbar\":{\"outlinewidth\":0,\"ticks\":\"\"}},\"type\":\"scatter3d\"}],\"scattercarpet\":[{\"marker\":{\"colorbar\":{\"outlinewidth\":0,\"ticks\":\"\"}},\"type\":\"scattercarpet\"}],\"scattergeo\":[{\"marker\":{\"colorbar\":{\"outlinewidth\":0,\"ticks\":\"\"}},\"type\":\"scattergeo\"}],\"scattergl\":[{\"marker\":{\"colorbar\":{\"outlinewidth\":0,\"ticks\":\"\"}},\"type\":\"scattergl\"}],\"scattermapbox\":[{\"marker\":{\"colorbar\":{\"outlinewidth\":0,\"ticks\":\"\"}},\"type\":\"scattermapbox\"}],\"scatterpolar\":[{\"marker\":{\"colorbar\":{\"outlinewidth\":0,\"ticks\":\"\"}},\"type\":\"scatterpolar\"}],\"scatterpolargl\":[{\"marker\":{\"colorbar\":{\"outlinewidth\":0,\"ticks\":\"\"}},\"type\":\"scatterpolargl\"}],\"scatterternary\":[{\"marker\":{\"colorbar\":{\"outlinewidth\":0,\"ticks\":\"\"}},\"type\":\"scatterternary\"}],\"surface\":[{\"colorbar\":{\"outlinewidth\":0,\"ticks\":\"\"},\"colorscale\":[[0.0,\"#0d0887\"],[0.1111111111111111,\"#46039f\"],[0.2222222222222222,\"#7201a8\"],[0.3333333333333333,\"#9c179e\"],[0.4444444444444444,\"#bd3786\"],[0.5555555555555556,\"#d8576b\"],[0.6666666666666666,\"#ed7953\"],[0.7777777777777778,\"#fb9f3a\"],[0.8888888888888888,\"#fdca26\"],[1.0,\"#f0f921\"]],\"type\":\"surface\"}],\"table\":[{\"cells\":{\"fill\":{\"color\":\"#EBF0F8\"},\"line\":{\"color\":\"white\"}},\"header\":{\"fill\":{\"color\":\"#C8D4E3\"},\"line\":{\"color\":\"white\"}},\"type\":\"table\"}]},\"layout\":{\"annotationdefaults\":{\"arrowcolor\":\"#2a3f5f\",\"arrowhead\":0,\"arrowwidth\":1},\"autotypenumbers\":\"strict\",\"coloraxis\":{\"colorbar\":{\"outlinewidth\":0,\"ticks\":\"\"}},\"colorscale\":{\"diverging\":[[0,\"#8e0152\"],[0.1,\"#c51b7d\"],[0.2,\"#de77ae\"],[0.3,\"#f1b6da\"],[0.4,\"#fde0ef\"],[0.5,\"#f7f7f7\"],[0.6,\"#e6f5d0\"],[0.7,\"#b8e186\"],[0.8,\"#7fbc41\"],[0.9,\"#4d9221\"],[1,\"#276419\"]],\"sequential\":[[0.0,\"#0d0887\"],[0.1111111111111111,\"#46039f\"],[0.2222222222222222,\"#7201a8\"],[0.3333333333333333,\"#9c179e\"],[0.4444444444444444,\"#bd3786\"],[0.5555555555555556,\"#d8576b\"],[0.6666666666666666,\"#ed7953\"],[0.7777777777777778,\"#fb9f3a\"],[0.8888888888888888,\"#fdca26\"],[1.0,\"#f0f921\"]],\"sequentialminus\":[[0.0,\"#0d0887\"],[0.1111111111111111,\"#46039f\"],[0.2222222222222222,\"#7201a8\"],[0.3333333333333333,\"#9c179e\"],[0.4444444444444444,\"#bd3786\"],[0.5555555555555556,\"#d8576b\"],[0.6666666666666666,\"#ed7953\"],[0.7777777777777778,\"#fb9f3a\"],[0.8888888888888888,\"#fdca26\"],[1.0,\"#f0f921\"]]},\"colorway\":[\"#636efa\",\"#EF553B\",\"#00cc96\",\"#ab63fa\",\"#FFA15A\",\"#19d3f3\",\"#FF6692\",\"#B6E880\",\"#FF97FF\",\"#FECB52\"],\"font\":{\"color\":\"#2a3f5f\"},\"geo\":{\"bgcolor\":\"white\",\"lakecolor\":\"white\",\"landcolor\":\"#E5ECF6\",\"showlakes\":true,\"showland\":true,\"subunitcolor\":\"white\"},\"hoverlabel\":{\"align\":\"left\"},\"hovermode\":\"closest\",\"mapbox\":{\"style\":\"light\"},\"paper_bgcolor\":\"white\",\"plot_bgcolor\":\"#E5ECF6\",\"polar\":{\"angularaxis\":{\"gridcolor\":\"white\",\"linecolor\":\"white\",\"ticks\":\"\"},\"bgcolor\":\"#E5ECF6\",\"radialaxis\":{\"gridcolor\":\"white\",\"linecolor\":\"white\",\"ticks\":\"\"}},\"scene\":{\"xaxis\":{\"backgroundcolor\":\"#E5ECF6\",\"gridcolor\":\"white\",\"gridwidth\":2,\"linecolor\":\"white\",\"showbackground\":true,\"ticks\":\"\",\"zerolinecolor\":\"white\"},\"yaxis\":{\"backgroundcolor\":\"#E5ECF6\",\"gridcolor\":\"white\",\"gridwidth\":2,\"linecolor\":\"white\",\"showbackground\":true,\"ticks\":\"\",\"zerolinecolor\":\"white\"},\"zaxis\":{\"backgroundcolor\":\"#E5ECF6\",\"gridcolor\":\"white\",\"gridwidth\":2,\"linecolor\":\"white\",\"showbackground\":true,\"ticks\":\"\",\"zerolinecolor\":\"white\"}},\"shapedefaults\":{\"line\":{\"color\":\"#2a3f5f\"}},\"ternary\":{\"aaxis\":{\"gridcolor\":\"white\",\"linecolor\":\"white\",\"ticks\":\"\"},\"baxis\":{\"gridcolor\":\"white\",\"linecolor\":\"white\",\"ticks\":\"\"},\"bgcolor\":\"#E5ECF6\",\"caxis\":{\"gridcolor\":\"white\",\"linecolor\":\"white\",\"ticks\":\"\"}},\"title\":{\"x\":0.05},\"xaxis\":{\"automargin\":true,\"gridcolor\":\"white\",\"linecolor\":\"white\",\"ticks\":\"\",\"title\":{\"standoff\":15},\"zerolinecolor\":\"white\",\"zerolinewidth\":2},\"yaxis\":{\"automargin\":true,\"gridcolor\":\"white\",\"linecolor\":\"white\",\"ticks\":\"\",\"title\":{\"standoff\":15},\"zerolinecolor\":\"white\",\"zerolinewidth\":2}}},\"xaxis\":{\"anchor\":\"y\",\"domain\":[0.0,1.0],\"title\":{\"text\":\"X\"}},\"yaxis\":{\"anchor\":\"x\",\"domain\":[0.0,1.0],\"title\":{\"text\":\"Y\"}},\"legend\":{\"title\":{\"text\":\"labels\"},\"tracegroupgap\":0},\"margin\":{\"t\":60}},                        {\"responsive\": true}                    ).then(function(){\n",
       "                            \n",
       "var gd = document.getElementById('52ec2738-0d83-4736-879d-f39a67bbff78');\n",
       "var x = new MutationObserver(function (mutations, observer) {{\n",
       "        var display = window.getComputedStyle(gd).display;\n",
       "        if (!display || display === 'none') {{\n",
       "            console.log([gd, 'removed!']);\n",
       "            Plotly.purge(gd);\n",
       "            observer.disconnect();\n",
       "        }}\n",
       "}});\n",
       "\n",
       "// Listen for the removal of the full notebook cells\n",
       "var notebookContainer = gd.closest('#notebook-container');\n",
       "if (notebookContainer) {{\n",
       "    x.observe(notebookContainer, {childList: true});\n",
       "}}\n",
       "\n",
       "// Listen for the clearing of the current output cell\n",
       "var outputEl = gd.closest('.output');\n",
       "if (outputEl) {{\n",
       "    x.observe(outputEl, {childList: true});\n",
       "}}\n",
       "\n",
       "                        })                };                });            </script>        </div>"
      ]
     },
     "metadata": {},
     "output_type": "display_data"
    }
   ],
   "source": [
    "fig = px.scatter(df, x=\"X\", y=\"Y\", color = \"labels\", color_discrete_sequence=[\"black\", \"blueviolet\", \"chocolate\", \"darkgray\", \"dodgerblue\", \"greenyellow\", \"gold\", \"lightgreen\", \"brown\", \"cyan\", \"maroon\", \"olive\", \"red\", \"teal\", \"violet\", \"mediumblue\", \"mediumpurple\", \"pink\", \"crimson\", \"orange\"])\n",
    "fig.show()\n",
    "#plotly.offline.plot(fig, filename = \"labels_cluster.html\")\n",
    "#fig.write_image(\"labels_cluster.png\")"
   ]
  },
  {
   "cell_type": "code",
   "execution_count": 45,
   "id": "a19e4ad1",
   "metadata": {
    "scrolled": false
   },
   "outputs": [
    {
     "name": "stdout",
     "output_type": "stream",
     "text": [
      "unsupervised extractive summarization-based representations for accurate and explainable collaborative filtering. we pioneer the first extractive summarization-based collaborative filtering model called escofilt. our proposed model specifically produces extractive summaries for each item and user. unlike other types of explanations, summary-level explanations closely resemble real-life explanations. the strength of escofilt lies in the fact that it unifies representation and explanation. in other words, extractive summaries both represent and explain the items and users. our model uniquely integrates bert, k-means embedding clustering, and multilayer perceptron to learn sentence embeddings, representation-explanations, and user-item interactions, respectively. we argue that our approach enhances both rating prediction accuracy and user/item explainability. our experiments illustrate that escofilt’s prediction accuracy is better than the other state-of-the-art recommender models. furthermore, we propose a comprehensive set of criteria that assesses the real-life explainability of explanations. our explainability study demonstrates the superiority of and preference for summary-level explanations over other explanation types.. reinald adrian pugoy, hung-yu kao\n",
      "\n",
      "\n",
      "summarization\n",
      "\n",
      "\n",
      "nlp applications\n",
      "\n",
      "\n",
      "\n",
      "\n",
      "\n",
      "mednli is not immune: natural language inference artifacts in the clinical domain. crowdworker-constructed natural language inference (nli) datasets have been found to contain statistical artifacts associated with the annotation process that allow hypothesis-only classifiers to achieve better-than-random performance (citation). we investigate whether mednli, a physician-annotated dataset with premises extracted from clinical notes, contains such artifacts (citation). we find that entailed hypotheses contain generic versions of specific concepts in the premise, as well as modifiers related to responsiveness, duration, and probability. neutral hypotheses feature conditions and behaviors that co-occur with, or cause, the condition(s) in the premise. contradiction hypotheses feature explicit negation of the premise and implicit negation via assertion of good health. adversarial filtering demonstrates that performance degrades when evaluated on the difficult subset. we provide partition information and recommendations for alternative dataset construction strategies for knowledge-intensive domains.. christine herlihy, rachel rudinger\n",
      "\n",
      "\n",
      "semantics\n",
      "\n",
      "\n",
      "nlp applications\n",
      "\n",
      "\n",
      "\n",
      "\n",
      "\n",
      "quotation recommendation and interpretation based on transformation from queries to quotations. to help individuals express themselves better, quotation recommendation is receiving growing attention. nevertheless, most prior efforts focus on modeling quotations and queries separately and ignore the relationship between the quotations and the queries. in this work, we introduce a transformation matrix that directly maps the query representations to quotation representations. to better learn the mapping relationship, we employ a mapping loss that minimizes the distance of two semantic spaces (one for quotation and another for mapped-query). furthermore, we explore using the words in history queries to interpret the figurative language of quotations, where quotation-aware attention is applied on top of history queries to highlight the indicator words. experiments on two datasets in english and chinese show that our model outperforms previous state-of-the-art models.. lingzhi wang, xingshan zeng, kam-fai wong\n",
      "\n",
      "\n",
      "semantics\n",
      "\n",
      "\n",
      "nlp applications\n",
      "\n",
      "\n",
      "\n",
      "\n",
      "\n",
      "personalized transformer for explainable recommendation. personalization of natural language generation plays a vital role in a large spectrum of tasks, such as explainable recommendation, review summarization and dialog systems. in these tasks, user and item ids are important identifiers for personalization. transformer, which is demonstrated with strong language modeling capability, however, is not personalized and fails to make use of the user and item ids since the id tokens are not even in the same semantic space as the words. to address this problem, we present a personalized transformer for explainable recommendation (peter), on which we design a simple and effective learning objective that utilizes the ids to predict the words in the target explanation, so as to endow the ids with linguistic meanings and to achieve personalized transformer. besides generating explanations, peter can also make recommendations, which makes it a unified model for the whole recommendation-explanation pipeline. extensive experiments show that our small unpretrained model outperforms fine-tuned bert on the generation task, in terms of both effectiveness and efficiency, which highlights the importance and the nice utility of our design.. lei li, yongfeng zhang, li chen\n",
      "\n",
      "\n",
      "generation\n",
      "\n",
      "\n",
      "nlp applications\n",
      "\n",
      "\n",
      "\n",
      "\n",
      "\n",
      "joint verification and reranking for open fact checking over tables. structured information is an important knowledge source for automatic verification of factual claims. nevertheless, the majority of existing research into this task has focused on textual data, and the few recent inquiries into structured data have been for the closed-domain setting where appropriate evidence for each claim is assumed to have already been retrieved. in this paper, we investigate verification over structured data in the open-domain setting, introducing a joint reranking-and-verification model which fuses evidence documents in the verification component. our open-domain model achieves performance comparable to the closed-domain state-of-the-art on the tabfact dataset, and demonstrates performance gains from the inclusion of multiple tables as well as a significant improvement over a heuristic retrieval baseline.. michael sejr schlichtkrull, vladimir karpukhin, barlas oguz, mike lewis, wen-tau yih, sebastian riedel\n",
      "\n",
      "\n",
      "semantics\n",
      "\n",
      "\n",
      "nlp applications\n",
      "\n",
      "\n",
      "\n",
      "\n",
      "\n",
      "changing the world by changing the data. nlp community is currently investing a lot more research and resources into development of deep learning models than training data. while we have made a lot of progress, it is now clear that our models learn all kinds of spurious patterns, social biases, and annotation artifacts. algorithmic solutions have so far had limited success. an alternative that is being actively discussed is more careful design of datasets so as to deliver specific signals. this position paper maps out the arguments for and against data curation, and argues that fundamentally the point is moot: curation already is and will be happening, and it is changing the world. the question is only how much thought we want to invest into that process.. anna rogers\n",
      "\n",
      "\n",
      "machine learning for nlp\n",
      "\n",
      "\n",
      "nlp applications\n",
      "\n",
      "\n",
      "\n",
      "\n",
      "\n",
      "accelerating text communication via abbreviated sentence input. typing every character in a text message may require more time or effort than strictly necessary. skipping spaces or other characters may be able to speed input and reduce a user’s physical input effort. this can be particularly important for people with motor impairments. in a large crowdsourced study, we found workers frequently abbreviated text by omitting mid-word vowels. we designed a recognizer optimized for expanding noisy abbreviated input where users often omit spaces and mid-word vowels. we show using neural language models for selecting conversational-style training text and for rescoring the recognizer’s n-best sentences improved accuracy. on noisy touchscreen data collected from hundreds of users, we found accurate abbreviated input was possible even if a third of characters was omitted. finally, in a study where users had to dwell for a second on each key, sentence abbreviated input was competitive with a conventional keyboard with word predictions. after practice, users wrote abbreviated sentences at 9.6 words-per-minute versus word input at 9.9 words-per-minute.. jiban adhikary, jamie berger, keith vertanen\n",
      "\n",
      "\n",
      "generation\n",
      "\n",
      "\n",
      "nlp applications\n",
      "\n",
      "\n",
      "\n",
      "\n",
      "\n",
      "covid-fact: fact extraction and verification of real-world claims on covid-19 pandemic. we introduce a fever-like dataset covid-fact of 4,086 claims concerning the covid-19 pandemic. the dataset contains claims, evidence for the claims, and contradictory claims refuted by the evidence. unlike previous approaches, we automatically detect true claims and their source articles and then generate counter-claims using automatic methods rather than employing human annotators. along with our constructed resource, we formally present the task of identifying relevant evidence for the claims and verifying whether the evidence refutes or supports a given claim. in addition to scientific claims, our data contains simplified general claims from media sources, making it better suited for detecting general misinformation regarding covid-19. our experiments indicate that covid-fact will provide a challenging testbed for the development of new systems and our approach will reduce the costs of building domain-specific datasets for detecting misinformation.. arkadiy saakyan, tuhin chakrabarty, smaranda muresan\n",
      "\n",
      "\n",
      "resources and evaluation\n",
      "\n",
      "\n",
      "nlp applications\n",
      "\n",
      "\n",
      "\n",
      "\n",
      "\n",
      "inter-gps: interpretable geometry problem solving with formal language and symbolic reasoning. geometry problem solving has attracted much attention in the nlp community recently. the task is challenging as it requires abstract problem understanding and symbolic reasoning with axiomatic knowledge. however, current datasets are either small in scale or not publicly available. thus, we construct a new large-scale benchmark, geometry3k, consisting of 3,002 geometry problems with dense annotation in formal language. we further propose a novel geometry solving approach with formal language and symbolic reasoning, called interpretable geometry problem solver (inter-gps). inter-gps first parses the problem text and diagram into formal language automatically via rule-based text parsing and neural object detecting, respectively. unlike implicit learning in existing methods, inter-gps incorporates theorem knowledge as conditional rules and performs symbolic reasoning step by step. also, a theorem predictor is designed to infer the theorem application sequence fed to the symbolic solver for the more efficient and reasonable searching path. extensive experiments on the geometry3k and geos datasets demonstrate that inter-gps achieves significant improvements over existing methods. the project with code and data is available at https://lupantech.github.io/inter-gps.. pan lu, ran gong, shibiao jiang, liang qiu, siyuan huang, xiaodan liang, song-chun zhu\n",
      "\n",
      "\n",
      "question answering\n",
      "\n",
      "\n",
      "nlp applications\n",
      "\n",
      "\n",
      "\n",
      "\n",
      "\n"
     ]
    }
   ],
   "source": [
    "for point in df[df['predictions'] != df['labels']].values:\n",
    "    \n",
    "    if(point[4] == \"nlp applications\"):\n",
    "        print(point[0])\n",
    "        print(\"\\n\")\n",
    "        print(point[3])\n",
    "        print(\"\\n\")\n",
    "        print(point[4])\n",
    "        print(\"\\n\\n\\n\\n\")"
   ]
  },
  {
   "cell_type": "code",
   "execution_count": 42,
   "id": "a9833bef",
   "metadata": {},
   "outputs": [
    {
     "data": {
      "text/plain": [
       "0      False\n",
       "1      False\n",
       "2      False\n",
       "3      False\n",
       "4      False\n",
       "       ...  \n",
       "178    False\n",
       "179    False\n",
       "180    False\n",
       "181    False\n",
       "182    False\n",
       "Name: predictions, Length: 183, dtype: bool"
      ]
     },
     "execution_count": 42,
     "metadata": {},
     "output_type": "execute_result"
    }
   ],
   "source": [
    "df['predictions'] == \"nlp applications\""
   ]
  }
 ],
 "metadata": {
  "kernelspec": {
   "display_name": "Python [conda env:NLP]",
   "language": "python",
   "name": "conda-env-NLP-py"
  },
  "language_info": {
   "codemirror_mode": {
    "name": "ipython",
    "version": 3
   },
   "file_extension": ".py",
   "mimetype": "text/x-python",
   "name": "python",
   "nbconvert_exporter": "python",
   "pygments_lexer": "ipython3",
   "version": "3.9.7"
  }
 },
 "nbformat": 4,
 "nbformat_minor": 5
}
